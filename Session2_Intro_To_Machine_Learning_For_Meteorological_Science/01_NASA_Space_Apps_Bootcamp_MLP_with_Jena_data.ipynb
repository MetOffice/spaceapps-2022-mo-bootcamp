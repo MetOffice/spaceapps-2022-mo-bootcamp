{
  "cells": [
    {
      "cell_type": "markdown",
      "metadata": {
        "id": "eVSe9hqRncSg"
      },
      "source": [
        "![picture](https://drive.google.com/uc?id=1MLll5WHIxUjASLOaiCPbq0iCJdltTRrN)\n",
        "\n"
      ]
    },
    {
      "cell_type": "markdown",
      "metadata": {
        "id": "EJJWSSPwY_Qb"
      },
      "source": [
        "# A Gentle Introduction to Machine Learning for Environmental/Meteorological Science\n",
        "\n",
        "*   Brody Wilton and Dr Anna-Louise Ellis\n",
        "\n",
        "\n",
        "\n",
        "---\n",
        "### Overview\n",
        "\n",
        "This notebook covers a very simple explanation of what machine learning is, an explanation of some types of of machine learning, a brief explanation of what a neural network is and a demonstrable and workable example using meteorological data.\n",
        "\n",
        "### Prerequisites\n",
        "\n",
        "On order to play with the examples in this notebook, you will have to have internet access and you will need to ensure you have signed up for a free google colab account\n",
        "\n",
        "https://research.google.com/colaboratory/faq.html\n",
        "\n",
        "\n",
        "\n",
        "\n",
        "\n",
        "    \n"
      ]
    },
    {
      "cell_type": "markdown",
      "metadata": {
        "id": "r1NYZ9fRZqN6"
      },
      "source": [
        "### Learning Outcomes\n",
        "\n",
        "*   You will gain a simple understanding of the mechanics of a basic type of machine learning that may be used to predict certain weather phenonema\n",
        "*   You may be able to extend this further to more complex models and data with the further resources that have been given at the end of the notebook\n",
        "\n",
        "---\n"
      ]
    },
    {
      "cell_type": "markdown",
      "metadata": {
        "id": "SO8iipZhtbEr"
      },
      "source": [
        "### What IS Machine Learning?\n",
        "\"“At its heart, machine learning is the task of making computers more intelligent without explicitly teaching them how to behave. It does so by identifying patterns in data – especially useful for diverse, high-dimensional data such as images and patient health records.” –Bill Brock, VP of engineering at Very\n",
        "\n",
        "\"“You don’t tell a child to move their left foot in a circle on the left pedal in the forward direction while moving your right foot in a circle… You give them a push and tell them to keep the bike upright and pointed forward: the overall objective. They fall a few times, honing their skills each time they fail,” - Timothy Havens, director of the Institute of Computing and Cybersystems\n",
        "\n",
        "Thats it in a nutshell."
      ]
    },
    {
      "cell_type": "markdown",
      "metadata": {
        "id": "_A7Tv60uvD2e"
      },
      "source": [
        "\n",
        "### Unsupervised Learning"
      ]
    },
    {
      "cell_type": "markdown",
      "metadata": {
        "id": "wQs0NkOJK9ow"
      },
      "source": [
        "![picture](https://drive.google.com/uc?id=1h0Y0L7iT8cKAOO2p9cbu3Fw3rfd6Lkmj)\n",
        "\n",
        "\n",
        "\n"
      ]
    },
    {
      "cell_type": "markdown",
      "metadata": {
        "id": "gLEVkCeRlMWQ"
      },
      "source": [
        "\n",
        "### Supervised Learning"
      ]
    },
    {
      "cell_type": "markdown",
      "metadata": {
        "id": "Dq8T58QGFR6L"
      },
      "source": [
        "![picture](https://drive.google.com/uc?id=1uO0CaptSZ1HZDKjZEXGaMANbX-SvYI_A)\n",
        "\n"
      ]
    },
    {
      "cell_type": "markdown",
      "metadata": {
        "id": "gO7WQy8P3GWU"
      },
      "source": [
        "\n",
        "### Regression vs Classification"
      ]
    },
    {
      "cell_type": "markdown",
      "metadata": {
        "id": "gIwE0euPiIPW"
      },
      "source": [
        "![picture](https://drive.google.com/uc?id=1VCSDLKQlyuMxExw78pMoqX2xU4tlZhhH)\n",
        "\n"
      ]
    },
    {
      "cell_type": "markdown",
      "metadata": {
        "id": "WYq045Ff3P48"
      },
      "source": [
        "\n",
        "### The Multi-Layer Perceptron\n",
        "\n"
      ]
    },
    {
      "cell_type": "markdown",
      "metadata": {
        "id": "hVKxE2O6zk0Y"
      },
      "source": [
        "![picture](https://drive.google.com/uc?id=1ux5vVEBkY3xQgTvfwwE_KecKNLYl317W)\n",
        "\n",
        "\n",
        "\n",
        "##### Cunha, Barbara & Droz, Christophe & Zine, Abdelmalek & Foulard, Stéphane & Ichchou, Mohamed. (2022). A Review of Machine Learning Methods Applied to Structural Dynamics and Vibroacoustic. \n"
      ]
    },
    {
      "cell_type": "code",
      "execution_count": null,
      "metadata": {
        "colab": {
          "base_uri": "https://localhost:8080/",
          "height": 445
        },
        "id": "Li1oQndbNRbU",
        "outputId": "e48e2b1f-63ec-48cc-d82b-8fe9a7802b66"
      },
      "outputs": [
        {
          "data": {
            "text/html": [
              "<iframe src='https://gfycat.com/ifr/HauntingEveryGreatwhiteshark' frameborder='0' scrolling='no' allowfullscreen width='640' height='404'></iframe>\n"
            ],
            "text/plain": [
              "<IPython.core.display.HTML object>"
            ]
          },
          "metadata": {},
          "output_type": "display_data"
        }
      ],
      "source": [
        "%%html\n",
        "<iframe src='https://gfycat.com/ifr/HauntingEveryGreatwhiteshark' frameborder='0' scrolling='no' allowfullscreen width='640' height='404'></iframe>"
      ]
    },
    {
      "cell_type": "markdown",
      "metadata": {
        "id": "v6jtgbLpOFAy"
      },
      "source": [
        "\n",
        "### But what IS a neural network?\n",
        "https://www.youtube.com/watch?v=aircAruvnKk"
      ]
    },
    {
      "cell_type": "markdown",
      "metadata": {
        "id": "MhRhJ52K5KQ9"
      },
      "source": [
        "## Time for some code \n",
        "First of all we will be using the tensorflow python librairies throughout this tutorial.  There are a wealth of tutorials and resources available for this particular \"flavour\" of machine learning platform and all can be used in your colab environment.\n",
        "\n",
        "https://www.tensorflow.org/tutorials. \n",
        "\n"
      ]
    },
    {
      "cell_type": "code",
      "execution_count": null,
      "metadata": {
        "colab": {
          "base_uri": "https://localhost:8080/",
          "height": 34
        },
        "id": "XxNhTSvBYGHs",
        "outputId": "dc0d30e4-77d4-4c39-e842-ae00a30a2f84"
      },
      "outputs": [
        {
          "data": {
            "application/javascript": "element.innerHTML = '<b>Congratulations, you have successfully run the first code cell</b>'",
            "text/plain": [
              "<IPython.core.display.Javascript object>"
            ]
          },
          "execution_count": 1,
          "metadata": {},
          "output_type": "execute_result"
        }
      ],
      "source": [
        "import os\n",
        "\n",
        "import numpy as np\n",
        "import pandas as pd\n",
        "import datetime\n",
        "\n",
        "import tensorflow as tf\n",
        "from tensorflow import keras\n",
        "from tensorflow.keras import Sequential\n",
        "from tensorflow.keras.utils import plot_model\n",
        "from tensorflow.keras import layers\n",
        "from tensorflow.keras.layers import Dense\n",
        "import matplotlib.pyplot as plt\n",
        "from sklearn.model_selection import train_test_split\n",
        "from sklearn.preprocessing import StandardScaler\n",
        "\n",
        "from IPython.display import HTML, Javascript\n",
        "Javascript(\"element.innerHTML = '<b>Congratulations, you have successfully run the first code cell</b>'\")"
      ]
    },
    {
      "cell_type": "markdown",
      "metadata": {
        "id": "S57HA5SOicyN"
      },
      "source": [
        "### About the Data and it's Preparation\n",
        "\n",
        "In almost all Machine Learning exercises there lies a significant amount of work in preparing real data for models to be able to learn from them in a structured manner.  The dataset we have chosen for the purpose of this session has had most of this work already carried out for us.\n",
        "\n",
        "The Jena Climate Dataset is a weather timeseries dataset recorded at the weather station of the Max Planck Institute for Biogeochemistry in Jena, Germany.  It is made up of 14 different observation types (such air temperature, atmospheric pressure, humidity, wind direction, and so on) that were recorded every 10 minutes, over several years. This dataset covers data from January 1st 2009 to December 31st 2016.\n",
        "\n",
        "We can access this dataset online through the tensorflow library calls below:\n",
        "\n",
        " "
      ]
    },
    {
      "cell_type": "code",
      "execution_count": null,
      "metadata": {
        "colab": {
          "base_uri": "https://localhost:8080/"
        },
        "id": "LU86e3BOTIXO",
        "outputId": "204a47b9-3126-4fa8-b302-d23183195333"
      },
      "outputs": [
        {
          "name": "stdout",
          "output_type": "stream",
          "text": [
            "Downloading data from https://storage.googleapis.com/tensorflow/tf-keras-datasets/jena_climate_2009_2016.csv.zip\n",
            "13574144/13568290 [==============================] - 1s 0us/step\n",
            "13582336/13568290 [==============================] - 1s 0us/step\n"
          ]
        }
      ],
      "source": [
        "folder_path = tf.keras.utils.get_file(\n",
        "    origin='https://storage.googleapis.com/tensorflow/tf-keras-datasets/jena_climate_2009_2016.csv.zip',\n",
        "    fname='jena_climate_2009_2016.csv.zip',\n",
        "    extract=True)\n",
        "csv_path, _ = os.path.splitext(folder_path)"
      ]
    },
    {
      "cell_type": "markdown",
      "metadata": {
        "id": "Nu1w4gnqcEkk"
      },
      "source": [
        "The Jena Climate Dataset is fortunately tabular in nature and we have some minor additions to make to it to ensure it able to readily be processed by our model.  We will be using the Pandas Python library for the small amount of data preparation and additions that we will need to do and create a 'dataframe' from our csv file.\n",
        "\n",
        "On completion we will then reduce the dataset down to hourly records instead of the existing every ten minutes that has been recorderd.  We are in essence taking a snapshot of all 14 observations, once every hour.\n",
        "\n",
        "We're also popping the date time column out to manipulate it in the future, as the date time string isn't a particularly helpful format for our model."
      ]
    },
    {
      "cell_type": "code",
      "execution_count": null,
      "metadata": {
        "colab": {
          "base_uri": "https://localhost:8080/",
          "height": 424
        },
        "id": "u5xlxuAoaKOb",
        "outputId": "6c6f5fff-c626-43c3-daa5-fe098c9a59a7"
      },
      "outputs": [
        {
          "data": {
            "text/html": [
              "\n",
              "  <div id=\"df-42265561-b4d5-4d01-ab56-dfacab801c3b\">\n",
              "    <div class=\"colab-df-container\">\n",
              "      <div>\n",
              "<style scoped>\n",
              "    .dataframe tbody tr th:only-of-type {\n",
              "        vertical-align: middle;\n",
              "    }\n",
              "\n",
              "    .dataframe tbody tr th {\n",
              "        vertical-align: top;\n",
              "    }\n",
              "\n",
              "    .dataframe thead th {\n",
              "        text-align: right;\n",
              "    }\n",
              "</style>\n",
              "<table border=\"1\" class=\"dataframe\">\n",
              "  <thead>\n",
              "    <tr style=\"text-align: right;\">\n",
              "      <th></th>\n",
              "      <th>p (mbar)</th>\n",
              "      <th>T (degC)</th>\n",
              "      <th>Tpot (K)</th>\n",
              "      <th>Tdew (degC)</th>\n",
              "      <th>rh (%)</th>\n",
              "      <th>VPmax (mbar)</th>\n",
              "      <th>VPact (mbar)</th>\n",
              "      <th>VPdef (mbar)</th>\n",
              "      <th>sh (g/kg)</th>\n",
              "      <th>H2OC (mmol/mol)</th>\n",
              "      <th>rho (g/m**3)</th>\n",
              "      <th>wv (m/s)</th>\n",
              "      <th>max. wv (m/s)</th>\n",
              "      <th>wd (deg)</th>\n",
              "    </tr>\n",
              "  </thead>\n",
              "  <tbody>\n",
              "    <tr>\n",
              "      <th>5</th>\n",
              "      <td>996.50</td>\n",
              "      <td>-8.05</td>\n",
              "      <td>265.38</td>\n",
              "      <td>-8.78</td>\n",
              "      <td>94.40</td>\n",
              "      <td>3.33</td>\n",
              "      <td>3.14</td>\n",
              "      <td>0.19</td>\n",
              "      <td>1.96</td>\n",
              "      <td>3.15</td>\n",
              "      <td>1307.86</td>\n",
              "      <td>0.21</td>\n",
              "      <td>0.63</td>\n",
              "      <td>192.7</td>\n",
              "    </tr>\n",
              "    <tr>\n",
              "      <th>11</th>\n",
              "      <td>996.62</td>\n",
              "      <td>-8.88</td>\n",
              "      <td>264.54</td>\n",
              "      <td>-9.77</td>\n",
              "      <td>93.20</td>\n",
              "      <td>3.12</td>\n",
              "      <td>2.90</td>\n",
              "      <td>0.21</td>\n",
              "      <td>1.81</td>\n",
              "      <td>2.91</td>\n",
              "      <td>1312.25</td>\n",
              "      <td>0.25</td>\n",
              "      <td>0.63</td>\n",
              "      <td>190.3</td>\n",
              "    </tr>\n",
              "    <tr>\n",
              "      <th>17</th>\n",
              "      <td>996.84</td>\n",
              "      <td>-8.81</td>\n",
              "      <td>264.59</td>\n",
              "      <td>-9.66</td>\n",
              "      <td>93.50</td>\n",
              "      <td>3.13</td>\n",
              "      <td>2.93</td>\n",
              "      <td>0.20</td>\n",
              "      <td>1.83</td>\n",
              "      <td>2.94</td>\n",
              "      <td>1312.18</td>\n",
              "      <td>0.18</td>\n",
              "      <td>0.63</td>\n",
              "      <td>167.2</td>\n",
              "    </tr>\n",
              "    <tr>\n",
              "      <th>23</th>\n",
              "      <td>996.99</td>\n",
              "      <td>-9.05</td>\n",
              "      <td>264.34</td>\n",
              "      <td>-10.02</td>\n",
              "      <td>92.60</td>\n",
              "      <td>3.07</td>\n",
              "      <td>2.85</td>\n",
              "      <td>0.23</td>\n",
              "      <td>1.78</td>\n",
              "      <td>2.85</td>\n",
              "      <td>1313.61</td>\n",
              "      <td>0.10</td>\n",
              "      <td>0.38</td>\n",
              "      <td>240.0</td>\n",
              "    </tr>\n",
              "    <tr>\n",
              "      <th>29</th>\n",
              "      <td>997.46</td>\n",
              "      <td>-9.63</td>\n",
              "      <td>263.72</td>\n",
              "      <td>-10.65</td>\n",
              "      <td>92.20</td>\n",
              "      <td>2.94</td>\n",
              "      <td>2.71</td>\n",
              "      <td>0.23</td>\n",
              "      <td>1.69</td>\n",
              "      <td>2.71</td>\n",
              "      <td>1317.19</td>\n",
              "      <td>0.40</td>\n",
              "      <td>0.88</td>\n",
              "      <td>157.0</td>\n",
              "    </tr>\n",
              "    <tr>\n",
              "      <th>...</th>\n",
              "      <td>...</td>\n",
              "      <td>...</td>\n",
              "      <td>...</td>\n",
              "      <td>...</td>\n",
              "      <td>...</td>\n",
              "      <td>...</td>\n",
              "      <td>...</td>\n",
              "      <td>...</td>\n",
              "      <td>...</td>\n",
              "      <td>...</td>\n",
              "      <td>...</td>\n",
              "      <td>...</td>\n",
              "      <td>...</td>\n",
              "      <td>...</td>\n",
              "    </tr>\n",
              "    <tr>\n",
              "      <th>420521</th>\n",
              "      <td>1002.18</td>\n",
              "      <td>-0.98</td>\n",
              "      <td>272.01</td>\n",
              "      <td>-5.36</td>\n",
              "      <td>72.00</td>\n",
              "      <td>5.69</td>\n",
              "      <td>4.09</td>\n",
              "      <td>1.59</td>\n",
              "      <td>2.54</td>\n",
              "      <td>4.08</td>\n",
              "      <td>1280.70</td>\n",
              "      <td>0.87</td>\n",
              "      <td>1.36</td>\n",
              "      <td>190.6</td>\n",
              "    </tr>\n",
              "    <tr>\n",
              "      <th>420527</th>\n",
              "      <td>1001.40</td>\n",
              "      <td>-1.40</td>\n",
              "      <td>271.66</td>\n",
              "      <td>-6.84</td>\n",
              "      <td>66.29</td>\n",
              "      <td>5.51</td>\n",
              "      <td>3.65</td>\n",
              "      <td>1.86</td>\n",
              "      <td>2.27</td>\n",
              "      <td>3.65</td>\n",
              "      <td>1281.87</td>\n",
              "      <td>1.02</td>\n",
              "      <td>1.92</td>\n",
              "      <td>225.4</td>\n",
              "    </tr>\n",
              "    <tr>\n",
              "      <th>420533</th>\n",
              "      <td>1001.19</td>\n",
              "      <td>-2.75</td>\n",
              "      <td>270.32</td>\n",
              "      <td>-6.90</td>\n",
              "      <td>72.90</td>\n",
              "      <td>4.99</td>\n",
              "      <td>3.64</td>\n",
              "      <td>1.35</td>\n",
              "      <td>2.26</td>\n",
              "      <td>3.63</td>\n",
              "      <td>1288.02</td>\n",
              "      <td>0.71</td>\n",
              "      <td>1.56</td>\n",
              "      <td>158.7</td>\n",
              "    </tr>\n",
              "    <tr>\n",
              "      <th>420539</th>\n",
              "      <td>1000.65</td>\n",
              "      <td>-2.89</td>\n",
              "      <td>270.22</td>\n",
              "      <td>-7.15</td>\n",
              "      <td>72.30</td>\n",
              "      <td>4.93</td>\n",
              "      <td>3.57</td>\n",
              "      <td>1.37</td>\n",
              "      <td>2.22</td>\n",
              "      <td>3.57</td>\n",
              "      <td>1288.03</td>\n",
              "      <td>0.35</td>\n",
              "      <td>0.68</td>\n",
              "      <td>216.7</td>\n",
              "    </tr>\n",
              "    <tr>\n",
              "      <th>420545</th>\n",
              "      <td>1000.11</td>\n",
              "      <td>-3.93</td>\n",
              "      <td>269.23</td>\n",
              "      <td>-8.09</td>\n",
              "      <td>72.60</td>\n",
              "      <td>4.56</td>\n",
              "      <td>3.31</td>\n",
              "      <td>1.25</td>\n",
              "      <td>2.06</td>\n",
              "      <td>3.31</td>\n",
              "      <td>1292.41</td>\n",
              "      <td>0.56</td>\n",
              "      <td>1.00</td>\n",
              "      <td>202.6</td>\n",
              "    </tr>\n",
              "  </tbody>\n",
              "</table>\n",
              "<p>70091 rows × 14 columns</p>\n",
              "</div>\n",
              "      <button class=\"colab-df-convert\" onclick=\"convertToInteractive('df-42265561-b4d5-4d01-ab56-dfacab801c3b')\"\n",
              "              title=\"Convert this dataframe to an interactive table.\"\n",
              "              style=\"display:none;\">\n",
              "        \n",
              "  <svg xmlns=\"http://www.w3.org/2000/svg\" height=\"24px\"viewBox=\"0 0 24 24\"\n",
              "       width=\"24px\">\n",
              "    <path d=\"M0 0h24v24H0V0z\" fill=\"none\"/>\n",
              "    <path d=\"M18.56 5.44l.94 2.06.94-2.06 2.06-.94-2.06-.94-.94-2.06-.94 2.06-2.06.94zm-11 1L8.5 8.5l.94-2.06 2.06-.94-2.06-.94L8.5 2.5l-.94 2.06-2.06.94zm10 10l.94 2.06.94-2.06 2.06-.94-2.06-.94-.94-2.06-.94 2.06-2.06.94z\"/><path d=\"M17.41 7.96l-1.37-1.37c-.4-.4-.92-.59-1.43-.59-.52 0-1.04.2-1.43.59L10.3 9.45l-7.72 7.72c-.78.78-.78 2.05 0 2.83L4 21.41c.39.39.9.59 1.41.59.51 0 1.02-.2 1.41-.59l7.78-7.78 2.81-2.81c.8-.78.8-2.07 0-2.86zM5.41 20L4 18.59l7.72-7.72 1.47 1.35L5.41 20z\"/>\n",
              "  </svg>\n",
              "      </button>\n",
              "      \n",
              "  <style>\n",
              "    .colab-df-container {\n",
              "      display:flex;\n",
              "      flex-wrap:wrap;\n",
              "      gap: 12px;\n",
              "    }\n",
              "\n",
              "    .colab-df-convert {\n",
              "      background-color: #E8F0FE;\n",
              "      border: none;\n",
              "      border-radius: 50%;\n",
              "      cursor: pointer;\n",
              "      display: none;\n",
              "      fill: #1967D2;\n",
              "      height: 32px;\n",
              "      padding: 0 0 0 0;\n",
              "      width: 32px;\n",
              "    }\n",
              "\n",
              "    .colab-df-convert:hover {\n",
              "      background-color: #E2EBFA;\n",
              "      box-shadow: 0px 1px 2px rgba(60, 64, 67, 0.3), 0px 1px 3px 1px rgba(60, 64, 67, 0.15);\n",
              "      fill: #174EA6;\n",
              "    }\n",
              "\n",
              "    [theme=dark] .colab-df-convert {\n",
              "      background-color: #3B4455;\n",
              "      fill: #D2E3FC;\n",
              "    }\n",
              "\n",
              "    [theme=dark] .colab-df-convert:hover {\n",
              "      background-color: #434B5C;\n",
              "      box-shadow: 0px 1px 3px 1px rgba(0, 0, 0, 0.15);\n",
              "      filter: drop-shadow(0px 1px 2px rgba(0, 0, 0, 0.3));\n",
              "      fill: #FFFFFF;\n",
              "    }\n",
              "  </style>\n",
              "\n",
              "      <script>\n",
              "        const buttonEl =\n",
              "          document.querySelector('#df-42265561-b4d5-4d01-ab56-dfacab801c3b button.colab-df-convert');\n",
              "        buttonEl.style.display =\n",
              "          google.colab.kernel.accessAllowed ? 'block' : 'none';\n",
              "\n",
              "        async function convertToInteractive(key) {\n",
              "          const element = document.querySelector('#df-42265561-b4d5-4d01-ab56-dfacab801c3b');\n",
              "          const dataTable =\n",
              "            await google.colab.kernel.invokeFunction('convertToInteractive',\n",
              "                                                     [key], {});\n",
              "          if (!dataTable) return;\n",
              "\n",
              "          const docLinkHtml = 'Like what you see? Visit the ' +\n",
              "            '<a target=\"_blank\" href=https://colab.research.google.com/notebooks/data_table.ipynb>data table notebook</a>'\n",
              "            + ' to learn more about interactive tables.';\n",
              "          element.innerHTML = '';\n",
              "          dataTable['output_type'] = 'display_data';\n",
              "          await google.colab.output.renderOutput(dataTable, element);\n",
              "          const docLink = document.createElement('div');\n",
              "          docLink.innerHTML = docLinkHtml;\n",
              "          element.appendChild(docLink);\n",
              "        }\n",
              "      </script>\n",
              "    </div>\n",
              "  </div>\n",
              "  "
            ],
            "text/plain": [
              "        p (mbar)  T (degC)  Tpot (K)  Tdew (degC)  rh (%)  VPmax (mbar)  \\\n",
              "5         996.50     -8.05    265.38        -8.78   94.40          3.33   \n",
              "11        996.62     -8.88    264.54        -9.77   93.20          3.12   \n",
              "17        996.84     -8.81    264.59        -9.66   93.50          3.13   \n",
              "23        996.99     -9.05    264.34       -10.02   92.60          3.07   \n",
              "29        997.46     -9.63    263.72       -10.65   92.20          2.94   \n",
              "...          ...       ...       ...          ...     ...           ...   \n",
              "420521   1002.18     -0.98    272.01        -5.36   72.00          5.69   \n",
              "420527   1001.40     -1.40    271.66        -6.84   66.29          5.51   \n",
              "420533   1001.19     -2.75    270.32        -6.90   72.90          4.99   \n",
              "420539   1000.65     -2.89    270.22        -7.15   72.30          4.93   \n",
              "420545   1000.11     -3.93    269.23        -8.09   72.60          4.56   \n",
              "\n",
              "        VPact (mbar)  VPdef (mbar)  sh (g/kg)  H2OC (mmol/mol)  rho (g/m**3)  \\\n",
              "5               3.14          0.19       1.96             3.15       1307.86   \n",
              "11              2.90          0.21       1.81             2.91       1312.25   \n",
              "17              2.93          0.20       1.83             2.94       1312.18   \n",
              "23              2.85          0.23       1.78             2.85       1313.61   \n",
              "29              2.71          0.23       1.69             2.71       1317.19   \n",
              "...              ...           ...        ...              ...           ...   \n",
              "420521          4.09          1.59       2.54             4.08       1280.70   \n",
              "420527          3.65          1.86       2.27             3.65       1281.87   \n",
              "420533          3.64          1.35       2.26             3.63       1288.02   \n",
              "420539          3.57          1.37       2.22             3.57       1288.03   \n",
              "420545          3.31          1.25       2.06             3.31       1292.41   \n",
              "\n",
              "        wv (m/s)  max. wv (m/s)  wd (deg)  \n",
              "5           0.21           0.63     192.7  \n",
              "11          0.25           0.63     190.3  \n",
              "17          0.18           0.63     167.2  \n",
              "23          0.10           0.38     240.0  \n",
              "29          0.40           0.88     157.0  \n",
              "...          ...            ...       ...  \n",
              "420521      0.87           1.36     190.6  \n",
              "420527      1.02           1.92     225.4  \n",
              "420533      0.71           1.56     158.7  \n",
              "420539      0.35           0.68     216.7  \n",
              "420545      0.56           1.00     202.6  \n",
              "\n",
              "[70091 rows x 14 columns]"
            ]
          },
          "execution_count": 3,
          "metadata": {},
          "output_type": "execute_result"
        }
      ],
      "source": [
        "df = pd.read_csv(csv_path)\n",
        "# slice [start:stop:step], starting from index 5 take every 6th record.\n",
        "df = df[5::6]\n",
        "\n",
        "date_time = pd.to_datetime(df.pop('Date Time'), format='%d.%m.%Y %H:%M:%S')\n",
        "\n",
        "df"
      ]
    },
    {
      "cell_type": "markdown",
      "metadata": {
        "id": "7aL7PhXkc9bk"
      },
      "source": [
        "Now we're turning our date and time into time signals which will be some additional information that we may provide the model with"
      ]
    },
    {
      "cell_type": "code",
      "execution_count": null,
      "metadata": {
        "id": "lgEfjQheaj4C"
      },
      "outputs": [],
      "source": [
        "#the Date Time column is very useful, but not in this string form. Start by converting it to seconds:\n",
        "timestamp_s = date_time.map(datetime.datetime.timestamp)\n",
        "#A simple approach to convert it to a usable signal is to use sin and cos to convert the time to clear \"Time of day\" and \"Time of year\" signals:\n",
        "\n",
        "day = 24*60*60\n",
        "year = (365.2425)*day\n",
        "\n",
        "df['Day sin'] = np.sin(timestamp_s * (2 * np.pi / day))\n",
        "df['Day cos'] = np.cos(timestamp_s * (2 * np.pi / day))\n",
        "df['Year sin'] = np.sin(timestamp_s * (2 * np.pi / year))\n",
        "df['Year cos'] = np.cos(timestamp_s * (2 * np.pi / year))"
      ]
    },
    {
      "cell_type": "markdown",
      "metadata": {
        "id": "opvahQUuCEY7"
      },
      "source": [
        "Let's have a look at the new dataset that we have for the model"
      ]
    },
    {
      "cell_type": "code",
      "execution_count": null,
      "metadata": {
        "colab": {
          "base_uri": "https://localhost:8080/",
          "height": 381
        },
        "id": "fTtNQ3IdarOF",
        "outputId": "8093be3a-8535-4011-dabe-98795bcc70e2"
      },
      "outputs": [
        {
          "data": {
            "text/html": [
              "\n",
              "  <div id=\"df-93c9789a-4330-4168-862f-65daa0fe1a9c\">\n",
              "    <div class=\"colab-df-container\">\n",
              "      <div>\n",
              "<style scoped>\n",
              "    .dataframe tbody tr th:only-of-type {\n",
              "        vertical-align: middle;\n",
              "    }\n",
              "\n",
              "    .dataframe tbody tr th {\n",
              "        vertical-align: top;\n",
              "    }\n",
              "\n",
              "    .dataframe thead th {\n",
              "        text-align: right;\n",
              "    }\n",
              "</style>\n",
              "<table border=\"1\" class=\"dataframe\">\n",
              "  <thead>\n",
              "    <tr style=\"text-align: right;\">\n",
              "      <th></th>\n",
              "      <th>p (mbar)</th>\n",
              "      <th>T (degC)</th>\n",
              "      <th>Tpot (K)</th>\n",
              "      <th>Tdew (degC)</th>\n",
              "      <th>rh (%)</th>\n",
              "      <th>VPmax (mbar)</th>\n",
              "      <th>VPact (mbar)</th>\n",
              "      <th>VPdef (mbar)</th>\n",
              "      <th>sh (g/kg)</th>\n",
              "      <th>H2OC (mmol/mol)</th>\n",
              "      <th>rho (g/m**3)</th>\n",
              "      <th>wv (m/s)</th>\n",
              "      <th>max. wv (m/s)</th>\n",
              "      <th>wd (deg)</th>\n",
              "      <th>Day sin</th>\n",
              "      <th>Day cos</th>\n",
              "      <th>Year sin</th>\n",
              "      <th>Year cos</th>\n",
              "    </tr>\n",
              "  </thead>\n",
              "  <tbody>\n",
              "    <tr>\n",
              "      <th>count</th>\n",
              "      <td>70091.000000</td>\n",
              "      <td>70091.000000</td>\n",
              "      <td>70091.000000</td>\n",
              "      <td>70091.000000</td>\n",
              "      <td>70091.000000</td>\n",
              "      <td>70091.000000</td>\n",
              "      <td>70091.000000</td>\n",
              "      <td>70091.000000</td>\n",
              "      <td>70091.000000</td>\n",
              "      <td>70091.000000</td>\n",
              "      <td>70091.000000</td>\n",
              "      <td>70091.000000</td>\n",
              "      <td>70091.000000</td>\n",
              "      <td>70091.000000</td>\n",
              "      <td>7.009100e+04</td>\n",
              "      <td>7.009100e+04</td>\n",
              "      <td>70091.000000</td>\n",
              "      <td>70091.000000</td>\n",
              "    </tr>\n",
              "    <tr>\n",
              "      <th>mean</th>\n",
              "      <td>989.212842</td>\n",
              "      <td>9.450482</td>\n",
              "      <td>283.493086</td>\n",
              "      <td>4.956471</td>\n",
              "      <td>76.009788</td>\n",
              "      <td>13.576576</td>\n",
              "      <td>9.533968</td>\n",
              "      <td>4.042536</td>\n",
              "      <td>6.022560</td>\n",
              "      <td>9.640437</td>\n",
              "      <td>1216.061232</td>\n",
              "      <td>1.702567</td>\n",
              "      <td>2.963041</td>\n",
              "      <td>174.789095</td>\n",
              "      <td>-6.083156e-05</td>\n",
              "      <td>-1.428652e-04</td>\n",
              "      <td>0.001614</td>\n",
              "      <td>-0.000672</td>\n",
              "    </tr>\n",
              "    <tr>\n",
              "      <th>std</th>\n",
              "      <td>8.358886</td>\n",
              "      <td>8.423384</td>\n",
              "      <td>8.504424</td>\n",
              "      <td>6.730081</td>\n",
              "      <td>16.474920</td>\n",
              "      <td>7.739883</td>\n",
              "      <td>4.183658</td>\n",
              "      <td>4.898549</td>\n",
              "      <td>2.655812</td>\n",
              "      <td>4.234862</td>\n",
              "      <td>39.974263</td>\n",
              "      <td>65.447512</td>\n",
              "      <td>75.597657</td>\n",
              "      <td>86.619431</td>\n",
              "      <td>7.070992e-01</td>\n",
              "      <td>7.071245e-01</td>\n",
              "      <td>0.706813</td>\n",
              "      <td>0.707408</td>\n",
              "    </tr>\n",
              "    <tr>\n",
              "      <th>min</th>\n",
              "      <td>913.600000</td>\n",
              "      <td>-22.760000</td>\n",
              "      <td>250.850000</td>\n",
              "      <td>-24.800000</td>\n",
              "      <td>13.880000</td>\n",
              "      <td>0.970000</td>\n",
              "      <td>0.810000</td>\n",
              "      <td>0.000000</td>\n",
              "      <td>0.510000</td>\n",
              "      <td>0.810000</td>\n",
              "      <td>1059.450000</td>\n",
              "      <td>-9999.000000</td>\n",
              "      <td>-9999.000000</td>\n",
              "      <td>0.000000</td>\n",
              "      <td>-1.000000e+00</td>\n",
              "      <td>-1.000000e+00</td>\n",
              "      <td>-1.000000</td>\n",
              "      <td>-1.000000</td>\n",
              "    </tr>\n",
              "    <tr>\n",
              "      <th>25%</th>\n",
              "      <td>984.200000</td>\n",
              "      <td>3.350000</td>\n",
              "      <td>277.440000</td>\n",
              "      <td>0.240000</td>\n",
              "      <td>65.210000</td>\n",
              "      <td>7.770000</td>\n",
              "      <td>6.220000</td>\n",
              "      <td>0.870000</td>\n",
              "      <td>3.920000</td>\n",
              "      <td>6.290000</td>\n",
              "      <td>1187.470000</td>\n",
              "      <td>0.990000</td>\n",
              "      <td>1.760000</td>\n",
              "      <td>125.300000</td>\n",
              "      <td>-7.071068e-01</td>\n",
              "      <td>-7.071068e-01</td>\n",
              "      <td>-0.704504</td>\n",
              "      <td>-0.708115</td>\n",
              "    </tr>\n",
              "    <tr>\n",
              "      <th>50%</th>\n",
              "      <td>989.570000</td>\n",
              "      <td>9.410000</td>\n",
              "      <td>283.460000</td>\n",
              "      <td>5.210000</td>\n",
              "      <td>79.300000</td>\n",
              "      <td>11.820000</td>\n",
              "      <td>8.860000</td>\n",
              "      <td>2.190000</td>\n",
              "      <td>5.590000</td>\n",
              "      <td>8.960000</td>\n",
              "      <td>1213.800000</td>\n",
              "      <td>1.760000</td>\n",
              "      <td>2.980000</td>\n",
              "      <td>198.100000</td>\n",
              "      <td>1.321740e-14</td>\n",
              "      <td>-9.732065e-15</td>\n",
              "      <td>0.003316</td>\n",
              "      <td>-0.001122</td>\n",
              "    </tr>\n",
              "    <tr>\n",
              "      <th>75%</th>\n",
              "      <td>994.720000</td>\n",
              "      <td>15.480000</td>\n",
              "      <td>289.530000</td>\n",
              "      <td>10.080000</td>\n",
              "      <td>89.400000</td>\n",
              "      <td>17.610000</td>\n",
              "      <td>12.360000</td>\n",
              "      <td>5.300000</td>\n",
              "      <td>7.800000</td>\n",
              "      <td>12.490000</td>\n",
              "      <td>1242.765000</td>\n",
              "      <td>2.860000</td>\n",
              "      <td>4.740000</td>\n",
              "      <td>234.000000</td>\n",
              "      <td>7.071068e-01</td>\n",
              "      <td>7.071068e-01</td>\n",
              "      <td>0.708301</td>\n",
              "      <td>0.707423</td>\n",
              "    </tr>\n",
              "    <tr>\n",
              "      <th>max</th>\n",
              "      <td>1015.290000</td>\n",
              "      <td>37.280000</td>\n",
              "      <td>311.210000</td>\n",
              "      <td>23.060000</td>\n",
              "      <td>100.000000</td>\n",
              "      <td>63.770000</td>\n",
              "      <td>28.250000</td>\n",
              "      <td>46.010000</td>\n",
              "      <td>18.070000</td>\n",
              "      <td>28.740000</td>\n",
              "      <td>1393.540000</td>\n",
              "      <td>14.010000</td>\n",
              "      <td>23.500000</td>\n",
              "      <td>360.000000</td>\n",
              "      <td>1.000000e+00</td>\n",
              "      <td>1.000000e+00</td>\n",
              "      <td>1.000000</td>\n",
              "      <td>1.000000</td>\n",
              "    </tr>\n",
              "  </tbody>\n",
              "</table>\n",
              "</div>\n",
              "      <button class=\"colab-df-convert\" onclick=\"convertToInteractive('df-93c9789a-4330-4168-862f-65daa0fe1a9c')\"\n",
              "              title=\"Convert this dataframe to an interactive table.\"\n",
              "              style=\"display:none;\">\n",
              "        \n",
              "  <svg xmlns=\"http://www.w3.org/2000/svg\" height=\"24px\"viewBox=\"0 0 24 24\"\n",
              "       width=\"24px\">\n",
              "    <path d=\"M0 0h24v24H0V0z\" fill=\"none\"/>\n",
              "    <path d=\"M18.56 5.44l.94 2.06.94-2.06 2.06-.94-2.06-.94-.94-2.06-.94 2.06-2.06.94zm-11 1L8.5 8.5l.94-2.06 2.06-.94-2.06-.94L8.5 2.5l-.94 2.06-2.06.94zm10 10l.94 2.06.94-2.06 2.06-.94-2.06-.94-.94-2.06-.94 2.06-2.06.94z\"/><path d=\"M17.41 7.96l-1.37-1.37c-.4-.4-.92-.59-1.43-.59-.52 0-1.04.2-1.43.59L10.3 9.45l-7.72 7.72c-.78.78-.78 2.05 0 2.83L4 21.41c.39.39.9.59 1.41.59.51 0 1.02-.2 1.41-.59l7.78-7.78 2.81-2.81c.8-.78.8-2.07 0-2.86zM5.41 20L4 18.59l7.72-7.72 1.47 1.35L5.41 20z\"/>\n",
              "  </svg>\n",
              "      </button>\n",
              "      \n",
              "  <style>\n",
              "    .colab-df-container {\n",
              "      display:flex;\n",
              "      flex-wrap:wrap;\n",
              "      gap: 12px;\n",
              "    }\n",
              "\n",
              "    .colab-df-convert {\n",
              "      background-color: #E8F0FE;\n",
              "      border: none;\n",
              "      border-radius: 50%;\n",
              "      cursor: pointer;\n",
              "      display: none;\n",
              "      fill: #1967D2;\n",
              "      height: 32px;\n",
              "      padding: 0 0 0 0;\n",
              "      width: 32px;\n",
              "    }\n",
              "\n",
              "    .colab-df-convert:hover {\n",
              "      background-color: #E2EBFA;\n",
              "      box-shadow: 0px 1px 2px rgba(60, 64, 67, 0.3), 0px 1px 3px 1px rgba(60, 64, 67, 0.15);\n",
              "      fill: #174EA6;\n",
              "    }\n",
              "\n",
              "    [theme=dark] .colab-df-convert {\n",
              "      background-color: #3B4455;\n",
              "      fill: #D2E3FC;\n",
              "    }\n",
              "\n",
              "    [theme=dark] .colab-df-convert:hover {\n",
              "      background-color: #434B5C;\n",
              "      box-shadow: 0px 1px 3px 1px rgba(0, 0, 0, 0.15);\n",
              "      filter: drop-shadow(0px 1px 2px rgba(0, 0, 0, 0.3));\n",
              "      fill: #FFFFFF;\n",
              "    }\n",
              "  </style>\n",
              "\n",
              "      <script>\n",
              "        const buttonEl =\n",
              "          document.querySelector('#df-93c9789a-4330-4168-862f-65daa0fe1a9c button.colab-df-convert');\n",
              "        buttonEl.style.display =\n",
              "          google.colab.kernel.accessAllowed ? 'block' : 'none';\n",
              "\n",
              "        async function convertToInteractive(key) {\n",
              "          const element = document.querySelector('#df-93c9789a-4330-4168-862f-65daa0fe1a9c');\n",
              "          const dataTable =\n",
              "            await google.colab.kernel.invokeFunction('convertToInteractive',\n",
              "                                                     [key], {});\n",
              "          if (!dataTable) return;\n",
              "\n",
              "          const docLinkHtml = 'Like what you see? Visit the ' +\n",
              "            '<a target=\"_blank\" href=https://colab.research.google.com/notebooks/data_table.ipynb>data table notebook</a>'\n",
              "            + ' to learn more about interactive tables.';\n",
              "          element.innerHTML = '';\n",
              "          dataTable['output_type'] = 'display_data';\n",
              "          await google.colab.output.renderOutput(dataTable, element);\n",
              "          const docLink = document.createElement('div');\n",
              "          docLink.innerHTML = docLinkHtml;\n",
              "          element.appendChild(docLink);\n",
              "        }\n",
              "      </script>\n",
              "    </div>\n",
              "  </div>\n",
              "  "
            ],
            "text/plain": [
              "           p (mbar)      T (degC)      Tpot (K)   Tdew (degC)        rh (%)  \\\n",
              "count  70091.000000  70091.000000  70091.000000  70091.000000  70091.000000   \n",
              "mean     989.212842      9.450482    283.493086      4.956471     76.009788   \n",
              "std        8.358886      8.423384      8.504424      6.730081     16.474920   \n",
              "min      913.600000    -22.760000    250.850000    -24.800000     13.880000   \n",
              "25%      984.200000      3.350000    277.440000      0.240000     65.210000   \n",
              "50%      989.570000      9.410000    283.460000      5.210000     79.300000   \n",
              "75%      994.720000     15.480000    289.530000     10.080000     89.400000   \n",
              "max     1015.290000     37.280000    311.210000     23.060000    100.000000   \n",
              "\n",
              "       VPmax (mbar)  VPact (mbar)  VPdef (mbar)     sh (g/kg)  \\\n",
              "count  70091.000000  70091.000000  70091.000000  70091.000000   \n",
              "mean      13.576576      9.533968      4.042536      6.022560   \n",
              "std        7.739883      4.183658      4.898549      2.655812   \n",
              "min        0.970000      0.810000      0.000000      0.510000   \n",
              "25%        7.770000      6.220000      0.870000      3.920000   \n",
              "50%       11.820000      8.860000      2.190000      5.590000   \n",
              "75%       17.610000     12.360000      5.300000      7.800000   \n",
              "max       63.770000     28.250000     46.010000     18.070000   \n",
              "\n",
              "       H2OC (mmol/mol)  rho (g/m**3)      wv (m/s)  max. wv (m/s)  \\\n",
              "count     70091.000000  70091.000000  70091.000000   70091.000000   \n",
              "mean          9.640437   1216.061232      1.702567       2.963041   \n",
              "std           4.234862     39.974263     65.447512      75.597657   \n",
              "min           0.810000   1059.450000  -9999.000000   -9999.000000   \n",
              "25%           6.290000   1187.470000      0.990000       1.760000   \n",
              "50%           8.960000   1213.800000      1.760000       2.980000   \n",
              "75%          12.490000   1242.765000      2.860000       4.740000   \n",
              "max          28.740000   1393.540000     14.010000      23.500000   \n",
              "\n",
              "           wd (deg)       Day sin       Day cos      Year sin      Year cos  \n",
              "count  70091.000000  7.009100e+04  7.009100e+04  70091.000000  70091.000000  \n",
              "mean     174.789095 -6.083156e-05 -1.428652e-04      0.001614     -0.000672  \n",
              "std       86.619431  7.070992e-01  7.071245e-01      0.706813      0.707408  \n",
              "min        0.000000 -1.000000e+00 -1.000000e+00     -1.000000     -1.000000  \n",
              "25%      125.300000 -7.071068e-01 -7.071068e-01     -0.704504     -0.708115  \n",
              "50%      198.100000  1.321740e-14 -9.732065e-15      0.003316     -0.001122  \n",
              "75%      234.000000  7.071068e-01  7.071068e-01      0.708301      0.707423  \n",
              "max      360.000000  1.000000e+00  1.000000e+00      1.000000      1.000000  "
            ]
          },
          "execution_count": 5,
          "metadata": {},
          "output_type": "execute_result"
        }
      ],
      "source": [
        "df.describe()"
      ]
    },
    {
      "cell_type": "markdown",
      "metadata": {
        "id": "FNk-c3lih5ob"
      },
      "source": [
        "Most observations from sensors have inaccurate readings at times and the Jena dataset is no different.  As we can see in the print out of the dataframe description, the wind velocity and max wind velocity have some wildly inaccuracte measurements of -9999.0m/s.  Let's change those to be 0 which is a more likely measurement"
      ]
    },
    {
      "cell_type": "code",
      "execution_count": null,
      "metadata": {
        "id": "ID9eubqealxl"
      },
      "outputs": [],
      "source": [
        "wind_velocity = df['wv (m/s)']\n",
        "bad_wind_velocity = wind_velocity == -9999.0\n",
        "wind_velocity[bad_wind_velocity] = 0.0\n",
        "\n",
        "max_wind_velocity = df['max. wv (m/s)']\n",
        "bad_max_wind_velocity = max_wind_velocity == -9999.0\n",
        "max_wind_velocity[bad_max_wind_velocity] = 0.0"
      ]
    },
    {
      "cell_type": "markdown",
      "metadata": {
        "id": "NTcgic0GiMwL"
      },
      "source": [
        "The cell below takes the wind speed measurements and converts them into wind vectors on the x and y plane"
      ]
    },
    {
      "cell_type": "code",
      "execution_count": null,
      "metadata": {
        "id": "Qj13QqFianJ-"
      },
      "outputs": [],
      "source": [
        "wind_velocity = df.pop('wv (m/s)')\n",
        "max_wind_velocity = df.pop('max. wv (m/s)')\n",
        "\n",
        "#convert degrees measurement to radians [X * pi / 180]\n",
        "wind_radian = df.pop('wd (deg)') * np.pi / 180\n",
        "\n",
        "#calculate the wind X and Y components for the vector\n",
        "df['Wx'] = wind_velocity * np.cos(wind_radian)\n",
        "df['Wy'] = wind_velocity * np.sin(wind_radian)\n",
        "\n",
        "#calculate the max wind X and Y components for the vector\n",
        "df['Max Wx'] = max_wind_velocity * np.cos(wind_radian)\n",
        "df['Max Wy'] = max_wind_velocity * np.sin(wind_radian)"
      ]
    },
    {
      "cell_type": "markdown",
      "metadata": {
        "id": "0HWFbrnhUr34"
      },
      "source": [
        "\n",
        "### Training, Validation and Test sets"
      ]
    },
    {
      "cell_type": "markdown",
      "metadata": {
        "id": "lE0Ka-KTMaeQ"
      },
      "source": [
        "![picture](https://drive.google.com/uc?id=1_hKhACaS5SyMkdVSWD0XHozYoGHMfjwx)\n",
        "\n",
        "https://medium.com/@Ana_Caballero_H/splitting-data-folders-into-training-validation-and-testing-folders-using-shuffling-with-python-63cabcd997dd"
      ]
    },
    {
      "cell_type": "markdown",
      "metadata": {
        "id": "gZSF77EZiXMt"
      },
      "source": [
        "We will be picking some columns from this dataframe to use for the training and test values.\n",
        "\n",
        "Here you have the opportunity to swap in and out different column names to the observations to see what effect it has in the model's 'predicting power'"
      ]
    },
    {
      "cell_type": "code",
      "execution_count": null,
      "metadata": {
        "id": "xZRHAHPZau1s"
      },
      "outputs": [],
      "source": [
        "# training data columns to use (tip - there are much better ones to pick)\n",
        "column_names = ['p (mbar)', 'Max Wx','Max Wy','Day sin', 'Day cos','Year sin', 'Year cos']\n",
        "\n",
        "\n",
        "#we could use these or any other variation we might like\n",
        "#column_names = [''Wx','Wy', 'Day sin', 'Day cos','Year sin', 'Year cos']"
      ]
    },
    {
      "cell_type": "markdown",
      "metadata": {
        "id": "6RqTg0UIicq_"
      },
      "source": [
        "Let's create the X (training/validation/test data(multiple columns)) and  y (training/validation/test labels(single column)) datasets explicitly now.  In effect we are going to give the model a set of data and we want it to learn how that set (many observations), maps to a single value.  The training data columns ['p (mbar)',.....etc...., 'Day sin', 'Day cos','Year sin', 'Year cos'] will be used to try and predict 'T (degC)' - temperature at a later date to that which is in the training set"
      ]
    },
    {
      "cell_type": "code",
      "execution_count": null,
      "metadata": {
        "id": "u9-40xOHawPU"
      },
      "outputs": [],
      "source": [
        "X, y = df[column_names], df['T (degC)']"
      ]
    },
    {
      "cell_type": "markdown",
      "metadata": {
        "id": "gSjRJ9C_jWXs"
      },
      "source": [
        "We're splitting the datasets up into train/validation/test datasets with a 64%/16%/20% split"
      ]
    },
    {
      "cell_type": "code",
      "execution_count": null,
      "metadata": {
        "id": "x7DYzXT6aw7T"
      },
      "outputs": [],
      "source": [
        "#64% train, 16% validation and 20% test split \n",
        "\n",
        "#create test/train batches\n",
        "X_train, X_test, y_train, y_test = train_test_split(X, y, test_size=0.2, shuffle=False)\n",
        "\n",
        "#create train/val batches\n",
        "X_train, X_val, y_train, y_val = train_test_split(X_train, y_train, test_size=0.25, shuffle=False)"
      ]
    },
    {
      "cell_type": "markdown",
      "metadata": {
        "id": "FWuxMsuFXd3Z"
      },
      "source": [
        "\\\\\n",
        "### Standardising/Normalising Datasets"
      ]
    },
    {
      "cell_type": "markdown",
      "metadata": {
        "id": "r-ShkD6sj9w2"
      },
      "source": [
        "Deep Neural Networks often require that data is standardised/normalised; they don't work very well when values are wildly different. This ensures that they're all within the same range.\n",
        "\n",
        "When we do this we must ensure that we only work with our training data mean and standard deviation to standardise the validation and test sets.  The reason being that we shouldn't know what the validation and test set data is in reality.\n",
        "\n",
        "Note: In many professions, \"normalisation\" typically means that the range of values are \"normalised to be from 0.0 to 1.0\". \"Standardisation\" typically means that the range of values are \"standardised\" to measure how many standard deviations the value is from its mean. "
      ]
    },
    {
      "cell_type": "code",
      "execution_count": null,
      "metadata": {
        "colab": {
          "base_uri": "https://localhost:8080/"
        },
        "id": "Gx0sG9lr_JuT",
        "outputId": "dfa10392-b191-40ee-8fe4-248e74f02833"
      },
      "outputs": [
        {
          "data": {
            "text/plain": [
              "336437    17.93\n",
              "336443    16.92\n",
              "336449    15.82\n",
              "336455    15.02\n",
              "336461    14.14\n",
              "Name: T (degC), dtype: float64"
            ]
          },
          "execution_count": 13,
          "metadata": {},
          "output_type": "execute_result"
        }
      ],
      "source": [
        "y_test[0:5]"
      ]
    },
    {
      "cell_type": "code",
      "execution_count": null,
      "metadata": {
        "colab": {
          "base_uri": "https://localhost:8080/",
          "height": 424
        },
        "id": "ebwikdVSa1tT",
        "outputId": "9e361b33-6d5b-4eb6-dd7b-bb12962eec22"
      },
      "outputs": [
        {
          "data": {
            "text/html": [
              "\n",
              "  <div id=\"df-84dd686a-bbc0-4b96-94f9-42c2ee5ec0ac\">\n",
              "    <div class=\"colab-df-container\">\n",
              "      <div>\n",
              "<style scoped>\n",
              "    .dataframe tbody tr th:only-of-type {\n",
              "        vertical-align: middle;\n",
              "    }\n",
              "\n",
              "    .dataframe tbody tr th {\n",
              "        vertical-align: top;\n",
              "    }\n",
              "\n",
              "    .dataframe thead th {\n",
              "        text-align: right;\n",
              "    }\n",
              "</style>\n",
              "<table border=\"1\" class=\"dataframe\">\n",
              "  <thead>\n",
              "    <tr style=\"text-align: right;\">\n",
              "      <th></th>\n",
              "      <th>p (mbar)</th>\n",
              "      <th>Max Wx</th>\n",
              "      <th>Max Wy</th>\n",
              "      <th>Day sin</th>\n",
              "      <th>Day cos</th>\n",
              "      <th>Year sin</th>\n",
              "      <th>Year cos</th>\n",
              "    </tr>\n",
              "  </thead>\n",
              "  <tbody>\n",
              "    <tr>\n",
              "      <th>5</th>\n",
              "      <td>0.933803</td>\n",
              "      <td>0.099313</td>\n",
              "      <td>0.219876</td>\n",
              "      <td>0.365864</td>\n",
              "      <td>1.365914</td>\n",
              "      <td>-0.019173</td>\n",
              "      <td>1.468425</td>\n",
              "    </tr>\n",
              "    <tr>\n",
              "      <th>11</th>\n",
              "      <td>0.948246</td>\n",
              "      <td>0.097621</td>\n",
              "      <td>0.229701</td>\n",
              "      <td>0.706935</td>\n",
              "      <td>1.224633</td>\n",
              "      <td>-0.018163</td>\n",
              "      <td>1.468414</td>\n",
              "    </tr>\n",
              "    <tr>\n",
              "      <th>17</th>\n",
              "      <td>0.974726</td>\n",
              "      <td>0.099391</td>\n",
              "      <td>0.325544</td>\n",
              "      <td>0.999819</td>\n",
              "      <td>0.999886</td>\n",
              "      <td>-0.017154</td>\n",
              "      <td>1.468403</td>\n",
              "    </tr>\n",
              "    <tr>\n",
              "      <th>23</th>\n",
              "      <td>0.992781</td>\n",
              "      <td>0.235838</td>\n",
              "      <td>0.147454</td>\n",
              "      <td>1.224557</td>\n",
              "      <td>0.706991</td>\n",
              "      <td>-0.016144</td>\n",
              "      <td>1.468391</td>\n",
              "    </tr>\n",
              "    <tr>\n",
              "      <th>29</th>\n",
              "      <td>1.049352</td>\n",
              "      <td>0.036463</td>\n",
              "      <td>0.403165</td>\n",
              "      <td>1.365833</td>\n",
              "      <td>0.365907</td>\n",
              "      <td>-0.015134</td>\n",
              "      <td>1.468378</td>\n",
              "    </tr>\n",
              "    <tr>\n",
              "      <th>...</th>\n",
              "      <td>...</td>\n",
              "      <td>...</td>\n",
              "      <td>...</td>\n",
              "      <td>...</td>\n",
              "      <td>...</td>\n",
              "      <td>...</td>\n",
              "      <td>...</td>\n",
              "    </tr>\n",
              "    <tr>\n",
              "      <th>252299</th>\n",
              "      <td>-0.021886</td>\n",
              "      <td>-0.269931</td>\n",
              "      <td>-1.125680</td>\n",
              "      <td>0.860742</td>\n",
              "      <td>1.121858</td>\n",
              "      <td>-1.384035</td>\n",
              "      <td>0.450442</td>\n",
              "    </tr>\n",
              "    <tr>\n",
              "      <th>252305</th>\n",
              "      <td>0.007002</td>\n",
              "      <td>-0.244005</td>\n",
              "      <td>-0.919708</td>\n",
              "      <td>1.121786</td>\n",
              "      <td>0.860804</td>\n",
              "      <td>-1.383748</td>\n",
              "      <td>0.451419</td>\n",
              "    </tr>\n",
              "    <tr>\n",
              "      <th>252311</th>\n",
              "      <td>0.071998</td>\n",
              "      <td>-0.245830</td>\n",
              "      <td>-1.238578</td>\n",
              "      <td>1.306372</td>\n",
              "      <td>0.541079</td>\n",
              "      <td>-1.383460</td>\n",
              "      <td>0.452396</td>\n",
              "    </tr>\n",
              "    <tr>\n",
              "      <th>252317</th>\n",
              "      <td>0.102089</td>\n",
              "      <td>-0.367275</td>\n",
              "      <td>-0.249004</td>\n",
              "      <td>1.401921</td>\n",
              "      <td>0.184472</td>\n",
              "      <td>-1.383171</td>\n",
              "      <td>0.453373</td>\n",
              "    </tr>\n",
              "    <tr>\n",
              "      <th>252323</th>\n",
              "      <td>0.145420</td>\n",
              "      <td>-0.195445</td>\n",
              "      <td>-1.379813</td>\n",
              "      <td>1.401921</td>\n",
              "      <td>-0.184714</td>\n",
              "      <td>-1.382882</td>\n",
              "      <td>0.454350</td>\n",
              "    </tr>\n",
              "  </tbody>\n",
              "</table>\n",
              "<p>42054 rows × 7 columns</p>\n",
              "</div>\n",
              "      <button class=\"colab-df-convert\" onclick=\"convertToInteractive('df-84dd686a-bbc0-4b96-94f9-42c2ee5ec0ac')\"\n",
              "              title=\"Convert this dataframe to an interactive table.\"\n",
              "              style=\"display:none;\">\n",
              "        \n",
              "  <svg xmlns=\"http://www.w3.org/2000/svg\" height=\"24px\"viewBox=\"0 0 24 24\"\n",
              "       width=\"24px\">\n",
              "    <path d=\"M0 0h24v24H0V0z\" fill=\"none\"/>\n",
              "    <path d=\"M18.56 5.44l.94 2.06.94-2.06 2.06-.94-2.06-.94-.94-2.06-.94 2.06-2.06.94zm-11 1L8.5 8.5l.94-2.06 2.06-.94-2.06-.94L8.5 2.5l-.94 2.06-2.06.94zm10 10l.94 2.06.94-2.06 2.06-.94-2.06-.94-.94-2.06-.94 2.06-2.06.94z\"/><path d=\"M17.41 7.96l-1.37-1.37c-.4-.4-.92-.59-1.43-.59-.52 0-1.04.2-1.43.59L10.3 9.45l-7.72 7.72c-.78.78-.78 2.05 0 2.83L4 21.41c.39.39.9.59 1.41.59.51 0 1.02-.2 1.41-.59l7.78-7.78 2.81-2.81c.8-.78.8-2.07 0-2.86zM5.41 20L4 18.59l7.72-7.72 1.47 1.35L5.41 20z\"/>\n",
              "  </svg>\n",
              "      </button>\n",
              "      \n",
              "  <style>\n",
              "    .colab-df-container {\n",
              "      display:flex;\n",
              "      flex-wrap:wrap;\n",
              "      gap: 12px;\n",
              "    }\n",
              "\n",
              "    .colab-df-convert {\n",
              "      background-color: #E8F0FE;\n",
              "      border: none;\n",
              "      border-radius: 50%;\n",
              "      cursor: pointer;\n",
              "      display: none;\n",
              "      fill: #1967D2;\n",
              "      height: 32px;\n",
              "      padding: 0 0 0 0;\n",
              "      width: 32px;\n",
              "    }\n",
              "\n",
              "    .colab-df-convert:hover {\n",
              "      background-color: #E2EBFA;\n",
              "      box-shadow: 0px 1px 2px rgba(60, 64, 67, 0.3), 0px 1px 3px 1px rgba(60, 64, 67, 0.15);\n",
              "      fill: #174EA6;\n",
              "    }\n",
              "\n",
              "    [theme=dark] .colab-df-convert {\n",
              "      background-color: #3B4455;\n",
              "      fill: #D2E3FC;\n",
              "    }\n",
              "\n",
              "    [theme=dark] .colab-df-convert:hover {\n",
              "      background-color: #434B5C;\n",
              "      box-shadow: 0px 1px 3px 1px rgba(0, 0, 0, 0.15);\n",
              "      filter: drop-shadow(0px 1px 2px rgba(0, 0, 0, 0.3));\n",
              "      fill: #FFFFFF;\n",
              "    }\n",
              "  </style>\n",
              "\n",
              "      <script>\n",
              "        const buttonEl =\n",
              "          document.querySelector('#df-84dd686a-bbc0-4b96-94f9-42c2ee5ec0ac button.colab-df-convert');\n",
              "        buttonEl.style.display =\n",
              "          google.colab.kernel.accessAllowed ? 'block' : 'none';\n",
              "\n",
              "        async function convertToInteractive(key) {\n",
              "          const element = document.querySelector('#df-84dd686a-bbc0-4b96-94f9-42c2ee5ec0ac');\n",
              "          const dataTable =\n",
              "            await google.colab.kernel.invokeFunction('convertToInteractive',\n",
              "                                                     [key], {});\n",
              "          if (!dataTable) return;\n",
              "\n",
              "          const docLinkHtml = 'Like what you see? Visit the ' +\n",
              "            '<a target=\"_blank\" href=https://colab.research.google.com/notebooks/data_table.ipynb>data table notebook</a>'\n",
              "            + ' to learn more about interactive tables.';\n",
              "          element.innerHTML = '';\n",
              "          dataTable['output_type'] = 'display_data';\n",
              "          await google.colab.output.renderOutput(dataTable, element);\n",
              "          const docLink = document.createElement('div');\n",
              "          docLink.innerHTML = docLinkHtml;\n",
              "          element.appendChild(docLink);\n",
              "        }\n",
              "      </script>\n",
              "    </div>\n",
              "  </div>\n",
              "  "
            ],
            "text/plain": [
              "        p (mbar)    Max Wx    Max Wy   Day sin   Day cos  Year sin  Year cos\n",
              "5       0.933803  0.099313  0.219876  0.365864  1.365914 -0.019173  1.468425\n",
              "11      0.948246  0.097621  0.229701  0.706935  1.224633 -0.018163  1.468414\n",
              "17      0.974726  0.099391  0.325544  0.999819  0.999886 -0.017154  1.468403\n",
              "23      0.992781  0.235838  0.147454  1.224557  0.706991 -0.016144  1.468391\n",
              "29      1.049352  0.036463  0.403165  1.365833  0.365907 -0.015134  1.468378\n",
              "...          ...       ...       ...       ...       ...       ...       ...\n",
              "252299 -0.021886 -0.269931 -1.125680  0.860742  1.121858 -1.384035  0.450442\n",
              "252305  0.007002 -0.244005 -0.919708  1.121786  0.860804 -1.383748  0.451419\n",
              "252311  0.071998 -0.245830 -1.238578  1.306372  0.541079 -1.383460  0.452396\n",
              "252317  0.102089 -0.367275 -0.249004  1.401921  0.184472 -1.383171  0.453373\n",
              "252323  0.145420 -0.195445 -1.379813  1.401921 -0.184714 -1.382882  0.454350\n",
              "\n",
              "[42054 rows x 7 columns]"
            ]
          },
          "execution_count": 11,
          "metadata": {},
          "output_type": "execute_result"
        }
      ],
      "source": [
        "X_train_mean = X_train.mean()\n",
        "X_train_std = X_train.std()\n",
        "\n",
        "\n",
        "X_train = (X_train - X_train_mean) / X_train_std\n",
        "X_val = (X_val - X_train_mean) / X_train_std\n",
        "X_test = (X_test - X_train_mean) / X_train_std\n",
        "\n",
        "\n",
        "y_train_mean = y_train.mean()\n",
        "y_train_std = y_train.std()\n",
        "\n",
        "\n",
        "y_train = (y_train - y_train_mean) / y_train_std\n",
        "y_test = (y_test - y_train_mean) / y_train_std\n",
        "y_val = (y_val - y_train_mean) / y_train_std\n",
        "\n",
        "\n",
        "\n",
        "X_train"
      ]
    },
    {
      "cell_type": "markdown",
      "metadata": {
        "id": "a1lA1RESY4DE"
      },
      "source": [
        "\n",
        "### Building Our Model"
      ]
    },
    {
      "cell_type": "markdown",
      "metadata": {
        "id": "lvA7Gsu9j13H"
      },
      "source": [
        "We need to construct the physical structure of our Multi Layer Perceptron (MLP) with it's nodes and layers but first we need to know the number of observations (features) we're feeding into the model to correctly provide the model with the shape of the data it will be receiving.  The code cell below shows us that we have 42054 hourly training timesteps and 7 features (observations) per hour."
      ]
    },
    {
      "cell_type": "code",
      "execution_count": null,
      "metadata": {
        "colab": {
          "base_uri": "https://localhost:8080/"
        },
        "id": "DWUBvS-sazPv",
        "outputId": "f90f4390-9e9d-4f74-d626-808041b2d968"
      },
      "outputs": [
        {
          "name": "stdout",
          "output_type": "stream",
          "text": [
            "(42054, 7)\n"
          ]
        }
      ],
      "source": [
        "print(X_train.shape)"
      ]
    },
    {
      "cell_type": "code",
      "execution_count": null,
      "metadata": {
        "colab": {
          "base_uri": "https://localhost:8080/"
        },
        "id": "2xIHO3jna0kO",
        "outputId": "8ba15865-3f96-4b7f-ad7a-628c4f00034a"
      },
      "outputs": [
        {
          "data": {
            "text/plain": [
              "7"
            ]
          },
          "execution_count": 13,
          "metadata": {},
          "output_type": "execute_result"
        }
      ],
      "source": [
        "n_features = X_train.shape[1]\n",
        "n_features"
      ]
    },
    {
      "cell_type": "markdown",
      "metadata": {
        "id": "LxCTHcuxkOk9"
      },
      "source": [
        "There are many ways to make an MLP in tensorflow.  For simplicities sake we will use tensorflow's 'Sequential Model' in this example, which simply let's us incrementally stack the input, then the neuron layers on top of each other and then reduce it down to a single output. We can now create our model.  Notice how the input shape is the amount of features we're providing it with. \n",
        "\n",
        "We can add many more layers here, but the more layers we add the longer the training will take.  We also have to be mindful of the deeper we make this neural network, the more likely we are to 'overfit' to our data and render the model unable to 'generalise' well.  This code cell is a good point to experiment with adding and removing layers and following the tensorflow tutorial notebooks https://colab.research.google.com/github/tensorflow/docs/blob/snapshot-keras/site/en/guide/keras/sequential_model.ipynb\n",
        "\n"
      ]
    },
    {
      "cell_type": "code",
      "execution_count": null,
      "metadata": {
        "id": "RgHUl40Sa4pH"
      },
      "outputs": [],
      "source": [
        "model = Sequential()\n",
        "model.add(Dense(100, input_shape=(n_features,)))\n",
        "model.add(Dense(10))\n",
        "model.add(Dense(10))\n",
        "model.add(Dense(1))"
      ]
    },
    {
      "cell_type": "markdown",
      "metadata": {
        "id": "WYUWKDRkmEv5"
      },
      "source": [
        "Once we've defined what our model should look like we have to 'compile' it so that the structure is made.  We can then print a summary of information and plot the model's layers.  (The input is ignored as it isn't a layer)."
      ]
    },
    {
      "cell_type": "code",
      "execution_count": null,
      "metadata": {
        "id": "WWAH7PlVa-DZ"
      },
      "outputs": [],
      "source": [
        "model.compile(optimizer='Adam', loss='mean_absolute_error', metrics=[tf.keras.metrics.RootMeanSquaredError()])"
      ]
    },
    {
      "cell_type": "code",
      "execution_count": null,
      "metadata": {
        "colab": {
          "base_uri": "https://localhost:8080/"
        },
        "id": "zcRYoSKXb2PB",
        "outputId": "51bd8dee-0f10-42e1-bbbe-f33470adc00a"
      },
      "outputs": [
        {
          "name": "stdout",
          "output_type": "stream",
          "text": [
            "Model: \"sequential\"\n",
            "_________________________________________________________________\n",
            " Layer (type)                Output Shape              Param #   \n",
            "=================================================================\n",
            " dense (Dense)               (None, 100)               800       \n",
            "                                                                 \n",
            " dense_1 (Dense)             (None, 10)                1010      \n",
            "                                                                 \n",
            " dense_2 (Dense)             (None, 10)                110       \n",
            "                                                                 \n",
            " dense_3 (Dense)             (None, 1)                 11        \n",
            "                                                                 \n",
            "=================================================================\n",
            "Total params: 1,931\n",
            "Trainable params: 1,931\n",
            "Non-trainable params: 0\n",
            "_________________________________________________________________\n"
          ]
        }
      ],
      "source": [
        "model.summary()"
      ]
    },
    {
      "cell_type": "code",
      "execution_count": null,
      "metadata": {
        "colab": {
          "base_uri": "https://localhost:8080/",
          "height": 533
        },
        "id": "2hyoTLF9b3QP",
        "outputId": "542c734d-0fbe-4be1-a441-4545358eba2f"
      },
      "outputs": [
        {
          "data": {
            "image/png": "[encoded data removed]",
            "text/plain": [
              "<IPython.core.display.Image object>"
            ]
          },
          "execution_count": 17,
          "metadata": {},
          "output_type": "execute_result"
        }
      ],
      "source": [
        "plot_model(model, show_shapes=True)"
      ]
    },
    {
      "cell_type": "markdown",
      "metadata": {
        "id": "WG7NX1DWmIEY"
      },
      "source": [
        "Here's an optional early callback, this has been added as a way to stop the model early if changes less than 0.00001 are detected across 5 epochs of training"
      ]
    },
    {
      "cell_type": "code",
      "execution_count": null,
      "metadata": {
        "id": "64GBhKcib5Ik"
      },
      "outputs": [],
      "source": [
        "early_stop_callback = tf.keras.callbacks.EarlyStopping(\n",
        "    monitor='loss',\n",
        "    min_delta=0.00001,\n",
        "    patience=5,\n",
        "    verbose=1,\n",
        "    mode='min',\n",
        "    baseline=None,\n",
        "    restore_best_weights=False\n",
        ")"
      ]
    },
    {
      "cell_type": "markdown",
      "metadata": {
        "id": "wd-eJUOTmTxA"
      },
      "source": [
        "Let's fit the model and print the loss and accuracy"
      ]
    },
    {
      "cell_type": "code",
      "execution_count": null,
      "metadata": {
        "colab": {
          "base_uri": "https://localhost:8080/"
        },
        "id": "xw2iLQNAb6rP",
        "outputId": "7cf0fc0b-50f4-4d8a-e41f-e564f99c63e6"
      },
      "outputs": [
        {
          "name": "stdout",
          "output_type": "stream",
          "text": [
            "Epoch 1/100\n",
            "1315/1315 [==============================] - 6s 3ms/step - loss: 0.4107 - root_mean_squared_error: 0.5243\n",
            "Epoch 2/100\n",
            "1315/1315 [==============================] - 3s 3ms/step - loss: 0.4047 - root_mean_squared_error: 0.5158\n",
            "Epoch 3/100\n",
            "1315/1315 [==============================] - 3s 3ms/step - loss: 0.4040 - root_mean_squared_error: 0.5149\n",
            "Epoch 4/100\n",
            "1315/1315 [==============================] - 3s 3ms/step - loss: 0.4033 - root_mean_squared_error: 0.5141\n",
            "Epoch 5/100\n",
            "1315/1315 [==============================] - 3s 3ms/step - loss: 0.4029 - root_mean_squared_error: 0.5138\n",
            "Epoch 6/100\n",
            "1315/1315 [==============================] - 3s 3ms/step - loss: 0.4026 - root_mean_squared_error: 0.5133\n",
            "Epoch 7/100\n",
            "1315/1315 [==============================] - 3s 3ms/step - loss: 0.4029 - root_mean_squared_error: 0.5138\n",
            "Epoch 8/100\n",
            "1315/1315 [==============================] - 3s 3ms/step - loss: 0.4020 - root_mean_squared_error: 0.5129\n",
            "Epoch 9/100\n",
            "1315/1315 [==============================] - 3s 3ms/step - loss: 0.4024 - root_mean_squared_error: 0.5136\n",
            "Epoch 10/100\n",
            "1315/1315 [==============================] - 3s 3ms/step - loss: 0.4021 - root_mean_squared_error: 0.5128\n",
            "Epoch 11/100\n",
            "1315/1315 [==============================] - 3s 3ms/step - loss: 0.4020 - root_mean_squared_error: 0.5124\n",
            "Epoch 12/100\n",
            "1315/1315 [==============================] - 3s 3ms/step - loss: 0.4019 - root_mean_squared_error: 0.5123\n",
            "Epoch 13/100\n",
            "1315/1315 [==============================] - 3s 3ms/step - loss: 0.4017 - root_mean_squared_error: 0.5119\n",
            "Epoch 14/100\n",
            "1315/1315 [==============================] - 3s 3ms/step - loss: 0.4015 - root_mean_squared_error: 0.5121\n",
            "Epoch 15/100\n",
            "1315/1315 [==============================] - 3s 3ms/step - loss: 0.4016 - root_mean_squared_error: 0.5121\n",
            "Epoch 16/100\n",
            "1315/1315 [==============================] - 3s 3ms/step - loss: 0.4016 - root_mean_squared_error: 0.5120\n",
            "Epoch 17/100\n",
            "1315/1315 [==============================] - 3s 3ms/step - loss: 0.4015 - root_mean_squared_error: 0.5117\n",
            "Epoch 18/100\n",
            "1315/1315 [==============================] - 3s 3ms/step - loss: 0.4014 - root_mean_squared_error: 0.5118\n",
            "Epoch 19/100\n",
            "1315/1315 [==============================] - 3s 3ms/step - loss: 0.4013 - root_mean_squared_error: 0.5115\n",
            "Epoch 20/100\n",
            "1315/1315 [==============================] - 3s 3ms/step - loss: 0.4014 - root_mean_squared_error: 0.5116\n",
            "Epoch 21/100\n",
            "1315/1315 [==============================] - 3s 2ms/step - loss: 0.4010 - root_mean_squared_error: 0.5113\n",
            "Epoch 22/100\n",
            "1315/1315 [==============================] - 3s 2ms/step - loss: 0.4010 - root_mean_squared_error: 0.5114\n",
            "Epoch 23/100\n",
            "1315/1315 [==============================] - 3s 3ms/step - loss: 0.4013 - root_mean_squared_error: 0.5116\n",
            "Epoch 24/100\n",
            "1315/1315 [==============================] - 3s 2ms/step - loss: 0.4012 - root_mean_squared_error: 0.5115\n",
            "Epoch 25/100\n",
            "1315/1315 [==============================] - 3s 3ms/step - loss: 0.4013 - root_mean_squared_error: 0.5115\n",
            "Epoch 26/100\n",
            "1315/1315 [==============================] - 3s 3ms/step - loss: 0.4010 - root_mean_squared_error: 0.5112\n",
            "Epoch 26: early stopping\n"
          ]
        }
      ],
      "source": [
        "history = model.fit(X_train, y_train, epochs=100, callbacks=[early_stop_callback])\n"
      ]
    },
    {
      "cell_type": "markdown",
      "metadata": {
        "id": "GfE6yZ7tmZpa"
      },
      "source": [
        "Now let's plot the loss curve to see how the model performed in training over time"
      ]
    },
    {
      "cell_type": "code",
      "execution_count": null,
      "metadata": {
        "colab": {
          "base_uri": "https://localhost:8080/",
          "height": 279
        },
        "id": "ZvfY7X7Mb8MX",
        "outputId": "998d636e-6ae8-4594-f356-2702c531298f"
      },
      "outputs": [
        {
          "data": {
            "image/png": "[encoded data removed]",
            "text/plain": [
              "<Figure size 432x288 with 1 Axes>"
            ]
          },
          "metadata": {
            "needs_background": "light"
          },
          "output_type": "display_data"
        }
      ],
      "source": [
        "# Plot history (also known as a loss curve)\n",
        "pd.DataFrame(history.history).plot()\n",
        "plt.ylabel(\"loss\")\n",
        "plt.xlabel(\"epochs\");"
      ]
    },
    {
      "cell_type": "markdown",
      "metadata": {
        "id": "Yw24-xjWTMBZ"
      },
      "source": [
        "Now let present the model with our validation set - here we could start some hyperparameter tuning, perhaps how many epochs we think we should train it for, or maybe, when we are compiling our model's layers it would give us the optimum number of \"neurons\" to give our first dense layer (or the learning rate for the Adam optimiser).  For time and simplicities sake we won't cover these options here, and we are simply using our validation set as a means of evaluating how well the model is doing on the new data."
      ]
    },
    {
      "cell_type": "code",
      "execution_count": null,
      "metadata": {
        "colab": {
          "base_uri": "https://localhost:8080/"
        },
        "id": "MdwmZNBySmmS",
        "outputId": "35333481-84c1-4429-de08-686d81ea99fe"
      },
      "outputs": [
        {
          "name": "stdout",
          "output_type": "stream",
          "text": [
            "439/439 [==============================] - 1s 2ms/step - loss: 0.3803 - root_mean_squared_error: 0.4788\n",
            "Validation accuracy: 0.479\n"
          ]
        }
      ],
      "source": [
        "loss, acc = model.evaluate(X_val, y_val)\n",
        "print(\"Validation accuracy: %.3f\" % acc)"
      ]
    },
    {
      "cell_type": "markdown",
      "metadata": {
        "id": "I8ViioDFVsWW"
      },
      "source": [
        "Finally we shall use the held out test data to get the trained model to provide some predictions and see how this compares with our \"truth\"."
      ]
    },
    {
      "cell_type": "code",
      "execution_count": null,
      "metadata": {
        "id": "WhI_XyFyb-3c"
      },
      "outputs": [],
      "source": [
        "# Make and plot predictions for model_1\n",
        "y_preds = model.predict(X_test)\n"
      ]
    },
    {
      "cell_type": "code",
      "execution_count": null,
      "metadata": {
        "colab": {
          "base_uri": "https://localhost:8080/"
        },
        "id": "ljqYxB4hcAGY",
        "outputId": "53e47bbf-57e8-43c6-a386-d422ad43c4ab"
      },
      "outputs": [
        {
          "data": {
            "text/plain": [
              "array([[0.7592318 ],\n",
              "       [0.7184806 ],\n",
              "       [0.6506947 ],\n",
              "       [0.59843457],\n",
              "       [0.50873625]], dtype=float32)"
            ]
          },
          "execution_count": 23,
          "metadata": {},
          "output_type": "execute_result"
        }
      ],
      "source": [
        "y_preds[0:5]"
      ]
    },
    {
      "cell_type": "markdown",
      "metadata": {
        "id": "sIRKq9rWLeY2"
      },
      "source": [
        "Lets reverse our \"standardisation\" so we can see the actual temperature values it is predicting"
      ]
    },
    {
      "cell_type": "code",
      "execution_count": null,
      "metadata": {
        "colab": {
          "base_uri": "https://localhost:8080/"
        },
        "id": "X9Gjbq2joYne",
        "outputId": "3077ea34-a4da-45c5-82d9-d8490762bcfb"
      },
      "outputs": [
        {
          "data": {
            "text/plain": [
              "array([[15.710136 ],\n",
              "       [15.350065 ],\n",
              "       [14.751121 ],\n",
              "       [14.289358 ],\n",
              "       [13.4967985]], dtype=float32)"
            ]
          },
          "execution_count": 24,
          "metadata": {},
          "output_type": "execute_result"
        }
      ],
      "source": [
        "y_preds_unstandardised = y_preds*y_train_std+y_train_mean\n",
        "y_preds_unstandardised[0:5]\n"
      ]
    },
    {
      "cell_type": "code",
      "execution_count": null,
      "metadata": {
        "colab": {
          "base_uri": "https://localhost:8080/"
        },
        "id": "GIvMfe3ffreN",
        "outputId": "8dc1de55-cfa6-44f6-915e-6a70a8fe3a35"
      },
      "outputs": [
        {
          "data": {
            "text/plain": [
              "336437    1.010466\n",
              "336443    0.896159\n",
              "336449    0.771666\n",
              "336455    0.681125\n",
              "336461    0.581531\n",
              "Name: T (degC), dtype: float64"
            ]
          },
          "execution_count": 25,
          "metadata": {},
          "output_type": "execute_result"
        }
      ],
      "source": [
        "y_test[0:5]"
      ]
    },
    {
      "cell_type": "markdown",
      "metadata": {
        "id": "NHYMrswFL6QO"
      },
      "source": [
        "And do the same for our \"truth\""
      ]
    },
    {
      "cell_type": "code",
      "execution_count": null,
      "metadata": {
        "colab": {
          "base_uri": "https://localhost:8080/"
        },
        "id": "qyUBVKPupFD_",
        "outputId": "163c0e05-203d-49f2-a852-e7ec2267330b"
      },
      "outputs": [
        {
          "data": {
            "text/plain": [
              "336437    17.93\n",
              "336443    16.92\n",
              "336449    15.82\n",
              "336455    15.02\n",
              "336461    14.14\n",
              "Name: T (degC), dtype: float64"
            ]
          },
          "execution_count": 26,
          "metadata": {},
          "output_type": "execute_result"
        }
      ],
      "source": [
        "y_test_unstandardised = y_test*y_train_std+y_train_mean\n",
        "y_test_unstandardised[0:5]"
      ]
    },
    {
      "cell_type": "code",
      "execution_count": null,
      "metadata": {
        "id": "DIy0QIXNz8oM"
      },
      "outputs": [],
      "source": [
        "def numfmt(x, pos): # your custom formatter function: divide by 100.0\n",
        "    s = '{:.2f}'.format(x / 24.0)\n",
        "    return s\n",
        "\n",
        "import matplotlib.ticker as tkr\n",
        "xfmt = tkr.FuncFormatter(numfmt)"
      ]
    },
    {
      "cell_type": "markdown",
      "metadata": {
        "id": "3WqKUs3qMCff"
      },
      "source": [
        "Finally lets create a plot so we can can visually compare what our predicitions and actual values look like"
      ]
    },
    {
      "cell_type": "code",
      "execution_count": null,
      "metadata": {
        "colab": {
          "base_uri": "https://localhost:8080/",
          "height": 639
        },
        "id": "bS8_rbY24MK4",
        "outputId": "49ba6dc6-04a2-4bf6-eeb1-e1684365992d"
      },
      "outputs": [
        {
          "data": {
            "text/plain": [
              "Text(0.5, 1.0, 'Change in temperature')"
            ]
          },
          "execution_count": 28,
          "metadata": {},
          "output_type": "execute_result"
        },
        {
          "data": {
            "image/png": "[encoded data removed]",
            "text/plain": [
              "<Figure size 1440x720 with 2 Axes>"
            ]
          },
          "metadata": {
            "needs_background": "light"
          },
          "output_type": "display_data"
        }
      ],
      "source": [
        "# plt.plot(y_preds)\n",
        "# plt.plot(y_test)\n",
        "plt.rcParams[\"figure.figsize\"] = (20,10)\n",
        "#create two subplots\n",
        "f, (ax1, ax2) = plt.subplots(2)\n",
        "f.gca().xaxis.set_major_formatter(xfmt)\n",
        "ax1.plot(y_test_unstandardised,\"r-\",label=\"truth\")\n",
        "ax1.legend(loc=\"upper left\")\n",
        "ax1.set_xticks([])\n",
        "ax1.set_xticklabels([])\n",
        "ax2.plot(y_preds_unstandardised, label=\"predictions\")\n",
        "ax2.legend(loc=\"upper left\")\n",
        "\n",
        "plt.xlabel('Time (days)')\n",
        "plt.ylabel('Temp Deg(C)')\n",
        "ax1.set_title('Change in temperature')\n",
        "\n"
      ]
    },
    {
      "cell_type": "markdown",
      "metadata": {
        "id": "OwNkTLdspGYp"
      },
      "source": [
        "## Next steps \n",
        "\n",
        "The next notebook we have for you to try uses a different type of dataset - The Bristol Air Quality Dataset but the same type of MLP.  You may start to discover some of the extra options that are available to you with the tensorflow layers by using the reference below (and others).\n",
        "\n",
        "\n",
        "## References\n",
        "\n",
        "https://www.tensorflow.org/tutorials/structured_data/time_series\n",
        "\n",
        "\n",
        "## Disclaimer\n",
        "\n",
        "This Google CoLab Jupyter is a scientific product and is not official communication of the Met OFFICE. All Met Office Google CoLab Jupyter notebooks are provided on an 'as is' basis and the user assumes responsibility for its use. "
      ]
    },
    {
      "cell_type": "markdown",
      "metadata": {},
      "source": []
    }
  ],
  "metadata": {
    "accelerator": "GPU",
    "colab": {
      "machine_shape": "hm",
      "provenance": []
    },
    "kernelspec": {
      "display_name": "Python 3",
      "name": "python3"
    },
    "language_info": {
      "name": "python"
    }
  },
  "nbformat": 4,
  "nbformat_minor": 0
}
