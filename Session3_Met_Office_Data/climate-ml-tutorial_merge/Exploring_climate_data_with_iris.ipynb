{
 "cells": [
  {
   "cell_type": "markdown",
   "id": "6cc463d0",
   "metadata": {},
   "source": [
    "# Exploring climate data \n",
    "\n",
    "## Retriving data with CEDA:\n",
    "\n",
    "* Ceda stuff here\n",
    "\n",
    "## Overview\n",
    "\n",
    "\n",
    "* Using [Iris](https://scitools-iris.readthedocs.io/en/stable/) to explore UKCP data \n",
    "\n",
    "\n",
    "## Prerequisites \n",
    "To successfully navigate this notebook, you should be accustom with:\n",
    "* Basics of python programming:\n",
    "    * loading modules \n",
    "    * variable assignment \n",
    "    * basic plotting packages (`Matplotlib.pyplot`)\n",
    "* Have a basic understanding of weather and climate, for example:\n",
    "    * Latitude is North-South\n",
    "    * Longitude is East-West\n",
    "* Not a full requirement but you may find this notebook useful after or alongside \"Exploring_gridded_data_with_iris.ipynb\"\n",
    "\n",
    "## Learning outcomes\n",
    "\n",
    "* Calulate useful statistics from Climate data\n",
    "* Make simple summary plots for example:\n",
    "    * Time series \n",
    "    * BoxPlots \n",
    "    \n",
    "## BackGround \n",
    "\n",
    "* UKCP ([UK Climate Projections](https://www.metoffice.gov.uk/research/approach/collaboration/ukcp/about)) provides probabilistic projections over land and a set of high-resolution spatially-coherent future climate projections for the globe at 60km scale, also over the UK at:\n",
    "    * 12km scale \n",
    "    * 2.2km scale - a level previously only used for short-term weather forecasts\n",
    "    \n",
    "* [Iris](https://scitools-iris.readthedocs.io/en/stable/) is a Python module, produced by the Met Office to allow easy access to Geospatial Data \n",
    "* Iris functions well with well known modules like `Matplotlib` and `Numpy`\n",
    "* Iris stores data in Cubes- representing the dimensions of the earth:\n",
    "    * Latitude\n",
    "    * Longitude\n",
    "    * Time\n",
    "* These cubes can be analysed in different dimensions to extract relevant information\n",
    "\n",
    "\n",
    "First lets import the modules we will be using\n",
    "\n"
   ]
  },
  {
   "cell_type": "code",
   "execution_count": 1,
   "id": "91a0fce0",
   "metadata": {},
   "outputs": [
    {
     "name": "stderr",
     "output_type": "stream",
     "text": [
      "/home/h06/ncreaser/.conda/envs/climate_ml_tutorial/lib/python3.10/site-packages/pyproj/__init__.py:89: UserWarning: pyproj unable to set database path.\n",
      "  _pyproj_global_context_initialize()\n"
     ]
    }
   ],
   "source": [
    "import iris\n",
    "import numpy as np\n",
    "import pandas as pd\n",
    "import iris.quickplot as qplt\n",
    "import iris.plot as iplt\n",
    "import matplotlib.pyplot as plt"
   ]
  },
  {
   "cell_type": "markdown",
   "id": "6a890d75",
   "metadata": {},
   "source": [
    "Now lets define our filename and load he data into an iris cube using `iris.load_cube()`\n",
    "\n",
    "* `iris.load_cube` works when you are only expecting one cube from a file, so loads directly to a cube instead of a cube list"
   ]
  },
  {
   "cell_type": "code",
   "execution_count": 2,
   "id": "683a909f",
   "metadata": {},
   "outputs": [],
   "source": [
    "filename = '/data/users/ncreaser/CEDA/tas_rcp85_land-cpm_uk_2.2km_01_day_19811201-19821130.nc'"
   ]
  },
  {
   "cell_type": "code",
   "execution_count": 3,
   "id": "9855bec8",
   "metadata": {},
   "outputs": [],
   "source": [
    "cube = iris.load_cube(filename)"
   ]
  },
  {
   "cell_type": "markdown",
   "id": "3e1e97de",
   "metadata": {},
   "source": [
    "Print our cube and read our metadata"
   ]
  },
  {
   "cell_type": "code",
   "execution_count": 4,
   "id": "6da8d0bd",
   "metadata": {
    "scrolled": true
   },
   "outputs": [
    {
     "data": {
      "text/html": [
       "\n",
       "<style>\n",
       "  a.iris {\n",
       "      text-decoration: none !important;\n",
       "  }\n",
       "  table.iris {\n",
       "      white-space: pre;\n",
       "      border: 1px solid;\n",
       "      border-color: #9c9c9c;\n",
       "      font-family: monaco, monospace;\n",
       "  }\n",
       "  th.iris {\n",
       "      background: #303f3f;\n",
       "      color: #e0e0e0;\n",
       "      border-left: 1px solid;\n",
       "      border-color: #9c9c9c;\n",
       "      font-size: 1.05em;\n",
       "      min-width: 50px;\n",
       "      max-width: 125px;\n",
       "  }\n",
       "  tr.iris :first-child {\n",
       "      border-right: 1px solid #9c9c9c !important;\n",
       "  }\n",
       "  td.iris-title {\n",
       "      background: #d5dcdf;\n",
       "      border-top: 1px solid #9c9c9c;\n",
       "      font-weight: bold;\n",
       "  }\n",
       "  .iris-word-cell {\n",
       "      text-align: left !important;\n",
       "      white-space: pre;\n",
       "  }\n",
       "  .iris-subheading-cell {\n",
       "      padding-left: 2em !important;\n",
       "  }\n",
       "  .iris-inclusion-cell {\n",
       "      padding-right: 1em !important;\n",
       "  }\n",
       "  .iris-panel-body {\n",
       "      padding-top: 0px;\n",
       "  }\n",
       "  .iris-panel-title {\n",
       "      padding-left: 3em;\n",
       "  }\n",
       "  .iris-panel-title {\n",
       "      margin-top: 7px;\n",
       "  }\n",
       "</style>\n",
       "<table class=\"iris\" id=\"140434538344416\">\n",
       "    <tr class=\"iris\">\n",
       "<th class=\"iris iris-word-cell\">Air Temperature (degC)</th>\n",
       "<th class=\"iris iris-word-cell\">ensemble_member</th>\n",
       "<th class=\"iris iris-word-cell\">time</th>\n",
       "<th class=\"iris iris-word-cell\">grid_latitude</th>\n",
       "<th class=\"iris iris-word-cell\">grid_longitude</th>\n",
       "</tr>\n",
       "    <tr class=\"iris\">\n",
       "<td class=\"iris-word-cell iris-subheading-cell\">Shape</td>\n",
       "<td class=\"iris iris-inclusion-cell\">1</td>\n",
       "<td class=\"iris iris-inclusion-cell\">360</td>\n",
       "<td class=\"iris iris-inclusion-cell\">606</td>\n",
       "<td class=\"iris iris-inclusion-cell\">484</td>\n",
       "</tr>\n",
       "    <tr class=\"iris\">\n",
       "    <td class=\"iris-title iris-word-cell\">Dimension coordinates</td>\n",
       "    <td class=\"iris-title\"></td>\n",
       "    <td class=\"iris-title\"></td>\n",
       "    <td class=\"iris-title\"></td>\n",
       "    <td class=\"iris-title\"></td>\n",
       "</tr>\n",
       "<tr class=\"iris\">\n",
       "    <td class=\"iris-word-cell iris-subheading-cell\">\tensemble_member</td>\n",
       "    <td class=\"iris-inclusion-cell\">x</td>\n",
       "    <td class=\"iris-inclusion-cell\">-</td>\n",
       "    <td class=\"iris-inclusion-cell\">-</td>\n",
       "    <td class=\"iris-inclusion-cell\">-</td>\n",
       "</tr>\n",
       "<tr class=\"iris\">\n",
       "    <td class=\"iris-word-cell iris-subheading-cell\">\ttime</td>\n",
       "    <td class=\"iris-inclusion-cell\">-</td>\n",
       "    <td class=\"iris-inclusion-cell\">x</td>\n",
       "    <td class=\"iris-inclusion-cell\">-</td>\n",
       "    <td class=\"iris-inclusion-cell\">-</td>\n",
       "</tr>\n",
       "<tr class=\"iris\">\n",
       "    <td class=\"iris-word-cell iris-subheading-cell\">\tgrid_latitude</td>\n",
       "    <td class=\"iris-inclusion-cell\">-</td>\n",
       "    <td class=\"iris-inclusion-cell\">-</td>\n",
       "    <td class=\"iris-inclusion-cell\">x</td>\n",
       "    <td class=\"iris-inclusion-cell\">-</td>\n",
       "</tr>\n",
       "<tr class=\"iris\">\n",
       "    <td class=\"iris-word-cell iris-subheading-cell\">\tgrid_longitude</td>\n",
       "    <td class=\"iris-inclusion-cell\">-</td>\n",
       "    <td class=\"iris-inclusion-cell\">-</td>\n",
       "    <td class=\"iris-inclusion-cell\">-</td>\n",
       "    <td class=\"iris-inclusion-cell\">x</td>\n",
       "</tr>\n",
       "<tr class=\"iris\">\n",
       "    <td class=\"iris-title iris-word-cell\">Auxiliary coordinates</td>\n",
       "    <td class=\"iris-title\"></td>\n",
       "    <td class=\"iris-title\"></td>\n",
       "    <td class=\"iris-title\"></td>\n",
       "    <td class=\"iris-title\"></td>\n",
       "</tr>\n",
       "<tr class=\"iris\">\n",
       "    <td class=\"iris-word-cell iris-subheading-cell\">\tensemble_member_id</td>\n",
       "    <td class=\"iris-inclusion-cell\">x</td>\n",
       "    <td class=\"iris-inclusion-cell\">-</td>\n",
       "    <td class=\"iris-inclusion-cell\">-</td>\n",
       "    <td class=\"iris-inclusion-cell\">-</td>\n",
       "</tr>\n",
       "<tr class=\"iris\">\n",
       "    <td class=\"iris-word-cell iris-subheading-cell\">\tmonth_number</td>\n",
       "    <td class=\"iris-inclusion-cell\">-</td>\n",
       "    <td class=\"iris-inclusion-cell\">x</td>\n",
       "    <td class=\"iris-inclusion-cell\">-</td>\n",
       "    <td class=\"iris-inclusion-cell\">-</td>\n",
       "</tr>\n",
       "<tr class=\"iris\">\n",
       "    <td class=\"iris-word-cell iris-subheading-cell\">\tyear</td>\n",
       "    <td class=\"iris-inclusion-cell\">-</td>\n",
       "    <td class=\"iris-inclusion-cell\">x</td>\n",
       "    <td class=\"iris-inclusion-cell\">-</td>\n",
       "    <td class=\"iris-inclusion-cell\">-</td>\n",
       "</tr>\n",
       "<tr class=\"iris\">\n",
       "    <td class=\"iris-word-cell iris-subheading-cell\">\tyyyymmdd</td>\n",
       "    <td class=\"iris-inclusion-cell\">-</td>\n",
       "    <td class=\"iris-inclusion-cell\">x</td>\n",
       "    <td class=\"iris-inclusion-cell\">-</td>\n",
       "    <td class=\"iris-inclusion-cell\">-</td>\n",
       "</tr>\n",
       "<tr class=\"iris\">\n",
       "    <td class=\"iris-word-cell iris-subheading-cell\">\tlatitude</td>\n",
       "    <td class=\"iris-inclusion-cell\">-</td>\n",
       "    <td class=\"iris-inclusion-cell\">-</td>\n",
       "    <td class=\"iris-inclusion-cell\">x</td>\n",
       "    <td class=\"iris-inclusion-cell\">x</td>\n",
       "</tr>\n",
       "<tr class=\"iris\">\n",
       "    <td class=\"iris-word-cell iris-subheading-cell\">\tlongitude</td>\n",
       "    <td class=\"iris-inclusion-cell\">-</td>\n",
       "    <td class=\"iris-inclusion-cell\">-</td>\n",
       "    <td class=\"iris-inclusion-cell\">x</td>\n",
       "    <td class=\"iris-inclusion-cell\">x</td>\n",
       "</tr>\n",
       "<tr class=\"iris\">\n",
       "    <td class=\"iris-title iris-word-cell\">Cell methods</td>\n",
       "    <td class=\"iris-title\"></td>\n",
       "    <td class=\"iris-title\"></td>\n",
       "    <td class=\"iris-title\"></td>\n",
       "    <td class=\"iris-title\"></td>\n",
       "</tr>\n",
       "<tr class=\"iris\">\n",
       "    <td class=\"iris-word-cell iris-subheading-cell\">\tmean                        time</td>\n",
       "    <td class=\"iris-word-cell\" colspan=\"4\"></td>\n",
       "</tr>\n",
       "<tr class=\"iris\">\n",
       "    <td class=\"iris-title iris-word-cell\">Attributes</td>\n",
       "    <td class=\"iris-title\"></td>\n",
       "    <td class=\"iris-title\"></td>\n",
       "    <td class=\"iris-title\"></td>\n",
       "    <td class=\"iris-title\"><br>Conventions                 CF-1.7<br>collection                  land-cpm<br>contact                     ukcpproject@metoffice.gov.uk</td>\n",
       "</tr>\n",
       "<tr class=\"iris\">\n",
       "    <td class=\"iris-word-cell iris-subheading-cell\">\tcreation_date               2021-05-11T14</td>\n",
       "    <td class=\"iris-word-cell\" colspan=\"4\">6:38<br>description                 Mean air temperature<br>domain                      uk<br>frequency                   day<br>institution                 Met Office Hadley Centre (MOHC), FitzRoy Road, Exeter, Devon, EX1 3PB,...<br>institution_id              MOHC<br>label_units                 °C<br>plot_label                  Mean air temperature at 1.5m (°C)<br>project                     UKCP18</td>\n",
       "</tr>\n",
       "<tr class=\"iris\">\n",
       "    <td class=\"iris-word-cell iris-subheading-cell\">\treferences                  https</td>\n",
       "    <td class=\"iris-word-cell\" colspan=\"4\">/ukclimateprojections.metoffice.gov.uk<br>resolution                  2.2km<br>scenario                    rcp85<br>source                      UKCP18 realisation from a set of 12 convection-permitting models (HadREM3-RA11M)...<br>title                       UKCP18 land projections - 2.2km convection-permitting climate model, Mean...<br>version                     v20210615</td>\n",
       "</tr>\n",
       "</table>\n",
       "        "
      ],
      "text/plain": [
       "<iris 'Cube' of air_temperature / (degC) (ensemble_member: 1; time: 360; grid_latitude: 606; grid_longitude: 484)>"
      ]
     },
     "execution_count": 4,
     "metadata": {},
     "output_type": "execute_result"
    }
   ],
   "source": [
    "cube"
   ]
  },
  {
   "cell_type": "markdown",
   "id": "91299e40",
   "metadata": {},
   "source": [
    "#### Looking at the printout of our cube:\n",
    "\n",
    "* ensemble member 1 \n",
    "* 360 timestamps\n",
    "* latitude and longitudes\n",
    "\n",
    "#### Lets plot a map\n",
    "\n",
    "* Lets quickly plot a map of our data\n",
    "* Since we have an ensemble member in our data, we need to index this and time"
   ]
  },
  {
   "cell_type": "code",
   "execution_count": 5,
   "id": "b2d9d1b2",
   "metadata": {},
   "outputs": [
    {
     "data": {
      "text/plain": [
       "<cartopy.mpl.geocollection.GeoQuadMesh at 0x7fb975993550>"
      ]
     },
     "execution_count": 5,
     "metadata": {},
     "output_type": "execute_result"
    },
    {
     "data": {
      "image/png": "[encoded data removed]",
      "text/plain": [
       "<Figure size 432x288 with 2 Axes>"
      ]
     },
     "metadata": {
      "needs_background": "light"
     },
     "output_type": "display_data"
    }
   ],
   "source": [
    "qplt.pcolormesh(cube[0,0,:,:])"
   ]
  },
  {
   "cell_type": "markdown",
   "id": "fc7b84bc",
   "metadata": {},
   "source": [
    "#### Have a look at the time cooridnate"
   ]
  },
  {
   "cell_type": "code",
   "execution_count": 6,
   "id": "97209bcd",
   "metadata": {},
   "outputs": [
    {
     "name": "stdout",
     "output_type": "stream",
     "text": [
      "Cell(point=cftime.Datetime360Day(1981, 12, 1, 12, 0, 0, 0, has_year_zero=True), bound=(cftime.Datetime360Day(1981, 12, 1, 0, 0, 0, 0, has_year_zero=True), cftime.Datetime360Day(1981, 12, 2, 0, 0, 0, 0, has_year_zero=True)))\n",
      "Cell(point=cftime.Datetime360Day(1982, 11, 30, 12, 0, 0, 0, has_year_zero=True), bound=(cftime.Datetime360Day(1982, 11, 30, 0, 0, 0, 0, has_year_zero=True), cftime.Datetime360Day(1982, 12, 1, 0, 0, 0, 0, has_year_zero=True)))\n"
     ]
    }
   ],
   "source": [
    "print(cube.coord('time').cell(0))\n",
    "print(cube.coord('time').cell(-1))"
   ]
  },
  {
   "cell_type": "markdown",
   "id": "d2732590",
   "metadata": {},
   "source": [
    "### Plotting the mean and standard deviation over time\n",
    "\n",
    "* collapsed can be used to collapse a cube over certain coordinates\n",
    "* collapsing latitude and longitude by taking the mean of their value gives us a time series of means"
   ]
  },
  {
   "cell_type": "code",
   "execution_count": 7,
   "id": "616fb180",
   "metadata": {
    "scrolled": true
   },
   "outputs": [
    {
     "name": "stderr",
     "output_type": "stream",
     "text": [
      "/home/h06/ncreaser/.conda/envs/climate_ml_tutorial/lib/python3.10/site-packages/iris/cube.py:3523: UserWarning: Collapsing spatial coordinate 'grid_latitude' without weighting\n",
      "  warnings.warn(msg.format(coord.name()))\n",
      "/home/h06/ncreaser/.conda/envs/climate_ml_tutorial/lib/python3.10/site-packages/iris/coords.py:1976: UserWarning: Collapsing a multi-dimensional coordinate. Metadata may not be fully descriptive for 'latitude'.\n",
      "  warnings.warn(msg.format(self.name()))\n",
      "/home/h06/ncreaser/.conda/envs/climate_ml_tutorial/lib/python3.10/site-packages/iris/coords.py:1976: UserWarning: Collapsing a multi-dimensional coordinate. Metadata may not be fully descriptive for 'longitude'.\n",
      "  warnings.warn(msg.format(self.name()))\n",
      "/home/h06/ncreaser/.conda/envs/climate_ml_tutorial/lib/python3.10/site-packages/iris/coords.py:1976: UserWarning: Collapsing a multi-dimensional coordinate. Metadata may not be fully descriptive for 'latitude'.\n",
      "  warnings.warn(msg.format(self.name()))\n",
      "/home/h06/ncreaser/.conda/envs/climate_ml_tutorial/lib/python3.10/site-packages/iris/coords.py:1976: UserWarning: Collapsing a multi-dimensional coordinate. Metadata may not be fully descriptive for 'longitude'.\n",
      "  warnings.warn(msg.format(self.name()))\n"
     ]
    }
   ],
   "source": [
    "mean = cube.collapsed((['grid_latitude', 'grid_longitude']), iris.analysis.MEAN)\n",
    "std = cube.collapsed((['grid_latitude', 'grid_longitude']), iris.analysis.STD_DEV)"
   ]
  },
  {
   "cell_type": "code",
   "execution_count": 8,
   "id": "00158462",
   "metadata": {},
   "outputs": [
    {
     "data": {
      "text/plain": [
       "<matplotlib.legend.Legend at 0x7fb975734ee0>"
      ]
     },
     "execution_count": 8,
     "metadata": {},
     "output_type": "execute_result"
    },
    {
     "data": {
      "image/png": "[encoded data removed]",
      "text/plain": [
       "<Figure size 432x288 with 1 Axes>"
      ]
     },
     "metadata": {
      "needs_background": "light"
     },
     "output_type": "display_data"
    }
   ],
   "source": [
    "iplt.plot(mean[0], label='mean')\n",
    "iplt.plot(std[0],label='standard deviation')\n",
    "plt.legend()"
   ]
  },
  {
   "cell_type": "markdown",
   "id": "f0de70d4",
   "metadata": {},
   "source": [
    "* check what units we are using"
   ]
  },
  {
   "cell_type": "code",
   "execution_count": 9,
   "id": "13588949",
   "metadata": {},
   "outputs": [
    {
     "data": {
      "text/plain": [
       "Unit('degC')"
      ]
     },
     "execution_count": 9,
     "metadata": {},
     "output_type": "execute_result"
    }
   ],
   "source": [
    "cube.metadata.units"
   ]
  },
  {
   "cell_type": "markdown",
   "id": "7f2475d9",
   "metadata": {},
   "source": [
    "### Area weighted collapse \n",
    "\n",
    "since grid_latitude and grid_longitude boxes are not equal in size, we can take a area weighted mean, which takes into account the size of the grid box. Here's how you do it"
   ]
  },
  {
   "cell_type": "code",
   "execution_count": 10,
   "id": "6006e414",
   "metadata": {},
   "outputs": [],
   "source": [
    "import iris.analysis.cartography"
   ]
  },
  {
   "cell_type": "code",
   "execution_count": 11,
   "id": "1c2cfe15",
   "metadata": {},
   "outputs": [
    {
     "ename": "ValueError",
     "evalue": "Calling `_get_lon_lat_coords` with multiple lat or lon coords is currently disallowed",
     "output_type": "error",
     "traceback": [
      "\u001b[0;31m---------------------------------------------------------------------------\u001b[0m",
      "\u001b[0;31mValueError\u001b[0m                                Traceback (most recent call last)",
      "Input \u001b[0;32mIn [11]\u001b[0m, in \u001b[0;36m<module>\u001b[0;34m\u001b[0m\n\u001b[0;32m----> 1\u001b[0m grid_areas \u001b[38;5;241m=\u001b[39m \u001b[43miris\u001b[49m\u001b[38;5;241;43m.\u001b[39;49m\u001b[43manalysis\u001b[49m\u001b[38;5;241;43m.\u001b[39;49m\u001b[43mcartography\u001b[49m\u001b[38;5;241;43m.\u001b[39;49m\u001b[43marea_weights\u001b[49m\u001b[43m(\u001b[49m\u001b[43mcube\u001b[49m\u001b[43m)\u001b[49m\n",
      "File \u001b[0;32m~/.conda/envs/climate_ml_tutorial/lib/python3.10/site-packages/iris/analysis/cartography.py:399\u001b[0m, in \u001b[0;36marea_weights\u001b[0;34m(cube, normalize)\u001b[0m\n\u001b[1;32m    397\u001b[0m \u001b[38;5;66;03m# Get the lon and lat coords and axes\u001b[39;00m\n\u001b[1;32m    398\u001b[0m \u001b[38;5;28;01mtry\u001b[39;00m:\n\u001b[0;32m--> 399\u001b[0m     lon, lat \u001b[38;5;241m=\u001b[39m \u001b[43m_get_lon_lat_coords\u001b[49m\u001b[43m(\u001b[49m\u001b[43mcube\u001b[49m\u001b[43m)\u001b[49m\n\u001b[1;32m    400\u001b[0m \u001b[38;5;28;01mexcept\u001b[39;00m \u001b[38;5;167;01mIndexError\u001b[39;00m:\n\u001b[1;32m    401\u001b[0m     \u001b[38;5;28;01mraise\u001b[39;00m \u001b[38;5;167;01mValueError\u001b[39;00m(\n\u001b[1;32m    402\u001b[0m         \u001b[38;5;124m\"\u001b[39m\u001b[38;5;124mCannot get latitude/longitude \u001b[39m\u001b[38;5;124m\"\u001b[39m\n\u001b[1;32m    403\u001b[0m         \u001b[38;5;124m\"\u001b[39m\u001b[38;5;124mcoordinates from cube \u001b[39m\u001b[38;5;132;01m{!r}\u001b[39;00m\u001b[38;5;124m.\u001b[39m\u001b[38;5;124m\"\u001b[39m\u001b[38;5;241m.\u001b[39mformat(cube\u001b[38;5;241m.\u001b[39mname())\n\u001b[1;32m    404\u001b[0m     )\n",
      "File \u001b[0;32m~/.conda/envs/climate_ml_tutorial/lib/python3.10/site-packages/iris/analysis/cartography.py:179\u001b[0m, in \u001b[0;36m_get_lon_lat_coords\u001b[0;34m(cube)\u001b[0m\n\u001b[1;32m    175\u001b[0m lon_coords \u001b[38;5;241m=\u001b[39m [\n\u001b[1;32m    176\u001b[0m     coord \u001b[38;5;28;01mfor\u001b[39;00m coord \u001b[38;5;129;01min\u001b[39;00m cube\u001b[38;5;241m.\u001b[39mcoords() \u001b[38;5;28;01mif\u001b[39;00m \u001b[38;5;124m\"\u001b[39m\u001b[38;5;124mlongitude\u001b[39m\u001b[38;5;124m\"\u001b[39m \u001b[38;5;129;01min\u001b[39;00m coord\u001b[38;5;241m.\u001b[39mname()\n\u001b[1;32m    177\u001b[0m ]\n\u001b[1;32m    178\u001b[0m \u001b[38;5;28;01mif\u001b[39;00m \u001b[38;5;28mlen\u001b[39m(lat_coords) \u001b[38;5;241m>\u001b[39m \u001b[38;5;241m1\u001b[39m \u001b[38;5;129;01mor\u001b[39;00m \u001b[38;5;28mlen\u001b[39m(lon_coords) \u001b[38;5;241m>\u001b[39m \u001b[38;5;241m1\u001b[39m:\n\u001b[0;32m--> 179\u001b[0m     \u001b[38;5;28;01mraise\u001b[39;00m \u001b[38;5;167;01mValueError\u001b[39;00m(\n\u001b[1;32m    180\u001b[0m         \u001b[38;5;124m\"\u001b[39m\u001b[38;5;124mCalling `_get_lon_lat_coords` with multiple lat or lon coords\u001b[39m\u001b[38;5;124m\"\u001b[39m\n\u001b[1;32m    181\u001b[0m         \u001b[38;5;124m\"\u001b[39m\u001b[38;5;124m is currently disallowed\u001b[39m\u001b[38;5;124m\"\u001b[39m\n\u001b[1;32m    182\u001b[0m     )\n\u001b[1;32m    183\u001b[0m lat_coord \u001b[38;5;241m=\u001b[39m lat_coords[\u001b[38;5;241m0\u001b[39m]\n\u001b[1;32m    184\u001b[0m lon_coord \u001b[38;5;241m=\u001b[39m lon_coords[\u001b[38;5;241m0\u001b[39m]\n",
      "\u001b[0;31mValueError\u001b[0m: Calling `_get_lon_lat_coords` with multiple lat or lon coords is currently disallowed"
     ]
    }
   ],
   "source": [
    "grid_areas = iris.analysis.cartography.area_weights(cube)"
   ]
  },
  {
   "cell_type": "markdown",
   "id": "718c347b",
   "metadata": {},
   "source": [
    "\n",
    "\n",
    "\n",
    "\n"
   ]
  },
  {
   "cell_type": "markdown",
   "id": "1b72724e",
   "metadata": {},
   "source": [
    "* looks like the latitude and longitude scalar coordinates could be stopping this\n",
    "* lets try remove them first"
   ]
  },
  {
   "cell_type": "code",
   "execution_count": 12,
   "id": "10918713",
   "metadata": {},
   "outputs": [],
   "source": [
    "cube.remove_coord('latitude')\n",
    "cube.remove_coord('longitude')"
   ]
  },
  {
   "cell_type": "code",
   "execution_count": 13,
   "id": "eb9112a5",
   "metadata": {},
   "outputs": [
    {
     "data": {
      "text/html": [
       "\n",
       "<style>\n",
       "  a.iris {\n",
       "      text-decoration: none !important;\n",
       "  }\n",
       "  table.iris {\n",
       "      white-space: pre;\n",
       "      border: 1px solid;\n",
       "      border-color: #9c9c9c;\n",
       "      font-family: monaco, monospace;\n",
       "  }\n",
       "  th.iris {\n",
       "      background: #303f3f;\n",
       "      color: #e0e0e0;\n",
       "      border-left: 1px solid;\n",
       "      border-color: #9c9c9c;\n",
       "      font-size: 1.05em;\n",
       "      min-width: 50px;\n",
       "      max-width: 125px;\n",
       "  }\n",
       "  tr.iris :first-child {\n",
       "      border-right: 1px solid #9c9c9c !important;\n",
       "  }\n",
       "  td.iris-title {\n",
       "      background: #d5dcdf;\n",
       "      border-top: 1px solid #9c9c9c;\n",
       "      font-weight: bold;\n",
       "  }\n",
       "  .iris-word-cell {\n",
       "      text-align: left !important;\n",
       "      white-space: pre;\n",
       "  }\n",
       "  .iris-subheading-cell {\n",
       "      padding-left: 2em !important;\n",
       "  }\n",
       "  .iris-inclusion-cell {\n",
       "      padding-right: 1em !important;\n",
       "  }\n",
       "  .iris-panel-body {\n",
       "      padding-top: 0px;\n",
       "  }\n",
       "  .iris-panel-title {\n",
       "      padding-left: 3em;\n",
       "  }\n",
       "  .iris-panel-title {\n",
       "      margin-top: 7px;\n",
       "  }\n",
       "</style>\n",
       "<table class=\"iris\" id=\"140434538344416\">\n",
       "    <tr class=\"iris\">\n",
       "<th class=\"iris iris-word-cell\">Air Temperature (degC)</th>\n",
       "<th class=\"iris iris-word-cell\">ensemble_member</th>\n",
       "<th class=\"iris iris-word-cell\">time</th>\n",
       "<th class=\"iris iris-word-cell\">grid_latitude</th>\n",
       "<th class=\"iris iris-word-cell\">grid_longitude</th>\n",
       "</tr>\n",
       "    <tr class=\"iris\">\n",
       "<td class=\"iris-word-cell iris-subheading-cell\">Shape</td>\n",
       "<td class=\"iris iris-inclusion-cell\">1</td>\n",
       "<td class=\"iris iris-inclusion-cell\">360</td>\n",
       "<td class=\"iris iris-inclusion-cell\">606</td>\n",
       "<td class=\"iris iris-inclusion-cell\">484</td>\n",
       "</tr>\n",
       "    <tr class=\"iris\">\n",
       "    <td class=\"iris-title iris-word-cell\">Dimension coordinates</td>\n",
       "    <td class=\"iris-title\"></td>\n",
       "    <td class=\"iris-title\"></td>\n",
       "    <td class=\"iris-title\"></td>\n",
       "    <td class=\"iris-title\"></td>\n",
       "</tr>\n",
       "<tr class=\"iris\">\n",
       "    <td class=\"iris-word-cell iris-subheading-cell\">\tensemble_member</td>\n",
       "    <td class=\"iris-inclusion-cell\">x</td>\n",
       "    <td class=\"iris-inclusion-cell\">-</td>\n",
       "    <td class=\"iris-inclusion-cell\">-</td>\n",
       "    <td class=\"iris-inclusion-cell\">-</td>\n",
       "</tr>\n",
       "<tr class=\"iris\">\n",
       "    <td class=\"iris-word-cell iris-subheading-cell\">\ttime</td>\n",
       "    <td class=\"iris-inclusion-cell\">-</td>\n",
       "    <td class=\"iris-inclusion-cell\">x</td>\n",
       "    <td class=\"iris-inclusion-cell\">-</td>\n",
       "    <td class=\"iris-inclusion-cell\">-</td>\n",
       "</tr>\n",
       "<tr class=\"iris\">\n",
       "    <td class=\"iris-word-cell iris-subheading-cell\">\tgrid_latitude</td>\n",
       "    <td class=\"iris-inclusion-cell\">-</td>\n",
       "    <td class=\"iris-inclusion-cell\">-</td>\n",
       "    <td class=\"iris-inclusion-cell\">x</td>\n",
       "    <td class=\"iris-inclusion-cell\">-</td>\n",
       "</tr>\n",
       "<tr class=\"iris\">\n",
       "    <td class=\"iris-word-cell iris-subheading-cell\">\tgrid_longitude</td>\n",
       "    <td class=\"iris-inclusion-cell\">-</td>\n",
       "    <td class=\"iris-inclusion-cell\">-</td>\n",
       "    <td class=\"iris-inclusion-cell\">-</td>\n",
       "    <td class=\"iris-inclusion-cell\">x</td>\n",
       "</tr>\n",
       "<tr class=\"iris\">\n",
       "    <td class=\"iris-title iris-word-cell\">Auxiliary coordinates</td>\n",
       "    <td class=\"iris-title\"></td>\n",
       "    <td class=\"iris-title\"></td>\n",
       "    <td class=\"iris-title\"></td>\n",
       "    <td class=\"iris-title\"></td>\n",
       "</tr>\n",
       "<tr class=\"iris\">\n",
       "    <td class=\"iris-word-cell iris-subheading-cell\">\tensemble_member_id</td>\n",
       "    <td class=\"iris-inclusion-cell\">x</td>\n",
       "    <td class=\"iris-inclusion-cell\">-</td>\n",
       "    <td class=\"iris-inclusion-cell\">-</td>\n",
       "    <td class=\"iris-inclusion-cell\">-</td>\n",
       "</tr>\n",
       "<tr class=\"iris\">\n",
       "    <td class=\"iris-word-cell iris-subheading-cell\">\tmonth_number</td>\n",
       "    <td class=\"iris-inclusion-cell\">-</td>\n",
       "    <td class=\"iris-inclusion-cell\">x</td>\n",
       "    <td class=\"iris-inclusion-cell\">-</td>\n",
       "    <td class=\"iris-inclusion-cell\">-</td>\n",
       "</tr>\n",
       "<tr class=\"iris\">\n",
       "    <td class=\"iris-word-cell iris-subheading-cell\">\tyear</td>\n",
       "    <td class=\"iris-inclusion-cell\">-</td>\n",
       "    <td class=\"iris-inclusion-cell\">x</td>\n",
       "    <td class=\"iris-inclusion-cell\">-</td>\n",
       "    <td class=\"iris-inclusion-cell\">-</td>\n",
       "</tr>\n",
       "<tr class=\"iris\">\n",
       "    <td class=\"iris-word-cell iris-subheading-cell\">\tyyyymmdd</td>\n",
       "    <td class=\"iris-inclusion-cell\">-</td>\n",
       "    <td class=\"iris-inclusion-cell\">x</td>\n",
       "    <td class=\"iris-inclusion-cell\">-</td>\n",
       "    <td class=\"iris-inclusion-cell\">-</td>\n",
       "</tr>\n",
       "<tr class=\"iris\">\n",
       "    <td class=\"iris-title iris-word-cell\">Cell methods</td>\n",
       "    <td class=\"iris-title\"></td>\n",
       "    <td class=\"iris-title\"></td>\n",
       "    <td class=\"iris-title\"></td>\n",
       "    <td class=\"iris-title\"></td>\n",
       "</tr>\n",
       "<tr class=\"iris\">\n",
       "    <td class=\"iris-word-cell iris-subheading-cell\">\tmean                        time</td>\n",
       "    <td class=\"iris-word-cell\" colspan=\"4\"></td>\n",
       "</tr>\n",
       "<tr class=\"iris\">\n",
       "    <td class=\"iris-title iris-word-cell\">Attributes</td>\n",
       "    <td class=\"iris-title\"></td>\n",
       "    <td class=\"iris-title\"></td>\n",
       "    <td class=\"iris-title\"></td>\n",
       "    <td class=\"iris-title\"><br>Conventions                 CF-1.7<br>collection                  land-cpm<br>contact                     ukcpproject@metoffice.gov.uk</td>\n",
       "</tr>\n",
       "<tr class=\"iris\">\n",
       "    <td class=\"iris-word-cell iris-subheading-cell\">\tcreation_date               2021-05-11T14</td>\n",
       "    <td class=\"iris-word-cell\" colspan=\"4\">6:38<br>description                 Mean air temperature<br>domain                      uk<br>frequency                   day<br>institution                 Met Office Hadley Centre (MOHC), FitzRoy Road, Exeter, Devon, EX1 3PB,...<br>institution_id              MOHC<br>label_units                 °C<br>plot_label                  Mean air temperature at 1.5m (°C)<br>project                     UKCP18</td>\n",
       "</tr>\n",
       "<tr class=\"iris\">\n",
       "    <td class=\"iris-word-cell iris-subheading-cell\">\treferences                  https</td>\n",
       "    <td class=\"iris-word-cell\" colspan=\"4\">/ukclimateprojections.metoffice.gov.uk<br>resolution                  2.2km<br>scenario                    rcp85<br>source                      UKCP18 realisation from a set of 12 convection-permitting models (HadREM3-RA11M)...<br>title                       UKCP18 land projections - 2.2km convection-permitting climate model, Mean...<br>version                     v20210615</td>\n",
       "</tr>\n",
       "</table>\n",
       "        "
      ],
      "text/plain": [
       "<iris 'Cube' of air_temperature / (degC) (ensemble_member: 1; time: 360; grid_latitude: 606; grid_longitude: 484)>"
      ]
     },
     "execution_count": 13,
     "metadata": {},
     "output_type": "execute_result"
    }
   ],
   "source": [
    "cube"
   ]
  },
  {
   "cell_type": "code",
   "execution_count": 14,
   "id": "bd101507",
   "metadata": {},
   "outputs": [],
   "source": [
    "grid_areas = iris.analysis.cartography.area_weights(cube)"
   ]
  },
  {
   "cell_type": "markdown",
   "id": "a224ae67",
   "metadata": {},
   "source": [
    "* great that worked! \n",
    "* for the command above to work both `grid_latitude` and `grid_longitude` need to have bounds \n",
    "* if you find a situation where a cube doesn't have bounds, you  can run a command to guess them \n",
    "* for example \n",
    "\n",
    "`cube.coord('grid_latitude').guess_bounds()`\n",
    "\n",
    "`cube.coord('grid_longitude').guess_bounds()`\n",
    "\n",
    "* now lets calculate our weighted mean"
   ]
  },
  {
   "cell_type": "code",
   "execution_count": 15,
   "id": "09e029f7",
   "metadata": {},
   "outputs": [],
   "source": [
    "mean_weighted = cube.collapsed((['grid_latitude', 'grid_longitude']), iris.analysis.MEAN, weights=grid_areas)"
   ]
  },
  {
   "cell_type": "markdown",
   "id": "57f407c8",
   "metadata": {},
   "source": [
    "* lets compare mean and mean_weighted"
   ]
  },
  {
   "cell_type": "code",
   "execution_count": 16,
   "id": "cad5cea6",
   "metadata": {},
   "outputs": [
    {
     "data": {
      "text/plain": [
       "<matplotlib.legend.Legend at 0x7fb9757b2050>"
      ]
     },
     "execution_count": 16,
     "metadata": {},
     "output_type": "execute_result"
    },
    {
     "data": {
      "image/png": "[encoded data removed]",
      "text/plain": [
       "<Figure size 432x288 with 1 Axes>"
      ]
     },
     "metadata": {
      "needs_background": "light"
     },
     "output_type": "display_data"
    }
   ],
   "source": [
    "iplt.plot(mean[0], label='mean')\n",
    "iplt.plot(mean_weighted[0],label='mean weighted')\n",
    "plt.legend()"
   ]
  },
  {
   "cell_type": "markdown",
   "id": "1ec494bd",
   "metadata": {},
   "source": [
    "Can see a slight difference with the blue under the orange"
   ]
  },
  {
   "cell_type": "markdown",
   "id": "537992b7",
   "metadata": {},
   "source": [
    "### Summary of statistics\n",
    "\n",
    "* None of this cubes data is masked, we can see this by printing `cube.data.mask`\n",
    "* To get the data out we only need to do a `.data.data`\n",
    "* Can then put into a pandas dataframe and get a summary of statistics"
   ]
  },
  {
   "cell_type": "code",
   "execution_count": 17,
   "id": "b7c565e4",
   "metadata": {},
   "outputs": [
    {
     "data": {
      "text/plain": [
       "False"
      ]
     },
     "execution_count": 17,
     "metadata": {},
     "output_type": "execute_result"
    }
   ],
   "source": [
    "cube.data.mask"
   ]
  },
  {
   "cell_type": "code",
   "execution_count": 18,
   "id": "0d18e8bc",
   "metadata": {},
   "outputs": [],
   "source": [
    "data = cube.data.data"
   ]
  },
  {
   "cell_type": "code",
   "execution_count": 19,
   "id": "74fb8bb3",
   "metadata": {},
   "outputs": [
    {
     "data": {
      "text/plain": [
       "(1, 360, 606, 484)"
      ]
     },
     "execution_count": 19,
     "metadata": {},
     "output_type": "execute_result"
    }
   ],
   "source": [
    "data.shape"
   ]
  },
  {
   "cell_type": "code",
   "execution_count": 20,
   "id": "fb614897",
   "metadata": {},
   "outputs": [
    {
     "data": {
      "text/html": [
       "<div>\n",
       "<style scoped>\n",
       "    .dataframe tbody tr th:only-of-type {\n",
       "        vertical-align: middle;\n",
       "    }\n",
       "\n",
       "    .dataframe tbody tr th {\n",
       "        vertical-align: top;\n",
       "    }\n",
       "\n",
       "    .dataframe thead th {\n",
       "        text-align: right;\n",
       "    }\n",
       "</style>\n",
       "<table border=\"1\" class=\"dataframe\">\n",
       "  <thead>\n",
       "    <tr style=\"text-align: right;\">\n",
       "      <th></th>\n",
       "      <th>air_temp_values</th>\n",
       "    </tr>\n",
       "  </thead>\n",
       "  <tbody>\n",
       "    <tr>\n",
       "      <th>count</th>\n",
       "      <td>1.055894e+08</td>\n",
       "    </tr>\n",
       "    <tr>\n",
       "      <th>mean</th>\n",
       "      <td>9.704495e+00</td>\n",
       "    </tr>\n",
       "    <tr>\n",
       "      <th>std</th>\n",
       "      <td>4.249174e+00</td>\n",
       "    </tr>\n",
       "    <tr>\n",
       "      <th>min</th>\n",
       "      <td>-1.848618e+01</td>\n",
       "    </tr>\n",
       "    <tr>\n",
       "      <th>25%</th>\n",
       "      <td>6.733057e+00</td>\n",
       "    </tr>\n",
       "    <tr>\n",
       "      <th>50%</th>\n",
       "      <td>9.660303e+00</td>\n",
       "    </tr>\n",
       "    <tr>\n",
       "      <th>75%</th>\n",
       "      <td>1.286660e+01</td>\n",
       "    </tr>\n",
       "    <tr>\n",
       "      <th>max</th>\n",
       "      <td>2.889956e+01</td>\n",
       "    </tr>\n",
       "  </tbody>\n",
       "</table>\n",
       "</div>"
      ],
      "text/plain": [
       "       air_temp_values\n",
       "count     1.055894e+08\n",
       "mean      9.704495e+00\n",
       "std       4.249174e+00\n",
       "min      -1.848618e+01\n",
       "25%       6.733057e+00\n",
       "50%       9.660303e+00\n",
       "75%       1.286660e+01\n",
       "max       2.889956e+01"
      ]
     },
     "execution_count": 20,
     "metadata": {},
     "output_type": "execute_result"
    }
   ],
   "source": [
    "df = pd.DataFrame(data.ravel(),columns = ['air_temp_values'])\n",
    "df.describe()"
   ]
  },
  {
   "cell_type": "markdown",
   "id": "cc1dce3e",
   "metadata": {},
   "source": [
    "* The way above easy enough and works well\n",
    "* However if we have to much data we will get memory issues\n",
    "* Here's a function to return a summary of statistics collapsing with iris\n",
    "* this should keep data lazy and not load into memory\n",
    "\n",
    "    \n",
    " "
   ]
  },
  {
   "cell_type": "code",
   "execution_count": 21,
   "id": "c54f3b1a",
   "metadata": {},
   "outputs": [],
   "source": [
    "def iris_describe(cube,weights=None):\n",
    "    \n",
    "    coords = [coord.name() for coord in cube.dim_coords]\n",
    "    count = cube.collapsed((coords), iris.analysis.COUNT,function=lambda values: values != np.NaN)\n",
    "    mean = cube.collapsed((coords), iris.analysis.MEAN,weights=weights)\n",
    "    std = cube.collapsed((coords), iris.analysis.STD_DEV)\n",
    "    mini = cube.collapsed((coords), iris.analysis.MIN)\n",
    "    maxi = cube.collapsed((coords), iris.analysis.MAX)\n",
    "    \n",
    "    dictionary = {\n",
    "        'count':count.data,\n",
    "        'mean': mean.data,\n",
    "        'std':std.data,\n",
    "        'min':mini.data,\n",
    "        'max':maxi.data,\n",
    "    }\n",
    "    \n",
    "    return dictionary\n"
   ]
  },
  {
   "cell_type": "code",
   "execution_count": 22,
   "id": "6247ae93",
   "metadata": {
    "scrolled": true
   },
   "outputs": [
    {
     "name": "stderr",
     "output_type": "stream",
     "text": [
      "/home/h06/ncreaser/.conda/envs/climate_ml_tutorial/lib/python3.10/site-packages/iris/coords.py:1982: UserWarning: Collapsing a non-contiguous coordinate. Metadata may not be fully descriptive for 'ensemble_member'.\n",
      "  warnings.warn(msg.format(self.name()))\n",
      "/home/h06/ncreaser/.conda/envs/climate_ml_tutorial/lib/python3.10/site-packages/iris/coords.py:1982: UserWarning: Collapsing a non-contiguous coordinate. Metadata may not be fully descriptive for 'month_number'.\n",
      "  warnings.warn(msg.format(self.name()))\n",
      "/home/h06/ncreaser/.conda/envs/climate_ml_tutorial/lib/python3.10/site-packages/iris/coords.py:1982: UserWarning: Collapsing a non-contiguous coordinate. Metadata may not be fully descriptive for 'year'.\n",
      "  warnings.warn(msg.format(self.name()))\n",
      "/home/h06/ncreaser/.conda/envs/climate_ml_tutorial/lib/python3.10/site-packages/iris/coords.py:1982: UserWarning: Collapsing a non-contiguous coordinate. Metadata may not be fully descriptive for 'ensemble_member'.\n",
      "  warnings.warn(msg.format(self.name()))\n",
      "/home/h06/ncreaser/.conda/envs/climate_ml_tutorial/lib/python3.10/site-packages/iris/coords.py:1982: UserWarning: Collapsing a non-contiguous coordinate. Metadata may not be fully descriptive for 'month_number'.\n",
      "  warnings.warn(msg.format(self.name()))\n",
      "/home/h06/ncreaser/.conda/envs/climate_ml_tutorial/lib/python3.10/site-packages/iris/coords.py:1982: UserWarning: Collapsing a non-contiguous coordinate. Metadata may not be fully descriptive for 'year'.\n",
      "  warnings.warn(msg.format(self.name()))\n",
      "/home/h06/ncreaser/.conda/envs/climate_ml_tutorial/lib/python3.10/site-packages/iris/coords.py:1982: UserWarning: Collapsing a non-contiguous coordinate. Metadata may not be fully descriptive for 'ensemble_member'.\n",
      "  warnings.warn(msg.format(self.name()))\n",
      "/home/h06/ncreaser/.conda/envs/climate_ml_tutorial/lib/python3.10/site-packages/iris/coords.py:1982: UserWarning: Collapsing a non-contiguous coordinate. Metadata may not be fully descriptive for 'month_number'.\n",
      "  warnings.warn(msg.format(self.name()))\n",
      "/home/h06/ncreaser/.conda/envs/climate_ml_tutorial/lib/python3.10/site-packages/iris/coords.py:1982: UserWarning: Collapsing a non-contiguous coordinate. Metadata may not be fully descriptive for 'year'.\n",
      "  warnings.warn(msg.format(self.name()))\n",
      "/home/h06/ncreaser/.conda/envs/climate_ml_tutorial/lib/python3.10/site-packages/iris/coords.py:1982: UserWarning: Collapsing a non-contiguous coordinate. Metadata may not be fully descriptive for 'ensemble_member'.\n",
      "  warnings.warn(msg.format(self.name()))\n",
      "/home/h06/ncreaser/.conda/envs/climate_ml_tutorial/lib/python3.10/site-packages/iris/coords.py:1982: UserWarning: Collapsing a non-contiguous coordinate. Metadata may not be fully descriptive for 'month_number'.\n",
      "  warnings.warn(msg.format(self.name()))\n",
      "/home/h06/ncreaser/.conda/envs/climate_ml_tutorial/lib/python3.10/site-packages/iris/coords.py:1982: UserWarning: Collapsing a non-contiguous coordinate. Metadata may not be fully descriptive for 'year'.\n",
      "  warnings.warn(msg.format(self.name()))\n",
      "/home/h06/ncreaser/.conda/envs/climate_ml_tutorial/lib/python3.10/site-packages/iris/coords.py:1982: UserWarning: Collapsing a non-contiguous coordinate. Metadata may not be fully descriptive for 'ensemble_member'.\n",
      "  warnings.warn(msg.format(self.name()))\n",
      "/home/h06/ncreaser/.conda/envs/climate_ml_tutorial/lib/python3.10/site-packages/iris/coords.py:1982: UserWarning: Collapsing a non-contiguous coordinate. Metadata may not be fully descriptive for 'month_number'.\n",
      "  warnings.warn(msg.format(self.name()))\n",
      "/home/h06/ncreaser/.conda/envs/climate_ml_tutorial/lib/python3.10/site-packages/iris/coords.py:1982: UserWarning: Collapsing a non-contiguous coordinate. Metadata may not be fully descriptive for 'year'.\n",
      "  warnings.warn(msg.format(self.name()))\n"
     ]
    }
   ],
   "source": [
    "dictonary = iris_describe(cube)"
   ]
  },
  {
   "cell_type": "markdown",
   "id": "a54faac5",
   "metadata": {},
   "source": [
    "#### Print the dictonary values we collected \n",
    "\n",
    "* We can see a summary of the statistics we collected here\n",
    "* Have a go at changing/ writing a new function that uses different statistics, click [here](https://scitools-iris.readthedocs.io/en/stable/generated/api/iris/analysis.html#module-iris.analysis) for more info on statistics provided by `iris.analysis`"
   ]
  },
  {
   "cell_type": "code",
   "execution_count": 23,
   "id": "29c2f622",
   "metadata": {},
   "outputs": [
    {
     "data": {
      "text/plain": [
       "{'count': array(105589440),\n",
       " 'mean': array(9.704495, dtype=float32),\n",
       " 'std': array(4.2491746, dtype=float32),\n",
       " 'min': array(-18.486181, dtype=float32),\n",
       " 'max': array(28.89956, dtype=float32)}"
      ]
     },
     "execution_count": 23,
     "metadata": {},
     "output_type": "execute_result"
    }
   ],
   "source": [
    "dictonary"
   ]
  },
  {
   "cell_type": "markdown",
   "id": "1eecdf65",
   "metadata": {},
   "source": [
    "* While we have our data in a pandas dataframe, lets plot a boxplot to visulaise our statistics"
   ]
  },
  {
   "cell_type": "code",
   "execution_count": 24,
   "id": "dd5cd5ea",
   "metadata": {},
   "outputs": [
    {
     "data": {
      "text/plain": [
       "<AxesSubplot:>"
      ]
     },
     "execution_count": 24,
     "metadata": {},
     "output_type": "execute_result"
    },
    {
     "data": {
      "image/png": "[encoded data removed]",
      "text/plain": [
       "<Figure size 432x288 with 1 Axes>"
      ]
     },
     "metadata": {
      "needs_background": "light"
     },
     "output_type": "display_data"
    }
   ],
   "source": [
    "df.boxplot()"
   ]
  }
 ],
 "metadata": {
  "kernelspec": {
   "display_name": "climate_ml_tutorial",
   "language": "python",
   "name": "climate_ml_tutorial"
  },
  "language_info": {
   "codemirror_mode": {
    "name": "ipython",
    "version": 3
   },
   "file_extension": ".py",
   "mimetype": "text/x-python",
   "name": "python",
   "nbconvert_exporter": "python",
   "pygments_lexer": "ipython3",
   "version": "3.10.2"
  }
 },
 "nbformat": 4,
 "nbformat_minor": 5
}
