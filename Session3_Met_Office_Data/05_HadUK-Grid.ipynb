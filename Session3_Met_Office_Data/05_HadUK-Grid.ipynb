{
 "cells": [
  {
   "cell_type": "markdown",
   "id": "ea2bc6d5",
   "metadata": {},
   "source": [
    "# HADUK-Grid (CEDA data) \n",
    "* Affiliation: UK Met Office\n",
    "* History: 1.0\n",
    "* Last update: 17-05-2023\n",
    "* © British Crown Copyright 2017-2023, Met Office. Please see LICENSE.md for license details.\n",
    "\n",
    "\n",
    "### Exploring data with iris\n",
    "#### Overview\n",
    "* in this notebook ill go through using iris to explore gridded data and meta data \n",
    "* iv downloaded 4 cubes from CEDA we will explore here\n",
    "    * UK 12km rainfall\n",
    "    * UK 1km rainfall\n",
    "    \n",
    "#### Prerequisites\n",
    "* __Please see 03_aircraft_data.pynb for instructions on ceda certificates. The valid CEDA certificate must be linked to in the specfied environment file below__\n",
    "\n",
    "To successfully navigate this notebook, you should be accustom with:\n",
    "* Basics of python programming:\n",
    "    * loading modules \n",
    "    * variable assignment \n",
    "    * basic plotting packages (`Matplotlib.pyplot`)\n",
    "* Basic knowledge of arrays and indexing\n",
    "* Have a basic understanding of weather and climate, for example:\n",
    "    * Latitude is North-South\n",
    "    * Longitude is East-West\n",
    "    \n",
    "#### Leaning Outcomes \n",
    "After this notebook you should have the basic skills to:\n",
    "* Explore a Iris cube\n",
    "    * Access the cubes data \n",
    "        * Understand what Lazy data is and why its important \n",
    "        * Understand masked data and how its used in Geospatial data\n",
    "    * Access and understand Meta-data\n",
    "        * Be able to identify a unknown cube by accessing the Metadata \n",
    "        * Be able to modify and adapt Metadata for useful purposes- eg concatenate\n",
    "* Produce Visualizations to better understand the data\n",
    "    * Plotting using `iris`\n",
    "        * Maps using `pcolormesh`\n",
    "        * Histograms, box plots etc \n",
    "        \n",
    "### Background \n",
    "* [Iris](https://scitools-iris.readthedocs.io/en/stable/) is a Python module, produced by the Met Office to allow easy access to Geospatial Data \n",
    "* Iris functions well with well known modules like `Matplotlib` and `Numpy`\n",
    "* Iris stores data in Cubes- representing the dimensions of the earth:\n",
    "    * Latitude\n",
    "    * Longitude\n",
    "    * Time\n",
    "* These cubes can be analysed in different dimensions to extract relevant information\n",
    "\n",
    "    \n",
    "### Contents \n",
    "\n",
    "#### Section 0\n",
    "* Getting the data\n",
    "\n",
    "#### Section 1 \n",
    "* Access metadata\n",
    "* Quickly visualise data \n",
    "\n",
    "#### Section 2 \n",
    "* Collapsing a cube \n",
    "* Sub-setting a cube\n",
    "\n",
    "#### Section  3\n",
    "* Concatenating cubes\n",
    "* Lazy data\n",
    "* masked data \n",
    "\n",
    "#### Section 4\n",
    "* Plots of statistics\n",
    "    * Box-plots\n",
    "    * Histograms\n",
    "    \n"
   ]
  },
  {
   "cell_type": "code",
   "execution_count": 1,
   "id": "20cb8b87",
   "metadata": {},
   "outputs": [],
   "source": [
    "# Firstly we will load some python packages\n",
    "import iris\n",
    "import numpy as np\n",
    "import matplotlib.pyplot as plt\n",
    "from IPython.display import clear_output\n",
    "import os\n",
    "import requests"
   ]
  },
  {
   "cell_type": "code",
   "execution_count": 2,
   "id": "0f53c79c-434d-4793-a18a-0a6323ce4786",
   "metadata": {},
   "outputs": [],
   "source": [
    "# notebook settings\n",
    "env_file_path = \".env\"\n",
    "\n",
    "HIDE_SECRET_OUTPUT = True\n",
    "\n",
    "path_to_save_data = './data/HadUK'"
   ]
  },
  {
   "cell_type": "markdown",
   "id": "ee0de7b8-df66-422e-9672-be72fc949051",
   "metadata": {},
   "source": [
    "For this notebook, a .env file is defined in order to abstract away keys personal to the user. The .env file is kept in the same directory as this notebook. Here is an example of what the .env file looks like:\n",
    "\n",
    "```\n",
    "ATMOSPHERIC_CLIENT_ID=xxxxxxxxxxxxxxxxxxxxxx\n",
    "ATMOSPHERIC_CLIENT_SECRET=xxxxxxxxxxxxxxxxxxxxxx\n",
    "SOME_OTHER_ENV_VAR=2gt2t1t2t7224pZ/*321\n",
    "```\n",
    "\n",
    "As shown, the format for each variable is ENV_VAR_NAME=ENV_SECRET with no spaces between the '=' and the definitions, or at the beginning of a line. A newline is required between each environment variable.\n",
    "<br>Due to how the file is read without a the common tool `dotenv`, the .env file expects no comments, nor an in-file informational header. The names of each variable should be obvious.\n",
    "<br>\n",
    "<br>A __template file for .env__ is given in the repository called `.env_template`. after filling in the template with the users own information, either rename the file itself, or the path to the file in the setting variable above (env_file_path)"
   ]
  },
  {
   "cell_type": "code",
   "execution_count": 3,
   "id": "e3797b25-fe06-4afa-8a68-ec58378293cf",
   "metadata": {},
   "outputs": [],
   "source": [
    "# read environment file\n",
    "env_vars = {}\n",
    "\n",
    "with open(env_file_path) as f:\n",
    "    for line in f:\n",
    "        key, value = line.strip().split(\"=\", 1)\n",
    "        env_vars[key] = value\n",
    "\n",
    "print(env_vars)\n",
    "if HIDE_SECRET_OUTPUT:\n",
    "    clear_output()"
   ]
  },
  {
   "cell_type": "code",
   "execution_count": 4,
   "id": "11270ecd-19f9-4b13-9d51-198b499b3e8d",
   "metadata": {},
   "outputs": [],
   "source": [
    "# load environment variables\n",
    "CERT_SECRET = env_vars[\"CEDA_CERTIFICATE_DIRECTORY\"]"
   ]
  },
  {
   "cell_type": "markdown",
   "id": "6505cab6-12ed-407e-b925-263861ffe213",
   "metadata": {},
   "source": [
    "## Section 0"
   ]
  },
  {
   "cell_type": "markdown",
   "id": "98f32538-1b24-43b2-a8a3-76fa7c0b739b",
   "metadata": {},
   "source": [
    "step 0: get the data using a hardcoded link to the file and ceda certification"
   ]
  },
  {
   "cell_type": "code",
   "execution_count": 5,
   "id": "8749180b-89a2-4ecd-aba3-529ba87e3b73",
   "metadata": {},
   "outputs": [],
   "source": [
    "links_to_data = [\n",
    "    'https://dap.ceda.ac.uk/badc/ukmo-hadobs/data/insitu/MOHC/HadOBS/HadUK-Grid/v1.0.0.0/1km/tas/ann/v20181126/tas_hadukgrid_uk_1km_ann_188901-188912.nc',\n",
    "    'https://dap.ceda.ac.uk/badc/ukmo-hadobs/data/insitu/MOHC/HadOBS/HadUK-Grid/v1.0.0.0/12km/rainfall/day/v20181126/rainfall_hadukgrid_uk_12km_day_18910101-18910131.nc',\n",
    "    'https://dap.ceda.ac.uk/badc/ukmo-hadobs/data/insitu/MOHC/HadOBS/HadUK-Grid/v1.0.0.0/12km/rainfall/day/v20181126/rainfall_hadukgrid_uk_12km_day_18910101-18910131.nc',\n",
    "    'https://dap.ceda.ac.uk/badc/ukmo-hadobs/data/insitu/MOHC/HadOBS/HadUK-Grid/v1.0.0.0/12km/rainfall/day/v20181126/rainfall_hadukgrid_uk_12km_day_18910201-18910228.nc'\n",
    "]\n",
    "paths_to_data = []\n",
    "\n",
    "for link in links_to_data:\n",
    "    nc_file_name = link.split(\"/\")[-1]\n",
    "    file_save_path = path_to_save_data + '/' + nc_file_name\n",
    "    \n",
    "    paths_to_data.append(file_save_path)\n",
    "    if not os.path.exists(\n",
    "        file_save_path\n",
    "    ):  # don't download files if already exist on disk\n",
    "        response = requests.get(link, cert=(CERT_SECRET))\n",
    "        response_content = response.content\n",
    "        if response.status_code != 200:\n",
    "            print(response_content)\n",
    "            print(\n",
    "                \"\\n!!!Exception, likely the certificate is not valid! response above!!!\\n\"\n",
    "            )\n",
    "            raise Exception()\n",
    "        with open(file_save_path, \"wb\") as f:\n",
    "            f.write(response_content)\n",
    "\n",
    "# print(paths_to_data)"
   ]
  },
  {
   "cell_type": "markdown",
   "id": "eaa29ce5",
   "metadata": {},
   "source": [
    "* Next we can load in a cube\n",
    "* Ill store the directory where my data come from under D_dir, so i can reuse throughout the notebook\n",
    "* Ill then create the filename by adding my netcdf file\n",
    "* Finally load a cube list using iris.load()"
   ]
  },
  {
   "cell_type": "code",
   "execution_count": 6,
   "id": "61358804",
   "metadata": {},
   "outputs": [],
   "source": [
    "cubelist = iris.load(paths_to_data[0])\n",
    "if HIDE_SECRET_OUTPUT:\n",
    "    clear_output() # Clear warning output"
   ]
  },
  {
   "cell_type": "markdown",
   "id": "a97596e5",
   "metadata": {},
   "source": [
    "Sometimes theres more than one cube in a file, this is particularly true when dealing with pp files from model data.\n",
    "This is why the cubes are loaded in as a list"
   ]
  },
  {
   "cell_type": "markdown",
   "id": "9233122c-f477-472c-80e1-e6bff54b61bd",
   "metadata": {},
   "source": [
    "## Section 1"
   ]
  },
  {
   "cell_type": "code",
   "execution_count": 7,
   "id": "d0a6ba36",
   "metadata": {},
   "outputs": [
    {
     "name": "stdout",
     "output_type": "stream",
     "text": [
      "0: air_temperature / (degC)            (time: 1; projection_y_coordinate: 1450; projection_x_coordinate: 900)\n"
     ]
    }
   ],
   "source": [
    "print(cubelist)"
   ]
  },
  {
   "cell_type": "markdown",
   "id": "6d41d8ca",
   "metadata": {},
   "source": [
    "Can see we only have one cube in our list at index 0, by indexing the list we can extract out our air_temperature cube"
   ]
  },
  {
   "cell_type": "code",
   "execution_count": 8,
   "id": "98449c73",
   "metadata": {},
   "outputs": [],
   "source": [
    "air_temp = cubelist[0]"
   ]
  },
  {
   "cell_type": "markdown",
   "id": "bdfbde54",
   "metadata": {},
   "source": [
    "###### we can also just load the cube, rather then a list of cubes \n",
    "if we want one specific cube from a list of cubes within the files we can constrain our loading based on things\n",
    "like the title of the cube, its stash code or model levels for more information on constraining cubes, see the [iris docs]( https://scitools-iris.readthedocs.io/en/stable/userguide/loading_iris_cubes.html)"
   ]
  },
  {
   "cell_type": "code",
   "execution_count": 9,
   "id": "c3e2e66d",
   "metadata": {},
   "outputs": [],
   "source": [
    "constraint = iris.NameConstraint(standard_name='air_temperature')\n",
    "air_temp1 = iris.load_cube(paths_to_data[0],constraint)\n",
    "\n",
    "if HIDE_SECRET_OUTPUT:\n",
    "    clear_output() # Clear warning output"
   ]
  },
  {
   "cell_type": "markdown",
   "id": "aeadacbf",
   "metadata": {},
   "source": [
    "PLease note here since we only have one cube, we don't actually need the constraint. However i included it as an example on how you would constrain for one particular cube in a file if we were dealing with larger files"
   ]
  },
  {
   "cell_type": "code",
   "execution_count": 10,
   "id": "9058650e",
   "metadata": {},
   "outputs": [
    {
     "data": {
      "text/html": [
       "\n",
       "<style>\n",
       "  a.iris {\n",
       "      text-decoration: none !important;\n",
       "  }\n",
       "  table.iris {\n",
       "      white-space: pre;\n",
       "      border: 1px solid;\n",
       "      border-color: #9c9c9c;\n",
       "      font-family: monaco, monospace;\n",
       "  }\n",
       "  th.iris {\n",
       "      background: #303f3f;\n",
       "      color: #e0e0e0;\n",
       "      border-left: 1px solid;\n",
       "      border-color: #9c9c9c;\n",
       "      font-size: 1.05em;\n",
       "      min-width: 50px;\n",
       "      max-width: 125px;\n",
       "  }\n",
       "  tr.iris :first-child {\n",
       "      border-right: 1px solid #9c9c9c !important;\n",
       "  }\n",
       "  td.iris-title {\n",
       "      background: #d5dcdf;\n",
       "      border-top: 1px solid #9c9c9c;\n",
       "      font-weight: bold;\n",
       "  }\n",
       "  .iris-word-cell {\n",
       "      text-align: left !important;\n",
       "      white-space: pre;\n",
       "  }\n",
       "  .iris-subheading-cell {\n",
       "      padding-left: 2em !important;\n",
       "  }\n",
       "  .iris-inclusion-cell {\n",
       "      padding-right: 1em !important;\n",
       "  }\n",
       "  .iris-panel-body {\n",
       "      padding-top: 0px;\n",
       "  }\n",
       "  .iris-panel-title {\n",
       "      padding-left: 3em;\n",
       "  }\n",
       "  .iris-panel-title {\n",
       "      margin-top: 7px;\n",
       "  }\n",
       "</style>\n",
       "<table class=\"iris\" id=\"140656357548880\">\n",
       "    <tr class=\"iris\">\n",
       "<th class=\"iris iris-word-cell\">Air Temperature (degC)</th>\n",
       "<th class=\"iris iris-word-cell\">time</th>\n",
       "<th class=\"iris iris-word-cell\">projection_y_coordinate</th>\n",
       "<th class=\"iris iris-word-cell\">projection_x_coordinate</th>\n",
       "</tr>\n",
       "    <tr class=\"iris\">\n",
       "<td class=\"iris-word-cell iris-subheading-cell\">Shape</td>\n",
       "<td class=\"iris iris-inclusion-cell\">1</td>\n",
       "<td class=\"iris iris-inclusion-cell\">1450</td>\n",
       "<td class=\"iris iris-inclusion-cell\">900</td>\n",
       "</tr>\n",
       "    <tr class=\"iris\">\n",
       "    <td class=\"iris-title iris-word-cell\">Dimension coordinates</td>\n",
       "    <td class=\"iris-title\"></td>\n",
       "    <td class=\"iris-title\"></td>\n",
       "    <td class=\"iris-title\"></td>\n",
       "</tr>\n",
       "<tr class=\"iris\">\n",
       "    <td class=\"iris-word-cell iris-subheading-cell\">\ttime</td>\n",
       "    <td class=\"iris-inclusion-cell\">x</td>\n",
       "    <td class=\"iris-inclusion-cell\">-</td>\n",
       "    <td class=\"iris-inclusion-cell\">-</td>\n",
       "</tr>\n",
       "<tr class=\"iris\">\n",
       "    <td class=\"iris-word-cell iris-subheading-cell\">\tprojection_y_coordinate</td>\n",
       "    <td class=\"iris-inclusion-cell\">-</td>\n",
       "    <td class=\"iris-inclusion-cell\">x</td>\n",
       "    <td class=\"iris-inclusion-cell\">-</td>\n",
       "</tr>\n",
       "<tr class=\"iris\">\n",
       "    <td class=\"iris-word-cell iris-subheading-cell\">\tprojection_x_coordinate</td>\n",
       "    <td class=\"iris-inclusion-cell\">-</td>\n",
       "    <td class=\"iris-inclusion-cell\">-</td>\n",
       "    <td class=\"iris-inclusion-cell\">x</td>\n",
       "</tr>\n",
       "<tr class=\"iris\">\n",
       "    <td class=\"iris-title iris-word-cell\">Auxiliary coordinates</td>\n",
       "    <td class=\"iris-title\"></td>\n",
       "    <td class=\"iris-title\"></td>\n",
       "    <td class=\"iris-title\"></td>\n",
       "</tr>\n",
       "<tr class=\"iris\">\n",
       "    <td class=\"iris-word-cell iris-subheading-cell\">\tlatitude</td>\n",
       "    <td class=\"iris-inclusion-cell\">-</td>\n",
       "    <td class=\"iris-inclusion-cell\">x</td>\n",
       "    <td class=\"iris-inclusion-cell\">x</td>\n",
       "</tr>\n",
       "<tr class=\"iris\">\n",
       "    <td class=\"iris-word-cell iris-subheading-cell\">\tlongitude</td>\n",
       "    <td class=\"iris-inclusion-cell\">-</td>\n",
       "    <td class=\"iris-inclusion-cell\">x</td>\n",
       "    <td class=\"iris-inclusion-cell\">x</td>\n",
       "</tr>\n",
       "<tr class=\"iris\">\n",
       "    <td class=\"iris-title iris-word-cell\">Cell methods</td>\n",
       "    <td class=\"iris-title\"></td>\n",
       "    <td class=\"iris-title\"></td>\n",
       "    <td class=\"iris-title\"></td>\n",
       "</tr>\n",
       "<tr class=\"iris\">\n",
       "    <td class=\"iris-word-cell iris-subheading-cell\">\tmid_range</td>\n",
       "    <td class=\"iris-word-cell\" colspan=\"3\">ithin days       time</td>\n",
       "</tr>\n",
       "<tr class=\"iris\">\n",
       "    <td class=\"iris-word-cell iris-subheading-cell\">\tmean</td>\n",
       "    <td class=\"iris-word-cell\" colspan=\"3\">ver days              time</td>\n",
       "</tr>\n",
       "<tr class=\"iris\">\n",
       "    <td class=\"iris-word-cell iris-subheading-cell\">\tmean</td>\n",
       "    <td class=\"iris-word-cell\" colspan=\"3\">time</td>\n",
       "</tr>\n",
       "<tr class=\"iris\">\n",
       "    <td class=\"iris-title iris-word-cell\">Attributes</td>\n",
       "    <td class=\"iris-title\"></td>\n",
       "    <td class=\"iris-title\"></td>\n",
       "    <td class=\"iris-title\"></td>\n",
       "</tr>\n",
       "<tr class=\"iris\">\n",
       "    <td class=\"iris-word-cell iris-subheading-cell\">\tConventions</td>\n",
       "    <td class=\"iris-word-cell\" colspan=\"3\">&#x27;CF-1.5&#x27;</td>\n",
       "</tr>\n",
       "<tr class=\"iris\">\n",
       "    <td class=\"iris-word-cell iris-subheading-cell\">\tcollection</td>\n",
       "    <td class=\"iris-word-cell\" colspan=\"3\">&#x27;HadUK-Grid v1.0.0.0&#x27;</td>\n",
       "</tr>\n",
       "<tr class=\"iris\">\n",
       "    <td class=\"iris-word-cell iris-subheading-cell\">\tcomment</td>\n",
       "    <td class=\"iris-word-cell\" colspan=\"3\">&#x27;annual resolution gridded climate observations&#x27;</td>\n",
       "</tr>\n",
       "<tr class=\"iris\">\n",
       "    <td class=\"iris-word-cell iris-subheading-cell\">\tcontact</td>\n",
       "    <td class=\"iris-word-cell\" colspan=\"3\">&#x27;enquiries@metoffice.gov.uk&#x27;</td>\n",
       "</tr>\n",
       "<tr class=\"iris\">\n",
       "    <td class=\"iris-word-cell iris-subheading-cell\">\tcreation_date</td>\n",
       "    <td class=\"iris-word-cell\" colspan=\"3\">&#x27;2018-11-16T13:41:55&#x27;</td>\n",
       "</tr>\n",
       "<tr class=\"iris\">\n",
       "    <td class=\"iris-word-cell iris-subheading-cell\">\tdescription</td>\n",
       "    <td class=\"iris-word-cell\" colspan=\"3\">&#x27;Mean air temperature&#x27;</td>\n",
       "</tr>\n",
       "<tr class=\"iris\">\n",
       "    <td class=\"iris-word-cell iris-subheading-cell\">\tdomain</td>\n",
       "    <td class=\"iris-word-cell\" colspan=\"3\">&#x27;uk&#x27;</td>\n",
       "</tr>\n",
       "<tr class=\"iris\">\n",
       "    <td class=\"iris-word-cell iris-subheading-cell\">\tfrequency</td>\n",
       "    <td class=\"iris-word-cell\" colspan=\"3\">&#x27;ann&#x27;</td>\n",
       "</tr>\n",
       "<tr class=\"iris\">\n",
       "    <td class=\"iris-word-cell iris-subheading-cell\">\tinstitution</td>\n",
       "    <td class=\"iris-word-cell\" colspan=\"3\">&#x27;Met Office Hadley Centre (MOHC), Fitzroy road, Exeter, EX1 3PB, UK&#x27;</td>\n",
       "</tr>\n",
       "<tr class=\"iris\">\n",
       "    <td class=\"iris-word-cell iris-subheading-cell\">\tinstitution_id</td>\n",
       "    <td class=\"iris-word-cell\" colspan=\"3\">&#x27;MOHC&#x27;</td>\n",
       "</tr>\n",
       "<tr class=\"iris\">\n",
       "    <td class=\"iris-word-cell iris-subheading-cell\">\tlabel_units</td>\n",
       "    <td class=\"iris-word-cell\" colspan=\"3\">&#x27;°C&#x27;</td>\n",
       "</tr>\n",
       "<tr class=\"iris\">\n",
       "    <td class=\"iris-word-cell iris-subheading-cell\">\tlevel</td>\n",
       "    <td class=\"iris-word-cell\" colspan=\"3\">&#x27;1.5m&#x27;</td>\n",
       "</tr>\n",
       "<tr class=\"iris\">\n",
       "    <td class=\"iris-word-cell iris-subheading-cell\">\tplot_label</td>\n",
       "    <td class=\"iris-word-cell\" colspan=\"3\">&#x27;Mean air temperature at 1.5m (°C)&#x27;</td>\n",
       "</tr>\n",
       "<tr class=\"iris\">\n",
       "    <td class=\"iris-word-cell iris-subheading-cell\">\tproject</td>\n",
       "    <td class=\"iris-word-cell\" colspan=\"3\">&#x27;HadOBS&#x27;</td>\n",
       "</tr>\n",
       "<tr class=\"iris\">\n",
       "    <td class=\"iris-word-cell iris-subheading-cell\">\treferences</td>\n",
       "    <td class=\"iris-word-cell\" colspan=\"3\">&#x27;doi: 10.1002/joc.1161&#x27;</td>\n",
       "</tr>\n",
       "<tr class=\"iris\">\n",
       "    <td class=\"iris-word-cell iris-subheading-cell\">\tshort_name</td>\n",
       "    <td class=\"iris-word-cell\" colspan=\"3\">&#x27;annual_meantemp&#x27;</td>\n",
       "</tr>\n",
       "<tr class=\"iris\">\n",
       "    <td class=\"iris-word-cell iris-subheading-cell\">\tsource</td>\n",
       "    <td class=\"iris-word-cell\" colspan=\"3\">&#x27;HadUK-Grid_v1.0.0.0&#x27;</td>\n",
       "</tr>\n",
       "<tr class=\"iris\">\n",
       "    <td class=\"iris-word-cell iris-subheading-cell\">\ttitle</td>\n",
       "    <td class=\"iris-word-cell\" colspan=\"3\">&#x27;HadUK-Grid: Gridded land surface climate observations data for the UK&#x27;</td>\n",
       "</tr>\n",
       "<tr class=\"iris\">\n",
       "    <td class=\"iris-word-cell iris-subheading-cell\">\tversion</td>\n",
       "    <td class=\"iris-word-cell\" colspan=\"3\">&#x27;v20181126&#x27;</td>\n",
       "</tr>\n",
       "</table>\n",
       "        "
      ],
      "text/plain": [
       "<iris 'Cube' of air_temperature / (degC) (time: 1; projection_y_coordinate: 1450; projection_x_coordinate: 900)>"
      ]
     },
     "execution_count": 10,
     "metadata": {},
     "output_type": "execute_result"
    }
   ],
   "source": [
    "air_temp1 # gives the same result as indexing the list "
   ]
  },
  {
   "cell_type": "code",
   "execution_count": 11,
   "id": "4c025125",
   "metadata": {},
   "outputs": [
    {
     "data": {
      "text/html": [
       "\n",
       "<style>\n",
       "  a.iris {\n",
       "      text-decoration: none !important;\n",
       "  }\n",
       "  table.iris {\n",
       "      white-space: pre;\n",
       "      border: 1px solid;\n",
       "      border-color: #9c9c9c;\n",
       "      font-family: monaco, monospace;\n",
       "  }\n",
       "  th.iris {\n",
       "      background: #303f3f;\n",
       "      color: #e0e0e0;\n",
       "      border-left: 1px solid;\n",
       "      border-color: #9c9c9c;\n",
       "      font-size: 1.05em;\n",
       "      min-width: 50px;\n",
       "      max-width: 125px;\n",
       "  }\n",
       "  tr.iris :first-child {\n",
       "      border-right: 1px solid #9c9c9c !important;\n",
       "  }\n",
       "  td.iris-title {\n",
       "      background: #d5dcdf;\n",
       "      border-top: 1px solid #9c9c9c;\n",
       "      font-weight: bold;\n",
       "  }\n",
       "  .iris-word-cell {\n",
       "      text-align: left !important;\n",
       "      white-space: pre;\n",
       "  }\n",
       "  .iris-subheading-cell {\n",
       "      padding-left: 2em !important;\n",
       "  }\n",
       "  .iris-inclusion-cell {\n",
       "      padding-right: 1em !important;\n",
       "  }\n",
       "  .iris-panel-body {\n",
       "      padding-top: 0px;\n",
       "  }\n",
       "  .iris-panel-title {\n",
       "      padding-left: 3em;\n",
       "  }\n",
       "  .iris-panel-title {\n",
       "      margin-top: 7px;\n",
       "  }\n",
       "</style>\n",
       "<table class=\"iris\" id=\"140656358939312\">\n",
       "    <tr class=\"iris\">\n",
       "<th class=\"iris iris-word-cell\">Air Temperature (degC)</th>\n",
       "<th class=\"iris iris-word-cell\">time</th>\n",
       "<th class=\"iris iris-word-cell\">projection_y_coordinate</th>\n",
       "<th class=\"iris iris-word-cell\">projection_x_coordinate</th>\n",
       "</tr>\n",
       "    <tr class=\"iris\">\n",
       "<td class=\"iris-word-cell iris-subheading-cell\">Shape</td>\n",
       "<td class=\"iris iris-inclusion-cell\">1</td>\n",
       "<td class=\"iris iris-inclusion-cell\">1450</td>\n",
       "<td class=\"iris iris-inclusion-cell\">900</td>\n",
       "</tr>\n",
       "    <tr class=\"iris\">\n",
       "    <td class=\"iris-title iris-word-cell\">Dimension coordinates</td>\n",
       "    <td class=\"iris-title\"></td>\n",
       "    <td class=\"iris-title\"></td>\n",
       "    <td class=\"iris-title\"></td>\n",
       "</tr>\n",
       "<tr class=\"iris\">\n",
       "    <td class=\"iris-word-cell iris-subheading-cell\">\ttime</td>\n",
       "    <td class=\"iris-inclusion-cell\">x</td>\n",
       "    <td class=\"iris-inclusion-cell\">-</td>\n",
       "    <td class=\"iris-inclusion-cell\">-</td>\n",
       "</tr>\n",
       "<tr class=\"iris\">\n",
       "    <td class=\"iris-word-cell iris-subheading-cell\">\tprojection_y_coordinate</td>\n",
       "    <td class=\"iris-inclusion-cell\">-</td>\n",
       "    <td class=\"iris-inclusion-cell\">x</td>\n",
       "    <td class=\"iris-inclusion-cell\">-</td>\n",
       "</tr>\n",
       "<tr class=\"iris\">\n",
       "    <td class=\"iris-word-cell iris-subheading-cell\">\tprojection_x_coordinate</td>\n",
       "    <td class=\"iris-inclusion-cell\">-</td>\n",
       "    <td class=\"iris-inclusion-cell\">-</td>\n",
       "    <td class=\"iris-inclusion-cell\">x</td>\n",
       "</tr>\n",
       "<tr class=\"iris\">\n",
       "    <td class=\"iris-title iris-word-cell\">Auxiliary coordinates</td>\n",
       "    <td class=\"iris-title\"></td>\n",
       "    <td class=\"iris-title\"></td>\n",
       "    <td class=\"iris-title\"></td>\n",
       "</tr>\n",
       "<tr class=\"iris\">\n",
       "    <td class=\"iris-word-cell iris-subheading-cell\">\tlatitude</td>\n",
       "    <td class=\"iris-inclusion-cell\">-</td>\n",
       "    <td class=\"iris-inclusion-cell\">x</td>\n",
       "    <td class=\"iris-inclusion-cell\">x</td>\n",
       "</tr>\n",
       "<tr class=\"iris\">\n",
       "    <td class=\"iris-word-cell iris-subheading-cell\">\tlongitude</td>\n",
       "    <td class=\"iris-inclusion-cell\">-</td>\n",
       "    <td class=\"iris-inclusion-cell\">x</td>\n",
       "    <td class=\"iris-inclusion-cell\">x</td>\n",
       "</tr>\n",
       "<tr class=\"iris\">\n",
       "    <td class=\"iris-title iris-word-cell\">Cell methods</td>\n",
       "    <td class=\"iris-title\"></td>\n",
       "    <td class=\"iris-title\"></td>\n",
       "    <td class=\"iris-title\"></td>\n",
       "</tr>\n",
       "<tr class=\"iris\">\n",
       "    <td class=\"iris-word-cell iris-subheading-cell\">\tmid_range</td>\n",
       "    <td class=\"iris-word-cell\" colspan=\"3\">ithin days       time</td>\n",
       "</tr>\n",
       "<tr class=\"iris\">\n",
       "    <td class=\"iris-word-cell iris-subheading-cell\">\tmean</td>\n",
       "    <td class=\"iris-word-cell\" colspan=\"3\">ver days              time</td>\n",
       "</tr>\n",
       "<tr class=\"iris\">\n",
       "    <td class=\"iris-word-cell iris-subheading-cell\">\tmean</td>\n",
       "    <td class=\"iris-word-cell\" colspan=\"3\">time</td>\n",
       "</tr>\n",
       "<tr class=\"iris\">\n",
       "    <td class=\"iris-title iris-word-cell\">Attributes</td>\n",
       "    <td class=\"iris-title\"></td>\n",
       "    <td class=\"iris-title\"></td>\n",
       "    <td class=\"iris-title\"></td>\n",
       "</tr>\n",
       "<tr class=\"iris\">\n",
       "    <td class=\"iris-word-cell iris-subheading-cell\">\tConventions</td>\n",
       "    <td class=\"iris-word-cell\" colspan=\"3\">&#x27;CF-1.5&#x27;</td>\n",
       "</tr>\n",
       "<tr class=\"iris\">\n",
       "    <td class=\"iris-word-cell iris-subheading-cell\">\tcollection</td>\n",
       "    <td class=\"iris-word-cell\" colspan=\"3\">&#x27;HadUK-Grid v1.0.0.0&#x27;</td>\n",
       "</tr>\n",
       "<tr class=\"iris\">\n",
       "    <td class=\"iris-word-cell iris-subheading-cell\">\tcomment</td>\n",
       "    <td class=\"iris-word-cell\" colspan=\"3\">&#x27;annual resolution gridded climate observations&#x27;</td>\n",
       "</tr>\n",
       "<tr class=\"iris\">\n",
       "    <td class=\"iris-word-cell iris-subheading-cell\">\tcontact</td>\n",
       "    <td class=\"iris-word-cell\" colspan=\"3\">&#x27;enquiries@metoffice.gov.uk&#x27;</td>\n",
       "</tr>\n",
       "<tr class=\"iris\">\n",
       "    <td class=\"iris-word-cell iris-subheading-cell\">\tcreation_date</td>\n",
       "    <td class=\"iris-word-cell\" colspan=\"3\">&#x27;2018-11-16T13:41:55&#x27;</td>\n",
       "</tr>\n",
       "<tr class=\"iris\">\n",
       "    <td class=\"iris-word-cell iris-subheading-cell\">\tdescription</td>\n",
       "    <td class=\"iris-word-cell\" colspan=\"3\">&#x27;Mean air temperature&#x27;</td>\n",
       "</tr>\n",
       "<tr class=\"iris\">\n",
       "    <td class=\"iris-word-cell iris-subheading-cell\">\tdomain</td>\n",
       "    <td class=\"iris-word-cell\" colspan=\"3\">&#x27;uk&#x27;</td>\n",
       "</tr>\n",
       "<tr class=\"iris\">\n",
       "    <td class=\"iris-word-cell iris-subheading-cell\">\tfrequency</td>\n",
       "    <td class=\"iris-word-cell\" colspan=\"3\">&#x27;ann&#x27;</td>\n",
       "</tr>\n",
       "<tr class=\"iris\">\n",
       "    <td class=\"iris-word-cell iris-subheading-cell\">\tinstitution</td>\n",
       "    <td class=\"iris-word-cell\" colspan=\"3\">&#x27;Met Office Hadley Centre (MOHC), Fitzroy road, Exeter, EX1 3PB, UK&#x27;</td>\n",
       "</tr>\n",
       "<tr class=\"iris\">\n",
       "    <td class=\"iris-word-cell iris-subheading-cell\">\tinstitution_id</td>\n",
       "    <td class=\"iris-word-cell\" colspan=\"3\">&#x27;MOHC&#x27;</td>\n",
       "</tr>\n",
       "<tr class=\"iris\">\n",
       "    <td class=\"iris-word-cell iris-subheading-cell\">\tlabel_units</td>\n",
       "    <td class=\"iris-word-cell\" colspan=\"3\">&#x27;°C&#x27;</td>\n",
       "</tr>\n",
       "<tr class=\"iris\">\n",
       "    <td class=\"iris-word-cell iris-subheading-cell\">\tlevel</td>\n",
       "    <td class=\"iris-word-cell\" colspan=\"3\">&#x27;1.5m&#x27;</td>\n",
       "</tr>\n",
       "<tr class=\"iris\">\n",
       "    <td class=\"iris-word-cell iris-subheading-cell\">\tplot_label</td>\n",
       "    <td class=\"iris-word-cell\" colspan=\"3\">&#x27;Mean air temperature at 1.5m (°C)&#x27;</td>\n",
       "</tr>\n",
       "<tr class=\"iris\">\n",
       "    <td class=\"iris-word-cell iris-subheading-cell\">\tproject</td>\n",
       "    <td class=\"iris-word-cell\" colspan=\"3\">&#x27;HadOBS&#x27;</td>\n",
       "</tr>\n",
       "<tr class=\"iris\">\n",
       "    <td class=\"iris-word-cell iris-subheading-cell\">\treferences</td>\n",
       "    <td class=\"iris-word-cell\" colspan=\"3\">&#x27;doi: 10.1002/joc.1161&#x27;</td>\n",
       "</tr>\n",
       "<tr class=\"iris\">\n",
       "    <td class=\"iris-word-cell iris-subheading-cell\">\tshort_name</td>\n",
       "    <td class=\"iris-word-cell\" colspan=\"3\">&#x27;annual_meantemp&#x27;</td>\n",
       "</tr>\n",
       "<tr class=\"iris\">\n",
       "    <td class=\"iris-word-cell iris-subheading-cell\">\tsource</td>\n",
       "    <td class=\"iris-word-cell\" colspan=\"3\">&#x27;HadUK-Grid_v1.0.0.0&#x27;</td>\n",
       "</tr>\n",
       "<tr class=\"iris\">\n",
       "    <td class=\"iris-word-cell iris-subheading-cell\">\ttitle</td>\n",
       "    <td class=\"iris-word-cell\" colspan=\"3\">&#x27;HadUK-Grid: Gridded land surface climate observations data for the UK&#x27;</td>\n",
       "</tr>\n",
       "<tr class=\"iris\">\n",
       "    <td class=\"iris-word-cell iris-subheading-cell\">\tversion</td>\n",
       "    <td class=\"iris-word-cell\" colspan=\"3\">&#x27;v20181126&#x27;</td>\n",
       "</tr>\n",
       "</table>\n",
       "        "
      ],
      "text/plain": [
       "<iris 'Cube' of air_temperature / (degC) (time: 1; projection_y_coordinate: 1450; projection_x_coordinate: 900)>"
      ]
     },
     "execution_count": 11,
     "metadata": {},
     "output_type": "execute_result"
    }
   ],
   "source": [
    "air_temp"
   ]
  },
  {
   "cell_type": "markdown",
   "id": "e88cdcf2",
   "metadata": {},
   "source": [
    "We can now see a lot more information about the data we have \n",
    "The main features are \n",
    "* Dimension coordinates\n",
    "    * we have a time dimension of length 1, making the cube 2D\n",
    "    * we have projected_y_coordinate, this is North-South\n",
    "    * we have projected_x_coordinate, this is East_West\n",
    "* Auxiliary Coordinates\n",
    "    * latitude and longitude\n",
    "We will come onto Aux coordinates more later - Since the earth is round, theres many projections we can use to project this sphere onto a 2D square plain\n",
    "* Cell methods\n",
    "    * the cell method is describing what kind of data we have, which seems to be mean air temperature over time\n",
    "* Attributes\n",
    "    * Attributes tell us more additional information \n",
    "    * this data comes from HadUK-Grid v1.0.0.0\n",
    "    * its describing mean air temperature, over the uk at an annual frequency\n",
    "    * produced by the met office\n",
    "    * various names and additional information\n",
    "    \n",
    "We haven't done a lot so far, but the cube format has allowed us to learn a lot about the data we are dealing with\n",
    "\n",
    "NOTE: There are many ways to represent points on the spherical earth in a 2D plane. Some are more intuitive then others and i would'nt worry about it to much in this notebook. projected_y_coordinate and projected_x_coordinate are different ways of representing latitude and longitude respectively. \n",
    "    "
   ]
  },
  {
   "cell_type": "markdown",
   "id": "f5f6b5b9",
   "metadata": {},
   "source": [
    "* The next thing we will do is print some coordinates\n",
    "* Printing coordinates tells us more about what our data represents"
   ]
  },
  {
   "cell_type": "code",
   "execution_count": 12,
   "id": "655eb7e4",
   "metadata": {},
   "outputs": [
    {
     "name": "stdout",
     "output_type": "stream",
     "text": [
      "[<DimCoord: time / (hours since 1800-01-01 00:00:00)  [1889-07-02 12:00:00]+bounds>]\n"
     ]
    }
   ],
   "source": [
    "print(air_temp.coords('time'))"
   ]
  },
  {
   "cell_type": "markdown",
   "id": "6e2299f2",
   "metadata": {},
   "source": [
    "This tells us lots of information:\n",
    "* Time units are hours since 1800-01-01 00:00:00 \n",
    "* Calender is gregorian\n",
    "* we also have some bounds \n",
    "\n",
    "We can also extract times and represent them in different ways, for example:\n",
    "* using .cell() index's the list of times in the array, so we can only index at 0 in this case\n",
    "* then .point extracts that time-point, which is a cftime object"
   ]
  },
  {
   "cell_type": "code",
   "execution_count": 13,
   "id": "13aad48b",
   "metadata": {},
   "outputs": [],
   "source": [
    "time_point = air_temp.coord('time').cell(0).point"
   ]
  },
  {
   "cell_type": "code",
   "execution_count": 14,
   "id": "e33e14c4",
   "metadata": {},
   "outputs": [
    {
     "name": "stdout",
     "output_type": "stream",
     "text": [
      "1889-07-02 12:00:00\n"
     ]
    },
    {
     "data": {
      "text/plain": [
       "cftime.DatetimeGregorian(1889, 7, 2, 12, 0, 0, 0, has_year_zero=False)"
      ]
     },
     "execution_count": 14,
     "metadata": {},
     "output_type": "execute_result"
    }
   ],
   "source": [
    "print(time_point)\n",
    "time_point"
   ]
  },
  {
   "cell_type": "markdown",
   "id": "4cb621b7",
   "metadata": {},
   "source": [
    "Note how printing using print and just the variable name gives different information\n",
    "* We can extract different information from the time-point using strftime\n",
    "* This can be useful for labeling plots etc"
   ]
  },
  {
   "cell_type": "code",
   "execution_count": 15,
   "id": "a68a1f0b",
   "metadata": {},
   "outputs": [
    {
     "name": "stdout",
     "output_type": "stream",
     "text": [
      "1889-07-02 display- year, month, date\n",
      "1889 display- year\n",
      "1889-07-02  12-00-00 add- hour, minute,second \n"
     ]
    }
   ],
   "source": [
    "print(time_point.strftime('%Y-%m-%d'), 'display- year, month, date')\n",
    "print(time_point.strftime('%Y'), 'display- year')\n",
    "print(time_point.strftime('%Y-%m-%d  %H-%M-%S'), 'add- hour, minute,second ')"
   ]
  },
  {
   "cell_type": "code",
   "execution_count": 16,
   "id": "c8e0c254",
   "metadata": {},
   "outputs": [
    {
     "name": "stdout",
     "output_type": "stream",
     "text": [
      "DimCoord :  time / (hours since 1800-01-01 00:00:00, standard calendar)\n",
      "    points: [1889-07-02 12:00:00]\n",
      "    bounds: [[1889-01-01 00:00:00, 1890-01-01 00:00:00]]\n",
      "    shape: (1,)  bounds(1, 2)\n",
      "    dtype: float64\n",
      "    standard_name: 'time'\n",
      "    var_name: 'time'\n"
     ]
    }
   ],
   "source": [
    "print(air_temp.coord('time')) \n",
    "# using .coord prints the time as DateTimes, which are much easier to read"
   ]
  },
  {
   "cell_type": "markdown",
   "id": "427cffb8",
   "metadata": {},
   "source": [
    "* we can see our time is bounded at 1889-01-01 00:00:00 and 1890-01-01 00:00:00\n",
    "    * showing we must have the mean air temperature for the full year of 1889\n",
    "* we can also see our main `dimcoord` for time is halfway through the year\n",
    "    * coordinate values are often given as midpoints of the bounds\n",
    "    \n",
    "Lets have a look at some more coordinates and their metadata"
   ]
  },
  {
   "cell_type": "code",
   "execution_count": 17,
   "id": "8d3c9b91",
   "metadata": {},
   "outputs": [
    {
     "name": "stdout",
     "output_type": "stream",
     "text": [
      "DimCoord :  projection_y_coordinate / (m)\n",
      "    points: [-199500., -198500., ..., 1248500., 1249500.]\n",
      "    bounds: [\n",
      "        [-200000., -199000.],\n",
      "        [-199000., -198000.],\n",
      "        ...,\n",
      "        [1248000., 1249000.],\n",
      "        [1249000., 1250000.]]\n",
      "    shape: (1450,)  bounds(1450, 2)\n",
      "    dtype: float64\n",
      "    standard_name: 'projection_y_coordinate'\n",
      "    var_name: 'projection_y_coordinate'\n",
      "    coord_system: TransverseMercator(latitude_of_projection_origin=49.0, longitude_of_central_meridian=-2.0, false_easting=400000.0, false_northing=-100000.0, scale_factor_at_central_meridian=0.9996012717, ellipsoid=GeogCS(semi_major_axis=6377563.396, semi_minor_axis=6356256.909))\n"
     ]
    }
   ],
   "source": [
    "print(air_temp.coord('projection_y_coordinate'))"
   ]
  },
  {
   "cell_type": "markdown",
   "id": "a5b0986d",
   "metadata": {},
   "source": [
    "As before we can see the coordinates data, its bounds for each data point and the metadata that goes with it, including units etc\n",
    "\n",
    "We extract specific parts of the coordinates, the actual data using .points as we have already seen, or accessing the metadata, for example"
   ]
  },
  {
   "cell_type": "code",
   "execution_count": 18,
   "id": "794c61f9",
   "metadata": {},
   "outputs": [
    {
     "data": {
      "text/plain": [
       "DimCoordMetadata(standard_name='projection_y_coordinate', long_name=None, var_name='projection_y_coordinate', units=Unit('m'), attributes={}, coord_system=TransverseMercator(latitude_of_projection_origin=49.0, longitude_of_central_meridian=-2.0, false_easting=400000.0, false_northing=-100000.0, scale_factor_at_central_meridian=0.9996012717, ellipsoid=GeogCS(semi_major_axis=6377563.396, semi_minor_axis=6356256.909)), climatological=False, circular=False)"
      ]
     },
     "execution_count": 18,
     "metadata": {},
     "output_type": "execute_result"
    }
   ],
   "source": [
    "air_temp.coord('projection_y_coordinate').metadata"
   ]
  },
  {
   "cell_type": "markdown",
   "id": "18eb50f3",
   "metadata": {},
   "source": [
    "or something more specific "
   ]
  },
  {
   "cell_type": "code",
   "execution_count": 19,
   "id": "8287adac",
   "metadata": {},
   "outputs": [
    {
     "data": {
      "text/plain": [
       "TransverseMercator(latitude_of_projection_origin=49.0, longitude_of_central_meridian=-2.0, false_easting=400000.0, false_northing=-100000.0, scale_factor_at_central_meridian=0.9996012717, ellipsoid=GeogCS(semi_major_axis=6377563.396, semi_minor_axis=6356256.909))"
      ]
     },
     "execution_count": 19,
     "metadata": {},
     "output_type": "execute_result"
    }
   ],
   "source": [
    "air_temp.coord('projection_y_coordinate').coord_system"
   ]
  },
  {
   "cell_type": "markdown",
   "id": "5d5ea0b6",
   "metadata": {},
   "source": [
    "### Quickly visualise our data\n",
    "\n",
    "* using iris built in plotting modules, we can plot a quick map of our data to see what we are dealing with\n",
    "    * iris quickplot adds labels and colorbars to our plot automatically\n",
    "    * iris plot does'nt have these extra features, but we can customise with our own labels"
   ]
  },
  {
   "cell_type": "code",
   "execution_count": 20,
   "id": "ee20a855",
   "metadata": {},
   "outputs": [],
   "source": [
    "import iris.quickplot as qplt\n",
    "import iris.plot as iplt"
   ]
  },
  {
   "cell_type": "markdown",
   "id": "dde31520",
   "metadata": {},
   "source": [
    "We can plot a 2d slice of our cube - a map of air temperature - using iris.plot or iris.quickplot\n",
    "\n",
    "Although we only have 1 time stamp, we still have a 3D cube with dimensions (1,1450,900) as we have seen by printing our cube. To get our 2D slice, we can simply index the time dimension, so air_temp[0] produces the shape (1450,900)\n",
    "\n",
    "The iris documentation covers indexing a cube really well, so if you're not familiar with indexing please refer to the docs and have a go at indexing different dimensions. Indexing is'nt always intuitive, id recommend trial and error to become familiar with it :)"
   ]
  },
  {
   "cell_type": "code",
   "execution_count": 21,
   "id": "92fa39b6",
   "metadata": {},
   "outputs": [
    {
     "name": "stdout",
     "output_type": "stream",
     "text": [
      "air_temperature / (degC)            (projection_y_coordinate: 1450; projection_x_coordinate: 900)\n",
      "    Dimension coordinates:\n",
      "        projection_y_coordinate                             x                              -\n",
      "        projection_x_coordinate                             -                              x\n",
      "    Auxiliary coordinates:\n",
      "        latitude                                            x                              x\n",
      "        longitude                                           x                              x\n",
      "    Scalar coordinates:\n",
      "        time                        1889-07-02 12:00:00, bound=(1889-01-01 00:00:00, 1890-01-01 00:00:00)\n",
      "    Cell methods:\n",
      "        mid_range within days       time\n",
      "        mean over days              time\n",
      "        mean                        time\n",
      "    Attributes:\n",
      "        Conventions                 'CF-1.5'\n",
      "        collection                  'HadUK-Grid v1.0.0.0'\n",
      "        comment                     'annual resolution gridded climate observations'\n",
      "        contact                     'enquiries@metoffice.gov.uk'\n",
      "        creation_date               '2018-11-16T13:41:55'\n",
      "        description                 'Mean air temperature'\n",
      "        domain                      'uk'\n",
      "        frequency                   'ann'\n",
      "        institution                 'Met Office Hadley Centre (MOHC), Fitzroy road, Exeter, EX1 3PB, UK'\n",
      "        institution_id              'MOHC'\n",
      "        label_units                 '°C'\n",
      "        level                       '1.5m'\n",
      "        plot_label                  'Mean air temperature at 1.5m (°C)'\n",
      "        project                     'HadOBS'\n",
      "        references                  'doi: 10.1002/joc.1161'\n",
      "        short_name                  'annual_meantemp'\n",
      "        source                      'HadUK-Grid_v1.0.0.0'\n",
      "        title                       'HadUK-Grid: Gridded land surface climate observations data for the UK'\n",
      "        version                     'v20181126'\n"
     ]
    },
    {
     "data": {
      "image/png": "[encoded data removed]",
      "text/plain": [
       "<Figure size 800x800 with 2 Axes>"
      ]
     },
     "metadata": {},
     "output_type": "display_data"
    }
   ],
   "source": [
    "plt.figure(figsize=(8,8))\n",
    "qplt.pcolormesh(air_temp[0])\n",
    "print(air_temp[0])\n",
    " #notice how time has moved to a scalar coordinate"
   ]
  },
  {
   "cell_type": "markdown",
   "id": "4260a191",
   "metadata": {},
   "source": [
    "Looking at the plot we have produced, by using `qplt` we get a title, labeled `colorbar` with units as well as the map.\n",
    "`pcolormesh` is a standard `matplotlib` plotting tool and is used for plotting 2D fields"
   ]
  },
  {
   "cell_type": "markdown",
   "id": "ba490d1d",
   "metadata": {},
   "source": [
    "## Section 2 \n",
    "\n",
    "### Subsetting a cube\n",
    "\n",
    "In the next part of this notebook, we will look a little deeper into extract different sections of a cube and producing more visualisations. Ill load in a new cube to use here, which looks at rainfall over a month, with a time-point everyday"
   ]
  },
  {
   "cell_type": "code",
   "execution_count": 22,
   "id": "a515f636",
   "metadata": {},
   "outputs": [],
   "source": [
    "rainfall = iris.load_cube(paths_to_data[1]) # load our cube\n",
    "if HIDE_SECRET_OUTPUT:\n",
    "    clear_output() # Clear warning output"
   ]
  },
  {
   "cell_type": "code",
   "execution_count": 23,
   "id": "d01e121d",
   "metadata": {
    "scrolled": true
   },
   "outputs": [
    {
     "data": {
      "text/html": [
       "\n",
       "<style>\n",
       "  a.iris {\n",
       "      text-decoration: none !important;\n",
       "  }\n",
       "  table.iris {\n",
       "      white-space: pre;\n",
       "      border: 1px solid;\n",
       "      border-color: #9c9c9c;\n",
       "      font-family: monaco, monospace;\n",
       "  }\n",
       "  th.iris {\n",
       "      background: #303f3f;\n",
       "      color: #e0e0e0;\n",
       "      border-left: 1px solid;\n",
       "      border-color: #9c9c9c;\n",
       "      font-size: 1.05em;\n",
       "      min-width: 50px;\n",
       "      max-width: 125px;\n",
       "  }\n",
       "  tr.iris :first-child {\n",
       "      border-right: 1px solid #9c9c9c !important;\n",
       "  }\n",
       "  td.iris-title {\n",
       "      background: #d5dcdf;\n",
       "      border-top: 1px solid #9c9c9c;\n",
       "      font-weight: bold;\n",
       "  }\n",
       "  .iris-word-cell {\n",
       "      text-align: left !important;\n",
       "      white-space: pre;\n",
       "  }\n",
       "  .iris-subheading-cell {\n",
       "      padding-left: 2em !important;\n",
       "  }\n",
       "  .iris-inclusion-cell {\n",
       "      padding-right: 1em !important;\n",
       "  }\n",
       "  .iris-panel-body {\n",
       "      padding-top: 0px;\n",
       "  }\n",
       "  .iris-panel-title {\n",
       "      padding-left: 3em;\n",
       "  }\n",
       "  .iris-panel-title {\n",
       "      margin-top: 7px;\n",
       "  }\n",
       "</style>\n",
       "<table class=\"iris\" id=\"140656357936288\">\n",
       "    <tr class=\"iris\">\n",
       "<th class=\"iris iris-word-cell\">Lwe Thickness Of Precipitation Amount (mm)</th>\n",
       "<th class=\"iris iris-word-cell\">time</th>\n",
       "<th class=\"iris iris-word-cell\">projection_y_coordinate</th>\n",
       "<th class=\"iris iris-word-cell\">projection_x_coordinate</th>\n",
       "</tr>\n",
       "    <tr class=\"iris\">\n",
       "<td class=\"iris-word-cell iris-subheading-cell\">Shape</td>\n",
       "<td class=\"iris iris-inclusion-cell\">31</td>\n",
       "<td class=\"iris iris-inclusion-cell\">110</td>\n",
       "<td class=\"iris iris-inclusion-cell\">83</td>\n",
       "</tr>\n",
       "    <tr class=\"iris\">\n",
       "    <td class=\"iris-title iris-word-cell\">Dimension coordinates</td>\n",
       "    <td class=\"iris-title\"></td>\n",
       "    <td class=\"iris-title\"></td>\n",
       "    <td class=\"iris-title\"></td>\n",
       "</tr>\n",
       "<tr class=\"iris\">\n",
       "    <td class=\"iris-word-cell iris-subheading-cell\">\ttime</td>\n",
       "    <td class=\"iris-inclusion-cell\">x</td>\n",
       "    <td class=\"iris-inclusion-cell\">-</td>\n",
       "    <td class=\"iris-inclusion-cell\">-</td>\n",
       "</tr>\n",
       "<tr class=\"iris\">\n",
       "    <td class=\"iris-word-cell iris-subheading-cell\">\tprojection_y_coordinate</td>\n",
       "    <td class=\"iris-inclusion-cell\">-</td>\n",
       "    <td class=\"iris-inclusion-cell\">x</td>\n",
       "    <td class=\"iris-inclusion-cell\">-</td>\n",
       "</tr>\n",
       "<tr class=\"iris\">\n",
       "    <td class=\"iris-word-cell iris-subheading-cell\">\tprojection_x_coordinate</td>\n",
       "    <td class=\"iris-inclusion-cell\">-</td>\n",
       "    <td class=\"iris-inclusion-cell\">-</td>\n",
       "    <td class=\"iris-inclusion-cell\">x</td>\n",
       "</tr>\n",
       "<tr class=\"iris\">\n",
       "    <td class=\"iris-title iris-word-cell\">Auxiliary coordinates</td>\n",
       "    <td class=\"iris-title\"></td>\n",
       "    <td class=\"iris-title\"></td>\n",
       "    <td class=\"iris-title\"></td>\n",
       "</tr>\n",
       "<tr class=\"iris\">\n",
       "    <td class=\"iris-word-cell iris-subheading-cell\">\tlatitude</td>\n",
       "    <td class=\"iris-inclusion-cell\">-</td>\n",
       "    <td class=\"iris-inclusion-cell\">x</td>\n",
       "    <td class=\"iris-inclusion-cell\">x</td>\n",
       "</tr>\n",
       "<tr class=\"iris\">\n",
       "    <td class=\"iris-word-cell iris-subheading-cell\">\tlongitude</td>\n",
       "    <td class=\"iris-inclusion-cell\">-</td>\n",
       "    <td class=\"iris-inclusion-cell\">x</td>\n",
       "    <td class=\"iris-inclusion-cell\">x</td>\n",
       "</tr>\n",
       "<tr class=\"iris\">\n",
       "    <td class=\"iris-title iris-word-cell\">Cell methods</td>\n",
       "    <td class=\"iris-title\"></td>\n",
       "    <td class=\"iris-title\"></td>\n",
       "    <td class=\"iris-title\"></td>\n",
       "</tr>\n",
       "<tr class=\"iris\">\n",
       "    <td class=\"iris-word-cell iris-subheading-cell\">\tsum</td>\n",
       "    <td class=\"iris-word-cell\" colspan=\"3\">time</td>\n",
       "</tr>\n",
       "<tr class=\"iris\">\n",
       "    <td class=\"iris-title iris-word-cell\">Attributes</td>\n",
       "    <td class=\"iris-title\"></td>\n",
       "    <td class=\"iris-title\"></td>\n",
       "    <td class=\"iris-title\"></td>\n",
       "</tr>\n",
       "<tr class=\"iris\">\n",
       "    <td class=\"iris-word-cell iris-subheading-cell\">\tConventions</td>\n",
       "    <td class=\"iris-word-cell\" colspan=\"3\">&#x27;CF-1.5&#x27;</td>\n",
       "</tr>\n",
       "<tr class=\"iris\">\n",
       "    <td class=\"iris-word-cell iris-subheading-cell\">\tcollection</td>\n",
       "    <td class=\"iris-word-cell\" colspan=\"3\">&#x27;HadUK-Grid v1.0.0.0&#x27;</td>\n",
       "</tr>\n",
       "<tr class=\"iris\">\n",
       "    <td class=\"iris-word-cell iris-subheading-cell\">\tcomment</td>\n",
       "    <td class=\"iris-word-cell\" colspan=\"3\">&#x27;Daily resolution gridded climate observations&#x27;</td>\n",
       "</tr>\n",
       "<tr class=\"iris\">\n",
       "    <td class=\"iris-word-cell iris-subheading-cell\">\tcontact</td>\n",
       "    <td class=\"iris-word-cell\" colspan=\"3\">&#x27;enquiries@metoffice.gov.uk&#x27;</td>\n",
       "</tr>\n",
       "<tr class=\"iris\">\n",
       "    <td class=\"iris-word-cell iris-subheading-cell\">\tcreation_date</td>\n",
       "    <td class=\"iris-word-cell\" colspan=\"3\">&#x27;2018-11-19T13:36:17&#x27;</td>\n",
       "</tr>\n",
       "<tr class=\"iris\">\n",
       "    <td class=\"iris-word-cell iris-subheading-cell\">\tdescription</td>\n",
       "    <td class=\"iris-word-cell\" colspan=\"3\">&#x27;Total rainfall&#x27;</td>\n",
       "</tr>\n",
       "<tr class=\"iris\">\n",
       "    <td class=\"iris-word-cell iris-subheading-cell\">\tdomain</td>\n",
       "    <td class=\"iris-word-cell\" colspan=\"3\">&#x27;uk&#x27;</td>\n",
       "</tr>\n",
       "<tr class=\"iris\">\n",
       "    <td class=\"iris-word-cell iris-subheading-cell\">\tfrequency</td>\n",
       "    <td class=\"iris-word-cell\" colspan=\"3\">&#x27;day&#x27;</td>\n",
       "</tr>\n",
       "<tr class=\"iris\">\n",
       "    <td class=\"iris-word-cell iris-subheading-cell\">\tinstitution</td>\n",
       "    <td class=\"iris-word-cell\" colspan=\"3\">&#x27;Met Office Hadley Centre (MOHC), Fitzroy road, Exeter, EX1 3PB, UK&#x27;</td>\n",
       "</tr>\n",
       "<tr class=\"iris\">\n",
       "    <td class=\"iris-word-cell iris-subheading-cell\">\tinstitution_id</td>\n",
       "    <td class=\"iris-word-cell\" colspan=\"3\">&#x27;MOHC&#x27;</td>\n",
       "</tr>\n",
       "<tr class=\"iris\">\n",
       "    <td class=\"iris-word-cell iris-subheading-cell\">\tlabel_units</td>\n",
       "    <td class=\"iris-word-cell\" colspan=\"3\">&#x27;mm&#x27;</td>\n",
       "</tr>\n",
       "<tr class=\"iris\">\n",
       "    <td class=\"iris-word-cell iris-subheading-cell\">\tplot_label</td>\n",
       "    <td class=\"iris-word-cell\" colspan=\"3\">&#x27;Total rainfall (mm)&#x27;</td>\n",
       "</tr>\n",
       "<tr class=\"iris\">\n",
       "    <td class=\"iris-word-cell iris-subheading-cell\">\tproject</td>\n",
       "    <td class=\"iris-word-cell\" colspan=\"3\">&#x27;HadOBS&#x27;</td>\n",
       "</tr>\n",
       "<tr class=\"iris\">\n",
       "    <td class=\"iris-word-cell iris-subheading-cell\">\treferences</td>\n",
       "    <td class=\"iris-word-cell\" colspan=\"3\">&#x27;doi: 10.1002/joc.1161&#x27;</td>\n",
       "</tr>\n",
       "<tr class=\"iris\">\n",
       "    <td class=\"iris-word-cell iris-subheading-cell\">\tshort_name</td>\n",
       "    <td class=\"iris-word-cell\" colspan=\"3\">&#x27;daily_rainfall&#x27;</td>\n",
       "</tr>\n",
       "<tr class=\"iris\">\n",
       "    <td class=\"iris-word-cell iris-subheading-cell\">\tsource</td>\n",
       "    <td class=\"iris-word-cell\" colspan=\"3\">&#x27;HadUK-Grid_v1.0.0.0&#x27;</td>\n",
       "</tr>\n",
       "<tr class=\"iris\">\n",
       "    <td class=\"iris-word-cell iris-subheading-cell\">\ttitle</td>\n",
       "    <td class=\"iris-word-cell\" colspan=\"3\">&#x27;HadUK-Grid: Gridded land surface climate observations data for the UK&#x27;</td>\n",
       "</tr>\n",
       "<tr class=\"iris\">\n",
       "    <td class=\"iris-word-cell iris-subheading-cell\">\tversion</td>\n",
       "    <td class=\"iris-word-cell\" colspan=\"3\">&#x27;v20181126&#x27;</td>\n",
       "</tr>\n",
       "</table>\n",
       "        "
      ],
      "text/plain": [
       "<iris 'Cube' of lwe_thickness_of_precipitation_amount / (mm) (time: 31; projection_y_coordinate: 110; projection_x_coordinate: 83)>"
      ]
     },
     "execution_count": 23,
     "metadata": {},
     "output_type": "execute_result"
    }
   ],
   "source": [
    "rainfall"
   ]
  },
  {
   "cell_type": "markdown",
   "id": "30f01b68",
   "metadata": {},
   "source": [
    "Having a look at time again now, we can use our `.cell()` method we have already seen to index different parts of our time coordinate. indexing(-1) gets the lazy element of the array, so we can print both to get a concise look at the start and end of our time coordinates"
   ]
  },
  {
   "cell_type": "code",
   "execution_count": 24,
   "id": "3d6c2467",
   "metadata": {},
   "outputs": [
    {
     "name": "stdout",
     "output_type": "stream",
     "text": [
      "Cell(point=cftime.DatetimeGregorian(1891, 1, 1, 12, 0, 0, 0, has_year_zero=False), bound=(cftime.DatetimeGregorian(1891, 1, 1, 9, 0, 0, 0, has_year_zero=False), cftime.DatetimeGregorian(1891, 1, 2, 9, 0, 0, 0, has_year_zero=False)))\n",
      "Cell(point=cftime.DatetimeGregorian(1891, 1, 31, 12, 0, 0, 0, has_year_zero=False), bound=(cftime.DatetimeGregorian(1891, 1, 31, 9, 0, 0, 0, has_year_zero=False), cftime.DatetimeGregorian(1891, 2, 1, 9, 0, 0, 0, has_year_zero=False)))\n"
     ]
    }
   ],
   "source": [
    "print(rainfall.coord('time').cell(0))\n",
    "print(rainfall.coord('time').cell(-1))\n",
    "# looks like we have the full month of january"
   ]
  },
  {
   "cell_type": "markdown",
   "id": "a5732eb4",
   "metadata": {},
   "source": [
    "* it would be nice to know how rainfall varies over the month \n",
    "    * We can do this by collapsing the cube over given dimensions and giving a type of analysis\n",
    "    * eg iris.analysis.MEAN finds the means of all the points\n",
    "    * this will return the mean rainfall amount for the x-y plane at each timepoint\n",
    "    * this can then be plotted as a time series to see how mean rainfall varies over the month\n",
    "\n",
    "[iris.analysis](https://scitools-iris.readthedocs.io/en/stable/generated/api/iris/analysis.html?highlight=iris.analysis) comes with loads of different statistics"
   ]
  },
  {
   "cell_type": "code",
   "execution_count": 25,
   "id": "d2665caa",
   "metadata": {
    "scrolled": true
   },
   "outputs": [],
   "source": [
    "rainfall_mean = rainfall.collapsed((['projection_y_coordinate', 'projection_x_coordinate']), iris.analysis.MEAN)\n",
    "rainfall_std = rainfall.collapsed((['projection_y_coordinate', 'projection_x_coordinate']), iris.analysis.STD_DEV)\n",
    "if HIDE_SECRET_OUTPUT:\n",
    "    clear_output() # Clear warning output"
   ]
  },
  {
   "cell_type": "markdown",
   "id": "02152aa6",
   "metadata": {},
   "source": [
    "Using `quickplot.plot` we can quickly plot the time series"
   ]
  },
  {
   "cell_type": "code",
   "execution_count": 26,
   "id": "8b2ab99d",
   "metadata": {},
   "outputs": [
    {
     "data": {
      "text/plain": [
       "<matplotlib.legend.Legend at 0x7fecf8a07e80>"
      ]
     },
     "execution_count": 26,
     "metadata": {},
     "output_type": "execute_result"
    },
    {
     "data": {
      "image/png": "[encoded data removed]",
      "text/plain": [
       "<Figure size 640x480 with 1 Axes>"
      ]
     },
     "metadata": {},
     "output_type": "display_data"
    }
   ],
   "source": [
    "qplt.plot(rainfall_mean,'b-',label='Mean')\n",
    "qplt.plot(rainfall_std,'b--',label='Standard Deviation')\n",
    "# we can combine with matplotlib functionality to make our plot more readable\n",
    "plt.xticks(rotation=45)\n",
    "plt.legend()"
   ]
  },
  {
   "cell_type": "markdown",
   "id": "ffb7f042",
   "metadata": {},
   "source": [
    "* its simple then to plot the slice of the cube where rainfall increases, looks like the 20th from the graph\n",
    "* we can easily index this slice and plot it to see what the map looks like"
   ]
  },
  {
   "cell_type": "code",
   "execution_count": 27,
   "id": "a6c1b67d",
   "metadata": {},
   "outputs": [
    {
     "name": "stdout",
     "output_type": "stream",
     "text": [
      "Cell(point=cftime.DatetimeGregorian(1891, 1, 20, 12, 0, 0, 0, has_year_zero=False), bound=(cftime.DatetimeGregorian(1891, 1, 20, 9, 0, 0, 0, has_year_zero=False), cftime.DatetimeGregorian(1891, 1, 21, 9, 0, 0, 0, has_year_zero=False)))\n"
     ]
    },
    {
     "data": {
      "image/png": "[encoded data removed]",
      "text/plain": [
       "<Figure size 600x600 with 2 Axes>"
      ]
     },
     "metadata": {},
     "output_type": "display_data"
    }
   ],
   "source": [
    "plt.figure(figsize=(6,6))\n",
    "qplt.pcolormesh(rainfall[19]) #20th is at 19 since we use 0 indexing in python\n",
    "print(rainfall.coord('time').cell(19)) # double check we have the righy date "
   ]
  },
  {
   "cell_type": "markdown",
   "id": "edb6c18f",
   "metadata": {},
   "source": [
    "okay so this looks good, but what about investigating different parts of the uk?\n",
    "\n",
    "Here we will use constraints to extract parts of the uk using the projected x and y coordinate. I used some trial and error to get the values i wanted to extract between however i accessed the coordinates to view their range\n",
    "\n",
    "First ill set up some functions for the constraints to make the code a bit cleaner"
   ]
  },
  {
   "cell_type": "code",
   "execution_count": 28,
   "id": "85505fe8",
   "metadata": {},
   "outputs": [],
   "source": [
    "# making some functions to constrain produce constraints\n",
    "def y_constraint(y_min,y_max):\n",
    "    y_constraint = iris.Constraint(projection_y_coordinate=lambda cell: y_min < cell < y_max)\n",
    "    return y_constraint\n",
    "\n",
    "def x_constraint(x_min,x_max):\n",
    "    x_constraint = iris.Constraint(projection_x_coordinate=lambda cell: x_min < cell < x_max)\n",
    "    return x_constraint"
   ]
  },
  {
   "cell_type": "markdown",
   "id": "14eb0039",
   "metadata": {},
   "source": [
    "Next ill print the min and max of the x,y coordinates to see the range of values i can extract from"
   ]
  },
  {
   "cell_type": "code",
   "execution_count": 29,
   "id": "5d5550e3",
   "metadata": {},
   "outputs": [
    {
     "name": "stdout",
     "output_type": "stream",
     "text": [
      "y coordinate minimum -87500.0\n",
      "y coordinate maximum 1220500.0\n",
      "x coordinate minimum -187500.0\n",
      "x coordinate maximum 796500.0\n"
     ]
    }
   ],
   "source": [
    "print('y coordinate minimum {}' .format(rainfall.coord('projection_y_coordinate').points.min()))\n",
    "max_y = rainfall.coord('projection_y_coordinate').points.max()\n",
    "print('y coordinate maximum {}' .format(rainfall.coord('projection_y_coordinate').points.max()))\n",
    "print('x coordinate minimum {}' .format(rainfall.coord('projection_x_coordinate').points.min()))\n",
    "print('x coordinate maximum {}' .format(rainfall.coord('projection_x_coordinate').points.max()))"
   ]
  },
  {
   "cell_type": "code",
   "execution_count": 30,
   "id": "094aeef2",
   "metadata": {},
   "outputs": [],
   "source": [
    "north_west = rainfall.extract(x_constraint(-100000,350000) & y_constraint(350000,max_y))\n",
    "north_east = rainfall.extract(x_constraint(350000,700000) & y_constraint(350000,max_y))\n",
    "south_west = rainfall.extract(x_constraint(-100000,450000) & y_constraint(10000,350000))\n",
    "south_east = rainfall.extract(x_constraint(450000,700000) & y_constraint(10000,350000))"
   ]
  },
  {
   "cell_type": "markdown",
   "id": "8f75308c",
   "metadata": {},
   "source": [
    "* i did'nt choose midpoint and edges of the coordinate to split the cube into 4 as the UK is on an angle \n",
    "* i choose these constraints to get rough region split \n",
    "* feel free to play around with the constraints and extract different parts of the UK \n",
    "* each extracted region, is now just a smaller subset of the larger rainfall cube"
   ]
  },
  {
   "cell_type": "code",
   "execution_count": 31,
   "id": "7b842fda",
   "metadata": {},
   "outputs": [
    {
     "name": "stdout",
     "output_type": "stream",
     "text": [
      "lwe_thickness_of_precipitation_amount / (mm) (time: 31; projection_y_coordinate: 72; projection_x_coordinate: 37)\n",
      "    Dimension coordinates:\n",
      "        time                                      x                            -                            -\n",
      "        projection_y_coordinate                   -                            x                            -\n",
      "        projection_x_coordinate                   -                            -                            x\n",
      "    Auxiliary coordinates:\n",
      "        latitude                                  -                            x                            x\n",
      "        longitude                                 -                            x                            x\n",
      "    Cell methods:\n",
      "        sum                                  time\n",
      "    Attributes:\n",
      "        Conventions                          'CF-1.5'\n",
      "        collection                           'HadUK-Grid v1.0.0.0'\n",
      "        comment                              'Daily resolution gridded climate observations'\n",
      "        contact                              'enquiries@metoffice.gov.uk'\n",
      "        creation_date                        '2018-11-19T13:36:17'\n",
      "        description                          'Total rainfall'\n",
      "        domain                               'uk'\n",
      "        frequency                            'day'\n",
      "        institution                          'Met Office Hadley Centre (MOHC), Fitzroy road, Exeter, EX1 3PB, UK'\n",
      "        institution_id                       'MOHC'\n",
      "        label_units                          'mm'\n",
      "        plot_label                           'Total rainfall (mm)'\n",
      "        project                              'HadOBS'\n",
      "        references                           'doi: 10.1002/joc.1161'\n",
      "        short_name                           'daily_rainfall'\n",
      "        source                               'HadUK-Grid_v1.0.0.0'\n",
      "        title                                'HadUK-Grid: Gridded land surface climate observations data for the UK'\n",
      "        version                              'v20181126'\n"
     ]
    }
   ],
   "source": [
    "print(north_west)"
   ]
  },
  {
   "cell_type": "markdown",
   "id": "729385c0",
   "metadata": {},
   "source": [
    "Now lets plot each region using subplots"
   ]
  },
  {
   "cell_type": "code",
   "execution_count": 32,
   "id": "309e8d49",
   "metadata": {},
   "outputs": [
    {
     "data": {
      "image/png": "[encoded data removed]",
      "text/plain": [
       "<Figure size 800x800 with 5 Axes>"
      ]
     },
     "metadata": {},
     "output_type": "display_data"
    }
   ],
   "source": [
    "fig, axes = plt.subplots(figsize = (8,8),nrows=2, ncols=2)\n",
    "plt.subplot(2,2,1)\n",
    "plt.title('north west')\n",
    "im = iplt.pcolormesh(north_west[19])\n",
    "plt.subplot(2,2,2)\n",
    "plt.title('north east')\n",
    "im = iplt.pcolormesh(north_east[19])\n",
    "plt.subplot(2,2,3)\n",
    "plt.title('south west')\n",
    "im = iplt.pcolormesh(south_west[19])\n",
    "plt.subplot(2,2,4)\n",
    "plt.title('south east')\n",
    "im = iplt.pcolormesh(south_east[19])\n",
    "fig.colorbar(im , ax=axes.ravel().tolist())\n",
    "plt.subplots_adjust(right=0.8)"
   ]
  },
  {
   "cell_type": "markdown",
   "id": "b9abe5d3",
   "metadata": {},
   "source": [
    "We can make time series again to compare the mean of each region! "
   ]
  },
  {
   "cell_type": "code",
   "execution_count": 33,
   "id": "788c9fe3",
   "metadata": {},
   "outputs": [],
   "source": [
    "north_west_mean = north_west.collapsed((['projection_y_coordinate', 'projection_x_coordinate']), iris.analysis.MEAN)\n",
    "north_east_mean = north_east.collapsed((['projection_y_coordinate', 'projection_x_coordinate']), iris.analysis.MEAN)\n",
    "south_east_mean = south_east.collapsed((['projection_y_coordinate', 'projection_x_coordinate']), iris.analysis.MEAN)\n",
    "south_west_mean = south_west.collapsed((['projection_y_coordinate', 'projection_x_coordinate']), iris.analysis.MEAN)\n",
    "if HIDE_SECRET_OUTPUT:\n",
    "    clear_output() # Clear warning output"
   ]
  },
  {
   "cell_type": "code",
   "execution_count": 34,
   "id": "06e66cd8",
   "metadata": {},
   "outputs": [
    {
     "data": {
      "text/plain": [
       "<matplotlib.legend.Legend at 0x7fecf83ec700>"
      ]
     },
     "execution_count": 34,
     "metadata": {},
     "output_type": "execute_result"
    },
    {
     "data": {
      "image/png": "[encoded data removed]",
      "text/plain": [
       "<Figure size 1000x600 with 1 Axes>"
      ]
     },
     "metadata": {},
     "output_type": "display_data"
    }
   ],
   "source": [
    "plt.figure(figsize=(10,6))\n",
    "qplt.plot(north_west_mean,label='north west')\n",
    "qplt.plot(south_west_mean,label='south west')\n",
    "qplt.plot(north_east_mean,label='north east')\n",
    "qplt.plot(south_east_mean,label='south east')\n",
    "plt.legend()\n",
    "# if you prefer to add your own titles and labels, use iplt (iris.plot) and add labels ect using matplotlib\n"
   ]
  },
  {
   "cell_type": "markdown",
   "id": "c72b8a50",
   "metadata": {},
   "source": [
    "## Section 3\n",
    "\n",
    "##### Concatenating cubes\n",
    "\n",
    "* being able to [concatenate and merge](https://scitools-iris.readthedocs.io/en/stable/userguide/merge_and_concat.html) cubes together is a very useful skill\n",
    "* it allows longer time series of data to be in the same cube, making data processing and visualisations much easier\n"
   ]
  },
  {
   "cell_type": "markdown",
   "id": "311f6dd7",
   "metadata": {},
   "source": [
    "First lets load in two cubes to the same cubelist, concatenate works from a cubelist, so its worth trying this first"
   ]
  },
  {
   "cell_type": "code",
   "execution_count": 35,
   "id": "ac9b563c",
   "metadata": {},
   "outputs": [],
   "source": [
    "rainfall_cubelist = iris.load([paths_to_data[2], paths_to_data[3]])\n",
    "if HIDE_SECRET_OUTPUT:\n",
    "    clear_output() # Clear warning output"
   ]
  },
  {
   "cell_type": "code",
   "execution_count": 36,
   "id": "41a17d18",
   "metadata": {},
   "outputs": [
    {
     "data": {
      "text/plain": [
       "[<iris 'Cube' of lwe_thickness_of_precipitation_amount / (mm) (time: 31; projection_y_coordinate: 110; projection_x_coordinate: 83)>,\n",
       "<iris 'Cube' of lwe_thickness_of_precipitation_amount / (mm) (time: 28; projection_y_coordinate: 110; projection_x_coordinate: 83)>]"
      ]
     },
     "execution_count": 36,
     "metadata": {},
     "output_type": "execute_result"
    }
   ],
   "source": [
    "rainfall_cubelist"
   ]
  },
  {
   "cell_type": "code",
   "execution_count": 37,
   "id": "afc4580a",
   "metadata": {},
   "outputs": [
    {
     "name": "stdout",
     "output_type": "stream",
     "text": [
      "lwe_thickness_of_precipitation_amount / (mm) (time: 31; projection_y_coordinate: 110; projection_x_coordinate: 83)\n",
      "    Dimension coordinates:\n",
      "        time                                      x                            -                             -\n",
      "        projection_y_coordinate                   -                            x                             -\n",
      "        projection_x_coordinate                   -                            -                             x\n",
      "    Auxiliary coordinates:\n",
      "        latitude                                  -                            x                             x\n",
      "        longitude                                 -                            x                             x\n",
      "    Cell methods:\n",
      "        sum                                  time\n",
      "    Attributes:\n",
      "        Conventions                          'CF-1.5'\n",
      "        collection                           'HadUK-Grid v1.0.0.0'\n",
      "        comment                              'Daily resolution gridded climate observations'\n",
      "        contact                              'enquiries@metoffice.gov.uk'\n",
      "        creation_date                        '2018-11-19T13:36:17'\n",
      "        description                          'Total rainfall'\n",
      "        domain                               'uk'\n",
      "        frequency                            'day'\n",
      "        institution                          'Met Office Hadley Centre (MOHC), Fitzroy road, Exeter, EX1 3PB, UK'\n",
      "        institution_id                       'MOHC'\n",
      "        label_units                          'mm'\n",
      "        plot_label                           'Total rainfall (mm)'\n",
      "        project                              'HadOBS'\n",
      "        references                           'doi: 10.1002/joc.1161'\n",
      "        short_name                           'daily_rainfall'\n",
      "        source                               'HadUK-Grid_v1.0.0.0'\n",
      "        title                                'HadUK-Grid: Gridded land surface climate observations data for the UK'\n",
      "        version                              'v20181126'\n",
      "lwe_thickness_of_precipitation_amount / (mm) (time: 28; projection_y_coordinate: 110; projection_x_coordinate: 83)\n",
      "    Dimension coordinates:\n",
      "        time                                      x                            -                             -\n",
      "        projection_y_coordinate                   -                            x                             -\n",
      "        projection_x_coordinate                   -                            -                             x\n",
      "    Auxiliary coordinates:\n",
      "        latitude                                  -                            x                             x\n",
      "        longitude                                 -                            x                             x\n",
      "    Cell methods:\n",
      "        sum                                  time\n",
      "    Attributes:\n",
      "        Conventions                          'CF-1.5'\n",
      "        collection                           'HadUK-Grid v1.0.0.0'\n",
      "        comment                              'Daily resolution gridded climate observations'\n",
      "        contact                              'enquiries@metoffice.gov.uk'\n",
      "        creation_date                        '2018-11-19T13:37:27'\n",
      "        description                          'Total rainfall'\n",
      "        domain                               'uk'\n",
      "        frequency                            'day'\n",
      "        institution                          'Met Office Hadley Centre (MOHC), Fitzroy road, Exeter, EX1 3PB, UK'\n",
      "        institution_id                       'MOHC'\n",
      "        label_units                          'mm'\n",
      "        plot_label                           'Total rainfall (mm)'\n",
      "        project                              'HadOBS'\n",
      "        references                           'doi: 10.1002/joc.1161'\n",
      "        short_name                           'daily_rainfall'\n",
      "        source                               'HadUK-Grid_v1.0.0.0'\n",
      "        title                                'HadUK-Grid: Gridded land surface climate observations data for the UK'\n",
      "        version                              'v20181126'\n"
     ]
    }
   ],
   "source": [
    "print(rainfall_cubelist[0])\n",
    "print(rainfall_cubelist[1])"
   ]
  },
  {
   "cell_type": "markdown",
   "id": "bfe899c3",
   "metadata": {},
   "source": [
    "A quick scan over the dimensions and metadata it looks like everything matches (it should really its from the same version of the same database!) \n",
    "Lets try concatenate the cubes \n",
    "We can either use concatenate_cubes() or concatenate() , i prefer concatenate_cubes() as it returns a cube or throws an error if it cant concatenate, whereas concatenate() returns a cubelist and will just return the original cubelist if no concatenation can be done  "
   ]
  },
  {
   "cell_type": "code",
   "execution_count": 38,
   "id": "f710723b",
   "metadata": {},
   "outputs": [
    {
     "name": "stdout",
     "output_type": "stream",
     "text": [
      "Error: failed to concatenate into a single cube.\n",
      "  Cube metadata differs for phenomenon: lwe_thickness_of_precipitation_amount\n"
     ]
    }
   ],
   "source": [
    "try:\n",
    "    rainfall_cubelist.concatenate_cube()\n",
    "except Exception as e:\n",
    "    print(\"Error:\", e)\n",
    "    "
   ]
  },
  {
   "cell_type": "markdown",
   "id": "12b23b23",
   "metadata": {},
   "source": [
    "so it seems some metadata differs after all! This is usually the case, luckily iris has a very useful function that can help us fix this quickly \n",
    "* [iris.util](https://scitools-iris.readthedocs.io/en/stable/generated/api/iris/util.html?highlight=utils#iris-util) has loads of very useful functions, id recommend checking out the docs here \n",
    "* we will use describe_diff to see what the differences are \n",
    "* we can then use equalise_attributes to delete the differing metadata - easy!"
   ]
  },
  {
   "cell_type": "code",
   "execution_count": 39,
   "id": "903e20c2",
   "metadata": {},
   "outputs": [
    {
     "name": "stdout",
     "output_type": "stream",
     "text": [
      "\"creation_date\" cube_a attribute value \"2018-11-19T13:36:17\" is not compatible with cube_b attribute value \"2018-11-19T13:37:27\"\n"
     ]
    }
   ],
   "source": [
    "iris.util.describe_diff(rainfall_cubelist[0],rainfall_cubelist[1])"
   ]
  },
  {
   "cell_type": "code",
   "execution_count": 40,
   "id": "68165a41",
   "metadata": {},
   "outputs": [
    {
     "data": {
      "text/plain": [
       "[{'creation_date': '2018-11-19T13:36:17'},\n",
       " {'creation_date': '2018-11-19T13:37:27'}]"
      ]
     },
     "execution_count": 40,
     "metadata": {},
     "output_type": "execute_result"
    }
   ],
   "source": [
    "iris.util.equalise_attributes(rainfall_cubelist)"
   ]
  },
  {
   "cell_type": "code",
   "execution_count": 41,
   "id": "28199309",
   "metadata": {},
   "outputs": [
    {
     "name": "stdout",
     "output_type": "stream",
     "text": [
      "Cubes are compatible\n"
     ]
    }
   ],
   "source": [
    "iris.util.describe_diff(rainfall_cubelist[0],rainfall_cubelist[1])"
   ]
  },
  {
   "cell_type": "markdown",
   "id": "d49ca5e6",
   "metadata": {},
   "source": [
    "Note we equalise attributes over the cubelist, so cubes in the list will then be compatible"
   ]
  },
  {
   "cell_type": "code",
   "execution_count": 42,
   "id": "ae99cd89",
   "metadata": {},
   "outputs": [
    {
     "name": "stdout",
     "output_type": "stream",
     "text": [
      "lwe_thickness_of_precipitation_amount / (mm) (time: 59; projection_y_coordinate: 110; projection_x_coordinate: 83)\n",
      "    Dimension coordinates:\n",
      "        time                                      x                            -                             -\n",
      "        projection_y_coordinate                   -                            x                             -\n",
      "        projection_x_coordinate                   -                            -                             x\n",
      "    Auxiliary coordinates:\n",
      "        latitude                                  -                            x                             x\n",
      "        longitude                                 -                            x                             x\n",
      "    Cell methods:\n",
      "        sum                                  time\n",
      "    Attributes:\n",
      "        Conventions                          'CF-1.5'\n",
      "        collection                           'HadUK-Grid v1.0.0.0'\n",
      "        comment                              'Daily resolution gridded climate observations'\n",
      "        contact                              'enquiries@metoffice.gov.uk'\n",
      "        description                          'Total rainfall'\n",
      "        domain                               'uk'\n",
      "        frequency                            'day'\n",
      "        institution                          'Met Office Hadley Centre (MOHC), Fitzroy road, Exeter, EX1 3PB, UK'\n",
      "        institution_id                       'MOHC'\n",
      "        label_units                          'mm'\n",
      "        plot_label                           'Total rainfall (mm)'\n",
      "        project                              'HadOBS'\n",
      "        references                           'doi: 10.1002/joc.1161'\n",
      "        short_name                           'daily_rainfall'\n",
      "        source                               'HadUK-Grid_v1.0.0.0'\n",
      "        title                                'HadUK-Grid: Gridded land surface climate observations data for the UK'\n",
      "        version                              'v20181126'\n"
     ]
    }
   ],
   "source": [
    "jan_feb_rainfall = rainfall_cubelist.concatenate_cube()\n",
    "print(jan_feb_rainfall)"
   ]
  },
  {
   "cell_type": "markdown",
   "id": "342760e3",
   "metadata": {},
   "source": [
    "Ill leave it down to the reader to rerun plots, or change regions and plot some time series!\n",
    "\n",
    "Can also get some more data from ceda, make a larger cube with more data to plot!\n",
    "\n",
    "Finally, a quick warning with `equalise_attributes` and describe_diff\n",
    "* Not all differences are picked up, therefore wont be removed by equalise attributes either!\n",
    "* A blocker i usually find when trying to concatenate is a coordinate forecast_period which these cubes don't have \n",
    "* To get around this, or any other coordinates which may be preventing concatenate, coordinates can be removed from a cube manually, for example: cube.remove_coord('forecast_period')\n",
    "* other things that can be tricky is if the cubes coordinate metadata differs, this hopefully should'nt be the case, but its worth looking into if you're stuck \n"
   ]
  },
  {
   "cell_type": "markdown",
   "id": "4531239a",
   "metadata": {},
   "source": [
    "#### Lazy data\n",
    "\n",
    "* When a cube is loaded, the data is loaded as 'lazy data' meaning its not committed to memory\n",
    "* Many iris operations just use lazy data, however some will commit data to memory\n",
    "    * for example accessing a cubes data vid cube.data commits data to memory\n",
    "* If you're having memory issues, check if a cubes data is lazy\n",
    "* if its not you can commit it back to being lazy data"
   ]
  },
  {
   "cell_type": "code",
   "execution_count": 43,
   "id": "c8d51352",
   "metadata": {},
   "outputs": [
    {
     "data": {
      "text/plain": [
       "True"
      ]
     },
     "execution_count": 43,
     "metadata": {},
     "output_type": "execute_result"
    }
   ],
   "source": [
    "jan_feb_rainfall.has_lazy_data()"
   ]
  },
  {
   "cell_type": "markdown",
   "id": "3694936c",
   "metadata": {},
   "source": [
    "This should return True at this point, lets load into memory to return False"
   ]
  },
  {
   "cell_type": "code",
   "execution_count": 44,
   "id": "57a6d37d",
   "metadata": {},
   "outputs": [],
   "source": [
    "data = jan_feb_rainfall.data # this loads data into memory\n",
    "del data # ill delete it straight away as i dont actually want it sat in memory"
   ]
  },
  {
   "cell_type": "code",
   "execution_count": 45,
   "id": "f953db2b",
   "metadata": {},
   "outputs": [
    {
     "data": {
      "text/plain": [
       "False"
      ]
     },
     "execution_count": 45,
     "metadata": {},
     "output_type": "execute_result"
    }
   ],
   "source": [
    "jan_feb_rainfall.has_lazy_data()"
   ]
  },
  {
   "cell_type": "markdown",
   "id": "47991131",
   "metadata": {},
   "source": [
    "Its easy to commit our cubes data back to being lazy"
   ]
  },
  {
   "cell_type": "code",
   "execution_count": 46,
   "id": "50ec0fb1",
   "metadata": {},
   "outputs": [],
   "source": [
    "jan_feb_rainfall.data = jan_feb_rainfall.lazy_data()"
   ]
  },
  {
   "cell_type": "code",
   "execution_count": 47,
   "id": "71972704",
   "metadata": {},
   "outputs": [
    {
     "data": {
      "text/plain": [
       "True"
      ]
     },
     "execution_count": 47,
     "metadata": {},
     "output_type": "execute_result"
    }
   ],
   "source": [
    "jan_feb_rainfall.has_lazy_data()"
   ]
  },
  {
   "cell_type": "markdown",
   "id": "09967135",
   "metadata": {},
   "source": [
    "Now our data is lazy again! Lots of iris operations use lazy data, its a great functionality of iris. So if you are ever struggling with memory issues, check if data is lazy and if not making lazy! "
   ]
  },
  {
   "cell_type": "markdown",
   "id": "c6bd9d41",
   "metadata": {},
   "source": [
    "#### Exploring masked data\n",
    "\n",
    "* Cube data is usually in thr form of a masked numpy array, even if no data is masked\n",
    "* Sometimes the land or sea are masked instead\n",
    "* see the [numpy mask module](https://numpy.org/doc/stable/reference/maskedarray.generic.html)\n",
    "    * useful for making new masks based on data, for example masking 0s "
   ]
  },
  {
   "cell_type": "markdown",
   "id": "4e10ab05",
   "metadata": {},
   "source": [
    "Firstly if we just print our data, we will see a data array and a masked array "
   ]
  },
  {
   "cell_type": "code",
   "execution_count": 48,
   "id": "9846f462",
   "metadata": {},
   "outputs": [
    {
     "data": {
      "text/plain": [
       "masked_array(\n",
       "  data=[[[--, --, --, ..., --, --, --],\n",
       "         [--, --, --, ..., --, --, --],\n",
       "         [--, --, --, ..., --, --, --],\n",
       "         ...,\n",
       "         [--, --, --, ..., --, --, --],\n",
       "         [--, --, --, ..., --, --, --],\n",
       "         [--, --, --, ..., --, --, --]],\n",
       "\n",
       "        [[--, --, --, ..., --, --, --],\n",
       "         [--, --, --, ..., --, --, --],\n",
       "         [--, --, --, ..., --, --, --],\n",
       "         ...,\n",
       "         [--, --, --, ..., --, --, --],\n",
       "         [--, --, --, ..., --, --, --],\n",
       "         [--, --, --, ..., --, --, --]],\n",
       "\n",
       "        [[--, --, --, ..., --, --, --],\n",
       "         [--, --, --, ..., --, --, --],\n",
       "         [--, --, --, ..., --, --, --],\n",
       "         ...,\n",
       "         [--, --, --, ..., --, --, --],\n",
       "         [--, --, --, ..., --, --, --],\n",
       "         [--, --, --, ..., --, --, --]],\n",
       "\n",
       "        ...,\n",
       "\n",
       "        [[--, --, --, ..., --, --, --],\n",
       "         [--, --, --, ..., --, --, --],\n",
       "         [--, --, --, ..., --, --, --],\n",
       "         ...,\n",
       "         [--, --, --, ..., --, --, --],\n",
       "         [--, --, --, ..., --, --, --],\n",
       "         [--, --, --, ..., --, --, --]],\n",
       "\n",
       "        [[--, --, --, ..., --, --, --],\n",
       "         [--, --, --, ..., --, --, --],\n",
       "         [--, --, --, ..., --, --, --],\n",
       "         ...,\n",
       "         [--, --, --, ..., --, --, --],\n",
       "         [--, --, --, ..., --, --, --],\n",
       "         [--, --, --, ..., --, --, --]],\n",
       "\n",
       "        [[--, --, --, ..., --, --, --],\n",
       "         [--, --, --, ..., --, --, --],\n",
       "         [--, --, --, ..., --, --, --],\n",
       "         ...,\n",
       "         [--, --, --, ..., --, --, --],\n",
       "         [--, --, --, ..., --, --, --],\n",
       "         [--, --, --, ..., --, --, --]]],\n",
       "  mask=[[[ True,  True,  True, ...,  True,  True,  True],\n",
       "         [ True,  True,  True, ...,  True,  True,  True],\n",
       "         [ True,  True,  True, ...,  True,  True,  True],\n",
       "         ...,\n",
       "         [ True,  True,  True, ...,  True,  True,  True],\n",
       "         [ True,  True,  True, ...,  True,  True,  True],\n",
       "         [ True,  True,  True, ...,  True,  True,  True]],\n",
       "\n",
       "        [[ True,  True,  True, ...,  True,  True,  True],\n",
       "         [ True,  True,  True, ...,  True,  True,  True],\n",
       "         [ True,  True,  True, ...,  True,  True,  True],\n",
       "         ...,\n",
       "         [ True,  True,  True, ...,  True,  True,  True],\n",
       "         [ True,  True,  True, ...,  True,  True,  True],\n",
       "         [ True,  True,  True, ...,  True,  True,  True]],\n",
       "\n",
       "        [[ True,  True,  True, ...,  True,  True,  True],\n",
       "         [ True,  True,  True, ...,  True,  True,  True],\n",
       "         [ True,  True,  True, ...,  True,  True,  True],\n",
       "         ...,\n",
       "         [ True,  True,  True, ...,  True,  True,  True],\n",
       "         [ True,  True,  True, ...,  True,  True,  True],\n",
       "         [ True,  True,  True, ...,  True,  True,  True]],\n",
       "\n",
       "        ...,\n",
       "\n",
       "        [[ True,  True,  True, ...,  True,  True,  True],\n",
       "         [ True,  True,  True, ...,  True,  True,  True],\n",
       "         [ True,  True,  True, ...,  True,  True,  True],\n",
       "         ...,\n",
       "         [ True,  True,  True, ...,  True,  True,  True],\n",
       "         [ True,  True,  True, ...,  True,  True,  True],\n",
       "         [ True,  True,  True, ...,  True,  True,  True]],\n",
       "\n",
       "        [[ True,  True,  True, ...,  True,  True,  True],\n",
       "         [ True,  True,  True, ...,  True,  True,  True],\n",
       "         [ True,  True,  True, ...,  True,  True,  True],\n",
       "         ...,\n",
       "         [ True,  True,  True, ...,  True,  True,  True],\n",
       "         [ True,  True,  True, ...,  True,  True,  True],\n",
       "         [ True,  True,  True, ...,  True,  True,  True]],\n",
       "\n",
       "        [[ True,  True,  True, ...,  True,  True,  True],\n",
       "         [ True,  True,  True, ...,  True,  True,  True],\n",
       "         [ True,  True,  True, ...,  True,  True,  True],\n",
       "         ...,\n",
       "         [ True,  True,  True, ...,  True,  True,  True],\n",
       "         [ True,  True,  True, ...,  True,  True,  True],\n",
       "         [ True,  True,  True, ...,  True,  True,  True]]],\n",
       "  fill_value=1e+20)"
      ]
     },
     "execution_count": 48,
     "metadata": {},
     "output_type": "execute_result"
    }
   ],
   "source": [
    "rainfall.data"
   ]
  },
  {
   "cell_type": "markdown",
   "id": "8d1742b4",
   "metadata": {},
   "source": [
    "WE can extract the mask by doing: rainfall.data.mask\n",
    "\n",
    "or we can extract the raw data by doing: rainfall.data.data \n",
    "note by doing this, previously masked points will be filled with a value of 1e+20"
   ]
  },
  {
   "cell_type": "code",
   "execution_count": 49,
   "id": "31d08379",
   "metadata": {},
   "outputs": [],
   "source": [
    "mask = rainfall.data.mask"
   ]
  },
  {
   "cell_type": "markdown",
   "id": "b08f6d78",
   "metadata": {},
   "source": [
    "We can plot a slice of our mask using pcolormesh "
   ]
  },
  {
   "cell_type": "code",
   "execution_count": 50,
   "id": "b9903f7e",
   "metadata": {},
   "outputs": [
    {
     "data": {
      "text/plain": [
       "<matplotlib.colorbar.Colorbar at 0x7fed1c4019f0>"
      ]
     },
     "execution_count": 50,
     "metadata": {},
     "output_type": "execute_result"
    },
    {
     "data": {
      "image/png": "[encoded data removed]",
      "text/plain": [
       "<Figure size 640x480 with 2 Axes>"
      ]
     },
     "metadata": {},
     "output_type": "display_data"
    }
   ],
   "source": [
    "plt.pcolormesh(mask[0])\n",
    "plt.colorbar()"
   ]
  },
  {
   "cell_type": "markdown",
   "id": "5af9840d",
   "metadata": {},
   "source": [
    "As i said before we can extract just the data from the cube, so lets do that \n",
    "\n",
    "First lets make a copy of our cube, that we will assign the unmasked data to"
   ]
  },
  {
   "cell_type": "code",
   "execution_count": 51,
   "id": "2f55cfff",
   "metadata": {},
   "outputs": [],
   "source": [
    "rainfall_no_mask = rainfall.copy()"
   ]
  },
  {
   "cell_type": "markdown",
   "id": "5f8d13c0",
   "metadata": {},
   "source": [
    "Now we can assign our data"
   ]
  },
  {
   "cell_type": "code",
   "execution_count": 52,
   "id": "64ee87e2",
   "metadata": {},
   "outputs": [
    {
     "data": {
      "text/plain": [
       "True"
      ]
     },
     "execution_count": 52,
     "metadata": {},
     "output_type": "execute_result"
    }
   ],
   "source": [
    "rainfall_no_mask.data = rainfall.data.data\n",
    "# while were here lets make it lazy data\n",
    "rainfall_no_mask.data = rainfall_no_mask.lazy_data()\n",
    "rainfall_no_mask.has_lazy_data()"
   ]
  },
  {
   "cell_type": "markdown",
   "id": "273f59a5",
   "metadata": {},
   "source": [
    "If we plot our map now, we will see its dominated by the fill value"
   ]
  },
  {
   "cell_type": "code",
   "execution_count": 53,
   "id": "510acfaa",
   "metadata": {},
   "outputs": [
    {
     "data": {
      "text/plain": [
       "<cartopy.mpl.geocollection.GeoQuadMesh at 0x7fecf8247b20>"
      ]
     },
     "execution_count": 53,
     "metadata": {},
     "output_type": "execute_result"
    },
    {
     "data": {
      "image/png": "[encoded data removed]",
      "text/plain": [
       "<Figure size 640x480 with 2 Axes>"
      ]
     },
     "metadata": {},
     "output_type": "display_data"
    }
   ],
   "source": [
    "qplt.pcolormesh(rainfall_no_mask[0])"
   ]
  },
  {
   "cell_type": "markdown",
   "id": "2d6d27f6",
   "metadata": {},
   "source": [
    "Notice the 1e20 on the scale!\n",
    "\n",
    "Often model data will come with a land/sea mask, so if you were only interested in investigating the sea you could mask the land! or using the `numpy.ma` module \n",
    "\n",
    "Since we already have our mask, we can use iris.util.mask_cube() "
   ]
  },
  {
   "cell_type": "code",
   "execution_count": 54,
   "id": "68af0bf2",
   "metadata": {},
   "outputs": [
    {
     "data": {
      "text/html": [
       "\n",
       "<style>\n",
       "  a.iris {\n",
       "      text-decoration: none !important;\n",
       "  }\n",
       "  table.iris {\n",
       "      white-space: pre;\n",
       "      border: 1px solid;\n",
       "      border-color: #9c9c9c;\n",
       "      font-family: monaco, monospace;\n",
       "  }\n",
       "  th.iris {\n",
       "      background: #303f3f;\n",
       "      color: #e0e0e0;\n",
       "      border-left: 1px solid;\n",
       "      border-color: #9c9c9c;\n",
       "      font-size: 1.05em;\n",
       "      min-width: 50px;\n",
       "      max-width: 125px;\n",
       "  }\n",
       "  tr.iris :first-child {\n",
       "      border-right: 1px solid #9c9c9c !important;\n",
       "  }\n",
       "  td.iris-title {\n",
       "      background: #d5dcdf;\n",
       "      border-top: 1px solid #9c9c9c;\n",
       "      font-weight: bold;\n",
       "  }\n",
       "  .iris-word-cell {\n",
       "      text-align: left !important;\n",
       "      white-space: pre;\n",
       "  }\n",
       "  .iris-subheading-cell {\n",
       "      padding-left: 2em !important;\n",
       "  }\n",
       "  .iris-inclusion-cell {\n",
       "      padding-right: 1em !important;\n",
       "  }\n",
       "  .iris-panel-body {\n",
       "      padding-top: 0px;\n",
       "  }\n",
       "  .iris-panel-title {\n",
       "      padding-left: 3em;\n",
       "  }\n",
       "  .iris-panel-title {\n",
       "      margin-top: 7px;\n",
       "  }\n",
       "</style>\n",
       "<table class=\"iris\" id=\"140655752135728\">\n",
       "    <tr class=\"iris\">\n",
       "<th class=\"iris iris-word-cell\">Lwe Thickness Of Precipitation Amount (mm)</th>\n",
       "<th class=\"iris iris-word-cell\">time</th>\n",
       "<th class=\"iris iris-word-cell\">projection_y_coordinate</th>\n",
       "<th class=\"iris iris-word-cell\">projection_x_coordinate</th>\n",
       "</tr>\n",
       "    <tr class=\"iris\">\n",
       "<td class=\"iris-word-cell iris-subheading-cell\">Shape</td>\n",
       "<td class=\"iris iris-inclusion-cell\">31</td>\n",
       "<td class=\"iris iris-inclusion-cell\">110</td>\n",
       "<td class=\"iris iris-inclusion-cell\">83</td>\n",
       "</tr>\n",
       "    <tr class=\"iris\">\n",
       "    <td class=\"iris-title iris-word-cell\">Dimension coordinates</td>\n",
       "    <td class=\"iris-title\"></td>\n",
       "    <td class=\"iris-title\"></td>\n",
       "    <td class=\"iris-title\"></td>\n",
       "</tr>\n",
       "<tr class=\"iris\">\n",
       "    <td class=\"iris-word-cell iris-subheading-cell\">\ttime</td>\n",
       "    <td class=\"iris-inclusion-cell\">x</td>\n",
       "    <td class=\"iris-inclusion-cell\">-</td>\n",
       "    <td class=\"iris-inclusion-cell\">-</td>\n",
       "</tr>\n",
       "<tr class=\"iris\">\n",
       "    <td class=\"iris-word-cell iris-subheading-cell\">\tprojection_y_coordinate</td>\n",
       "    <td class=\"iris-inclusion-cell\">-</td>\n",
       "    <td class=\"iris-inclusion-cell\">x</td>\n",
       "    <td class=\"iris-inclusion-cell\">-</td>\n",
       "</tr>\n",
       "<tr class=\"iris\">\n",
       "    <td class=\"iris-word-cell iris-subheading-cell\">\tprojection_x_coordinate</td>\n",
       "    <td class=\"iris-inclusion-cell\">-</td>\n",
       "    <td class=\"iris-inclusion-cell\">-</td>\n",
       "    <td class=\"iris-inclusion-cell\">x</td>\n",
       "</tr>\n",
       "<tr class=\"iris\">\n",
       "    <td class=\"iris-title iris-word-cell\">Auxiliary coordinates</td>\n",
       "    <td class=\"iris-title\"></td>\n",
       "    <td class=\"iris-title\"></td>\n",
       "    <td class=\"iris-title\"></td>\n",
       "</tr>\n",
       "<tr class=\"iris\">\n",
       "    <td class=\"iris-word-cell iris-subheading-cell\">\tlatitude</td>\n",
       "    <td class=\"iris-inclusion-cell\">-</td>\n",
       "    <td class=\"iris-inclusion-cell\">x</td>\n",
       "    <td class=\"iris-inclusion-cell\">x</td>\n",
       "</tr>\n",
       "<tr class=\"iris\">\n",
       "    <td class=\"iris-word-cell iris-subheading-cell\">\tlongitude</td>\n",
       "    <td class=\"iris-inclusion-cell\">-</td>\n",
       "    <td class=\"iris-inclusion-cell\">x</td>\n",
       "    <td class=\"iris-inclusion-cell\">x</td>\n",
       "</tr>\n",
       "<tr class=\"iris\">\n",
       "    <td class=\"iris-title iris-word-cell\">Cell methods</td>\n",
       "    <td class=\"iris-title\"></td>\n",
       "    <td class=\"iris-title\"></td>\n",
       "    <td class=\"iris-title\"></td>\n",
       "</tr>\n",
       "<tr class=\"iris\">\n",
       "    <td class=\"iris-word-cell iris-subheading-cell\">\tsum</td>\n",
       "    <td class=\"iris-word-cell\" colspan=\"3\">time</td>\n",
       "</tr>\n",
       "<tr class=\"iris\">\n",
       "    <td class=\"iris-title iris-word-cell\">Attributes</td>\n",
       "    <td class=\"iris-title\"></td>\n",
       "    <td class=\"iris-title\"></td>\n",
       "    <td class=\"iris-title\"></td>\n",
       "</tr>\n",
       "<tr class=\"iris\">\n",
       "    <td class=\"iris-word-cell iris-subheading-cell\">\tConventions</td>\n",
       "    <td class=\"iris-word-cell\" colspan=\"3\">&#x27;CF-1.5&#x27;</td>\n",
       "</tr>\n",
       "<tr class=\"iris\">\n",
       "    <td class=\"iris-word-cell iris-subheading-cell\">\tcollection</td>\n",
       "    <td class=\"iris-word-cell\" colspan=\"3\">&#x27;HadUK-Grid v1.0.0.0&#x27;</td>\n",
       "</tr>\n",
       "<tr class=\"iris\">\n",
       "    <td class=\"iris-word-cell iris-subheading-cell\">\tcomment</td>\n",
       "    <td class=\"iris-word-cell\" colspan=\"3\">&#x27;Daily resolution gridded climate observations&#x27;</td>\n",
       "</tr>\n",
       "<tr class=\"iris\">\n",
       "    <td class=\"iris-word-cell iris-subheading-cell\">\tcontact</td>\n",
       "    <td class=\"iris-word-cell\" colspan=\"3\">&#x27;enquiries@metoffice.gov.uk&#x27;</td>\n",
       "</tr>\n",
       "<tr class=\"iris\">\n",
       "    <td class=\"iris-word-cell iris-subheading-cell\">\tcreation_date</td>\n",
       "    <td class=\"iris-word-cell\" colspan=\"3\">&#x27;2018-11-19T13:36:17&#x27;</td>\n",
       "</tr>\n",
       "<tr class=\"iris\">\n",
       "    <td class=\"iris-word-cell iris-subheading-cell\">\tdescription</td>\n",
       "    <td class=\"iris-word-cell\" colspan=\"3\">&#x27;Total rainfall&#x27;</td>\n",
       "</tr>\n",
       "<tr class=\"iris\">\n",
       "    <td class=\"iris-word-cell iris-subheading-cell\">\tdomain</td>\n",
       "    <td class=\"iris-word-cell\" colspan=\"3\">&#x27;uk&#x27;</td>\n",
       "</tr>\n",
       "<tr class=\"iris\">\n",
       "    <td class=\"iris-word-cell iris-subheading-cell\">\tfrequency</td>\n",
       "    <td class=\"iris-word-cell\" colspan=\"3\">&#x27;day&#x27;</td>\n",
       "</tr>\n",
       "<tr class=\"iris\">\n",
       "    <td class=\"iris-word-cell iris-subheading-cell\">\tinstitution</td>\n",
       "    <td class=\"iris-word-cell\" colspan=\"3\">&#x27;Met Office Hadley Centre (MOHC), Fitzroy road, Exeter, EX1 3PB, UK&#x27;</td>\n",
       "</tr>\n",
       "<tr class=\"iris\">\n",
       "    <td class=\"iris-word-cell iris-subheading-cell\">\tinstitution_id</td>\n",
       "    <td class=\"iris-word-cell\" colspan=\"3\">&#x27;MOHC&#x27;</td>\n",
       "</tr>\n",
       "<tr class=\"iris\">\n",
       "    <td class=\"iris-word-cell iris-subheading-cell\">\tlabel_units</td>\n",
       "    <td class=\"iris-word-cell\" colspan=\"3\">&#x27;mm&#x27;</td>\n",
       "</tr>\n",
       "<tr class=\"iris\">\n",
       "    <td class=\"iris-word-cell iris-subheading-cell\">\tplot_label</td>\n",
       "    <td class=\"iris-word-cell\" colspan=\"3\">&#x27;Total rainfall (mm)&#x27;</td>\n",
       "</tr>\n",
       "<tr class=\"iris\">\n",
       "    <td class=\"iris-word-cell iris-subheading-cell\">\tproject</td>\n",
       "    <td class=\"iris-word-cell\" colspan=\"3\">&#x27;HadOBS&#x27;</td>\n",
       "</tr>\n",
       "<tr class=\"iris\">\n",
       "    <td class=\"iris-word-cell iris-subheading-cell\">\treferences</td>\n",
       "    <td class=\"iris-word-cell\" colspan=\"3\">&#x27;doi: 10.1002/joc.1161&#x27;</td>\n",
       "</tr>\n",
       "<tr class=\"iris\">\n",
       "    <td class=\"iris-word-cell iris-subheading-cell\">\tshort_name</td>\n",
       "    <td class=\"iris-word-cell\" colspan=\"3\">&#x27;daily_rainfall&#x27;</td>\n",
       "</tr>\n",
       "<tr class=\"iris\">\n",
       "    <td class=\"iris-word-cell iris-subheading-cell\">\tsource</td>\n",
       "    <td class=\"iris-word-cell\" colspan=\"3\">&#x27;HadUK-Grid_v1.0.0.0&#x27;</td>\n",
       "</tr>\n",
       "<tr class=\"iris\">\n",
       "    <td class=\"iris-word-cell iris-subheading-cell\">\ttitle</td>\n",
       "    <td class=\"iris-word-cell\" colspan=\"3\">&#x27;HadUK-Grid: Gridded land surface climate observations data for the UK&#x27;</td>\n",
       "</tr>\n",
       "<tr class=\"iris\">\n",
       "    <td class=\"iris-word-cell iris-subheading-cell\">\tversion</td>\n",
       "    <td class=\"iris-word-cell\" colspan=\"3\">&#x27;v20181126&#x27;</td>\n",
       "</tr>\n",
       "</table>\n",
       "        "
      ],
      "text/plain": [
       "<iris 'Cube' of lwe_thickness_of_precipitation_amount / (mm) (time: 31; projection_y_coordinate: 110; projection_x_coordinate: 83)>"
      ]
     },
     "execution_count": 54,
     "metadata": {},
     "output_type": "execute_result"
    }
   ],
   "source": [
    "iris.util.mask_cube(rainfall_no_mask,mask)"
   ]
  },
  {
   "cell_type": "markdown",
   "id": "29834398",
   "metadata": {},
   "source": [
    "The sea will now be masked again!!"
   ]
  },
  {
   "cell_type": "code",
   "execution_count": 55,
   "id": "d66c9a20",
   "metadata": {},
   "outputs": [
    {
     "data": {
      "text/plain": [
       "<cartopy.mpl.geocollection.GeoQuadMesh at 0x7fecf820dab0>"
      ]
     },
     "execution_count": 55,
     "metadata": {},
     "output_type": "execute_result"
    },
    {
     "data": {
      "image/png": "[encoded data removed]",
      "text/plain": [
       "<Figure size 640x480 with 2 Axes>"
      ]
     },
     "metadata": {},
     "output_type": "display_data"
    }
   ],
   "source": [
    "qplt.pcolormesh(rainfall_no_mask[0])"
   ]
  },
  {
   "cell_type": "markdown",
   "id": "c035539c",
   "metadata": {},
   "source": [
    "## Section 4\n",
    "\n",
    "## Lets make some more plots to look at the statistics of our cube"
   ]
  },
  {
   "cell_type": "markdown",
   "id": "0861fb44",
   "metadata": {},
   "source": [
    "Plotting a histogram to view our data\n",
    "\n",
    "* y-axis is logged since rainfall is an exponential function"
   ]
  },
  {
   "cell_type": "code",
   "execution_count": 56,
   "id": "35fa4527",
   "metadata": {},
   "outputs": [
    {
     "data": {
      "image/png": "[encoded data removed]",
      "text/plain": [
       "<Figure size 640x480 with 1 Axes>"
      ]
     },
     "metadata": {},
     "output_type": "display_data"
    }
   ],
   "source": [
    "data = jan_feb_rainfall.data.ravel() # ravel() flattens a data array\n",
    "plt.hist(data,bins = 100,log=True)\n",
    "del data"
   ]
  },
  {
   "cell_type": "markdown",
   "id": "91d30599",
   "metadata": {},
   "source": [
    "Lets add some of our metadata from our cube to make this plot more readable"
   ]
  },
  {
   "cell_type": "code",
   "execution_count": 57,
   "id": "9c8ddb00",
   "metadata": {},
   "outputs": [
    {
     "data": {
      "text/plain": [
       "'Total rainfall (mm)'"
      ]
     },
     "execution_count": 57,
     "metadata": {},
     "output_type": "execute_result"
    }
   ],
   "source": [
    "jan_feb_rainfall.attributes['plot_label']"
   ]
  },
  {
   "cell_type": "code",
   "execution_count": 58,
   "id": "b54ea97a",
   "metadata": {},
   "outputs": [
    {
     "data": {
      "image/png": "[encoded data removed]",
      "text/plain": [
       "<Figure size 640x480 with 1 Axes>"
      ]
     },
     "metadata": {},
     "output_type": "display_data"
    }
   ],
   "source": [
    "title = jan_feb_rainfall.standard_name\n",
    "units = jan_feb_rainfall.units\n",
    "x_label = jan_feb_rainfall.attributes['plot_label']\n",
    "data = jan_feb_rainfall.data.ravel() # ravel() flattens a data array\n",
    "plt.hist(data,bins = 100,log=True)\n",
    "plt.title(title)\n",
    "plt.xlabel(x_label)\n",
    "plt.ylabel('density')\n",
    "del data\n"
   ]
  },
  {
   "cell_type": "markdown",
   "id": "4f23bf79",
   "metadata": {},
   "source": [
    "note i added data as a variable and then deleted it, this is because iris loads cubes with 'lazy data' so data is committed to memory, but accessing the data using .data commits all data to memory, so i delete this variable after use so im keeping as much memory available as possible"
   ]
  },
  {
   "cell_type": "markdown",
   "id": "49bdb4d4",
   "metadata": {},
   "source": [
    "# Boxplots and summary of statistics\n",
    "\n",
    "* Box plots don't deal well with masked data so we need to extract the true data\n",
    "* We will use the data from part 1 as its less to load to memory \n",
    "* To get the actual data, we will extract the data where the mask is equal to false"
   ]
  },
  {
   "cell_type": "code",
   "execution_count": 59,
   "id": "08f87924",
   "metadata": {},
   "outputs": [],
   "source": [
    "data = air_temp[0].data\n",
    "mask = air_temp[0].data.mask\n",
    "true_data = data[mask == False]"
   ]
  },
  {
   "cell_type": "code",
   "execution_count": 60,
   "id": "9b104b1c",
   "metadata": {},
   "outputs": [
    {
     "name": "stdout",
     "output_type": "stream",
     "text": [
      "[11.246220240412502 11.241558629226391 11.24392582632405 ...\n",
      " 6.431115858037315 5.519154151463566 6.117374831834085]\n",
      "<class 'numpy.ma.core.MaskedArray'>\n",
      "<class 'numpy.ndarray'>\n"
     ]
    }
   ],
   "source": [
    "print(true_data)\n",
    "print(type(true_data))\n",
    "# need to get the data to numpy array\n",
    "true_data = true_data.data\n",
    "print(type(true_data))\n"
   ]
  },
  {
   "cell_type": "code",
   "execution_count": 61,
   "id": "b724e784",
   "metadata": {},
   "outputs": [
    {
     "data": {
      "text/plain": [
       "{'whiskers': [<matplotlib.lines.Line2D at 0x7fecf24f3dc0>,\n",
       "  <matplotlib.lines.Line2D at 0x7fecf23180a0>],\n",
       " 'caps': [<matplotlib.lines.Line2D at 0x7fecf2318340>,\n",
       "  <matplotlib.lines.Line2D at 0x7fecf23185e0>],\n",
       " 'boxes': [<matplotlib.lines.Line2D at 0x7fecf24f3ac0>],\n",
       " 'medians': [<matplotlib.lines.Line2D at 0x7fecf2318880>],\n",
       " 'fliers': [<matplotlib.lines.Line2D at 0x7fecf2318dc0>],\n",
       " 'means': [<matplotlib.lines.Line2D at 0x7fecf2318b20>]}"
      ]
     },
     "execution_count": 61,
     "metadata": {},
     "output_type": "execute_result"
    },
    {
     "data": {
      "image/png": "[encoded data removed]",
      "text/plain": [
       "<Figure size 640x480 with 1 Axes>"
      ]
     },
     "metadata": {},
     "output_type": "display_data"
    }
   ],
   "source": [
    "plt.boxplot(true_data.ravel(),showmeans=True)"
   ]
  },
  {
   "cell_type": "markdown",
   "id": "4ab91915",
   "metadata": {},
   "source": [
    "We can see that the boxplot also produces a dictionary with all the values as matplotlib objects. We can extract the data from this but its a bit of a faff. Instead lets use a scipy library "
   ]
  },
  {
   "cell_type": "code",
   "execution_count": 62,
   "id": "e8339475",
   "metadata": {},
   "outputs": [],
   "source": [
    "import scipy\n",
    "from scipy import stats "
   ]
  },
  {
   "cell_type": "code",
   "execution_count": 63,
   "id": "f61bfb67",
   "metadata": {},
   "outputs": [
    {
     "data": {
      "text/plain": [
       "DescribeResult(nobs=244442, minmax=(1.2609452214698846, 11.273013853893774), mean=8.050559122328917, variance=1.410272434028306, skewness=-1.0449847784920772, kurtosis=1.2509155032329033)"
      ]
     },
     "execution_count": 63,
     "metadata": {},
     "output_type": "execute_result"
    }
   ],
   "source": [
    "stats.describe(true_data.ravel())"
   ]
  },
  {
   "cell_type": "markdown",
   "id": "32834ef3",
   "metadata": {},
   "source": [
    "We could also put into a pandas dataframe and use `.describe()`"
   ]
  },
  {
   "cell_type": "code",
   "execution_count": 64,
   "id": "81f83b12",
   "metadata": {},
   "outputs": [
    {
     "data": {
      "text/html": [
       "<div>\n",
       "<style scoped>\n",
       "    .dataframe tbody tr th:only-of-type {\n",
       "        vertical-align: middle;\n",
       "    }\n",
       "\n",
       "    .dataframe tbody tr th {\n",
       "        vertical-align: top;\n",
       "    }\n",
       "\n",
       "    .dataframe thead th {\n",
       "        text-align: right;\n",
       "    }\n",
       "</style>\n",
       "<table border=\"1\" class=\"dataframe\">\n",
       "  <thead>\n",
       "    <tr style=\"text-align: right;\">\n",
       "      <th></th>\n",
       "      <th>air_temp_values</th>\n",
       "    </tr>\n",
       "  </thead>\n",
       "  <tbody>\n",
       "    <tr>\n",
       "      <th>count</th>\n",
       "      <td>244442.000000</td>\n",
       "    </tr>\n",
       "    <tr>\n",
       "      <th>mean</th>\n",
       "      <td>8.050559</td>\n",
       "    </tr>\n",
       "    <tr>\n",
       "      <th>std</th>\n",
       "      <td>1.187549</td>\n",
       "    </tr>\n",
       "    <tr>\n",
       "      <th>min</th>\n",
       "      <td>1.260945</td>\n",
       "    </tr>\n",
       "    <tr>\n",
       "      <th>25%</th>\n",
       "      <td>7.364881</td>\n",
       "    </tr>\n",
       "    <tr>\n",
       "      <th>50%</th>\n",
       "      <td>8.367672</td>\n",
       "    </tr>\n",
       "    <tr>\n",
       "      <th>75%</th>\n",
       "      <td>8.863038</td>\n",
       "    </tr>\n",
       "    <tr>\n",
       "      <th>max</th>\n",
       "      <td>11.273014</td>\n",
       "    </tr>\n",
       "  </tbody>\n",
       "</table>\n",
       "</div>"
      ],
      "text/plain": [
       "       air_temp_values\n",
       "count    244442.000000\n",
       "mean          8.050559\n",
       "std           1.187549\n",
       "min           1.260945\n",
       "25%           7.364881\n",
       "50%           8.367672\n",
       "75%           8.863038\n",
       "max          11.273014"
      ]
     },
     "execution_count": 64,
     "metadata": {},
     "output_type": "execute_result"
    }
   ],
   "source": [
    "import pandas as pd\n",
    "df = pd.DataFrame(true_data.ravel(),columns = ['air_temp_values'])\n",
    "df.describe()"
   ]
  },
  {
   "cell_type": "code",
   "execution_count": 65,
   "id": "ea48dfe7",
   "metadata": {},
   "outputs": [
    {
     "data": {
      "text/plain": [
       "<AxesSubplot: >"
      ]
     },
     "execution_count": 65,
     "metadata": {},
     "output_type": "execute_result"
    },
    {
     "data": {
      "image/png": "[encoded data removed]",
      "text/plain": [
       "<Figure size 640x480 with 1 Axes>"
      ]
     },
     "metadata": {},
     "output_type": "display_data"
    }
   ],
   "source": [
    "df.boxplot()"
   ]
  },
  {
   "cell_type": "markdown",
   "id": "4ee2a2f7-6ad9-4fb3-aef9-d1bc05a0f1cd",
   "metadata": {},
   "source": [
    "## Exercises that extend the notebook\n",
    "Below are a list of items that could be implemented or changed to the notebook for extended functionality (or issues with the notebook that are \"Left As An Exercise To The Reader\", sorry!). The list of these items are ordered in my own personal preference for notebook enhancements\n",
    "\n",
    "- Add Axis labels to some iris qplt plots \n",
    "- Find another [HadUK-Grid netcdf file](https://data.ceda.ac.uk/badc/ukmo-hadobs/data/) to display and explore"
   ]
  },
  {
   "cell_type": "markdown",
   "id": "41b1bc5f-2410-455c-9e94-4bf29ac0a092",
   "metadata": {},
   "source": [
    "## Data Statement\n",
    "\n",
    "__Data used in this tutorial uses Met Office HadUK-Grid Gridded Climate data__\n",
    "\n",
    "__Contains public sector information licensed under the Open Government Licence__\n",
    "\n",
    "- Link to Open Government Licence V3: https://www.nationalarchives.gov.uk/doc/open-government-licence/version/3/\n",
    "- Sources of Data: https://data.ceda.ac.uk/badc/ukmo-hadobs/data/"
   ]
  },
  {
   "cell_type": "markdown",
   "id": "ee51514a-9a5d-49fa-bb3c-9fba2b233174",
   "metadata": {},
   "source": [
    "______________________________________________________________________"
   ]
  },
  {
   "cell_type": "markdown",
   "id": "06e2b229-6d4c-4bde-a08c-6162d17be461",
   "metadata": {
    "id": "QIP46U65rS2A",
    "tags": []
   },
   "source": [
    "## References\n",
    "\n",
    "- [Iris](https://scitools-iris.readthedocs.io/en/stable/)\n",
    "- [NumPy](https://numpy.org)\n",
    "- [Matplotlib](https://matplotlib.org/)\n",
    "- [CEDA](https://www.ceda.ac.uk/)"
   ]
  }
 ],
 "metadata": {
  "kernelspec": {
   "display_name": "Python 3 (ipykernel)",
   "language": "python",
   "name": "python3"
  },
  "language_info": {
   "codemirror_mode": {
    "name": "ipython",
    "version": 3
   },
   "file_extension": ".py",
   "mimetype": "text/x-python",
   "name": "python",
   "nbconvert_exporter": "python",
   "pygments_lexer": "ipython3",
   "version": "3.12.11"
  }
 },
 "nbformat": 4,
 "nbformat_minor": 5
}
