{
 "cells": [
  {
   "cell_type": "markdown",
   "id": "2bdeaad4",
   "metadata": {},
   "source": [
    "# MIDAS-Open tabulated data\n",
    "\n",
    "\n",
    "\n",
    "## Exploring data with pandas \n",
    "\n",
    "### Overview \n",
    "\n",
    "* This notebook contains examples of exploring climate data with pandas\n",
    "* site specific data \n",
    "    * rainfall \n",
    "    \n",
    "### Prerequisites \n",
    "\n",
    "* __Please see 03_aircraft_data.pynb for instructions on ceda certificates. The valid CEDA certificate must be linked to in the specfied environment file below__\n",
    "\n",
    "To successfully navigate this notebook, you should be familiar with:\n",
    "\n",
    "* Basics of python programming \n",
    "    * loading modules \n",
    "    * variable assignment \n",
    "    * basic plotting packages (Matplotlib)\n",
    "* Basic understanding of weather and climate, for example:\n",
    "    * Latitude is North-South\n",
    "    * Longitude is East-West\n",
    "    \n",
    "### Learning outcomes \n",
    "\n",
    "After this notebook you should have the skills to: \n",
    "\n",
    "* Explore data with pandas \n",
    "* Visualise the data you're dealing with \n",
    "* Calculate statistics with pandas\n",
    "\n",
    "    \n",
    "### Background \n",
    "\n",
    "Pandas works with tabular data. Tabular data is a type of data base such as data stored in a spreadsheet or CSV (comma-separated values) file. Pandas works with this data as a DataFrame, which makes exploring and working with your data easy and intuitive. [Pandas Overview](https://pandas.pydata.org/docs/getting_started/overview.html#:~:text=pandas%20is%20a%20Python%20package,world%20data%20analysis%20in%20Python.)"
   ]
  },
  {
   "cell_type": "markdown",
   "id": "cf169dd7",
   "metadata": {},
   "source": [
    "#### First of all we need to load our data with pandas\n",
    "\n",
    "* We need to import pandas \n",
    "    * also import numpy and matplotlib (standard modules)\n",
    "    \n",
    "* can use pandas.read_csv('file') to load a csv file "
   ]
  },
  {
   "cell_type": "code",
   "execution_count": null,
   "id": "bc2e40f7",
   "metadata": {},
   "outputs": [],
   "source": [
    "import pandas as pd\n",
    "import numpy as np\n",
    "import matplotlib.pyplot as plt"
   ]
  },
  {
   "cell_type": "code",
   "execution_count": null,
   "id": "aaa87617-96fa-49ac-8263-60ddecec2e7d",
   "metadata": {},
   "outputs": [],
   "source": [
    "# notebook settings\n",
    "env_file_path = \".env\"\n",
    "\n",
    "HIDE_SECRET_OUTPUT = True\n",
    "\n",
    "path_to_save_data = './data/MIDAS'"
   ]
  },
  {
   "cell_type": "markdown",
   "id": "d1336a36-d1a4-4a94-843a-b1a31be4b19b",
   "metadata": {},
   "source": [
    "For this notebook, a .env file is defined in order to abstract away keys personal to the user. The .env file is kept in the same directory as this notebook. Here is an example of what the .env file looks like:\n",
    "\n",
    "```\n",
    "ATMOSPHERIC_CLIENT_ID=xxxxxxxxxxxxxxxxxxxxxx\n",
    "ATMOSPHERIC_CLIENT_SECRET=xxxxxxxxxxxxxxxxxxxxxx\n",
    "SOME_OTHER_ENV_VAR=2gt2t1t2t7224pZ/*321\n",
    "```\n",
    "\n",
    "As shown, the format for each variable is ENV_VAR_NAME=ENV_SECRET with no spaces between the '=' and the definitions, or at the beginning of a line. A newline is required between each environment variable.\n",
    "<br>Due to how the file is read without a the common tool `dotenv`, the .env file expects no comments, nor an in-file informational header. The names of each variable should be obvious.\n",
    "<br>\n",
    "<br>A __template file for .env__ is given in the repository called `.env_template`. after filling in the template with the users own information, either rename the file itself, or the path to the file in the setting variable above (env_file_path)"
   ]
  },
  {
   "cell_type": "code",
   "execution_count": null,
   "id": "37f8c4b4-bfb5-4f76-896d-78021ee21eac",
   "metadata": {},
   "outputs": [],
   "source": [
    "# read environment file\n",
    "env_vars = {}\n",
    "\n",
    "with open(env_file_path) as f:\n",
    "    for line in f:\n",
    "        key, value = line.strip().split(\"=\", 1)\n",
    "        env_vars[key] = value\n",
    "\n",
    "print(env_vars)\n",
    "if HIDE_SECRET_OUTPUT:\n",
    "    clear_output()"
   ]
  },
  {
   "cell_type": "code",
   "execution_count": null,
   "id": "69b18880-d41a-4334-82c7-5009250f9558",
   "metadata": {},
   "outputs": [],
   "source": [
    "# load environment variables\n",
    "CERT_SECRET = env_vars[\"CEDA_CERTIFICATE_DIRECTORY\"]"
   ]
  },
  {
   "cell_type": "code",
   "execution_count": 32,
   "id": "0fb6a824-0a3b-4912-b2b5-1c11876d5caa",
   "metadata": {},
   "outputs": [],
   "source": [
    "links_to_data = [\n",
    "    'https://dap.ceda.ac.uk/badc/ukmo-midas-open/data/uk-daily-rain-obs/dataset-version-202107/devon/01377_exmouth/qc-version-1/midas-open_uk-daily-rain-obs_dv-202107_devon_01377_exmouth_qcv-1_1991.csv'\n",
    "]\n",
    "paths_to_data = []\n",
    "\n",
    "for link in links_to_data:\n",
    "    nc_file_name = link.split(\"/\")[-1]\n",
    "    file_save_path = path_to_save_data + '/' + nc_file_name\n",
    "    \n",
    "    paths_to_data.append(file_save_path)\n",
    "    if not os.path.exists(\n",
    "        file_save_path\n",
    "    ):  # don't download files if already exist on disk\n",
    "        response = requests.get(link, cert=(CERT_SECRET))\n",
    "        response_content = response.content\n",
    "        if response.status_code != 200:\n",
    "            print(response_content)\n",
    "            print(\n",
    "                \"\\n!!!Exception, likely the certificate is not valid! response above!!!\\n\"\n",
    "            )\n",
    "            raise Exception()\n",
    "        with open(file_save_path, \"wb\") as f:\n",
    "            f.write(response_content)\n",
    "\n",
    "# print(paths_to_data)"
   ]
  },
  {
   "cell_type": "code",
   "execution_count": 33,
   "id": "35642ea6",
   "metadata": {},
   "outputs": [],
   "source": [
    "filename = f'{path_to_save_data}/midas-open_uk-daily-rain-obs_dv-202107_devon_01377_exmouth_qcv-1_1991.csv'"
   ]
  },
  {
   "cell_type": "markdown",
   "id": "9ce1cb86",
   "metadata": {},
   "source": [
    "* Below iv created a function to load in the data\n",
    "* This is required as the data length per row differs due to having metadata at the start \n",
    "* The function will produce \n",
    "    * A dataframe for the data\n",
    "    * A metadata dataframe containing all the metadata\n",
    "    * a list of all the metadata that goes into the metadata dataframe \n",
    "    "
   ]
  },
  {
   "cell_type": "code",
   "execution_count": 34,
   "id": "56020d52",
   "metadata": {},
   "outputs": [],
   "source": [
    "def open_csv_from_ceda(filename):\n",
    "    with open(filename) as file:\n",
    "        lines = file.readlines() # splits files into lines of strings\n",
    "        lines_length = [] # sets empty list to append the length of lines to \n",
    "        [lines_length.append(len(line.split(','))) for line in lines] #uses list comprehension to \n",
    "        # split the line which is 1 big sting into a list of smaller string using the seperator ','\n",
    "        # finds the length of this new list which is how many columbs we need and appends to lines length\n",
    "        split_index = lines_length.index(max(lines_length)) # finds index where the first max value occurs\n",
    "        meta_data_list = lines[:split_index] # takes everything before the max as meta data\n",
    "        data = lines[split_index:] # everything after as data\n",
    "        metadata_df = pd.DataFrame([line.split(',') for line in meta_data_list]) # again seperates each line by ',' using \n",
    "        # list comprehension so can be added to dataframe \n",
    "        df = pd.DataFrame([line.split(',') for line in data])\n",
    "        #we want the first row to be the headers of the columns \n",
    "        # we can use `df.iloc[0]` to index the first row and store as headers\n",
    "        # then we can make a new dataframe from index 1 onwards and label the columns as headers\n",
    "        headers = df.iloc[0]\n",
    "        df  = pd.DataFrame(df.values[1:-1], columns=headers)\n",
    "    return df, metadata_df,meta_data_list"
   ]
  },
  {
   "cell_type": "code",
   "execution_count": 35,
   "id": "55f185d6",
   "metadata": {},
   "outputs": [],
   "source": [
    "df, md_df, md_list = open_csv_from_ceda(filename)"
   ]
  },
  {
   "cell_type": "markdown",
   "id": "1f189f33",
   "metadata": {},
   "source": [
    "We can now have a look at our data \n",
    "* `df.head()` shows the first 5 rows of the dataframe \n",
    "* `df.tail()` shows the last 5 rows of the dataframe \n",
    "* adding a number to the bracket shows more eg 10 should show 10 rows "
   ]
  },
  {
   "cell_type": "code",
   "execution_count": 36,
   "id": "0e20d289",
   "metadata": {},
   "outputs": [
    {
     "data": {
      "text/html": [
       "<div>\n",
       "<style scoped>\n",
       "    .dataframe tbody tr th:only-of-type {\n",
       "        vertical-align: middle;\n",
       "    }\n",
       "\n",
       "    .dataframe tbody tr th {\n",
       "        vertical-align: top;\n",
       "    }\n",
       "\n",
       "    .dataframe thead th {\n",
       "        text-align: right;\n",
       "    }\n",
       "</style>\n",
       "<table border=\"1\" class=\"dataframe\">\n",
       "  <thead>\n",
       "    <tr style=\"text-align: right;\">\n",
       "      <th></th>\n",
       "      <th>ob_date</th>\n",
       "      <th>id</th>\n",
       "      <th>id_type</th>\n",
       "      <th>version_num</th>\n",
       "      <th>met_domain_name</th>\n",
       "      <th>ob_end_ctime</th>\n",
       "      <th>ob_day_cnt</th>\n",
       "      <th>src_id</th>\n",
       "      <th>rec_st_ind</th>\n",
       "      <th>prcp_amt</th>\n",
       "      <th>ob_day_cnt_q</th>\n",
       "      <th>prcp_amt_q</th>\n",
       "      <th>prcp_amt_j</th>\n",
       "      <th>meto_stmp_time</th>\n",
       "      <th>midas_stmp_etime\\n</th>\n",
       "    </tr>\n",
       "  </thead>\n",
       "  <tbody>\n",
       "    <tr>\n",
       "      <th>0</th>\n",
       "      <td>1991-01-01 00:00:00</td>\n",
       "      <td>354863</td>\n",
       "      <td>RAIN</td>\n",
       "      <td>1</td>\n",
       "      <td>DLY3208</td>\n",
       "      <td>900</td>\n",
       "      <td>1</td>\n",
       "      <td>1377</td>\n",
       "      <td>1001</td>\n",
       "      <td>1</td>\n",
       "      <td>0</td>\n",
       "      <td>9</td>\n",
       "      <td>NA</td>\n",
       "      <td>NA</td>\n",
       "      <td>NA\\n</td>\n",
       "    </tr>\n",
       "    <tr>\n",
       "      <th>1</th>\n",
       "      <td>1991-01-02 00:00:00</td>\n",
       "      <td>354863</td>\n",
       "      <td>RAIN</td>\n",
       "      <td>1</td>\n",
       "      <td>DLY3208</td>\n",
       "      <td>900</td>\n",
       "      <td>1</td>\n",
       "      <td>1377</td>\n",
       "      <td>1001</td>\n",
       "      <td>15.7</td>\n",
       "      <td>0</td>\n",
       "      <td>9</td>\n",
       "      <td>NA</td>\n",
       "      <td>NA</td>\n",
       "      <td>NA\\n</td>\n",
       "    </tr>\n",
       "    <tr>\n",
       "      <th>2</th>\n",
       "      <td>1991-01-03 00:00:00</td>\n",
       "      <td>354863</td>\n",
       "      <td>RAIN</td>\n",
       "      <td>1</td>\n",
       "      <td>DLY3208</td>\n",
       "      <td>900</td>\n",
       "      <td>1</td>\n",
       "      <td>1377</td>\n",
       "      <td>1001</td>\n",
       "      <td>2.7</td>\n",
       "      <td>0</td>\n",
       "      <td>9</td>\n",
       "      <td>NA</td>\n",
       "      <td>NA</td>\n",
       "      <td>NA\\n</td>\n",
       "    </tr>\n",
       "    <tr>\n",
       "      <th>3</th>\n",
       "      <td>1991-01-04 00:00:00</td>\n",
       "      <td>354863</td>\n",
       "      <td>RAIN</td>\n",
       "      <td>1</td>\n",
       "      <td>DLY3208</td>\n",
       "      <td>900</td>\n",
       "      <td>1</td>\n",
       "      <td>1377</td>\n",
       "      <td>1001</td>\n",
       "      <td>6.4</td>\n",
       "      <td>0</td>\n",
       "      <td>9</td>\n",
       "      <td>NA</td>\n",
       "      <td>NA</td>\n",
       "      <td>NA\\n</td>\n",
       "    </tr>\n",
       "    <tr>\n",
       "      <th>4</th>\n",
       "      <td>1991-01-05 00:00:00</td>\n",
       "      <td>354863</td>\n",
       "      <td>RAIN</td>\n",
       "      <td>1</td>\n",
       "      <td>DLY3208</td>\n",
       "      <td>900</td>\n",
       "      <td>1</td>\n",
       "      <td>1377</td>\n",
       "      <td>1001</td>\n",
       "      <td>7.1</td>\n",
       "      <td>0</td>\n",
       "      <td>9</td>\n",
       "      <td>NA</td>\n",
       "      <td>NA</td>\n",
       "      <td>NA\\n</td>\n",
       "    </tr>\n",
       "  </tbody>\n",
       "</table>\n",
       "</div>"
      ],
      "text/plain": [
       "0              ob_date      id id_type version_num met_domain_name  \\\n",
       "0  1991-01-01 00:00:00  354863    RAIN           1         DLY3208   \n",
       "1  1991-01-02 00:00:00  354863    RAIN           1         DLY3208   \n",
       "2  1991-01-03 00:00:00  354863    RAIN           1         DLY3208   \n",
       "3  1991-01-04 00:00:00  354863    RAIN           1         DLY3208   \n",
       "4  1991-01-05 00:00:00  354863    RAIN           1         DLY3208   \n",
       "\n",
       "0 ob_end_ctime ob_day_cnt src_id rec_st_ind prcp_amt ob_day_cnt_q prcp_amt_q  \\\n",
       "0          900          1   1377       1001        1            0          9   \n",
       "1          900          1   1377       1001     15.7            0          9   \n",
       "2          900          1   1377       1001      2.7            0          9   \n",
       "3          900          1   1377       1001      6.4            0          9   \n",
       "4          900          1   1377       1001      7.1            0          9   \n",
       "\n",
       "0 prcp_amt_j meto_stmp_time midas_stmp_etime\\n  \n",
       "0         NA             NA               NA\\n  \n",
       "1         NA             NA               NA\\n  \n",
       "2         NA             NA               NA\\n  \n",
       "3         NA             NA               NA\\n  \n",
       "4         NA             NA               NA\\n  "
      ]
     },
     "execution_count": 36,
     "metadata": {},
     "output_type": "execute_result"
    }
   ],
   "source": [
    "df.head()"
   ]
  },
  {
   "cell_type": "code",
   "execution_count": 37,
   "id": "136b1460",
   "metadata": {},
   "outputs": [
    {
     "data": {
      "text/html": [
       "<div>\n",
       "<style scoped>\n",
       "    .dataframe tbody tr th:only-of-type {\n",
       "        vertical-align: middle;\n",
       "    }\n",
       "\n",
       "    .dataframe tbody tr th {\n",
       "        vertical-align: top;\n",
       "    }\n",
       "\n",
       "    .dataframe thead th {\n",
       "        text-align: right;\n",
       "    }\n",
       "</style>\n",
       "<table border=\"1\" class=\"dataframe\">\n",
       "  <thead>\n",
       "    <tr style=\"text-align: right;\">\n",
       "      <th></th>\n",
       "      <th>ob_date</th>\n",
       "      <th>id</th>\n",
       "      <th>id_type</th>\n",
       "      <th>version_num</th>\n",
       "      <th>met_domain_name</th>\n",
       "      <th>ob_end_ctime</th>\n",
       "      <th>ob_day_cnt</th>\n",
       "      <th>src_id</th>\n",
       "      <th>rec_st_ind</th>\n",
       "      <th>prcp_amt</th>\n",
       "      <th>ob_day_cnt_q</th>\n",
       "      <th>prcp_amt_q</th>\n",
       "      <th>prcp_amt_j</th>\n",
       "      <th>meto_stmp_time</th>\n",
       "      <th>midas_stmp_etime\\n</th>\n",
       "    </tr>\n",
       "  </thead>\n",
       "  <tbody>\n",
       "    <tr>\n",
       "      <th>355</th>\n",
       "      <td>1991-12-22 00:00:00</td>\n",
       "      <td>354863</td>\n",
       "      <td>RAIN</td>\n",
       "      <td>1</td>\n",
       "      <td>DLY3208</td>\n",
       "      <td>900</td>\n",
       "      <td>1</td>\n",
       "      <td>1377</td>\n",
       "      <td>1001</td>\n",
       "      <td>0.7</td>\n",
       "      <td>0</td>\n",
       "      <td>9</td>\n",
       "      <td>NA</td>\n",
       "      <td>NA</td>\n",
       "      <td>NA\\n</td>\n",
       "    </tr>\n",
       "    <tr>\n",
       "      <th>356</th>\n",
       "      <td>1991-12-23 00:00:00</td>\n",
       "      <td>354863</td>\n",
       "      <td>RAIN</td>\n",
       "      <td>1</td>\n",
       "      <td>DLY3208</td>\n",
       "      <td>900</td>\n",
       "      <td>1</td>\n",
       "      <td>1377</td>\n",
       "      <td>1001</td>\n",
       "      <td>0</td>\n",
       "      <td>0</td>\n",
       "      <td>10009</td>\n",
       "      <td>NA</td>\n",
       "      <td>NA</td>\n",
       "      <td>NA\\n</td>\n",
       "    </tr>\n",
       "    <tr>\n",
       "      <th>357</th>\n",
       "      <td>1991-12-24 00:00:00</td>\n",
       "      <td>354863</td>\n",
       "      <td>RAIN</td>\n",
       "      <td>1</td>\n",
       "      <td>DLY3208</td>\n",
       "      <td>900</td>\n",
       "      <td>1</td>\n",
       "      <td>1377</td>\n",
       "      <td>1001</td>\n",
       "      <td>0.7</td>\n",
       "      <td>0</td>\n",
       "      <td>9</td>\n",
       "      <td>NA</td>\n",
       "      <td>NA</td>\n",
       "      <td>NA\\n</td>\n",
       "    </tr>\n",
       "    <tr>\n",
       "      <th>358</th>\n",
       "      <td>1991-12-25 00:00:00</td>\n",
       "      <td>354863</td>\n",
       "      <td>RAIN</td>\n",
       "      <td>1</td>\n",
       "      <td>DLY3208</td>\n",
       "      <td>900</td>\n",
       "      <td>1</td>\n",
       "      <td>1377</td>\n",
       "      <td>1001</td>\n",
       "      <td>0</td>\n",
       "      <td>0</td>\n",
       "      <td>9</td>\n",
       "      <td>NA</td>\n",
       "      <td>NA</td>\n",
       "      <td>NA\\n</td>\n",
       "    </tr>\n",
       "    <tr>\n",
       "      <th>359</th>\n",
       "      <td>1991-12-26 00:00:00</td>\n",
       "      <td>354863</td>\n",
       "      <td>RAIN</td>\n",
       "      <td>1</td>\n",
       "      <td>DLY3208</td>\n",
       "      <td>900</td>\n",
       "      <td>1</td>\n",
       "      <td>1377</td>\n",
       "      <td>1001</td>\n",
       "      <td>0</td>\n",
       "      <td>0</td>\n",
       "      <td>9</td>\n",
       "      <td>NA</td>\n",
       "      <td>NA</td>\n",
       "      <td>NA\\n</td>\n",
       "    </tr>\n",
       "    <tr>\n",
       "      <th>360</th>\n",
       "      <td>1991-12-27 00:00:00</td>\n",
       "      <td>354863</td>\n",
       "      <td>RAIN</td>\n",
       "      <td>1</td>\n",
       "      <td>DLY3208</td>\n",
       "      <td>900</td>\n",
       "      <td>1</td>\n",
       "      <td>1377</td>\n",
       "      <td>1001</td>\n",
       "      <td>0</td>\n",
       "      <td>0</td>\n",
       "      <td>10009</td>\n",
       "      <td>NA</td>\n",
       "      <td>NA</td>\n",
       "      <td>NA\\n</td>\n",
       "    </tr>\n",
       "    <tr>\n",
       "      <th>361</th>\n",
       "      <td>1991-12-28 00:00:00</td>\n",
       "      <td>354863</td>\n",
       "      <td>RAIN</td>\n",
       "      <td>1</td>\n",
       "      <td>DLY3208</td>\n",
       "      <td>900</td>\n",
       "      <td>1</td>\n",
       "      <td>1377</td>\n",
       "      <td>1001</td>\n",
       "      <td>0</td>\n",
       "      <td>0</td>\n",
       "      <td>9</td>\n",
       "      <td>NA</td>\n",
       "      <td>NA</td>\n",
       "      <td>NA\\n</td>\n",
       "    </tr>\n",
       "    <tr>\n",
       "      <th>362</th>\n",
       "      <td>1991-12-29 00:00:00</td>\n",
       "      <td>354863</td>\n",
       "      <td>RAIN</td>\n",
       "      <td>1</td>\n",
       "      <td>DLY3208</td>\n",
       "      <td>900</td>\n",
       "      <td>1</td>\n",
       "      <td>1377</td>\n",
       "      <td>1001</td>\n",
       "      <td>0</td>\n",
       "      <td>0</td>\n",
       "      <td>9</td>\n",
       "      <td>NA</td>\n",
       "      <td>NA</td>\n",
       "      <td>NA\\n</td>\n",
       "    </tr>\n",
       "    <tr>\n",
       "      <th>363</th>\n",
       "      <td>1991-12-30 00:00:00</td>\n",
       "      <td>354863</td>\n",
       "      <td>RAIN</td>\n",
       "      <td>1</td>\n",
       "      <td>DLY3208</td>\n",
       "      <td>900</td>\n",
       "      <td>1</td>\n",
       "      <td>1377</td>\n",
       "      <td>1001</td>\n",
       "      <td>0</td>\n",
       "      <td>0</td>\n",
       "      <td>9</td>\n",
       "      <td>NA</td>\n",
       "      <td>NA</td>\n",
       "      <td>NA\\n</td>\n",
       "    </tr>\n",
       "    <tr>\n",
       "      <th>364</th>\n",
       "      <td>1991-12-31 00:00:00</td>\n",
       "      <td>354863</td>\n",
       "      <td>RAIN</td>\n",
       "      <td>1</td>\n",
       "      <td>DLY3208</td>\n",
       "      <td>900</td>\n",
       "      <td>1</td>\n",
       "      <td>1377</td>\n",
       "      <td>1001</td>\n",
       "      <td>0</td>\n",
       "      <td>0</td>\n",
       "      <td>9</td>\n",
       "      <td>NA</td>\n",
       "      <td>NA</td>\n",
       "      <td>NA\\n</td>\n",
       "    </tr>\n",
       "  </tbody>\n",
       "</table>\n",
       "</div>"
      ],
      "text/plain": [
       "0                ob_date      id id_type version_num met_domain_name  \\\n",
       "355  1991-12-22 00:00:00  354863    RAIN           1         DLY3208   \n",
       "356  1991-12-23 00:00:00  354863    RAIN           1         DLY3208   \n",
       "357  1991-12-24 00:00:00  354863    RAIN           1         DLY3208   \n",
       "358  1991-12-25 00:00:00  354863    RAIN           1         DLY3208   \n",
       "359  1991-12-26 00:00:00  354863    RAIN           1         DLY3208   \n",
       "360  1991-12-27 00:00:00  354863    RAIN           1         DLY3208   \n",
       "361  1991-12-28 00:00:00  354863    RAIN           1         DLY3208   \n",
       "362  1991-12-29 00:00:00  354863    RAIN           1         DLY3208   \n",
       "363  1991-12-30 00:00:00  354863    RAIN           1         DLY3208   \n",
       "364  1991-12-31 00:00:00  354863    RAIN           1         DLY3208   \n",
       "\n",
       "0   ob_end_ctime ob_day_cnt src_id rec_st_ind prcp_amt ob_day_cnt_q  \\\n",
       "355          900          1   1377       1001      0.7            0   \n",
       "356          900          1   1377       1001        0            0   \n",
       "357          900          1   1377       1001      0.7            0   \n",
       "358          900          1   1377       1001        0            0   \n",
       "359          900          1   1377       1001        0            0   \n",
       "360          900          1   1377       1001        0            0   \n",
       "361          900          1   1377       1001        0            0   \n",
       "362          900          1   1377       1001        0            0   \n",
       "363          900          1   1377       1001        0            0   \n",
       "364          900          1   1377       1001        0            0   \n",
       "\n",
       "0   prcp_amt_q prcp_amt_j meto_stmp_time midas_stmp_etime\\n  \n",
       "355          9         NA             NA               NA\\n  \n",
       "356      10009         NA             NA               NA\\n  \n",
       "357          9         NA             NA               NA\\n  \n",
       "358          9         NA             NA               NA\\n  \n",
       "359          9         NA             NA               NA\\n  \n",
       "360      10009         NA             NA               NA\\n  \n",
       "361          9         NA             NA               NA\\n  \n",
       "362          9         NA             NA               NA\\n  \n",
       "363          9         NA             NA               NA\\n  \n",
       "364          9         NA             NA               NA\\n  "
      ]
     },
     "execution_count": 37,
     "metadata": {},
     "output_type": "execute_result"
    }
   ],
   "source": [
    "df.tail(10)"
   ]
  },
  {
   "cell_type": "code",
   "execution_count": 38,
   "id": "bb13fa38",
   "metadata": {},
   "outputs": [
    {
     "data": {
      "text/html": [
       "<div>\n",
       "<style scoped>\n",
       "    .dataframe tbody tr th:only-of-type {\n",
       "        vertical-align: middle;\n",
       "    }\n",
       "\n",
       "    .dataframe tbody tr th {\n",
       "        vertical-align: top;\n",
       "    }\n",
       "\n",
       "    .dataframe thead th {\n",
       "        text-align: right;\n",
       "    }\n",
       "</style>\n",
       "<table border=\"1\" class=\"dataframe\">\n",
       "  <thead>\n",
       "    <tr style=\"text-align: right;\">\n",
       "      <th></th>\n",
       "      <th>0</th>\n",
       "      <th>1</th>\n",
       "      <th>2</th>\n",
       "      <th>3</th>\n",
       "    </tr>\n",
       "  </thead>\n",
       "  <tbody>\n",
       "    <tr>\n",
       "      <th>0</th>\n",
       "      <td>Conventions</td>\n",
       "      <td>G</td>\n",
       "      <td>BADC-CSV</td>\n",
       "      <td>1\\n</td>\n",
       "    </tr>\n",
       "    <tr>\n",
       "      <th>1</th>\n",
       "      <td>title</td>\n",
       "      <td>G</td>\n",
       "      <td>uk-daily-rain-obs\\n</td>\n",
       "      <td>None</td>\n",
       "    </tr>\n",
       "    <tr>\n",
       "      <th>2</th>\n",
       "      <td>source</td>\n",
       "      <td>G</td>\n",
       "      <td>Met Office MIDAS database\\n</td>\n",
       "      <td>None</td>\n",
       "    </tr>\n",
       "    <tr>\n",
       "      <th>3</th>\n",
       "      <td>creator</td>\n",
       "      <td>G</td>\n",
       "      <td>Met Office\\n</td>\n",
       "      <td>None</td>\n",
       "    </tr>\n",
       "    <tr>\n",
       "      <th>4</th>\n",
       "      <td>activity</td>\n",
       "      <td>G</td>\n",
       "      <td>Met Office MIDAS Open: UK Land Surface Station...</td>\n",
       "      <td>None</td>\n",
       "    </tr>\n",
       "  </tbody>\n",
       "</table>\n",
       "</div>"
      ],
      "text/plain": [
       "             0  1                                                  2     3\n",
       "0  Conventions  G                                           BADC-CSV   1\\n\n",
       "1        title  G                                uk-daily-rain-obs\\n  None\n",
       "2       source  G                        Met Office MIDAS database\\n  None\n",
       "3      creator  G                                       Met Office\\n  None\n",
       "4     activity  G  Met Office MIDAS Open: UK Land Surface Station...  None"
      ]
     },
     "execution_count": 38,
     "metadata": {},
     "output_type": "execute_result"
    }
   ],
   "source": [
    "md_df.head()"
   ]
  },
  {
   "cell_type": "markdown",
   "id": "864e9777",
   "metadata": {},
   "source": [
    "* `.columns` will print the column headers "
   ]
  },
  {
   "cell_type": "code",
   "execution_count": 39,
   "id": "8964acc8",
   "metadata": {},
   "outputs": [
    {
     "data": {
      "text/plain": [
       "Index(['ob_date', 'id', 'id_type', 'version_num', 'met_domain_name',\n",
       "       'ob_end_ctime', 'ob_day_cnt', 'src_id', 'rec_st_ind', 'prcp_amt',\n",
       "       'ob_day_cnt_q', 'prcp_amt_q', 'prcp_amt_j', 'meto_stmp_time',\n",
       "       'midas_stmp_etime\\n'],\n",
       "      dtype='object', name=0)"
      ]
     },
     "execution_count": 39,
     "metadata": {},
     "output_type": "execute_result"
    }
   ],
   "source": [
    "df.columns"
   ]
  },
  {
   "cell_type": "markdown",
   "id": "85792f35",
   "metadata": {},
   "source": [
    "* looks like we have a few things \n",
    "    * time the measurement was taken \n",
    "    * some kind of ID\n",
    "    * a domain name\n",
    "    * we have precipitation amount \n",
    "    * not sure the difference between prcp_amt, prcp_amt_j, prcp_amt_q\n",
    "        * q and j look empty\n",
    "   \n",
    "* we can extract certain columns into a new dataframe \n",
    "    * for example `df['id_type']` would be a dataframe of just the ID types"
   ]
  },
  {
   "cell_type": "code",
   "execution_count": 40,
   "id": "1709e13c",
   "metadata": {},
   "outputs": [
    {
     "data": {
      "text/plain": [
       "(365, 15)"
      ]
     },
     "execution_count": 40,
     "metadata": {},
     "output_type": "execute_result"
    }
   ],
   "source": [
    "df.shape #tells us the size of our data frame "
   ]
  },
  {
   "cell_type": "markdown",
   "id": "646647bf",
   "metadata": {},
   "source": [
    "`.info()` returns some summary information about our dataframe \n",
    "\n",
    "* The range of our index\n",
    "* The number of columns \n",
    "* Datatype in each column\n",
    "* Non-null count gives the number of entries that are not null \n",
    "* Memory usage "
   ]
  },
  {
   "cell_type": "code",
   "execution_count": 41,
   "id": "25a15a3d",
   "metadata": {},
   "outputs": [
    {
     "name": "stdout",
     "output_type": "stream",
     "text": [
      "<class 'pandas.core.frame.DataFrame'>\n",
      "RangeIndex: 365 entries, 0 to 364\n",
      "Data columns (total 15 columns):\n",
      " #   Column             Non-Null Count  Dtype \n",
      "---  ------             --------------  ----- \n",
      " 0   ob_date            365 non-null    object\n",
      " 1   id                 365 non-null    object\n",
      " 2   id_type            365 non-null    object\n",
      " 3   version_num        365 non-null    object\n",
      " 4   met_domain_name    365 non-null    object\n",
      " 5   ob_end_ctime       365 non-null    object\n",
      " 6   ob_day_cnt         365 non-null    object\n",
      " 7   src_id             365 non-null    object\n",
      " 8   rec_st_ind         365 non-null    object\n",
      " 9   prcp_amt           365 non-null    object\n",
      " 10  ob_day_cnt_q       365 non-null    object\n",
      " 11  prcp_amt_q         365 non-null    object\n",
      " 12  prcp_amt_j         365 non-null    object\n",
      " 13  meto_stmp_time     365 non-null    object\n",
      " 14  midas_stmp_etime\n",
      "  365 non-null    object\n",
      "dtypes: object(15)\n",
      "memory usage: 42.9+ KB\n"
     ]
    }
   ],
   "source": [
    "df.info()"
   ]
  },
  {
   "cell_type": "markdown",
   "id": "5de5023c",
   "metadata": {},
   "source": [
    "* `.describe()` gives an overview of some statistics  "
   ]
  },
  {
   "cell_type": "code",
   "execution_count": 42,
   "id": "7ba70ca8",
   "metadata": {},
   "outputs": [
    {
     "data": {
      "text/html": [
       "<div>\n",
       "<style scoped>\n",
       "    .dataframe tbody tr th:only-of-type {\n",
       "        vertical-align: middle;\n",
       "    }\n",
       "\n",
       "    .dataframe tbody tr th {\n",
       "        vertical-align: top;\n",
       "    }\n",
       "\n",
       "    .dataframe thead th {\n",
       "        text-align: right;\n",
       "    }\n",
       "</style>\n",
       "<table border=\"1\" class=\"dataframe\">\n",
       "  <thead>\n",
       "    <tr style=\"text-align: right;\">\n",
       "      <th></th>\n",
       "      <th>ob_date</th>\n",
       "      <th>id</th>\n",
       "      <th>id_type</th>\n",
       "      <th>version_num</th>\n",
       "      <th>met_domain_name</th>\n",
       "      <th>ob_end_ctime</th>\n",
       "      <th>ob_day_cnt</th>\n",
       "      <th>src_id</th>\n",
       "      <th>rec_st_ind</th>\n",
       "      <th>prcp_amt</th>\n",
       "      <th>ob_day_cnt_q</th>\n",
       "      <th>prcp_amt_q</th>\n",
       "      <th>prcp_amt_j</th>\n",
       "      <th>meto_stmp_time</th>\n",
       "      <th>midas_stmp_etime\\n</th>\n",
       "    </tr>\n",
       "  </thead>\n",
       "  <tbody>\n",
       "    <tr>\n",
       "      <th>count</th>\n",
       "      <td>365</td>\n",
       "      <td>365</td>\n",
       "      <td>365</td>\n",
       "      <td>365</td>\n",
       "      <td>365</td>\n",
       "      <td>365</td>\n",
       "      <td>365</td>\n",
       "      <td>365</td>\n",
       "      <td>365</td>\n",
       "      <td>365</td>\n",
       "      <td>365</td>\n",
       "      <td>365</td>\n",
       "      <td>365</td>\n",
       "      <td>365</td>\n",
       "      <td>365</td>\n",
       "    </tr>\n",
       "    <tr>\n",
       "      <th>unique</th>\n",
       "      <td>365</td>\n",
       "      <td>1</td>\n",
       "      <td>1</td>\n",
       "      <td>1</td>\n",
       "      <td>1</td>\n",
       "      <td>1</td>\n",
       "      <td>1</td>\n",
       "      <td>1</td>\n",
       "      <td>1</td>\n",
       "      <td>76</td>\n",
       "      <td>1</td>\n",
       "      <td>2</td>\n",
       "      <td>2</td>\n",
       "      <td>1</td>\n",
       "      <td>1</td>\n",
       "    </tr>\n",
       "    <tr>\n",
       "      <th>top</th>\n",
       "      <td>1991-01-01 00:00:00</td>\n",
       "      <td>354863</td>\n",
       "      <td>RAIN</td>\n",
       "      <td>1</td>\n",
       "      <td>DLY3208</td>\n",
       "      <td>900</td>\n",
       "      <td>1</td>\n",
       "      <td>1377</td>\n",
       "      <td>1001</td>\n",
       "      <td>0</td>\n",
       "      <td>0</td>\n",
       "      <td>9</td>\n",
       "      <td>NA</td>\n",
       "      <td>NA</td>\n",
       "      <td>NA\\n</td>\n",
       "    </tr>\n",
       "    <tr>\n",
       "      <th>freq</th>\n",
       "      <td>1</td>\n",
       "      <td>365</td>\n",
       "      <td>365</td>\n",
       "      <td>365</td>\n",
       "      <td>365</td>\n",
       "      <td>365</td>\n",
       "      <td>365</td>\n",
       "      <td>365</td>\n",
       "      <td>365</td>\n",
       "      <td>201</td>\n",
       "      <td>365</td>\n",
       "      <td>311</td>\n",
       "      <td>360</td>\n",
       "      <td>365</td>\n",
       "      <td>365</td>\n",
       "    </tr>\n",
       "  </tbody>\n",
       "</table>\n",
       "</div>"
      ],
      "text/plain": [
       "0                   ob_date      id id_type version_num met_domain_name  \\\n",
       "count                   365     365     365         365             365   \n",
       "unique                  365       1       1           1               1   \n",
       "top     1991-01-01 00:00:00  354863    RAIN           1         DLY3208   \n",
       "freq                      1     365     365         365             365   \n",
       "\n",
       "0      ob_end_ctime ob_day_cnt src_id rec_st_ind prcp_amt ob_day_cnt_q  \\\n",
       "count           365        365    365        365      365          365   \n",
       "unique            1          1      1          1       76            1   \n",
       "top             900          1   1377       1001        0            0   \n",
       "freq            365        365    365        365      201          365   \n",
       "\n",
       "0      prcp_amt_q prcp_amt_j meto_stmp_time midas_stmp_etime\\n  \n",
       "count         365        365            365                365  \n",
       "unique          2          2              1                  1  \n",
       "top             9         NA             NA               NA\\n  \n",
       "freq          311        360            365                365  "
      ]
     },
     "execution_count": 42,
     "metadata": {},
     "output_type": "execute_result"
    }
   ],
   "source": [
    "df.describe()"
   ]
  },
  {
   "cell_type": "code",
   "execution_count": 43,
   "id": "6bb9494a",
   "metadata": {},
   "outputs": [
    {
     "data": {
      "text/plain": [
       "0\n",
       "ob_date               object\n",
       "id                    object\n",
       "id_type               object\n",
       "version_num           object\n",
       "met_domain_name       object\n",
       "ob_end_ctime          object\n",
       "ob_day_cnt            object\n",
       "src_id                object\n",
       "rec_st_ind            object\n",
       "prcp_amt              object\n",
       "ob_day_cnt_q          object\n",
       "prcp_amt_q            object\n",
       "prcp_amt_j            object\n",
       "meto_stmp_time        object\n",
       "midas_stmp_etime\\n    object\n",
       "dtype: object"
      ]
     },
     "execution_count": 43,
     "metadata": {},
     "output_type": "execute_result"
    }
   ],
   "source": [
    "df.dtypes"
   ]
  },
  {
   "cell_type": "markdown",
   "id": "e5e4ea0e",
   "metadata": {},
   "source": [
    "From the output above it looks like the only columns that have any data are ob_date and prcp_amt. This is fine as we are most interested in the precip amount and the date the measurement was taken\n",
    "\n",
    "* We can create a separate dataframe just from the columns we are interested in \n",
    "    * here we will use 'ob_date' and 'prcp_amt'\n",
    "\n",
    "When accessing a column of a dataframe you can think of it the same way as using a key in a dictionary, we use square brackets and pass the name of the column as a string. So to access multiple columns we pass a list of strings that correspond to headers\n",
    "\n"
   ]
  },
  {
   "cell_type": "code",
   "execution_count": 44,
   "id": "2e70edd5",
   "metadata": {},
   "outputs": [],
   "source": [
    "df_precip = df[['ob_date','prcp_amt']]"
   ]
  },
  {
   "cell_type": "code",
   "execution_count": 45,
   "id": "7c18f29a",
   "metadata": {},
   "outputs": [
    {
     "data": {
      "text/html": [
       "<div>\n",
       "<style scoped>\n",
       "    .dataframe tbody tr th:only-of-type {\n",
       "        vertical-align: middle;\n",
       "    }\n",
       "\n",
       "    .dataframe tbody tr th {\n",
       "        vertical-align: top;\n",
       "    }\n",
       "\n",
       "    .dataframe thead th {\n",
       "        text-align: right;\n",
       "    }\n",
       "</style>\n",
       "<table border=\"1\" class=\"dataframe\">\n",
       "  <thead>\n",
       "    <tr style=\"text-align: right;\">\n",
       "      <th></th>\n",
       "      <th>ob_date</th>\n",
       "      <th>prcp_amt</th>\n",
       "    </tr>\n",
       "  </thead>\n",
       "  <tbody>\n",
       "    <tr>\n",
       "      <th>0</th>\n",
       "      <td>1991-01-01 00:00:00</td>\n",
       "      <td>1</td>\n",
       "    </tr>\n",
       "    <tr>\n",
       "      <th>1</th>\n",
       "      <td>1991-01-02 00:00:00</td>\n",
       "      <td>15.7</td>\n",
       "    </tr>\n",
       "    <tr>\n",
       "      <th>2</th>\n",
       "      <td>1991-01-03 00:00:00</td>\n",
       "      <td>2.7</td>\n",
       "    </tr>\n",
       "    <tr>\n",
       "      <th>3</th>\n",
       "      <td>1991-01-04 00:00:00</td>\n",
       "      <td>6.4</td>\n",
       "    </tr>\n",
       "    <tr>\n",
       "      <th>4</th>\n",
       "      <td>1991-01-05 00:00:00</td>\n",
       "      <td>7.1</td>\n",
       "    </tr>\n",
       "  </tbody>\n",
       "</table>\n",
       "</div>"
      ],
      "text/plain": [
       "0              ob_date prcp_amt\n",
       "0  1991-01-01 00:00:00        1\n",
       "1  1991-01-02 00:00:00     15.7\n",
       "2  1991-01-03 00:00:00      2.7\n",
       "3  1991-01-04 00:00:00      6.4\n",
       "4  1991-01-05 00:00:00      7.1"
      ]
     },
     "execution_count": 45,
     "metadata": {},
     "output_type": "execute_result"
    }
   ],
   "source": [
    "df_precip.head()"
   ]
  },
  {
   "cell_type": "code",
   "execution_count": 46,
   "id": "2d950b11",
   "metadata": {},
   "outputs": [
    {
     "data": {
      "text/plain": [
       "0\n",
       "ob_date     object\n",
       "prcp_amt    object\n",
       "dtype: object"
      ]
     },
     "execution_count": 46,
     "metadata": {},
     "output_type": "execute_result"
    }
   ],
   "source": [
    "df_precip.dtypes"
   ]
  },
  {
   "cell_type": "markdown",
   "id": "4d5567b3",
   "metadata": {},
   "source": [
    "* Now we can see df_precip is a smaller datafraame with the dates of observation and precip amount \n",
    "* using .dtypes we can see our datatypes are objects\n",
    "* this isn't very useful for dates and numbers \n",
    "* we can change this to be more useful for the types of operation we might want to do"
   ]
  },
  {
   "cell_type": "code",
   "execution_count": 47,
   "id": "00590e95",
   "metadata": {},
   "outputs": [
    {
     "name": "stderr",
     "output_type": "stream",
     "text": [
      "/var/tmp/ipykernel_70272/1586291051.py:1: SettingWithCopyWarning: \n",
      "A value is trying to be set on a copy of a slice from a DataFrame.\n",
      "Try using .loc[row_indexer,col_indexer] = value instead\n",
      "\n",
      "See the caveats in the documentation: https://pandas.pydata.org/pandas-docs/stable/user_guide/indexing.html#returning-a-view-versus-a-copy\n",
      "  df_precip.loc[:,'prcp_amt'] = df_precip['prcp_amt'].astype('float')\n",
      "/var/tmp/ipykernel_70272/1586291051.py:1: FutureWarning: In a future version, `df.iloc[:, i] = newvals` will attempt to set the values inplace instead of always setting a new array. To retain the old behavior, use either `df[df.columns[i]] = newvals` or, if columns are non-unique, `df.isetitem(i, newvals)`\n",
      "  df_precip.loc[:,'prcp_amt'] = df_precip['prcp_amt'].astype('float')\n"
     ]
    }
   ],
   "source": [
    "df_precip.loc[:,'prcp_amt'] = df_precip['prcp_amt'].astype('float')\n",
    "# I am usin .loc"
   ]
  },
  {
   "cell_type": "markdown",
   "id": "6164ed13",
   "metadata": {},
   "source": [
    "* All we have done above is say we want the 'prcp_amt' column to be type 'float' \n",
    "* Then we assign this back to our column so we change our data type \n",
    "* we can see this has worked below "
   ]
  },
  {
   "cell_type": "code",
   "execution_count": 48,
   "id": "f1960e6f",
   "metadata": {},
   "outputs": [
    {
     "data": {
      "text/plain": [
       "0\n",
       "ob_date      object\n",
       "prcp_amt    float64\n",
       "dtype: object"
      ]
     },
     "execution_count": 48,
     "metadata": {},
     "output_type": "execute_result"
    }
   ],
   "source": [
    "df_precip.dtypes"
   ]
  },
  {
   "cell_type": "markdown",
   "id": "60b46f64",
   "metadata": {},
   "source": [
    "* How our precipitation values are numeric, we can plot them!\n",
    "* selecting our column and using .plot plots the series is plotted with the index on the x-axis"
   ]
  },
  {
   "cell_type": "code",
   "execution_count": 49,
   "id": "8c0a3538",
   "metadata": {},
   "outputs": [
    {
     "data": {
      "text/plain": [
       "<AxesSubplot: >"
      ]
     },
     "execution_count": 49,
     "metadata": {},
     "output_type": "execute_result"
    },
    {
     "data": {
      "image/png": "[encoded data removed]",
      "text/plain": [
       "<Figure size 640x480 with 1 Axes>"
      ]
     },
     "metadata": {},
     "output_type": "display_data"
    }
   ],
   "source": [
    "df_precip['prcp_amt'].plot()"
   ]
  },
  {
   "cell_type": "markdown",
   "id": "d221ffde",
   "metadata": {},
   "source": [
    "#### something to point out while we are selecting columns \n",
    "\n",
    "* Each column in a dataframe is called a series \n",
    "* Series are useful things in pandas and have their own section of the docs \n",
    "[series documentation](https://pandas.pydata.org/pandas-docs/stable/reference/series.html)\n",
    "* when we are extracting a column and performing a operation like above, this is a series operation\n",
    "    * this isn't to say dataframe don't have the same operations however their outputs can differ"
   ]
  },
  {
   "cell_type": "markdown",
   "id": "d4ff3f57",
   "metadata": {},
   "source": [
    "#### The next thing we will deal with is our index\n",
    "\n",
    "* having our index as numerical values probably isn't that useful \n",
    "* it would be far more useful having the day of observation as the index\n",
    "* First we need our dates to be datetime's rather than objects \n",
    "* We can fix this similar to our numeric values, this time just using pandas to_datetime function"
   ]
  },
  {
   "cell_type": "code",
   "execution_count": 50,
   "id": "96e86490",
   "metadata": {
    "scrolled": true
   },
   "outputs": [
    {
     "name": "stderr",
     "output_type": "stream",
     "text": [
      "/var/tmp/ipykernel_70272/988181090.py:1: SettingWithCopyWarning: \n",
      "A value is trying to be set on a copy of a slice from a DataFrame.\n",
      "Try using .loc[row_indexer,col_indexer] = value instead\n",
      "\n",
      "See the caveats in the documentation: https://pandas.pydata.org/pandas-docs/stable/user_guide/indexing.html#returning-a-view-versus-a-copy\n",
      "  df_precip.loc[:,'ob_date'] = pd.to_datetime(df_precip[\"ob_date\"])\n",
      "/var/tmp/ipykernel_70272/988181090.py:1: FutureWarning: In a future version, `df.iloc[:, i] = newvals` will attempt to set the values inplace instead of always setting a new array. To retain the old behavior, use either `df[df.columns[i]] = newvals` or, if columns are non-unique, `df.isetitem(i, newvals)`\n",
      "  df_precip.loc[:,'ob_date'] = pd.to_datetime(df_precip[\"ob_date\"])\n"
     ]
    }
   ],
   "source": [
    "df_precip.loc[:,'ob_date'] = pd.to_datetime(df_precip[\"ob_date\"])\n"
   ]
  },
  {
   "cell_type": "code",
   "execution_count": 51,
   "id": "2eb08934",
   "metadata": {},
   "outputs": [
    {
     "data": {
      "text/plain": [
       "0\n",
       "ob_date     datetime64[ns]\n",
       "prcp_amt           float64\n",
       "dtype: object"
      ]
     },
     "execution_count": 51,
     "metadata": {},
     "output_type": "execute_result"
    }
   ],
   "source": [
    "df_precip.dtypes"
   ]
  },
  {
   "cell_type": "markdown",
   "id": "4b4b2d83",
   "metadata": {},
   "source": [
    "now we can see both our series are the correct data types \n",
    "\n",
    "* now lets make these dates our index\n",
    "* for this we just use .set_index and specify the series we would like as our index"
   ]
  },
  {
   "cell_type": "code",
   "execution_count": 52,
   "id": "15226229",
   "metadata": {},
   "outputs": [],
   "source": [
    "df_precip = df_precip.set_index('ob_date')"
   ]
  },
  {
   "cell_type": "code",
   "execution_count": 53,
   "id": "f9205df6",
   "metadata": {},
   "outputs": [
    {
     "data": {
      "text/html": [
       "<div>\n",
       "<style scoped>\n",
       "    .dataframe tbody tr th:only-of-type {\n",
       "        vertical-align: middle;\n",
       "    }\n",
       "\n",
       "    .dataframe tbody tr th {\n",
       "        vertical-align: top;\n",
       "    }\n",
       "\n",
       "    .dataframe thead th {\n",
       "        text-align: right;\n",
       "    }\n",
       "</style>\n",
       "<table border=\"1\" class=\"dataframe\">\n",
       "  <thead>\n",
       "    <tr style=\"text-align: right;\">\n",
       "      <th></th>\n",
       "      <th>prcp_amt</th>\n",
       "    </tr>\n",
       "    <tr>\n",
       "      <th>ob_date</th>\n",
       "      <th></th>\n",
       "    </tr>\n",
       "  </thead>\n",
       "  <tbody>\n",
       "    <tr>\n",
       "      <th>1991-01-01</th>\n",
       "      <td>1.0</td>\n",
       "    </tr>\n",
       "    <tr>\n",
       "      <th>1991-01-02</th>\n",
       "      <td>15.7</td>\n",
       "    </tr>\n",
       "    <tr>\n",
       "      <th>1991-01-03</th>\n",
       "      <td>2.7</td>\n",
       "    </tr>\n",
       "    <tr>\n",
       "      <th>1991-01-04</th>\n",
       "      <td>6.4</td>\n",
       "    </tr>\n",
       "    <tr>\n",
       "      <th>1991-01-05</th>\n",
       "      <td>7.1</td>\n",
       "    </tr>\n",
       "  </tbody>\n",
       "</table>\n",
       "</div>"
      ],
      "text/plain": [
       "0           prcp_amt\n",
       "ob_date             \n",
       "1991-01-01       1.0\n",
       "1991-01-02      15.7\n",
       "1991-01-03       2.7\n",
       "1991-01-04       6.4\n",
       "1991-01-05       7.1"
      ]
     },
     "execution_count": 53,
     "metadata": {},
     "output_type": "execute_result"
    }
   ],
   "source": [
    "df_precip.head()"
   ]
  },
  {
   "cell_type": "markdown",
   "id": "a9223701",
   "metadata": {},
   "source": [
    "* This looks much better now \n",
    "* Lets revisit `df.describe()`"
   ]
  },
  {
   "cell_type": "code",
   "execution_count": 54,
   "id": "d0c0e8a6",
   "metadata": {},
   "outputs": [
    {
     "data": {
      "text/html": [
       "<div>\n",
       "<style scoped>\n",
       "    .dataframe tbody tr th:only-of-type {\n",
       "        vertical-align: middle;\n",
       "    }\n",
       "\n",
       "    .dataframe tbody tr th {\n",
       "        vertical-align: top;\n",
       "    }\n",
       "\n",
       "    .dataframe thead th {\n",
       "        text-align: right;\n",
       "    }\n",
       "</style>\n",
       "<table border=\"1\" class=\"dataframe\">\n",
       "  <thead>\n",
       "    <tr style=\"text-align: right;\">\n",
       "      <th></th>\n",
       "      <th>prcp_amt</th>\n",
       "    </tr>\n",
       "  </thead>\n",
       "  <tbody>\n",
       "    <tr>\n",
       "      <th>count</th>\n",
       "      <td>365.000000</td>\n",
       "    </tr>\n",
       "    <tr>\n",
       "      <th>mean</th>\n",
       "      <td>1.793151</td>\n",
       "    </tr>\n",
       "    <tr>\n",
       "      <th>std</th>\n",
       "      <td>4.188620</td>\n",
       "    </tr>\n",
       "    <tr>\n",
       "      <th>min</th>\n",
       "      <td>0.000000</td>\n",
       "    </tr>\n",
       "    <tr>\n",
       "      <th>25%</th>\n",
       "      <td>0.000000</td>\n",
       "    </tr>\n",
       "    <tr>\n",
       "      <th>50%</th>\n",
       "      <td>0.000000</td>\n",
       "    </tr>\n",
       "    <tr>\n",
       "      <th>75%</th>\n",
       "      <td>1.400000</td>\n",
       "    </tr>\n",
       "    <tr>\n",
       "      <th>max</th>\n",
       "      <td>36.100000</td>\n",
       "    </tr>\n",
       "  </tbody>\n",
       "</table>\n",
       "</div>"
      ],
      "text/plain": [
       "0        prcp_amt\n",
       "count  365.000000\n",
       "mean     1.793151\n",
       "std      4.188620\n",
       "min      0.000000\n",
       "25%      0.000000\n",
       "50%      0.000000\n",
       "75%      1.400000\n",
       "max     36.100000"
      ]
     },
     "execution_count": 54,
     "metadata": {},
     "output_type": "execute_result"
    }
   ],
   "source": [
    "df_precip.describe()"
   ]
  },
  {
   "cell_type": "markdown",
   "id": "da4b1725",
   "metadata": {},
   "source": [
    "* Since each column now has a numeric data type, the `.describe()` function returns a summary of its statistics \n",
    "* Now lets look at the total rainfall over the whole year\n",
    "* we can do a cumulative sum through the year "
   ]
  },
  {
   "cell_type": "code",
   "execution_count": 55,
   "id": "f0907f5f",
   "metadata": {},
   "outputs": [],
   "source": [
    "df_precip['prcp_amt_cumsum'] = df_precip.cumsum()['prcp_amt']"
   ]
  },
  {
   "cell_type": "markdown",
   "id": "fd99c2a7",
   "metadata": {},
   "source": [
    "* here we have specified a new series, named `prcp_amt_cumsum`\n",
    "* the `.cumsum()` function runs the operation on each column in the dataframe\n",
    "* since we are interested in the cumulative sum of the `prcp_amt` column, we specify that column from the new dataframe\n",
    "* this is now assigned to our new column `prcp_amt_cumsum`"
   ]
  },
  {
   "cell_type": "code",
   "execution_count": 56,
   "id": "9aa48ac6",
   "metadata": {},
   "outputs": [
    {
     "data": {
      "text/html": [
       "<div>\n",
       "<style scoped>\n",
       "    .dataframe tbody tr th:only-of-type {\n",
       "        vertical-align: middle;\n",
       "    }\n",
       "\n",
       "    .dataframe tbody tr th {\n",
       "        vertical-align: top;\n",
       "    }\n",
       "\n",
       "    .dataframe thead th {\n",
       "        text-align: right;\n",
       "    }\n",
       "</style>\n",
       "<table border=\"1\" class=\"dataframe\">\n",
       "  <thead>\n",
       "    <tr style=\"text-align: right;\">\n",
       "      <th></th>\n",
       "      <th>prcp_amt</th>\n",
       "      <th>prcp_amt_cumsum</th>\n",
       "    </tr>\n",
       "    <tr>\n",
       "      <th>ob_date</th>\n",
       "      <th></th>\n",
       "      <th></th>\n",
       "    </tr>\n",
       "  </thead>\n",
       "  <tbody>\n",
       "    <tr>\n",
       "      <th>1991-01-01</th>\n",
       "      <td>1.0</td>\n",
       "      <td>1.0</td>\n",
       "    </tr>\n",
       "    <tr>\n",
       "      <th>1991-01-02</th>\n",
       "      <td>15.7</td>\n",
       "      <td>16.7</td>\n",
       "    </tr>\n",
       "    <tr>\n",
       "      <th>1991-01-03</th>\n",
       "      <td>2.7</td>\n",
       "      <td>19.4</td>\n",
       "    </tr>\n",
       "    <tr>\n",
       "      <th>1991-01-04</th>\n",
       "      <td>6.4</td>\n",
       "      <td>25.8</td>\n",
       "    </tr>\n",
       "    <tr>\n",
       "      <th>1991-01-05</th>\n",
       "      <td>7.1</td>\n",
       "      <td>32.9</td>\n",
       "    </tr>\n",
       "  </tbody>\n",
       "</table>\n",
       "</div>"
      ],
      "text/plain": [
       "0           prcp_amt  prcp_amt_cumsum\n",
       "ob_date                              \n",
       "1991-01-01       1.0              1.0\n",
       "1991-01-02      15.7             16.7\n",
       "1991-01-03       2.7             19.4\n",
       "1991-01-04       6.4             25.8\n",
       "1991-01-05       7.1             32.9"
      ]
     },
     "execution_count": 56,
     "metadata": {},
     "output_type": "execute_result"
    }
   ],
   "source": [
    "df_precip.head()"
   ]
  },
  {
   "cell_type": "markdown",
   "id": "017731f3",
   "metadata": {},
   "source": [
    "#### Now lets plot some time series again \n",
    "* using subplots we can plot both series in one figure"
   ]
  },
  {
   "cell_type": "code",
   "execution_count": 57,
   "id": "df284218",
   "metadata": {},
   "outputs": [
    {
     "data": {
      "text/plain": [
       "(array([7670, 7701, 7729, 7760, 7790, 7821, 7851, 7882, 7913, 7943, 7974,\n",
       "        8004, 8034]),\n",
       " [Text(7670, 0, 'Jan\\n1991'),\n",
       "  Text(7701, 0, 'Feb'),\n",
       "  Text(7729, 0, 'Mar'),\n",
       "  Text(7760, 0, 'Apr'),\n",
       "  Text(7790, 0, 'May'),\n",
       "  Text(7821, 0, 'Jun'),\n",
       "  Text(7851, 0, 'Jul'),\n",
       "  Text(7882, 0, 'Aug'),\n",
       "  Text(7913, 0, 'Sep'),\n",
       "  Text(7943, 0, 'Oct'),\n",
       "  Text(7974, 0, 'Nov'),\n",
       "  Text(8004, 0, 'Dec'),\n",
       "  Text(8034, 0, '')])"
      ]
     },
     "execution_count": 57,
     "metadata": {},
     "output_type": "execute_result"
    },
    {
     "data": {
      "image/png": "[encoded data removed]",
      "text/plain": [
       "<Figure size 1400x400 with 2 Axes>"
      ]
     },
     "metadata": {},
     "output_type": "display_data"
    }
   ],
   "source": [
    "fig = plt.figure(figsize = (14,4))\n",
    "plt.subplot(1,2,1)\n",
    "df_precip['prcp_amt_cumsum'].plot()\n",
    "plt.xticks(rotation=45)\n",
    "plt.subplot(1,2,2)\n",
    "df_precip['prcp_amt'].plot()\n",
    "plt.xticks(rotation=45) "
   ]
  },
  {
   "cell_type": "markdown",
   "id": "69544502",
   "metadata": {},
   "source": [
    "* now by having our date as the index, it plots for us automatically"
   ]
  },
  {
   "cell_type": "markdown",
   "id": "4e52ae06",
   "metadata": {},
   "source": [
    "Lets have a look at finding some days we might be interested in, for example max rainfall:\n",
    "\n",
    "* Using `.max()` will show us the max value in each series \n",
    "* Using `.idxmax()` will show us the index as which the highest value takes place"
   ]
  },
  {
   "cell_type": "code",
   "execution_count": 58,
   "id": "eb0e9210",
   "metadata": {},
   "outputs": [
    {
     "data": {
      "text/plain": [
       "0\n",
       "prcp_amt            36.1\n",
       "prcp_amt_cumsum    654.5\n",
       "dtype: float64"
      ]
     },
     "execution_count": 58,
     "metadata": {},
     "output_type": "execute_result"
    }
   ],
   "source": [
    "df_precip.max()"
   ]
  },
  {
   "cell_type": "code",
   "execution_count": 59,
   "id": "9442b866",
   "metadata": {},
   "outputs": [
    {
     "data": {
      "text/plain": [
       "0\n",
       "prcp_amt          1991-09-29\n",
       "prcp_amt_cumsum   1991-12-24\n",
       "dtype: datetime64[ns]"
      ]
     },
     "execution_count": 59,
     "metadata": {},
     "output_type": "execute_result"
    }
   ],
   "source": [
    "df_precip.idxmax() "
   ]
  },
  {
   "cell_type": "markdown",
   "id": "71854567",
   "metadata": {},
   "source": [
    "* So the day with maximum rainfall is 1991-09-29 with 36.1 mm of rain"
   ]
  },
  {
   "cell_type": "markdown",
   "id": "560ffc67",
   "metadata": {},
   "source": [
    "* So what if were interested about rainfall on a particular day? \n",
    "* Well we can index that day by providing the date\n",
    "    * We can input the date as a string \n",
    "    * Or we can use a datetime object\n",
    "* We can index a row by using .loc\n",
    "* Lets look at the May the Forth for example\n",
    "\n",
    "Start with indexing the date using a string"
   ]
  },
  {
   "cell_type": "code",
   "execution_count": 60,
   "id": "cf8038ba",
   "metadata": {},
   "outputs": [
    {
     "data": {
      "text/plain": [
       "0\n",
       "prcp_amt             3.3\n",
       "prcp_amt_cumsum    270.9\n",
       "Name: 1991-05-04 00:00:00, dtype: float64"
      ]
     },
     "execution_count": 60,
     "metadata": {},
     "output_type": "execute_result"
    }
   ],
   "source": [
    "df_precip.loc['1991-05-04']"
   ]
  },
  {
   "cell_type": "markdown",
   "id": "88bd212a",
   "metadata": {},
   "source": [
    "Now lets use a datetime object, first import datetime "
   ]
  },
  {
   "cell_type": "code",
   "execution_count": 61,
   "id": "95d661b5",
   "metadata": {},
   "outputs": [],
   "source": [
    "import datetime "
   ]
  },
  {
   "cell_type": "markdown",
   "id": "cddd1346",
   "metadata": {},
   "source": [
    "Incase you're not familiar with datetime, `datetime.datetime(year,month,day)` returns a datetime object of that day"
   ]
  },
  {
   "cell_type": "code",
   "execution_count": 62,
   "id": "1b371a7f",
   "metadata": {},
   "outputs": [
    {
     "data": {
      "text/plain": [
       "datetime.datetime(1991, 5, 4, 0, 0)"
      ]
     },
     "execution_count": 62,
     "metadata": {},
     "output_type": "execute_result"
    }
   ],
   "source": [
    "datetime.datetime(1991,5,4)"
   ]
  },
  {
   "cell_type": "code",
   "execution_count": 63,
   "id": "f51f4986",
   "metadata": {},
   "outputs": [
    {
     "data": {
      "text/plain": [
       "0\n",
       "prcp_amt             3.3\n",
       "prcp_amt_cumsum    270.9\n",
       "Name: 1991-05-04 00:00:00, dtype: float64"
      ]
     },
     "execution_count": 63,
     "metadata": {},
     "output_type": "execute_result"
    }
   ],
   "source": [
    "df_precip.loc[datetime.datetime(1991,5,4)]"
   ]
  },
  {
   "cell_type": "markdown",
   "id": "3b128d22",
   "metadata": {},
   "source": [
    "#### Grouping data \n",
    "\n",
    "* Now lets group some data\n",
    "* Lets look at monthly totals of rainfall\n",
    "* To do this pandas has a function called [groupby()](https://pandas.pydata.org/docs/reference/api/pandas.DataFrame.groupby.html)\n",
    "* Using `groupby` you can pass an argument which to group the data\n",
    "* in this case we will use [pd.Grouper()](https://pandas.pydata.org/docs/reference/api/pandas.Grouper.html) and select frequency of month \n",
    "* Then we need to decide what to do with these groups, in our case we will sum the values \n",
    "    * equally we could've used something else, mean for example"
   ]
  },
  {
   "cell_type": "code",
   "execution_count": 64,
   "id": "2e4324bd",
   "metadata": {},
   "outputs": [
    {
     "data": {
      "text/html": [
       "<div>\n",
       "<style scoped>\n",
       "    .dataframe tbody tr th:only-of-type {\n",
       "        vertical-align: middle;\n",
       "    }\n",
       "\n",
       "    .dataframe tbody tr th {\n",
       "        vertical-align: top;\n",
       "    }\n",
       "\n",
       "    .dataframe thead th {\n",
       "        text-align: right;\n",
       "    }\n",
       "</style>\n",
       "<table border=\"1\" class=\"dataframe\">\n",
       "  <thead>\n",
       "    <tr style=\"text-align: right;\">\n",
       "      <th></th>\n",
       "      <th>prcp_amt</th>\n",
       "      <th>prcp_amt_cumsum</th>\n",
       "    </tr>\n",
       "    <tr>\n",
       "      <th>ob_date</th>\n",
       "      <th></th>\n",
       "      <th></th>\n",
       "    </tr>\n",
       "  </thead>\n",
       "  <tbody>\n",
       "    <tr>\n",
       "      <th>1991-01-31</th>\n",
       "      <td>91.2</td>\n",
       "      <td>2193.3</td>\n",
       "    </tr>\n",
       "    <tr>\n",
       "      <th>1991-02-28</th>\n",
       "      <td>37.1</td>\n",
       "      <td>2879.3</td>\n",
       "    </tr>\n",
       "    <tr>\n",
       "      <th>1991-03-31</th>\n",
       "      <td>82.9</td>\n",
       "      <td>5761.0</td>\n",
       "    </tr>\n",
       "    <tr>\n",
       "      <th>1991-04-30</th>\n",
       "      <td>56.4</td>\n",
       "      <td>7118.6</td>\n",
       "    </tr>\n",
       "    <tr>\n",
       "      <th>1991-05-31</th>\n",
       "      <td>8.2</td>\n",
       "      <td>8503.4</td>\n",
       "    </tr>\n",
       "    <tr>\n",
       "      <th>1991-06-30</th>\n",
       "      <td>86.3</td>\n",
       "      <td>9300.5</td>\n",
       "    </tr>\n",
       "    <tr>\n",
       "      <th>1991-07-31</th>\n",
       "      <td>62.9</td>\n",
       "      <td>12566.6</td>\n",
       "    </tr>\n",
       "    <tr>\n",
       "      <th>1991-08-31</th>\n",
       "      <td>16.6</td>\n",
       "      <td>13405.3</td>\n",
       "    </tr>\n",
       "    <tr>\n",
       "      <th>1991-09-30</th>\n",
       "      <td>69.0</td>\n",
       "      <td>13485.0</td>\n",
       "    </tr>\n",
       "    <tr>\n",
       "      <th>1991-10-31</th>\n",
       "      <td>57.5</td>\n",
       "      <td>16651.4</td>\n",
       "    </tr>\n",
       "    <tr>\n",
       "      <th>1991-11-30</th>\n",
       "      <td>59.5</td>\n",
       "      <td>18262.2</td>\n",
       "    </tr>\n",
       "    <tr>\n",
       "      <th>1991-12-31</th>\n",
       "      <td>26.9</td>\n",
       "      <td>19838.0</td>\n",
       "    </tr>\n",
       "  </tbody>\n",
       "</table>\n",
       "</div>"
      ],
      "text/plain": [
       "0           prcp_amt  prcp_amt_cumsum\n",
       "ob_date                              \n",
       "1991-01-31      91.2           2193.3\n",
       "1991-02-28      37.1           2879.3\n",
       "1991-03-31      82.9           5761.0\n",
       "1991-04-30      56.4           7118.6\n",
       "1991-05-31       8.2           8503.4\n",
       "1991-06-30      86.3           9300.5\n",
       "1991-07-31      62.9          12566.6\n",
       "1991-08-31      16.6          13405.3\n",
       "1991-09-30      69.0          13485.0\n",
       "1991-10-31      57.5          16651.4\n",
       "1991-11-30      59.5          18262.2\n",
       "1991-12-31      26.9          19838.0"
      ]
     },
     "execution_count": 64,
     "metadata": {},
     "output_type": "execute_result"
    }
   ],
   "source": [
    "df_precip.groupby(pd.Grouper(freq = 'M')).sum()"
   ]
  },
  {
   "cell_type": "markdown",
   "id": "be19ef1c",
   "metadata": {},
   "source": [
    "* Lets assign this to a new DataFrame"
   ]
  },
  {
   "cell_type": "code",
   "execution_count": 65,
   "id": "a9e867c2",
   "metadata": {},
   "outputs": [],
   "source": [
    "df_monthly = df_precip.groupby(pd.Grouper(freq = 'M')).sum()"
   ]
  },
  {
   "cell_type": "markdown",
   "id": "7844abd3",
   "metadata": {},
   "source": [
    "* Were not really interested in the sum of the cumulative sum \n",
    "* Pandas allows us to easily drop columns by using drop"
   ]
  },
  {
   "cell_type": "code",
   "execution_count": 66,
   "id": "4a70c760",
   "metadata": {},
   "outputs": [],
   "source": [
    "df_monthly = df_monthly.drop(labels=['prcp_amt_cumsum'],axis='columns')"
   ]
  },
  {
   "cell_type": "markdown",
   "id": "9289cf65",
   "metadata": {},
   "source": [
    "* Lets find the month with the max rainfall"
   ]
  },
  {
   "cell_type": "code",
   "execution_count": 67,
   "id": "6f94c125",
   "metadata": {},
   "outputs": [
    {
     "data": {
      "text/plain": [
       "0\n",
       "prcp_amt    91.2\n",
       "dtype: float64"
      ]
     },
     "execution_count": 67,
     "metadata": {},
     "output_type": "execute_result"
    }
   ],
   "source": [
    "df_monthly.max()"
   ]
  },
  {
   "cell_type": "code",
   "execution_count": 68,
   "id": "bb1eba37",
   "metadata": {},
   "outputs": [
    {
     "data": {
      "text/plain": [
       "0\n",
       "prcp_amt   1991-01-31\n",
       "dtype: datetime64[ns]"
      ]
     },
     "execution_count": 68,
     "metadata": {},
     "output_type": "execute_result"
    }
   ],
   "source": [
    "df_monthly.idxmax()"
   ]
  },
  {
   "cell_type": "markdown",
   "id": "1a7ef0c7",
   "metadata": {},
   "source": [
    "* Lets visualise each months rainfall with a bar graph\n",
    "* Instead of just using plot we specify the type of plot"
   ]
  },
  {
   "cell_type": "code",
   "execution_count": 69,
   "id": "f2dd6226",
   "metadata": {},
   "outputs": [
    {
     "data": {
      "text/plain": [
       "<AxesSubplot: xlabel='ob_date'>"
      ]
     },
     "execution_count": 69,
     "metadata": {},
     "output_type": "execute_result"
    },
    {
     "data": {
      "image/png": "[encoded data removed]",
      "text/plain": [
       "<Figure size 640x480 with 1 Axes>"
      ]
     },
     "metadata": {},
     "output_type": "display_data"
    }
   ],
   "source": [
    "df_monthly.plot.bar()"
   ]
  },
  {
   "cell_type": "code",
   "execution_count": 70,
   "id": "4ca71758",
   "metadata": {},
   "outputs": [
    {
     "data": {
      "text/plain": [
       "<AxesSubplot: >"
      ]
     },
     "execution_count": 70,
     "metadata": {},
     "output_type": "execute_result"
    },
    {
     "data": {
      "image/png": "[encoded data removed]",
      "text/plain": [
       "<Figure size 640x480 with 1 Axes>"
      ]
     },
     "metadata": {},
     "output_type": "display_data"
    }
   ],
   "source": [
    "df_monthly.boxplot()"
   ]
  },
  {
   "cell_type": "code",
   "execution_count": 71,
   "id": "9ecc5f81",
   "metadata": {},
   "outputs": [
    {
     "data": {
      "text/plain": [
       "<AxesSubplot: >"
      ]
     },
     "execution_count": 71,
     "metadata": {},
     "output_type": "execute_result"
    },
    {
     "data": {
      "image/png": "[encoded data removed]",
      "text/plain": [
       "<Figure size 640x480 with 1 Axes>"
      ]
     },
     "metadata": {},
     "output_type": "display_data"
    }
   ],
   "source": [
    "df_precip.boxplot(column = 'prcp_amt')\n",
    "#plt.yscale('log')"
   ]
  },
  {
   "cell_type": "markdown",
   "id": "c3f19f32",
   "metadata": {},
   "source": [
    "#### Metadata \n",
    "\n",
    "* Metadata from these files haven't come in a convenient way - but thats okay!\n",
    "* Below is a function that searches for a key word in each row of a Dataframe and returns that row\n",
    "* `md_df.astype(str)` turns the entire dataframe into type string \n",
    "* `.sum(axis=1)` adds the strings in each row together\n",
    "* `.str.contains(keyword)` searches each of these strings for the keyword you provide\n",
    "* Another feature of .loc is you can index based on a boolean array\n",
    "* so we set our argument `md_df.astype(str).sum(axis=1).str.contains(keyword)` equal to True \n",
    "    * Basically saying return all the rows where this keyword is present in the string"
   ]
  },
  {
   "cell_type": "code",
   "execution_count": 72,
   "id": "8c7f2490",
   "metadata": {},
   "outputs": [],
   "source": [
    "def search_metadata(md_df, keyword):\n",
    "    ''' md_df is your metadata dataframe and keyword is the word you are searching for, keyword is a str'''\n",
    "    return md_df.loc[md_df.astype(str).sum(axis=1).str.contains(keyword) == True]"
   ]
  },
  {
   "cell_type": "markdown",
   "id": "81eeeea8",
   "metadata": {},
   "source": [
    "* So if we are interested in the units of prcp_amt, it would be reasonable to assume searching for prcp_amt would return relevant rows with metadata focused on prcp_amt"
   ]
  },
  {
   "cell_type": "code",
   "execution_count": 73,
   "id": "6362889e",
   "metadata": {},
   "outputs": [
    {
     "data": {
      "text/html": [
       "<div>\n",
       "<style scoped>\n",
       "    .dataframe tbody tr th:only-of-type {\n",
       "        vertical-align: middle;\n",
       "    }\n",
       "\n",
       "    .dataframe tbody tr th {\n",
       "        vertical-align: top;\n",
       "    }\n",
       "\n",
       "    .dataframe thead th {\n",
       "        text-align: right;\n",
       "    }\n",
       "</style>\n",
       "<table border=\"1\" class=\"dataframe\">\n",
       "  <thead>\n",
       "    <tr style=\"text-align: right;\">\n",
       "      <th></th>\n",
       "      <th>0</th>\n",
       "      <th>1</th>\n",
       "      <th>2</th>\n",
       "      <th>3</th>\n",
       "    </tr>\n",
       "  </thead>\n",
       "  <tbody>\n",
       "    <tr>\n",
       "      <th>47</th>\n",
       "      <td>long_name</td>\n",
       "      <td>prcp_amt</td>\n",
       "      <td>Precipitation amount</td>\n",
       "      <td>mm\\n</td>\n",
       "    </tr>\n",
       "    <tr>\n",
       "      <th>48</th>\n",
       "      <td>type</td>\n",
       "      <td>prcp_amt</td>\n",
       "      <td>float\\n</td>\n",
       "      <td>None</td>\n",
       "    </tr>\n",
       "    <tr>\n",
       "      <th>51</th>\n",
       "      <td>long_name</td>\n",
       "      <td>prcp_amt_q</td>\n",
       "      <td>QC code: precipitation amount</td>\n",
       "      <td>1\\n</td>\n",
       "    </tr>\n",
       "    <tr>\n",
       "      <th>52</th>\n",
       "      <td>type</td>\n",
       "      <td>prcp_amt_q</td>\n",
       "      <td>int\\n</td>\n",
       "      <td>None</td>\n",
       "    </tr>\n",
       "    <tr>\n",
       "      <th>53</th>\n",
       "      <td>long_name</td>\n",
       "      <td>prcp_amt_j</td>\n",
       "      <td>Descriptor: precipitation amount</td>\n",
       "      <td>1\\n</td>\n",
       "    </tr>\n",
       "    <tr>\n",
       "      <th>54</th>\n",
       "      <td>type</td>\n",
       "      <td>prcp_amt_j</td>\n",
       "      <td>int\\n</td>\n",
       "      <td>None</td>\n",
       "    </tr>\n",
       "  </tbody>\n",
       "</table>\n",
       "</div>"
      ],
      "text/plain": [
       "            0           1                                 2     3\n",
       "47  long_name    prcp_amt              Precipitation amount  mm\\n\n",
       "48       type    prcp_amt                           float\\n  None\n",
       "51  long_name  prcp_amt_q     QC code: precipitation amount   1\\n\n",
       "52       type  prcp_amt_q                             int\\n  None\n",
       "53  long_name  prcp_amt_j  Descriptor: precipitation amount   1\\n\n",
       "54       type  prcp_amt_j                             int\\n  None"
      ]
     },
     "execution_count": 73,
     "metadata": {},
     "output_type": "execute_result"
    }
   ],
   "source": [
    "search_metadata(md_df,'prcp_amt')"
   ]
  },
  {
   "cell_type": "markdown",
   "id": "84359351",
   "metadata": {},
   "source": [
    "* In the top row we can see our units for Precipitation amount is mm "
   ]
  },
  {
   "cell_type": "markdown",
   "id": "4f9be618",
   "metadata": {},
   "source": [
    "### Lets have a look at another file "
   ]
  },
  {
   "cell_type": "code",
   "execution_count": 74,
   "id": "cee7a830",
   "metadata": {},
   "outputs": [],
   "source": [
    "filename1 = '/data/users/ncreaser/CEDA/midas-open_uk-daily-weather-obs_dv-202107_humberside_00369_hull_qcv-1_1904.csv'"
   ]
  },
  {
   "cell_type": "code",
   "execution_count": 75,
   "id": "e73969d1",
   "metadata": {},
   "outputs": [],
   "source": [
    "df1, df_md1 , md_list = open_csv_from_ceda(filename1)"
   ]
  },
  {
   "cell_type": "code",
   "execution_count": 76,
   "id": "f7efa81e",
   "metadata": {},
   "outputs": [
    {
     "data": {
      "text/plain": [
       "(366, 34)"
      ]
     },
     "execution_count": 76,
     "metadata": {},
     "output_type": "execute_result"
    }
   ],
   "source": [
    "df1.shape"
   ]
  },
  {
   "cell_type": "code",
   "execution_count": 77,
   "id": "617c987d",
   "metadata": {},
   "outputs": [
    {
     "data": {
      "text/html": [
       "<div>\n",
       "<style scoped>\n",
       "    .dataframe tbody tr th:only-of-type {\n",
       "        vertical-align: middle;\n",
       "    }\n",
       "\n",
       "    .dataframe tbody tr th {\n",
       "        vertical-align: top;\n",
       "    }\n",
       "\n",
       "    .dataframe thead th {\n",
       "        text-align: right;\n",
       "    }\n",
       "</style>\n",
       "<table border=\"1\" class=\"dataframe\">\n",
       "  <thead>\n",
       "    <tr style=\"text-align: right;\">\n",
       "      <th></th>\n",
       "      <th>ob_end_time</th>\n",
       "      <th>id</th>\n",
       "      <th>id_type</th>\n",
       "      <th>ob_hour_count</th>\n",
       "      <th>version_num</th>\n",
       "      <th>met_domain_name</th>\n",
       "      <th>src_id</th>\n",
       "      <th>rec_st_ind</th>\n",
       "      <th>cs_24hr_sun_dur</th>\n",
       "      <th>wmo_24hr_sun_dur</th>\n",
       "      <th>...</th>\n",
       "      <th>snow_day_id_q</th>\n",
       "      <th>hail_day_id_q</th>\n",
       "      <th>thunder_day_flag_q</th>\n",
       "      <th>gale_day_flag_q</th>\n",
       "      <th>meto_stmp_time</th>\n",
       "      <th>midas_stmp_etime</th>\n",
       "      <th>drv_24hr_sun_dur</th>\n",
       "      <th>drv_24hr_sun_dur_q</th>\n",
       "      <th>lying_snow_ht</th>\n",
       "      <th>lying_snow_ht_q\\n</th>\n",
       "    </tr>\n",
       "  </thead>\n",
       "  <tbody>\n",
       "    <tr>\n",
       "      <th>0</th>\n",
       "      <td>1904-01-01 23:59:00</td>\n",
       "      <td>2361</td>\n",
       "      <td>DCNN</td>\n",
       "      <td>24</td>\n",
       "      <td>1</td>\n",
       "      <td>DLY3208</td>\n",
       "      <td>369</td>\n",
       "      <td>1001</td>\n",
       "      <td>0</td>\n",
       "      <td>NA</td>\n",
       "      <td>...</td>\n",
       "      <td>NA</td>\n",
       "      <td>NA</td>\n",
       "      <td>NA</td>\n",
       "      <td>NA</td>\n",
       "      <td>2007-10-09 12:13:15</td>\n",
       "      <td>NA</td>\n",
       "      <td>NA</td>\n",
       "      <td>NA</td>\n",
       "      <td>NA</td>\n",
       "      <td>NA\\n</td>\n",
       "    </tr>\n",
       "    <tr>\n",
       "      <th>1</th>\n",
       "      <td>1904-01-02 23:59:00</td>\n",
       "      <td>2361</td>\n",
       "      <td>DCNN</td>\n",
       "      <td>24</td>\n",
       "      <td>1</td>\n",
       "      <td>DLY3208</td>\n",
       "      <td>369</td>\n",
       "      <td>1001</td>\n",
       "      <td>0</td>\n",
       "      <td>NA</td>\n",
       "      <td>...</td>\n",
       "      <td>NA</td>\n",
       "      <td>NA</td>\n",
       "      <td>NA</td>\n",
       "      <td>NA</td>\n",
       "      <td>2007-10-09 12:13:15</td>\n",
       "      <td>NA</td>\n",
       "      <td>NA</td>\n",
       "      <td>NA</td>\n",
       "      <td>NA</td>\n",
       "      <td>NA\\n</td>\n",
       "    </tr>\n",
       "    <tr>\n",
       "      <th>2</th>\n",
       "      <td>1904-01-03 23:59:00</td>\n",
       "      <td>2361</td>\n",
       "      <td>DCNN</td>\n",
       "      <td>24</td>\n",
       "      <td>1</td>\n",
       "      <td>DLY3208</td>\n",
       "      <td>369</td>\n",
       "      <td>1001</td>\n",
       "      <td>0</td>\n",
       "      <td>NA</td>\n",
       "      <td>...</td>\n",
       "      <td>NA</td>\n",
       "      <td>NA</td>\n",
       "      <td>NA</td>\n",
       "      <td>NA</td>\n",
       "      <td>2007-10-09 12:13:15</td>\n",
       "      <td>NA</td>\n",
       "      <td>NA</td>\n",
       "      <td>NA</td>\n",
       "      <td>NA</td>\n",
       "      <td>NA\\n</td>\n",
       "    </tr>\n",
       "    <tr>\n",
       "      <th>3</th>\n",
       "      <td>1904-01-04 23:59:00</td>\n",
       "      <td>2361</td>\n",
       "      <td>DCNN</td>\n",
       "      <td>24</td>\n",
       "      <td>1</td>\n",
       "      <td>DLY3208</td>\n",
       "      <td>369</td>\n",
       "      <td>1001</td>\n",
       "      <td>0</td>\n",
       "      <td>NA</td>\n",
       "      <td>...</td>\n",
       "      <td>NA</td>\n",
       "      <td>NA</td>\n",
       "      <td>NA</td>\n",
       "      <td>NA</td>\n",
       "      <td>2007-10-09 12:13:15</td>\n",
       "      <td>NA</td>\n",
       "      <td>NA</td>\n",
       "      <td>NA</td>\n",
       "      <td>NA</td>\n",
       "      <td>NA\\n</td>\n",
       "    </tr>\n",
       "    <tr>\n",
       "      <th>4</th>\n",
       "      <td>1904-01-05 23:59:00</td>\n",
       "      <td>2361</td>\n",
       "      <td>DCNN</td>\n",
       "      <td>24</td>\n",
       "      <td>1</td>\n",
       "      <td>DLY3208</td>\n",
       "      <td>369</td>\n",
       "      <td>1001</td>\n",
       "      <td>0</td>\n",
       "      <td>NA</td>\n",
       "      <td>...</td>\n",
       "      <td>NA</td>\n",
       "      <td>NA</td>\n",
       "      <td>NA</td>\n",
       "      <td>NA</td>\n",
       "      <td>2007-10-09 12:13:15</td>\n",
       "      <td>NA</td>\n",
       "      <td>NA</td>\n",
       "      <td>NA</td>\n",
       "      <td>NA</td>\n",
       "      <td>NA\\n</td>\n",
       "    </tr>\n",
       "  </tbody>\n",
       "</table>\n",
       "<p>5 rows × 34 columns</p>\n",
       "</div>"
      ],
      "text/plain": [
       "0          ob_end_time    id id_type ob_hour_count version_num  \\\n",
       "0  1904-01-01 23:59:00  2361    DCNN            24           1   \n",
       "1  1904-01-02 23:59:00  2361    DCNN            24           1   \n",
       "2  1904-01-03 23:59:00  2361    DCNN            24           1   \n",
       "3  1904-01-04 23:59:00  2361    DCNN            24           1   \n",
       "4  1904-01-05 23:59:00  2361    DCNN            24           1   \n",
       "\n",
       "0 met_domain_name src_id rec_st_ind cs_24hr_sun_dur wmo_24hr_sun_dur  ...  \\\n",
       "0         DLY3208    369       1001               0               NA  ...   \n",
       "1         DLY3208    369       1001               0               NA  ...   \n",
       "2         DLY3208    369       1001               0               NA  ...   \n",
       "3         DLY3208    369       1001               0               NA  ...   \n",
       "4         DLY3208    369       1001               0               NA  ...   \n",
       "\n",
       "0 snow_day_id_q hail_day_id_q thunder_day_flag_q gale_day_flag_q  \\\n",
       "0            NA            NA                 NA              NA   \n",
       "1            NA            NA                 NA              NA   \n",
       "2            NA            NA                 NA              NA   \n",
       "3            NA            NA                 NA              NA   \n",
       "4            NA            NA                 NA              NA   \n",
       "\n",
       "0       meto_stmp_time midas_stmp_etime drv_24hr_sun_dur drv_24hr_sun_dur_q  \\\n",
       "0  2007-10-09 12:13:15               NA               NA                 NA   \n",
       "1  2007-10-09 12:13:15               NA               NA                 NA   \n",
       "2  2007-10-09 12:13:15               NA               NA                 NA   \n",
       "3  2007-10-09 12:13:15               NA               NA                 NA   \n",
       "4  2007-10-09 12:13:15               NA               NA                 NA   \n",
       "\n",
       "0 lying_snow_ht lying_snow_ht_q\\n  \n",
       "0            NA              NA\\n  \n",
       "1            NA              NA\\n  \n",
       "2            NA              NA\\n  \n",
       "3            NA              NA\\n  \n",
       "4            NA              NA\\n  \n",
       "\n",
       "[5 rows x 34 columns]"
      ]
     },
     "execution_count": 77,
     "metadata": {},
     "output_type": "execute_result"
    }
   ],
   "source": [
    "df1.head()"
   ]
  },
  {
   "cell_type": "code",
   "execution_count": 78,
   "id": "4053be11",
   "metadata": {},
   "outputs": [
    {
     "name": "stdout",
     "output_type": "stream",
     "text": [
      "<class 'pandas.core.frame.DataFrame'>\n",
      "RangeIndex: 366 entries, 0 to 365\n",
      "Data columns (total 34 columns):\n",
      " #   Column                 Non-Null Count  Dtype \n",
      "---  ------                 --------------  ----- \n",
      " 0   ob_end_time            366 non-null    object\n",
      " 1   id                     366 non-null    object\n",
      " 2   id_type                366 non-null    object\n",
      " 3   ob_hour_count          366 non-null    object\n",
      " 4   version_num            366 non-null    object\n",
      " 5   met_domain_name        366 non-null    object\n",
      " 6   src_id                 366 non-null    object\n",
      " 7   rec_st_ind             366 non-null    object\n",
      " 8   cs_24hr_sun_dur        366 non-null    object\n",
      " 9   wmo_24hr_sun_dur       366 non-null    object\n",
      " 10  conc_state_id          366 non-null    object\n",
      " 11  lying_snow_flag        366 non-null    object\n",
      " 12  snow_depth             366 non-null    object\n",
      " 13  frsh_snw_amt           366 non-null    object\n",
      " 14  snow_day_id            366 non-null    object\n",
      " 15  hail_day_id            366 non-null    object\n",
      " 16  thunder_day_flag       366 non-null    object\n",
      " 17  gale_day_flag          366 non-null    object\n",
      " 18  frsh_mnt_snwfall_flag  366 non-null    object\n",
      " 19  cs_24hr_sun_dur_q      366 non-null    object\n",
      " 20  wmo_24hr_sun_dur_q     366 non-null    object\n",
      " 21  conc_state_id_q        366 non-null    object\n",
      " 22  snow_depth_q           366 non-null    object\n",
      " 23  frsh_snw_amt_q         366 non-null    object\n",
      " 24  snow_day_id_q          366 non-null    object\n",
      " 25  hail_day_id_q          366 non-null    object\n",
      " 26  thunder_day_flag_q     366 non-null    object\n",
      " 27  gale_day_flag_q        366 non-null    object\n",
      " 28  meto_stmp_time         366 non-null    object\n",
      " 29  midas_stmp_etime       366 non-null    object\n",
      " 30  drv_24hr_sun_dur       366 non-null    object\n",
      " 31  drv_24hr_sun_dur_q     366 non-null    object\n",
      " 32  lying_snow_ht          366 non-null    object\n",
      " 33  lying_snow_ht_q\n",
      "       366 non-null    object\n",
      "dtypes: object(34)\n",
      "memory usage: 97.3+ KB\n"
     ]
    }
   ],
   "source": [
    "df1.info()"
   ]
  },
  {
   "cell_type": "code",
   "execution_count": 79,
   "id": "6dc029e9",
   "metadata": {},
   "outputs": [
    {
     "data": {
      "text/html": [
       "<div>\n",
       "<style scoped>\n",
       "    .dataframe tbody tr th:only-of-type {\n",
       "        vertical-align: middle;\n",
       "    }\n",
       "\n",
       "    .dataframe tbody tr th {\n",
       "        vertical-align: top;\n",
       "    }\n",
       "\n",
       "    .dataframe thead th {\n",
       "        text-align: right;\n",
       "    }\n",
       "</style>\n",
       "<table border=\"1\" class=\"dataframe\">\n",
       "  <thead>\n",
       "    <tr style=\"text-align: right;\">\n",
       "      <th></th>\n",
       "      <th>ob_end_time</th>\n",
       "      <th>id</th>\n",
       "      <th>id_type</th>\n",
       "      <th>ob_hour_count</th>\n",
       "      <th>version_num</th>\n",
       "      <th>met_domain_name</th>\n",
       "      <th>src_id</th>\n",
       "      <th>rec_st_ind</th>\n",
       "      <th>cs_24hr_sun_dur</th>\n",
       "      <th>wmo_24hr_sun_dur</th>\n",
       "      <th>...</th>\n",
       "      <th>snow_day_id_q</th>\n",
       "      <th>hail_day_id_q</th>\n",
       "      <th>thunder_day_flag_q</th>\n",
       "      <th>gale_day_flag_q</th>\n",
       "      <th>meto_stmp_time</th>\n",
       "      <th>midas_stmp_etime</th>\n",
       "      <th>drv_24hr_sun_dur</th>\n",
       "      <th>drv_24hr_sun_dur_q</th>\n",
       "      <th>lying_snow_ht</th>\n",
       "      <th>lying_snow_ht_q\\n</th>\n",
       "    </tr>\n",
       "  </thead>\n",
       "  <tbody>\n",
       "    <tr>\n",
       "      <th>count</th>\n",
       "      <td>366</td>\n",
       "      <td>366</td>\n",
       "      <td>366</td>\n",
       "      <td>366</td>\n",
       "      <td>366</td>\n",
       "      <td>366</td>\n",
       "      <td>366</td>\n",
       "      <td>366</td>\n",
       "      <td>366</td>\n",
       "      <td>366</td>\n",
       "      <td>...</td>\n",
       "      <td>366</td>\n",
       "      <td>366</td>\n",
       "      <td>366</td>\n",
       "      <td>366</td>\n",
       "      <td>366</td>\n",
       "      <td>366</td>\n",
       "      <td>366</td>\n",
       "      <td>366</td>\n",
       "      <td>366</td>\n",
       "      <td>366</td>\n",
       "    </tr>\n",
       "    <tr>\n",
       "      <th>unique</th>\n",
       "      <td>366</td>\n",
       "      <td>1</td>\n",
       "      <td>1</td>\n",
       "      <td>1</td>\n",
       "      <td>1</td>\n",
       "      <td>1</td>\n",
       "      <td>1</td>\n",
       "      <td>1</td>\n",
       "      <td>64</td>\n",
       "      <td>1</td>\n",
       "      <td>...</td>\n",
       "      <td>1</td>\n",
       "      <td>1</td>\n",
       "      <td>1</td>\n",
       "      <td>1</td>\n",
       "      <td>6</td>\n",
       "      <td>1</td>\n",
       "      <td>1</td>\n",
       "      <td>1</td>\n",
       "      <td>1</td>\n",
       "      <td>1</td>\n",
       "    </tr>\n",
       "    <tr>\n",
       "      <th>top</th>\n",
       "      <td>1904-01-01 23:59:00</td>\n",
       "      <td>2361</td>\n",
       "      <td>DCNN</td>\n",
       "      <td>24</td>\n",
       "      <td>1</td>\n",
       "      <td>DLY3208</td>\n",
       "      <td>369</td>\n",
       "      <td>1001</td>\n",
       "      <td>0</td>\n",
       "      <td>NA</td>\n",
       "      <td>...</td>\n",
       "      <td>NA</td>\n",
       "      <td>NA</td>\n",
       "      <td>NA</td>\n",
       "      <td>NA</td>\n",
       "      <td>2007-10-09 12:13:15</td>\n",
       "      <td>NA</td>\n",
       "      <td>NA</td>\n",
       "      <td>NA</td>\n",
       "      <td>NA</td>\n",
       "      <td>NA\\n</td>\n",
       "    </tr>\n",
       "    <tr>\n",
       "      <th>freq</th>\n",
       "      <td>1</td>\n",
       "      <td>366</td>\n",
       "      <td>366</td>\n",
       "      <td>366</td>\n",
       "      <td>366</td>\n",
       "      <td>366</td>\n",
       "      <td>366</td>\n",
       "      <td>366</td>\n",
       "      <td>142</td>\n",
       "      <td>366</td>\n",
       "      <td>...</td>\n",
       "      <td>366</td>\n",
       "      <td>366</td>\n",
       "      <td>366</td>\n",
       "      <td>366</td>\n",
       "      <td>162</td>\n",
       "      <td>366</td>\n",
       "      <td>366</td>\n",
       "      <td>366</td>\n",
       "      <td>366</td>\n",
       "      <td>366</td>\n",
       "    </tr>\n",
       "  </tbody>\n",
       "</table>\n",
       "<p>4 rows × 34 columns</p>\n",
       "</div>"
      ],
      "text/plain": [
       "0               ob_end_time    id id_type ob_hour_count version_num  \\\n",
       "count                   366   366     366           366         366   \n",
       "unique                  366     1       1             1           1   \n",
       "top     1904-01-01 23:59:00  2361    DCNN            24           1   \n",
       "freq                      1   366     366           366         366   \n",
       "\n",
       "0      met_domain_name src_id rec_st_ind cs_24hr_sun_dur wmo_24hr_sun_dur  \\\n",
       "count              366    366        366             366              366   \n",
       "unique               1      1          1              64                1   \n",
       "top            DLY3208    369       1001               0               NA   \n",
       "freq               366    366        366             142              366   \n",
       "\n",
       "0       ... snow_day_id_q hail_day_id_q thunder_day_flag_q gale_day_flag_q  \\\n",
       "count   ...           366           366                366             366   \n",
       "unique  ...             1             1                  1               1   \n",
       "top     ...            NA            NA                 NA              NA   \n",
       "freq    ...           366           366                366             366   \n",
       "\n",
       "0            meto_stmp_time midas_stmp_etime drv_24hr_sun_dur  \\\n",
       "count                   366              366              366   \n",
       "unique                    6                1                1   \n",
       "top     2007-10-09 12:13:15               NA               NA   \n",
       "freq                    162              366              366   \n",
       "\n",
       "0      drv_24hr_sun_dur_q lying_snow_ht lying_snow_ht_q\\n  \n",
       "count                 366           366               366  \n",
       "unique                  1             1                 1  \n",
       "top                    NA            NA              NA\\n  \n",
       "freq                  366           366               366  \n",
       "\n",
       "[4 rows x 34 columns]"
      ]
     },
     "execution_count": 79,
     "metadata": {},
     "output_type": "execute_result"
    }
   ],
   "source": [
    "df1.describe()"
   ]
  },
  {
   "cell_type": "markdown",
   "id": "f8c17f2b",
   "metadata": {},
   "source": [
    "* Looks like the only columns with more than 1 value are `ob_end_time` , `cs_24hr_sun_dur` and `meto_stmp_time`"
   ]
  },
  {
   "cell_type": "code",
   "execution_count": 80,
   "id": "9fd21ea5",
   "metadata": {},
   "outputs": [],
   "source": [
    "df_sundur = df1[['ob_end_time','cs_24hr_sun_dur','meto_stmp_time']]"
   ]
  },
  {
   "cell_type": "code",
   "execution_count": 81,
   "id": "041c035a",
   "metadata": {},
   "outputs": [
    {
     "data": {
      "text/plain": [
       "0\n",
       "ob_end_time        object\n",
       "cs_24hr_sun_dur    object\n",
       "meto_stmp_time     object\n",
       "dtype: object"
      ]
     },
     "execution_count": 81,
     "metadata": {},
     "output_type": "execute_result"
    }
   ],
   "source": [
    "df_sundur.dtypes"
   ]
  },
  {
   "cell_type": "code",
   "execution_count": 82,
   "id": "e749a254",
   "metadata": {},
   "outputs": [
    {
     "data": {
      "text/html": [
       "<div>\n",
       "<style scoped>\n",
       "    .dataframe tbody tr th:only-of-type {\n",
       "        vertical-align: middle;\n",
       "    }\n",
       "\n",
       "    .dataframe tbody tr th {\n",
       "        vertical-align: top;\n",
       "    }\n",
       "\n",
       "    .dataframe thead th {\n",
       "        text-align: right;\n",
       "    }\n",
       "</style>\n",
       "<table border=\"1\" class=\"dataframe\">\n",
       "  <thead>\n",
       "    <tr style=\"text-align: right;\">\n",
       "      <th></th>\n",
       "      <th>ob_end_time</th>\n",
       "      <th>cs_24hr_sun_dur</th>\n",
       "      <th>meto_stmp_time</th>\n",
       "    </tr>\n",
       "  </thead>\n",
       "  <tbody>\n",
       "    <tr>\n",
       "      <th>0</th>\n",
       "      <td>1904-01-01 23:59:00</td>\n",
       "      <td>0</td>\n",
       "      <td>2007-10-09 12:13:15</td>\n",
       "    </tr>\n",
       "    <tr>\n",
       "      <th>1</th>\n",
       "      <td>1904-01-02 23:59:00</td>\n",
       "      <td>0</td>\n",
       "      <td>2007-10-09 12:13:15</td>\n",
       "    </tr>\n",
       "    <tr>\n",
       "      <th>2</th>\n",
       "      <td>1904-01-03 23:59:00</td>\n",
       "      <td>0</td>\n",
       "      <td>2007-10-09 12:13:15</td>\n",
       "    </tr>\n",
       "    <tr>\n",
       "      <th>3</th>\n",
       "      <td>1904-01-04 23:59:00</td>\n",
       "      <td>0</td>\n",
       "      <td>2007-10-09 12:13:15</td>\n",
       "    </tr>\n",
       "    <tr>\n",
       "      <th>4</th>\n",
       "      <td>1904-01-05 23:59:00</td>\n",
       "      <td>0</td>\n",
       "      <td>2007-10-09 12:13:15</td>\n",
       "    </tr>\n",
       "  </tbody>\n",
       "</table>\n",
       "</div>"
      ],
      "text/plain": [
       "0          ob_end_time cs_24hr_sun_dur       meto_stmp_time\n",
       "0  1904-01-01 23:59:00               0  2007-10-09 12:13:15\n",
       "1  1904-01-02 23:59:00               0  2007-10-09 12:13:15\n",
       "2  1904-01-03 23:59:00               0  2007-10-09 12:13:15\n",
       "3  1904-01-04 23:59:00               0  2007-10-09 12:13:15\n",
       "4  1904-01-05 23:59:00               0  2007-10-09 12:13:15"
      ]
     },
     "execution_count": 82,
     "metadata": {},
     "output_type": "execute_result"
    }
   ],
   "source": [
    "df_sundur.head()"
   ]
  },
  {
   "cell_type": "markdown",
   "id": "ef6a513d",
   "metadata": {},
   "source": [
    "* We have two columns with dates, we should turn these into datetime's\n",
    "* `cs_24hr_sun_dur` should be a float"
   ]
  },
  {
   "cell_type": "code",
   "execution_count": 83,
   "id": "7f5275bb",
   "metadata": {
    "scrolled": true
   },
   "outputs": [
    {
     "name": "stderr",
     "output_type": "stream",
     "text": [
      "/var/tmp/ipykernel_70272/1085516654.py:1: SettingWithCopyWarning: \n",
      "A value is trying to be set on a copy of a slice from a DataFrame.\n",
      "Try using .loc[row_indexer,col_indexer] = value instead\n",
      "\n",
      "See the caveats in the documentation: https://pandas.pydata.org/pandas-docs/stable/user_guide/indexing.html#returning-a-view-versus-a-copy\n",
      "  df_sundur.loc[:,'ob_end_time'] = pd.to_datetime(df_sundur['ob_end_time'])\n",
      "/var/tmp/ipykernel_70272/1085516654.py:1: FutureWarning: In a future version, `df.iloc[:, i] = newvals` will attempt to set the values inplace instead of always setting a new array. To retain the old behavior, use either `df[df.columns[i]] = newvals` or, if columns are non-unique, `df.isetitem(i, newvals)`\n",
      "  df_sundur.loc[:,'ob_end_time'] = pd.to_datetime(df_sundur['ob_end_time'])\n",
      "/var/tmp/ipykernel_70272/1085516654.py:2: SettingWithCopyWarning: \n",
      "A value is trying to be set on a copy of a slice from a DataFrame.\n",
      "Try using .loc[row_indexer,col_indexer] = value instead\n",
      "\n",
      "See the caveats in the documentation: https://pandas.pydata.org/pandas-docs/stable/user_guide/indexing.html#returning-a-view-versus-a-copy\n",
      "  df_sundur.loc[:,'meto_stmp_time'] = pd.to_datetime(df_sundur['meto_stmp_time'])\n",
      "/var/tmp/ipykernel_70272/1085516654.py:2: FutureWarning: In a future version, `df.iloc[:, i] = newvals` will attempt to set the values inplace instead of always setting a new array. To retain the old behavior, use either `df[df.columns[i]] = newvals` or, if columns are non-unique, `df.isetitem(i, newvals)`\n",
      "  df_sundur.loc[:,'meto_stmp_time'] = pd.to_datetime(df_sundur['meto_stmp_time'])\n",
      "/var/tmp/ipykernel_70272/1085516654.py:3: SettingWithCopyWarning: \n",
      "A value is trying to be set on a copy of a slice from a DataFrame.\n",
      "Try using .loc[row_indexer,col_indexer] = value instead\n",
      "\n",
      "See the caveats in the documentation: https://pandas.pydata.org/pandas-docs/stable/user_guide/indexing.html#returning-a-view-versus-a-copy\n",
      "  df_sundur.loc[:,'cs_24hr_sun_dur'] = df_sundur['cs_24hr_sun_dur'].astype('float')\n",
      "/var/tmp/ipykernel_70272/1085516654.py:3: FutureWarning: In a future version, `df.iloc[:, i] = newvals` will attempt to set the values inplace instead of always setting a new array. To retain the old behavior, use either `df[df.columns[i]] = newvals` or, if columns are non-unique, `df.isetitem(i, newvals)`\n",
      "  df_sundur.loc[:,'cs_24hr_sun_dur'] = df_sundur['cs_24hr_sun_dur'].astype('float')\n"
     ]
    }
   ],
   "source": [
    "df_sundur.loc[:,'ob_end_time'] = pd.to_datetime(df_sundur['ob_end_time'])\n",
    "df_sundur.loc[:,'meto_stmp_time'] = pd.to_datetime(df_sundur['meto_stmp_time'])\n",
    "df_sundur.loc[:,'cs_24hr_sun_dur'] = df_sundur['cs_24hr_sun_dur'].astype('float')\n"
   ]
  },
  {
   "cell_type": "code",
   "execution_count": 84,
   "id": "3053e535",
   "metadata": {},
   "outputs": [
    {
     "data": {
      "text/plain": [
       "0\n",
       "ob_end_time        datetime64[ns]\n",
       "cs_24hr_sun_dur           float64\n",
       "meto_stmp_time     datetime64[ns]\n",
       "dtype: object"
      ]
     },
     "execution_count": 84,
     "metadata": {},
     "output_type": "execute_result"
    }
   ],
   "source": [
    "df_sundur.dtypes"
   ]
  },
  {
   "cell_type": "code",
   "execution_count": 85,
   "id": "87018370",
   "metadata": {},
   "outputs": [],
   "source": [
    "df_sundur = df_sundur.set_index('ob_end_time')"
   ]
  },
  {
   "cell_type": "code",
   "execution_count": 86,
   "id": "4e7aabfb",
   "metadata": {},
   "outputs": [
    {
     "data": {
      "text/html": [
       "<div>\n",
       "<style scoped>\n",
       "    .dataframe tbody tr th:only-of-type {\n",
       "        vertical-align: middle;\n",
       "    }\n",
       "\n",
       "    .dataframe tbody tr th {\n",
       "        vertical-align: top;\n",
       "    }\n",
       "\n",
       "    .dataframe thead th {\n",
       "        text-align: right;\n",
       "    }\n",
       "</style>\n",
       "<table border=\"1\" class=\"dataframe\">\n",
       "  <thead>\n",
       "    <tr style=\"text-align: right;\">\n",
       "      <th></th>\n",
       "      <th>cs_24hr_sun_dur</th>\n",
       "      <th>meto_stmp_time</th>\n",
       "    </tr>\n",
       "    <tr>\n",
       "      <th>ob_end_time</th>\n",
       "      <th></th>\n",
       "      <th></th>\n",
       "    </tr>\n",
       "  </thead>\n",
       "  <tbody>\n",
       "    <tr>\n",
       "      <th>1904-01-01 23:59:00</th>\n",
       "      <td>0.0</td>\n",
       "      <td>2007-10-09 12:13:15</td>\n",
       "    </tr>\n",
       "    <tr>\n",
       "      <th>1904-01-02 23:59:00</th>\n",
       "      <td>0.0</td>\n",
       "      <td>2007-10-09 12:13:15</td>\n",
       "    </tr>\n",
       "    <tr>\n",
       "      <th>1904-01-03 23:59:00</th>\n",
       "      <td>0.0</td>\n",
       "      <td>2007-10-09 12:13:15</td>\n",
       "    </tr>\n",
       "    <tr>\n",
       "      <th>1904-01-04 23:59:00</th>\n",
       "      <td>0.0</td>\n",
       "      <td>2007-10-09 12:13:15</td>\n",
       "    </tr>\n",
       "    <tr>\n",
       "      <th>1904-01-05 23:59:00</th>\n",
       "      <td>0.0</td>\n",
       "      <td>2007-10-09 12:13:15</td>\n",
       "    </tr>\n",
       "  </tbody>\n",
       "</table>\n",
       "</div>"
      ],
      "text/plain": [
       "0                    cs_24hr_sun_dur      meto_stmp_time\n",
       "ob_end_time                                             \n",
       "1904-01-01 23:59:00              0.0 2007-10-09 12:13:15\n",
       "1904-01-02 23:59:00              0.0 2007-10-09 12:13:15\n",
       "1904-01-03 23:59:00              0.0 2007-10-09 12:13:15\n",
       "1904-01-04 23:59:00              0.0 2007-10-09 12:13:15\n",
       "1904-01-05 23:59:00              0.0 2007-10-09 12:13:15"
      ]
     },
     "execution_count": 86,
     "metadata": {},
     "output_type": "execute_result"
    }
   ],
   "source": [
    "df_sundur.head()"
   ]
  },
  {
   "cell_type": "code",
   "execution_count": 87,
   "id": "924440a2",
   "metadata": {},
   "outputs": [
    {
     "data": {
      "text/html": [
       "<div>\n",
       "<style scoped>\n",
       "    .dataframe tbody tr th:only-of-type {\n",
       "        vertical-align: middle;\n",
       "    }\n",
       "\n",
       "    .dataframe tbody tr th {\n",
       "        vertical-align: top;\n",
       "    }\n",
       "\n",
       "    .dataframe thead th {\n",
       "        text-align: right;\n",
       "    }\n",
       "</style>\n",
       "<table border=\"1\" class=\"dataframe\">\n",
       "  <thead>\n",
       "    <tr style=\"text-align: right;\">\n",
       "      <th></th>\n",
       "      <th>cs_24hr_sun_dur</th>\n",
       "    </tr>\n",
       "  </thead>\n",
       "  <tbody>\n",
       "    <tr>\n",
       "      <th>count</th>\n",
       "      <td>366.000000</td>\n",
       "    </tr>\n",
       "    <tr>\n",
       "      <th>mean</th>\n",
       "      <td>2.301913</td>\n",
       "    </tr>\n",
       "    <tr>\n",
       "      <th>std</th>\n",
       "      <td>2.976349</td>\n",
       "    </tr>\n",
       "    <tr>\n",
       "      <th>min</th>\n",
       "      <td>0.000000</td>\n",
       "    </tr>\n",
       "    <tr>\n",
       "      <th>25%</th>\n",
       "      <td>0.000000</td>\n",
       "    </tr>\n",
       "    <tr>\n",
       "      <th>50%</th>\n",
       "      <td>1.000000</td>\n",
       "    </tr>\n",
       "    <tr>\n",
       "      <th>75%</th>\n",
       "      <td>4.200000</td>\n",
       "    </tr>\n",
       "    <tr>\n",
       "      <th>max</th>\n",
       "      <td>12.400000</td>\n",
       "    </tr>\n",
       "  </tbody>\n",
       "</table>\n",
       "</div>"
      ],
      "text/plain": [
       "0      cs_24hr_sun_dur\n",
       "count       366.000000\n",
       "mean          2.301913\n",
       "std           2.976349\n",
       "min           0.000000\n",
       "25%           0.000000\n",
       "50%           1.000000\n",
       "75%           4.200000\n",
       "max          12.400000"
      ]
     },
     "execution_count": 87,
     "metadata": {},
     "output_type": "execute_result"
    }
   ],
   "source": [
    "df_sundur.describe()"
   ]
  },
  {
   "cell_type": "code",
   "execution_count": 88,
   "id": "33c75daa",
   "metadata": {},
   "outputs": [
    {
     "data": {
      "text/plain": [
       "0\n",
       "cs_24hr_sun_dur    64\n",
       "meto_stmp_time      6\n",
       "dtype: int64"
      ]
     },
     "execution_count": 88,
     "metadata": {},
     "output_type": "execute_result"
    }
   ],
   "source": [
    "df_sundur.nunique()"
   ]
  },
  {
   "cell_type": "markdown",
   "id": "453e9616",
   "metadata": {},
   "source": [
    "* Lets plot our hours of sun duration\n",
    "* We will also plot a [rolling mean](https://pandas.pydata.org/docs/reference/api/pandas.DataFrame.rolling.html) with a window of 30 days to get a more general picture\n"
   ]
  },
  {
   "cell_type": "code",
   "execution_count": 89,
   "id": "bfa7fa3d",
   "metadata": {},
   "outputs": [
    {
     "data": {
      "text/plain": [
       "<matplotlib.legend.Legend at 0x7fcd3c1f8340>"
      ]
     },
     "execution_count": 89,
     "metadata": {},
     "output_type": "execute_result"
    },
    {
     "data": {
      "image/png": "[encoded data removed]",
      "text/plain": [
       "<Figure size 640x480 with 1 Axes>"
      ]
     },
     "metadata": {},
     "output_type": "display_data"
    }
   ],
   "source": [
    "df_sundur['cs_24hr_sun_dur'].plot(label='sun duration')\n",
    "df_sundur['cs_24hr_sun_dur'].rolling(30).mean().plot(label='rolling mean')\n",
    "plt.legend()"
   ]
  },
  {
   "cell_type": "code",
   "execution_count": 90,
   "id": "72d4499b",
   "metadata": {},
   "outputs": [
    {
     "data": {
      "text/html": [
       "<div>\n",
       "<style scoped>\n",
       "    .dataframe tbody tr th:only-of-type {\n",
       "        vertical-align: middle;\n",
       "    }\n",
       "\n",
       "    .dataframe tbody tr th {\n",
       "        vertical-align: top;\n",
       "    }\n",
       "\n",
       "    .dataframe thead th {\n",
       "        text-align: right;\n",
       "    }\n",
       "</style>\n",
       "<table border=\"1\" class=\"dataframe\">\n",
       "  <thead>\n",
       "    <tr style=\"text-align: right;\">\n",
       "      <th></th>\n",
       "      <th>0</th>\n",
       "      <th>1</th>\n",
       "      <th>2</th>\n",
       "      <th>3</th>\n",
       "    </tr>\n",
       "  </thead>\n",
       "  <tbody>\n",
       "    <tr>\n",
       "      <th>45</th>\n",
       "      <td>long_name</td>\n",
       "      <td>cs_24hr_sun_dur</td>\n",
       "      <td>Campbell-stokes hour sunshine duration</td>\n",
       "      <td>hours\\n</td>\n",
       "    </tr>\n",
       "    <tr>\n",
       "      <th>46</th>\n",
       "      <td>type</td>\n",
       "      <td>cs_24hr_sun_dur</td>\n",
       "      <td>float\\n</td>\n",
       "      <td>None</td>\n",
       "    </tr>\n",
       "    <tr>\n",
       "      <th>68</th>\n",
       "      <td>long_name</td>\n",
       "      <td>cs_24hr_sun_dur_q</td>\n",
       "      <td>QC code: Campbell-stokes hour sunshine duration</td>\n",
       "      <td>1\\n</td>\n",
       "    </tr>\n",
       "    <tr>\n",
       "      <th>69</th>\n",
       "      <td>type</td>\n",
       "      <td>cs_24hr_sun_dur_q</td>\n",
       "      <td>int\\n</td>\n",
       "      <td>None</td>\n",
       "    </tr>\n",
       "  </tbody>\n",
       "</table>\n",
       "</div>"
      ],
      "text/plain": [
       "            0                  1  \\\n",
       "45  long_name    cs_24hr_sun_dur   \n",
       "46       type    cs_24hr_sun_dur   \n",
       "68  long_name  cs_24hr_sun_dur_q   \n",
       "69       type  cs_24hr_sun_dur_q   \n",
       "\n",
       "                                                  2        3  \n",
       "45           Campbell-stokes hour sunshine duration  hours\\n  \n",
       "46                                          float\\n     None  \n",
       "68  QC code: Campbell-stokes hour sunshine duration      1\\n  \n",
       "69                                            int\\n     None  "
      ]
     },
     "execution_count": 90,
     "metadata": {},
     "output_type": "execute_result"
    }
   ],
   "source": [
    "search_metadata(df_md1,'cs_24hr_sun_dur')"
   ]
  },
  {
   "cell_type": "markdown",
   "id": "901f6d82-1f4b-4568-aa02-4b2d4e515969",
   "metadata": {},
   "source": [
    "## Exercises that extend the notebook\n",
    "Below are a list of items that could be implemented or changed to the notebook for extended functionality (or issues with the notebook that are \"Left As An Exercise To The Reader\", sorry!). The list of these items are ordered in my own personal preference for notebook enhancements\n",
    "\n",
    "- Try different rolling means on the final plot and compare to the differences\n",
    "- Re-write the pandas expressions to avoid the warnings"
   ]
  },
  {
   "cell_type": "markdown",
   "id": "276e3623-b781-4978-94d6-cddbb53bce5f",
   "metadata": {},
   "source": [
    "## Data Statement\n",
    "\n",
    "__Data used in this tutorial uses Met Office MIDAS-Open data__\n",
    "\n",
    "__Contains public sector information licensed under the Open Government Licence__\n",
    "\n",
    "- Link to Open Government Licence V3: https://www.nationalarchives.gov.uk/doc/open-government-licence/version/3/\n",
    "- Sources of Data: https://data.ceda.ac.uk/badc/ukmo-midas-open/data/"
   ]
  },
  {
   "cell_type": "markdown",
   "id": "78b0087c-4c8b-47ed-867f-f05ac7e284cd",
   "metadata": {},
   "source": [
    "______________________________________________________________________"
   ]
  },
  {
   "cell_type": "markdown",
   "id": "57964e0d-11c7-4994-8e68-7ad20820cbf8",
   "metadata": {
    "id": "QIP46U65rS2A",
    "tags": []
   },
   "source": [
    "## References\n",
    "\n",
    "- [Iris](https://scitools-iris.readthedocs.io/en/stable/)\n",
    "- [NumPy](https://numpy.org)\n",
    "- [Matplotlib](https://matplotlib.org/)\n",
    "- [CEDA](https://www.ceda.ac.uk/)\n",
    "- [Pandas](https://pandas.pydata.org/)"
   ]
  }
 ],
 "metadata": {
  "kernelspec": {
   "display_name": "Python 3 (ipykernel)",
   "language": "python",
   "name": "python3"
  },
  "language_info": {
   "codemirror_mode": {
    "name": "ipython",
    "version": 3
   },
   "file_extension": ".py",
   "mimetype": "text/x-python",
   "name": "python",
   "nbconvert_exporter": "python",
   "pygments_lexer": "ipython3",
   "version": "3.10.6"
  }
 },
 "nbformat": 4,
 "nbformat_minor": 5
}
