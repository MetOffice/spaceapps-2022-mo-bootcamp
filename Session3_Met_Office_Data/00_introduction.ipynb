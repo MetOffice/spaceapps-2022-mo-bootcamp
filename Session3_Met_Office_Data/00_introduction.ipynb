{
 "cells": [
  {
   "cell_type": "markdown",
   "metadata": {
    "id": "7w5yf_G4nA3G"
   },
   "source": [
    "# Exploration of Met Office Data\n",
    "\n",
    "![JCEEI logo](../jceei_logo.png)\n",
    "\n",
    "September 2022\n",
    "<br>\n",
    "<br>Authors: Harvey South<sup>1,2</sup>, Nathan Creaser<sup>1</sup>\n",
    "<br>[Met Office](https://www.metoffice.gov.uk/)<sup>1</sup>, [University of Manchester](https://www.manchester.ac.uk/)<sup>2</sup>\n",
    "\n",
    "______________________________________________________________________\n",
    "\n",
    "This series of notebooks introduces various publicly available data produced by the [Met Office](https://www.metoffice.gov.uk/), demonstrating the use of this data is generally performed through exploring then engineering the data to be suitable for [Matplotlib](https://matplotlib.org) visualizations. The series of notebooks was made to prepare readers for the September 2022 [NASA Space Apps Challenge](https://www.spaceappschallenge.org/) as well as providing a resource for the Met Office Data Science Community of Practice and their partners.\n",
    "\n",
    "### Prerequisites\n",
    "\n",
    "The intended audience of this notebook are readers enthusiastic for, though unfamiliar with environmental data science tools, however some awareness of the tools will help:\n",
    "\n",
    "- [Python](https://www.python.org), including a portion of the built-in module library\n",
    "- Data manipulation tools: [Pandas](https://pandas.pydata.org), [NumPy](https://numpy.org), [Iris](https://scitools-iris.readthedocs.io/), [Xarray](https://xarray.dev)\n",
    "- Visualisation tools: [Matplotlib](https://matplotlib.org)\n",
    "\n",
    "If inclined: See the links provided in [References](#References), and skim the \"User/Usage Guide\" or \"Quickstart Tutorial\" on each tool for a brief self-introduction to the technologies.\n",
    "\n",
    "### Learning Outcomes\n",
    "\n",
    "You should expect to gain the following knowledge and skills from working through this material:\n",
    "\n",
    "- Understand how to access and download various types of data produced the [Met Office](https://www.metoffice.gov.uk)\n",
    "  - Gridded and point based model forecast outputs from [DataHub](https://metoffice.apiconnect.ibmcloud.com/metoffice/production/)\n",
    "  - Weather observational data from [WOW](https://www.wow.metoffice.gov.uk/)\n",
    "  - Climate, Model, or Aircraft Sensor, data from open access [CEDA](https://ceda.ac.uk/) datasets\n",
    "- Read different data formats into [Python](https://www.python.org), choosing suitable data manipulation tools\n",
    "- Use data manipulation tools to select, modify, reformat, and learn more about data for conversion into desirable forms for visualizations\n",
    "- Produce simple visualizations of [Met Office](https://www.metoffice.gov.uk) data\n",
    "- Generalize and apply the knowledge in these notebooks to form and produce original ideas that make use of weather and climate data\n",
    "\n",
    "______________________________________________________________________"
   ]
  },
  {
   "cell_type": "markdown",
   "metadata": {
    "id": "HK8zv84EpPmN"
   },
   "source": [
    "## Background, Content\n",
    "\n",
    "An overview of the background is provided in this repository as a pdf PowerPoint presentation. Each notebook will explore a different Met Office data in a self-contained manner.\n",
    "\n",
    "### What is Ceda\n",
    "\n",
    "The Centre for Environmental Data Analysis (CEDA) serves the environmental science community. They provide compute and data archives for the user."
   ]
  },
  {
   "cell_type": "markdown",
   "metadata": {
    "id": "QIP46U65rS2A"
   },
   "source": [
    "## References\n",
    "\n",
    "- [NASA Space Apps](https://www.spaceappschallenge.org/)\n",
    "- [Met Office](https://www.metoffice.gov.uk/)\n",
    "- [Python](https://www.python.org/)\n",
    "- [Pandas](https://pandas.pydata.org/)\n",
    "- [Iris](https://scitools-iris.readthedocs.io/en/stable/)\n",
    "- [NumPy](https://numpy.org)\n",
    "- [Matplotlib](https://matplotlib.org/)\n",
    "- [DataHub](https://metoffice.apiconnect.ibmcloud.com/metoffice/production/)\n",
    "- [WOW](https://www.wow.metoffice.gov.uk/)\n",
    "- [CEDA](https://www.ceda.ac.uk/)"
   ]
  }
 ],
 "metadata": {
  "colab": {
   "collapsed_sections": [],
   "name": "NCAI_Training_Notebook_template - Distribution Copy.ipynb",
   "provenance": [],
   "toc_visible": true
  },
  "kernelspec": {
   "display_name": "Python 3 (ipykernel)",
   "language": "python",
   "name": "python3"
  },
  "language_info": {
   "codemirror_mode": {
    "name": "ipython",
    "version": 3
   },
   "file_extension": ".py",
   "mimetype": "text/x-python",
   "name": "python",
   "nbconvert_exporter": "python",
   "pygments_lexer": "ipython3",
   "version": "3.10.6"
  }
 },
 "nbformat": 4,
 "nbformat_minor": 4
}
