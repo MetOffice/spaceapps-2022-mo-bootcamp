{
 "cells": [
  {
   "cell_type": "markdown",
   "id": "0d242002-742c-4ece-9220-8853e0ee056c",
   "metadata": {},
   "source": [
    "# Introduction to Python for Environmental Science - Gridded Data"
   ]
  },
  {
   "cell_type": "markdown",
   "id": "700b1f0e-7554-4452-9d33-33b09291e849",
   "metadata": {},
   "source": [
    "## Overview"
   ]
  },
  {
   "cell_type": "code",
   "execution_count": null,
   "id": "e598b659-dad1-401a-b95a-8ccf39a07d58",
   "metadata": {},
   "outputs": [],
   "source": []
  },
  {
   "cell_type": "markdown",
   "id": "506264e4-2afe-4f5d-85d2-d4719c376ed8",
   "metadata": {},
   "source": [
    "## Tutorial"
   ]
  },
  {
   "cell_type": "code",
   "execution_count": null,
   "id": "c1cd4fb5-068f-46a4-8c6f-8f52a794c99e",
   "metadata": {},
   "outputs": [],
   "source": []
  },
  {
   "cell_type": "code",
   "execution_count": null,
   "id": "ff64ce71-87d6-4b2f-a7dd-b70d7248061e",
   "metadata": {},
   "outputs": [],
   "source": []
  },
  {
   "cell_type": "code",
   "execution_count": null,
   "id": "79163818-53b0-44a4-adb8-af549ab5be5e",
   "metadata": {},
   "outputs": [],
   "source": []
  },
  {
   "cell_type": "markdown",
   "id": "4e8f6315-ae68-4bdd-b44f-f02bd4401677",
   "metadata": {},
   "source": [
    "### Key terms\n",
    "* *gridded* - weather parameters mapped onto a regular geographical grid e.g. output from any of the Numerical Weather Prediction model or radar. Gridded data is useful when you need to analyse the weather across a wide area.\n",
    "* *dimension* - The size of each axis of the array. For example in an image, you have two dimensions, the vertical and horizontal. Typical dimensions in environmental data include latitude, longitude, altitude and time.\n",
    "* *resolution* - climate models split the Earth's atmosphere and ocean into a finite number of grid boxes (similar to the pixels on a digital camera) - the higher the number of grid boxes, the higher (or finer) the spatial resolution. For example, a model with a horizontal resolution of 1 degree would have 360 (latitude) x 180 (longitude) = 64,800 grid boxes. The height of the atmosphere, and the depth of the ocean are split into distinct layers - so the number of these layers determines the vertical resolution of the model.\n",
    "\n",
    "\n",
    "\n"
   ]
  },
  {
   "cell_type": "markdown",
   "id": "c6e86f85-9316-4761-91e2-6fd8f2111214",
   "metadata": {},
   "source": [
    "## Exercises "
   ]
  },
  {
   "cell_type": "markdown",
   "id": "e2a1ae7c-fabe-4a2a-bdf9-e4d9e1bacfa3",
   "metadata": {},
   "source": [
    "### Getting the sample data\n",
    "\n",
    "The sample data for use with this notebook is available from Zenodo.\n",
    "\n",
    "* UKV selected variables November 2019 - High resolution weather data over the United Kingdom [zenodo archive](https://doi.org/10.5281/zenodo.7101562)\n",
    "* UKCP RCP85 selected variables for Dec 2065 to Nov 2066 [zenodo archive](https://doi.org/10.5281/zenodo.7101557)\n",
    "\n",
    "You can download the data using wget, for example\n",
    "``` bash\n",
    "wget https://zenodo.org/record/7101563/files/ukv.tgz $HOME/data\n",
    "wget https://zenodo.org/record/7101557/files/ukcp_rcp85.tgz $HOME/data\n",
    "``` \n",
    "\n",
    "then unzip the data as follows\n",
    "``` bash\n",
    "cd $HOME/data/\n",
    "tar xvzf ukv.tgz\n",
    "tar xvzf ukcp_rcp85.tgz\n",
    "```\n",
    "\n",
    "The notebooks will expect the data in the locations created by those commands. Update the `sample_data_root` variable if you have downloaded and extracted the data to another location.\n"
   ]
  },
  {
   "cell_type": "code",
   "execution_count": 8,
   "id": "1ece53b2-bc81-4c92-a579-dc0966ccc334",
   "metadata": {},
   "outputs": [],
   "source": [
    "import os\n",
    "import pathlib"
   ]
  },
  {
   "cell_type": "code",
   "execution_count": 2,
   "id": "8234ecbd-ff58-4e5a-b438-6c619d9e6328",
   "metadata": {},
   "outputs": [],
   "source": [
    "import pandas"
   ]
  },
  {
   "cell_type": "code",
   "execution_count": 3,
   "id": "6b6c23d9-55f1-4d74-9731-d128f9ec9ccc",
   "metadata": {},
   "outputs": [],
   "source": [
    "import iris"
   ]
  },
  {
   "cell_type": "code",
   "execution_count": 4,
   "id": "e9ba6fa1-03c3-411c-9655-dd1298798a93",
   "metadata": {},
   "outputs": [],
   "source": [
    "import xarray"
   ]
  },
  {
   "cell_type": "code",
   "execution_count": 6,
   "id": "1b3ed34b-8485-4fba-b10c-ef495e00c446",
   "metadata": {},
   "outputs": [],
   "source": [
    "import matplotlib\n",
    "import matplotlib.pyplot as plt"
   ]
  },
  {
   "cell_type": "code",
   "execution_count": 9,
   "id": "2abb8232-09ed-43b9-8a07-ad019065c3d9",
   "metadata": {},
   "outputs": [
    {
     "data": {
      "text/plain": [
       "PosixPath('/Users/stephen.haddad/data')"
      ]
     },
     "execution_count": 9,
     "metadata": {},
     "output_type": "execute_result"
    }
   ],
   "source": [
    "sample_data_root = pathlib.Path(os.environ['HOME']) / 'data'\n",
    "sample_data_root"
   ]
  },
  {
   "cell_type": "markdown",
   "id": "cbc34145-e47f-4110-9f0f-8175b6139613",
   "metadata": {},
   "source": [
    "### Exploring Weather Model data - UKV"
   ]
  },
  {
   "cell_type": "code",
   "execution_count": 18,
   "id": "c56ead22-216e-40ff-9fd2-3f4c07baf7a3",
   "metadata": {},
   "outputs": [
    {
     "name": "stdout",
     "output_type": "stream",
     "text": [
      "True\n"
     ]
    }
   ],
   "source": [
    "ukv_root_dir  = sample_data_root / 'intro_python_ds' / 'ukv'\n",
    "print(ukv_root_dir.is_dir())"
   ]
  },
  {
   "cell_type": "code",
   "execution_count": 29,
   "id": "140a963f-3dc9-4699-a7eb-bf30022bf66d",
   "metadata": {},
   "outputs": [
    {
     "data": {
      "text/plain": [
       "['t1o5m_min',\n",
       " 'pmsl_mean',\n",
       " 'windspeed_mean',\n",
       " 't1o5m_mean',\n",
       " 't1o5m_max',\n",
       " 'windgust_max',\n",
       " 'rain_mean']"
      ]
     },
     "execution_count": 29,
     "metadata": {},
     "output_type": "execute_result"
    }
   ],
   "source": [
    "ukv_var_list = {p1.stem: p1 for p1 in ukv_root_dir.glob('*')}\n",
    "list(ukv_var_list.keys())"
   ]
  },
  {
   "cell_type": "code",
   "execution_count": 28,
   "id": "43095333-faca-4b61-8787-12578683d445",
   "metadata": {},
   "outputs": [
    {
     "data": {
      "text/plain": [
       "'t1o5m_max'"
      ]
     },
     "execution_count": 28,
     "metadata": {},
     "output_type": "execute_result"
    }
   ],
   "source": [
    "current_var = 't1o5m_max'\n",
    "current_var"
   ]
  },
  {
   "cell_type": "code",
   "execution_count": 30,
   "id": "4ac10dbf-5969-40ee-8151-857dad8c16bc",
   "metadata": {},
   "outputs": [
    {
     "name": "stderr",
     "output_type": "stream",
     "text": [
      "/var/folders/w0/2x361bn95wj7lfgl33vksx1w0000gn/T/ipykernel_6169/4285205106.py:1: FutureWarning: Ignoring a datum in netCDF load for consistency with existing behaviour. In a future version of Iris, this datum will be applied. To apply the datum when loading, use the iris.FUTURE.datum_support flag.\n",
      "  ukv_temp_max = iris.load_cube([str(p1) for p1 in ukv_var_list[current_var].iterdir()])\n",
      "/var/folders/w0/2x361bn95wj7lfgl33vksx1w0000gn/T/ipykernel_6169/4285205106.py:1: FutureWarning: Ignoring a datum in netCDF load for consistency with existing behaviour. In a future version of Iris, this datum will be applied. To apply the datum when loading, use the iris.FUTURE.datum_support flag.\n",
      "  ukv_temp_max = iris.load_cube([str(p1) for p1 in ukv_var_list[current_var].iterdir()])\n",
      "/var/folders/w0/2x361bn95wj7lfgl33vksx1w0000gn/T/ipykernel_6169/4285205106.py:1: FutureWarning: Ignoring a datum in netCDF load for consistency with existing behaviour. In a future version of Iris, this datum will be applied. To apply the datum when loading, use the iris.FUTURE.datum_support flag.\n",
      "  ukv_temp_max = iris.load_cube([str(p1) for p1 in ukv_var_list[current_var].iterdir()])\n",
      "/var/folders/w0/2x361bn95wj7lfgl33vksx1w0000gn/T/ipykernel_6169/4285205106.py:1: FutureWarning: Ignoring a datum in netCDF load for consistency with existing behaviour. In a future version of Iris, this datum will be applied. To apply the datum when loading, use the iris.FUTURE.datum_support flag.\n",
      "  ukv_temp_max = iris.load_cube([str(p1) for p1 in ukv_var_list[current_var].iterdir()])\n",
      "/var/folders/w0/2x361bn95wj7lfgl33vksx1w0000gn/T/ipykernel_6169/4285205106.py:1: FutureWarning: Ignoring a datum in netCDF load for consistency with existing behaviour. In a future version of Iris, this datum will be applied. To apply the datum when loading, use the iris.FUTURE.datum_support flag.\n",
      "  ukv_temp_max = iris.load_cube([str(p1) for p1 in ukv_var_list[current_var].iterdir()])\n",
      "/var/folders/w0/2x361bn95wj7lfgl33vksx1w0000gn/T/ipykernel_6169/4285205106.py:1: FutureWarning: Ignoring a datum in netCDF load for consistency with existing behaviour. In a future version of Iris, this datum will be applied. To apply the datum when loading, use the iris.FUTURE.datum_support flag.\n",
      "  ukv_temp_max = iris.load_cube([str(p1) for p1 in ukv_var_list[current_var].iterdir()])\n",
      "/var/folders/w0/2x361bn95wj7lfgl33vksx1w0000gn/T/ipykernel_6169/4285205106.py:1: FutureWarning: Ignoring a datum in netCDF load for consistency with existing behaviour. In a future version of Iris, this datum will be applied. To apply the datum when loading, use the iris.FUTURE.datum_support flag.\n",
      "  ukv_temp_max = iris.load_cube([str(p1) for p1 in ukv_var_list[current_var].iterdir()])\n",
      "/var/folders/w0/2x361bn95wj7lfgl33vksx1w0000gn/T/ipykernel_6169/4285205106.py:1: FutureWarning: Ignoring a datum in netCDF load for consistency with existing behaviour. In a future version of Iris, this datum will be applied. To apply the datum when loading, use the iris.FUTURE.datum_support flag.\n",
      "  ukv_temp_max = iris.load_cube([str(p1) for p1 in ukv_var_list[current_var].iterdir()])\n",
      "/var/folders/w0/2x361bn95wj7lfgl33vksx1w0000gn/T/ipykernel_6169/4285205106.py:1: FutureWarning: Ignoring a datum in netCDF load for consistency with existing behaviour. In a future version of Iris, this datum will be applied. To apply the datum when loading, use the iris.FUTURE.datum_support flag.\n",
      "  ukv_temp_max = iris.load_cube([str(p1) for p1 in ukv_var_list[current_var].iterdir()])\n",
      "/var/folders/w0/2x361bn95wj7lfgl33vksx1w0000gn/T/ipykernel_6169/4285205106.py:1: FutureWarning: Ignoring a datum in netCDF load for consistency with existing behaviour. In a future version of Iris, this datum will be applied. To apply the datum when loading, use the iris.FUTURE.datum_support flag.\n",
      "  ukv_temp_max = iris.load_cube([str(p1) for p1 in ukv_var_list[current_var].iterdir()])\n",
      "/var/folders/w0/2x361bn95wj7lfgl33vksx1w0000gn/T/ipykernel_6169/4285205106.py:1: FutureWarning: Ignoring a datum in netCDF load for consistency with existing behaviour. In a future version of Iris, this datum will be applied. To apply the datum when loading, use the iris.FUTURE.datum_support flag.\n",
      "  ukv_temp_max = iris.load_cube([str(p1) for p1 in ukv_var_list[current_var].iterdir()])\n",
      "/var/folders/w0/2x361bn95wj7lfgl33vksx1w0000gn/T/ipykernel_6169/4285205106.py:1: FutureWarning: Ignoring a datum in netCDF load for consistency with existing behaviour. In a future version of Iris, this datum will be applied. To apply the datum when loading, use the iris.FUTURE.datum_support flag.\n",
      "  ukv_temp_max = iris.load_cube([str(p1) for p1 in ukv_var_list[current_var].iterdir()])\n",
      "/var/folders/w0/2x361bn95wj7lfgl33vksx1w0000gn/T/ipykernel_6169/4285205106.py:1: FutureWarning: Ignoring a datum in netCDF load for consistency with existing behaviour. In a future version of Iris, this datum will be applied. To apply the datum when loading, use the iris.FUTURE.datum_support flag.\n",
      "  ukv_temp_max = iris.load_cube([str(p1) for p1 in ukv_var_list[current_var].iterdir()])\n",
      "/var/folders/w0/2x361bn95wj7lfgl33vksx1w0000gn/T/ipykernel_6169/4285205106.py:1: FutureWarning: Ignoring a datum in netCDF load for consistency with existing behaviour. In a future version of Iris, this datum will be applied. To apply the datum when loading, use the iris.FUTURE.datum_support flag.\n",
      "  ukv_temp_max = iris.load_cube([str(p1) for p1 in ukv_var_list[current_var].iterdir()])\n",
      "/var/folders/w0/2x361bn95wj7lfgl33vksx1w0000gn/T/ipykernel_6169/4285205106.py:1: FutureWarning: Ignoring a datum in netCDF load for consistency with existing behaviour. In a future version of Iris, this datum will be applied. To apply the datum when loading, use the iris.FUTURE.datum_support flag.\n",
      "  ukv_temp_max = iris.load_cube([str(p1) for p1 in ukv_var_list[current_var].iterdir()])\n",
      "/var/folders/w0/2x361bn95wj7lfgl33vksx1w0000gn/T/ipykernel_6169/4285205106.py:1: FutureWarning: Ignoring a datum in netCDF load for consistency with existing behaviour. In a future version of Iris, this datum will be applied. To apply the datum when loading, use the iris.FUTURE.datum_support flag.\n",
      "  ukv_temp_max = iris.load_cube([str(p1) for p1 in ukv_var_list[current_var].iterdir()])\n",
      "/var/folders/w0/2x361bn95wj7lfgl33vksx1w0000gn/T/ipykernel_6169/4285205106.py:1: FutureWarning: Ignoring a datum in netCDF load for consistency with existing behaviour. In a future version of Iris, this datum will be applied. To apply the datum when loading, use the iris.FUTURE.datum_support flag.\n",
      "  ukv_temp_max = iris.load_cube([str(p1) for p1 in ukv_var_list[current_var].iterdir()])\n",
      "/var/folders/w0/2x361bn95wj7lfgl33vksx1w0000gn/T/ipykernel_6169/4285205106.py:1: FutureWarning: Ignoring a datum in netCDF load for consistency with existing behaviour. In a future version of Iris, this datum will be applied. To apply the datum when loading, use the iris.FUTURE.datum_support flag.\n",
      "  ukv_temp_max = iris.load_cube([str(p1) for p1 in ukv_var_list[current_var].iterdir()])\n",
      "/var/folders/w0/2x361bn95wj7lfgl33vksx1w0000gn/T/ipykernel_6169/4285205106.py:1: FutureWarning: Ignoring a datum in netCDF load for consistency with existing behaviour. In a future version of Iris, this datum will be applied. To apply the datum when loading, use the iris.FUTURE.datum_support flag.\n",
      "  ukv_temp_max = iris.load_cube([str(p1) for p1 in ukv_var_list[current_var].iterdir()])\n",
      "/var/folders/w0/2x361bn95wj7lfgl33vksx1w0000gn/T/ipykernel_6169/4285205106.py:1: FutureWarning: Ignoring a datum in netCDF load for consistency with existing behaviour. In a future version of Iris, this datum will be applied. To apply the datum when loading, use the iris.FUTURE.datum_support flag.\n",
      "  ukv_temp_max = iris.load_cube([str(p1) for p1 in ukv_var_list[current_var].iterdir()])\n",
      "/var/folders/w0/2x361bn95wj7lfgl33vksx1w0000gn/T/ipykernel_6169/4285205106.py:1: FutureWarning: Ignoring a datum in netCDF load for consistency with existing behaviour. In a future version of Iris, this datum will be applied. To apply the datum when loading, use the iris.FUTURE.datum_support flag.\n",
      "  ukv_temp_max = iris.load_cube([str(p1) for p1 in ukv_var_list[current_var].iterdir()])\n",
      "/var/folders/w0/2x361bn95wj7lfgl33vksx1w0000gn/T/ipykernel_6169/4285205106.py:1: FutureWarning: Ignoring a datum in netCDF load for consistency with existing behaviour. In a future version of Iris, this datum will be applied. To apply the datum when loading, use the iris.FUTURE.datum_support flag.\n",
      "  ukv_temp_max = iris.load_cube([str(p1) for p1 in ukv_var_list[current_var].iterdir()])\n",
      "/var/folders/w0/2x361bn95wj7lfgl33vksx1w0000gn/T/ipykernel_6169/4285205106.py:1: FutureWarning: Ignoring a datum in netCDF load for consistency with existing behaviour. In a future version of Iris, this datum will be applied. To apply the datum when loading, use the iris.FUTURE.datum_support flag.\n",
      "  ukv_temp_max = iris.load_cube([str(p1) for p1 in ukv_var_list[current_var].iterdir()])\n",
      "/var/folders/w0/2x361bn95wj7lfgl33vksx1w0000gn/T/ipykernel_6169/4285205106.py:1: FutureWarning: Ignoring a datum in netCDF load for consistency with existing behaviour. In a future version of Iris, this datum will be applied. To apply the datum when loading, use the iris.FUTURE.datum_support flag.\n",
      "  ukv_temp_max = iris.load_cube([str(p1) for p1 in ukv_var_list[current_var].iterdir()])\n",
      "/var/folders/w0/2x361bn95wj7lfgl33vksx1w0000gn/T/ipykernel_6169/4285205106.py:1: FutureWarning: Ignoring a datum in netCDF load for consistency with existing behaviour. In a future version of Iris, this datum will be applied. To apply the datum when loading, use the iris.FUTURE.datum_support flag.\n",
      "  ukv_temp_max = iris.load_cube([str(p1) for p1 in ukv_var_list[current_var].iterdir()])\n",
      "/var/folders/w0/2x361bn95wj7lfgl33vksx1w0000gn/T/ipykernel_6169/4285205106.py:1: FutureWarning: Ignoring a datum in netCDF load for consistency with existing behaviour. In a future version of Iris, this datum will be applied. To apply the datum when loading, use the iris.FUTURE.datum_support flag.\n",
      "  ukv_temp_max = iris.load_cube([str(p1) for p1 in ukv_var_list[current_var].iterdir()])\n",
      "/var/folders/w0/2x361bn95wj7lfgl33vksx1w0000gn/T/ipykernel_6169/4285205106.py:1: FutureWarning: Ignoring a datum in netCDF load for consistency with existing behaviour. In a future version of Iris, this datum will be applied. To apply the datum when loading, use the iris.FUTURE.datum_support flag.\n",
      "  ukv_temp_max = iris.load_cube([str(p1) for p1 in ukv_var_list[current_var].iterdir()])\n",
      "/var/folders/w0/2x361bn95wj7lfgl33vksx1w0000gn/T/ipykernel_6169/4285205106.py:1: FutureWarning: Ignoring a datum in netCDF load for consistency with existing behaviour. In a future version of Iris, this datum will be applied. To apply the datum when loading, use the iris.FUTURE.datum_support flag.\n",
      "  ukv_temp_max = iris.load_cube([str(p1) for p1 in ukv_var_list[current_var].iterdir()])\n",
      "/var/folders/w0/2x361bn95wj7lfgl33vksx1w0000gn/T/ipykernel_6169/4285205106.py:1: FutureWarning: Ignoring a datum in netCDF load for consistency with existing behaviour. In a future version of Iris, this datum will be applied. To apply the datum when loading, use the iris.FUTURE.datum_support flag.\n",
      "  ukv_temp_max = iris.load_cube([str(p1) for p1 in ukv_var_list[current_var].iterdir()])\n",
      "/var/folders/w0/2x361bn95wj7lfgl33vksx1w0000gn/T/ipykernel_6169/4285205106.py:1: FutureWarning: Ignoring a datum in netCDF load for consistency with existing behaviour. In a future version of Iris, this datum will be applied. To apply the datum when loading, use the iris.FUTURE.datum_support flag.\n",
      "  ukv_temp_max = iris.load_cube([str(p1) for p1 in ukv_var_list[current_var].iterdir()])\n"
     ]
    },
    {
     "data": {
      "text/html": [
       "\n",
       "<style>\n",
       "  a.iris {\n",
       "      text-decoration: none !important;\n",
       "  }\n",
       "  table.iris {\n",
       "      white-space: pre;\n",
       "      border: 1px solid;\n",
       "      border-color: #9c9c9c;\n",
       "      font-family: monaco, monospace;\n",
       "  }\n",
       "  th.iris {\n",
       "      background: #303f3f;\n",
       "      color: #e0e0e0;\n",
       "      border-left: 1px solid;\n",
       "      border-color: #9c9c9c;\n",
       "      font-size: 1.05em;\n",
       "      min-width: 50px;\n",
       "      max-width: 125px;\n",
       "  }\n",
       "  tr.iris :first-child {\n",
       "      border-right: 1px solid #9c9c9c !important;\n",
       "  }\n",
       "  td.iris-title {\n",
       "      background: #d5dcdf;\n",
       "      border-top: 1px solid #9c9c9c;\n",
       "      font-weight: bold;\n",
       "  }\n",
       "  .iris-word-cell {\n",
       "      text-align: left !important;\n",
       "      white-space: pre;\n",
       "  }\n",
       "  .iris-subheading-cell {\n",
       "      padding-left: 2em !important;\n",
       "  }\n",
       "  .iris-inclusion-cell {\n",
       "      padding-right: 1em !important;\n",
       "  }\n",
       "  .iris-panel-body {\n",
       "      padding-top: 0px;\n",
       "  }\n",
       "  .iris-panel-title {\n",
       "      padding-left: 3em;\n",
       "  }\n",
       "  .iris-panel-title {\n",
       "      margin-top: 7px;\n",
       "  }\n",
       "</style>\n",
       "<table class=\"iris\" id=\"5852880976\">\n",
       "    <tr class=\"iris\">\n",
       "<th class=\"iris iris-word-cell\">Air Temperature (K)</th>\n",
       "<th class=\"iris iris-word-cell\">time</th>\n",
       "<th class=\"iris iris-word-cell\">grid_latitude</th>\n",
       "<th class=\"iris iris-word-cell\">grid_longitude</th>\n",
       "</tr>\n",
       "    <tr class=\"iris\">\n",
       "<td class=\"iris-word-cell iris-subheading-cell\">Shape</td>\n",
       "<td class=\"iris iris-inclusion-cell\">30</td>\n",
       "<td class=\"iris iris-inclusion-cell\">808</td>\n",
       "<td class=\"iris iris-inclusion-cell\">621</td>\n",
       "</tr>\n",
       "    <tr class=\"iris\">\n",
       "    <td class=\"iris-title iris-word-cell\">Dimension coordinates</td>\n",
       "    <td class=\"iris-title\"></td>\n",
       "    <td class=\"iris-title\"></td>\n",
       "    <td class=\"iris-title\"></td>\n",
       "</tr>\n",
       "<tr class=\"iris\">\n",
       "    <td class=\"iris-word-cell iris-subheading-cell\">\ttime</td>\n",
       "    <td class=\"iris-inclusion-cell\">x</td>\n",
       "    <td class=\"iris-inclusion-cell\">-</td>\n",
       "    <td class=\"iris-inclusion-cell\">-</td>\n",
       "</tr>\n",
       "<tr class=\"iris\">\n",
       "    <td class=\"iris-word-cell iris-subheading-cell\">\tgrid_latitude</td>\n",
       "    <td class=\"iris-inclusion-cell\">-</td>\n",
       "    <td class=\"iris-inclusion-cell\">x</td>\n",
       "    <td class=\"iris-inclusion-cell\">-</td>\n",
       "</tr>\n",
       "<tr class=\"iris\">\n",
       "    <td class=\"iris-word-cell iris-subheading-cell\">\tgrid_longitude</td>\n",
       "    <td class=\"iris-inclusion-cell\">-</td>\n",
       "    <td class=\"iris-inclusion-cell\">-</td>\n",
       "    <td class=\"iris-inclusion-cell\">x</td>\n",
       "</tr>\n",
       "<tr class=\"iris\">\n",
       "    <td class=\"iris-title iris-word-cell\">Auxiliary coordinates</td>\n",
       "    <td class=\"iris-title\"></td>\n",
       "    <td class=\"iris-title\"></td>\n",
       "    <td class=\"iris-title\"></td>\n",
       "</tr>\n",
       "<tr class=\"iris\">\n",
       "    <td class=\"iris-word-cell iris-subheading-cell\">\tforecast_reference_time</td>\n",
       "    <td class=\"iris-inclusion-cell\">x</td>\n",
       "    <td class=\"iris-inclusion-cell\">-</td>\n",
       "    <td class=\"iris-inclusion-cell\">-</td>\n",
       "</tr>\n",
       "<tr class=\"iris\">\n",
       "    <td class=\"iris-title iris-word-cell\">Scalar coordinates</td>\n",
       "    <td class=\"iris-title\"></td>\n",
       "    <td class=\"iris-title\"></td>\n",
       "    <td class=\"iris-title\"></td>\n",
       "</tr>\n",
       "<tr class=\"iris\">\n",
       "    <td class=\"iris-word-cell iris-subheading-cell\">\tforecast_period</td>\n",
       "    <td class=\"iris-word-cell\" colspan=\"3\">2.5 hours, bound=(0.0, 5.0) hours</td>\n",
       "</tr>\n",
       "<tr class=\"iris\">\n",
       "    <td class=\"iris-word-cell iris-subheading-cell\">\theight</td>\n",
       "    <td class=\"iris-word-cell\" colspan=\"3\">1.5 m</td>\n",
       "</tr>\n",
       "<tr class=\"iris\">\n",
       "    <td class=\"iris-title iris-word-cell\">Cell methods</td>\n",
       "    <td class=\"iris-title\"></td>\n",
       "    <td class=\"iris-title\"></td>\n",
       "    <td class=\"iris-title\"></td>\n",
       "</tr>\n",
       "<tr class=\"iris\">\n",
       "    <td class=\"iris-word-cell iris-subheading-cell\">\tmaximum</td>\n",
       "    <td class=\"iris-word-cell\" colspan=\"3\">time</td>\n",
       "</tr>\n",
       "<tr class=\"iris\">\n",
       "    <td class=\"iris-title iris-word-cell\">Attributes</td>\n",
       "    <td class=\"iris-title\"></td>\n",
       "    <td class=\"iris-title\"></td>\n",
       "    <td class=\"iris-title\"></td>\n",
       "</tr>\n",
       "<tr class=\"iris\">\n",
       "    <td class=\"iris-word-cell iris-subheading-cell\">\tConventions</td>\n",
       "    <td class=\"iris-word-cell\" colspan=\"3\">&#x27;CF-1.5&#x27;</td>\n",
       "</tr>\n",
       "<tr class=\"iris\">\n",
       "    <td class=\"iris-word-cell iris-subheading-cell\">\tSTASH</td>\n",
       "    <td class=\"iris-word-cell\" colspan=\"3\">m01s03i236</td>\n",
       "</tr>\n",
       "<tr class=\"iris\">\n",
       "    <td class=\"iris-word-cell iris-subheading-cell\">\tsource</td>\n",
       "    <td class=\"iris-word-cell\" colspan=\"3\">&#x27;Data from Met Office Unified Model&#x27;</td>\n",
       "</tr>\n",
       "<tr class=\"iris\">\n",
       "    <td class=\"iris-word-cell iris-subheading-cell\">\tum_version</td>\n",
       "    <td class=\"iris-word-cell\" colspan=\"3\">&#x27;11.1&#x27;</td>\n",
       "</tr>\n",
       "</table>\n",
       "        "
      ],
      "text/plain": [
       "<iris 'Cube' of air_temperature / (K) (time: 30; grid_latitude: 808; grid_longitude: 621)>"
      ]
     },
     "execution_count": 30,
     "metadata": {},
     "output_type": "execute_result"
    }
   ],
   "source": [
    "ukv_temp_max = iris.load_cube([str(p1) for p1 in ukv_var_list[current_var].iterdir()])\n",
    "ukv_temp_max"
   ]
  },
  {
   "cell_type": "code",
   "execution_count": null,
   "id": "700e2e11-889f-411d-8301-4fff1e5d4041",
   "metadata": {},
   "outputs": [],
   "source": []
  },
  {
   "cell_type": "code",
   "execution_count": null,
   "id": "e52cf544-b6fd-4487-bdde-de596154e8a8",
   "metadata": {},
   "outputs": [],
   "source": []
  },
  {
   "cell_type": "code",
   "execution_count": null,
   "id": "9cad85ea-c4cb-4579-92d2-447998af61f5",
   "metadata": {},
   "outputs": [],
   "source": []
  },
  {
   "cell_type": "code",
   "execution_count": null,
   "id": "ec76d138-363f-4152-a30e-d6281c5e4822",
   "metadata": {},
   "outputs": [],
   "source": []
  },
  {
   "cell_type": "markdown",
   "id": "8b8e8f31-ff16-4b8e-84a0-d6b9cf5473ca",
   "metadata": {},
   "source": [
    "### Exploring Climate Model Data - UK Climate Projections"
   ]
  },
  {
   "cell_type": "code",
   "execution_count": null,
   "id": "4ed3d2b6-4574-4370-8781-870d194176a9",
   "metadata": {},
   "outputs": [],
   "source": []
  },
  {
   "cell_type": "code",
   "execution_count": null,
   "id": "4f9572f2-2b9e-4bf8-a09c-e16c74c59794",
   "metadata": {},
   "outputs": [],
   "source": []
  },
  {
   "cell_type": "markdown",
   "id": "d3eeb275-f6e9-4365-8b92-45645dd1385d",
   "metadata": {},
   "source": [
    "### Examples of use\n",
    "\n",
    "#### Model Data\n",
    "See session 3 notebooks on examples of gridded data, such as:\n",
    "* [Met Office Weather Simulation Data](https://www.metoffice.gov.uk/services/government/defence-and-security/models)\n",
    "* [UK Climate Projections](https://www.metoffice.gov.uk/research/approach/collaboration/ukcp) - Forecasts of UK climate conditions for the 21st century.\n",
    "* [Global Climnate Data from CMIP6](https://www.wcrp-climate.org/wgcm-cmip/wgcm-cmip6)\n",
    "  * [MoreCMIP6 info from Carbon Brief](https://www.carbonbrief.org/cmip6-the-next-generation-of-climate-models-explained/)\n",
    "* [ERA5 Renalsysis Data](https://www.ecmwf.int/en/forecasts/datasets/reanalysis-datasets/era5) - A global dataset of oservations, processed (or *renanalysed*) using a physic-based model to merge the many different observation modes into a single physically realistic dataset.\n",
    "  * [ERA5 data on AWS](https://registry.opendata.aws/ecmwf-era5/)\n",
    "  \n",
    "#### Satelite Data\n",
    "Similar but slightly different is data from satellites or other sorts of images. \n",
    "* [Met Office Info on Satellite Imagery](https://www.metoffice.gov.uk/research/weather/satellite-applications/satellite-imagery)\n",
    "* [EUMetSat Image Viewer](https://view.eumetsat.int/productviewer?v=default)"
   ]
  },
  {
   "cell_type": "markdown",
   "id": "949ec1f7-a481-455e-a782-6caf4141ee78",
   "metadata": {},
   "source": [
    "### Data Statement"
   ]
  },
  {
   "cell_type": "markdown",
   "id": "7708b988-b8f4-4127-8fe1-1fbdc9479f27",
   "metadata": {},
   "source": [
    "### References\n",
    "\n",
    "* [Met Office Data Glossary](https://www.metoffice.gov.uk/services/data/business-data/glossary)"
   ]
  },
  {
   "cell_type": "code",
   "execution_count": null,
   "id": "59eea876-3fa3-4fe7-9c41-3b57816221dc",
   "metadata": {},
   "outputs": [],
   "source": []
  }
 ],
 "metadata": {
  "kernelspec": {
   "display_name": "Python 3 (ipykernel)",
   "language": "python",
   "name": "python3"
  },
  "language_info": {
   "codemirror_mode": {
    "name": "ipython",
    "version": 3
   },
   "file_extension": ".py",
   "mimetype": "text/x-python",
   "name": "python",
   "nbconvert_exporter": "python",
   "pygments_lexer": "ipython3",
   "version": "3.10.6"
  }
 },
 "nbformat": 4,
 "nbformat_minor": 5
}
