{
 "cells": [
  {
   "cell_type": "markdown",
   "id": "0d242002-742c-4ece-9220-8853e0ee056c",
   "metadata": {},
   "source": [
    "# Introduction to Python for Environmental Science - Gridded Data"
   ]
  },
  {
   "cell_type": "markdown",
   "id": "700b1f0e-7554-4452-9d33-33b09291e849",
   "metadata": {
    "tags": []
   },
   "source": [
    "## Overview\n",
    "In this notebook we are going to look at data models for a different sort of data compared to the **tabular data**, called  **gridded data**. One definition of girdded data is as follows:\n",
    "\n",
    ">Gridded data is two-dimensional data representing an atmospheric or oceanic parameter along an evenly spaced matrix. For the matrix to be useful, ancillary information about the grid must also be known. This ancillary information, along with the gridded data, is collectively called a grid object.\n",
    "\n",
    "[quote source](https://www.ssec.wisc.edu/mcidas/doc/prog_man/2015/access-3.html#:~:text=Gridded%20data%20is%20two%2Ddimensional,collectively%20called%20a%20grid%20object)\n",
    "\n",
    "In this notebook we will be looking at manipulating multi-dimensional array manually, and then an  easier way to work with gridded data models using an equivalent libraries for gridded data to pandas for tabular data."
   ]
  },
  {
   "cell_type": "markdown",
   "id": "506264e4-2afe-4f5d-85d2-d4719c376ed8",
   "metadata": {},
   "source": [
    "## Tutorial\n",
    "\n",
    "\n",
    "Each dimension in the grid or array is a dimension of the measurement, of whihc there can be more than 2, for example latitude, longitude and time. One thing the definition does mention is the metadata about the grid, example linking specific values in the array to specific latitudes/longitudes in the real-world. This is the meta data which together with the data forms our data model for gridded data.\n",
    "\n",
    "Each grid usually represents a separate physical phenomena, for example wind or temperature, unlike tabular data where typically different columns represented different phenomena."
   ]
  },
  {
   "cell_type": "code",
   "execution_count": null,
   "id": "c1cd4fb5-068f-46a4-8c6f-8f52a794c99e",
   "metadata": {},
   "outputs": [],
   "source": []
  },
  {
   "cell_type": "code",
   "execution_count": null,
   "id": "ff64ce71-87d6-4b2f-a7dd-b70d7248061e",
   "metadata": {},
   "outputs": [],
   "source": []
  },
  {
   "cell_type": "code",
   "execution_count": null,
   "id": "79163818-53b0-44a4-adb8-af549ab5be5e",
   "metadata": {},
   "outputs": [],
   "source": []
  },
  {
   "cell_type": "markdown",
   "id": "4e8f6315-ae68-4bdd-b44f-f02bd4401677",
   "metadata": {},
   "source": [
    "### Key terms\n",
    "* *gridded* - weather parameters mapped onto a regular geographical grid e.g. output from any of the Numerical Weather Prediction model or radar. Gridded data is useful when you need to analyse the weather across a wide area.\n",
    "* *dimension* - The size of each axis of the array. For example in an image, you have two dimensions, the vertical and horizontal. Typical dimensions in environmental data include latitude, longitude, altitude and time.\n",
    "* *resolution* - climate models split the Earth's atmosphere and ocean into a finite number of grid boxes (similar to the pixels on a digital camera) - the higher the number of grid boxes, the higher (or finer) the spatial resolution. For example, a model with a horizontal resolution of 1 degree would have 360 (latitude) x 180 (longitude) = 64,800 grid boxes. The height of the atmosphere, and the depth of the ocean are split into distinct layers - so the number of these layers determines the vertical resolution of the model.\n",
    "\n",
    "[Met Office Data Glossary](https://www.metoffice.gov.uk/services/data/business-data/glossary)\n",
    "\n",
    "\n",
    "\n"
   ]
  },
  {
   "cell_type": "markdown",
   "id": "c6e86f85-9316-4761-91e2-6fd8f2111214",
   "metadata": {},
   "source": [
    "## Exercises "
   ]
  },
  {
   "cell_type": "markdown",
   "id": "e2a1ae7c-fabe-4a2a-bdf9-e4d9e1bacfa3",
   "metadata": {},
   "source": [
    "### Getting the sample data\n",
    "\n",
    "The sample data for use with this notebook is available from Zenodo.\n",
    "\n",
    "* UKV selected variables November 2019 - High resolution weather data over the United Kingdom [zenodo archive](https://doi.org/10.5281/zenodo.7101562)\n",
    "* UKCP RCP85 selected variables for Dec 2065 to Nov 2066 [zenodo archive](https://doi.org/10.5281/zenodo.7101557)\n",
    "\n",
    "You can download the data using wget, for example\n",
    "``` bash\n",
    "wget https://zenodo.org/record/7101563/files/ukv.tgz $HOME/data\n",
    "wget https://zenodo.org/record/7101557/files/ukcp_rcp85.tgz $HOME/data\n",
    "``` \n",
    "\n",
    "then unzip the data as follows\n",
    "``` bash\n",
    "cd $HOME/data/\n",
    "tar xvzf ukv.tgz\n",
    "tar xvzf ukcp_rcp85.tgz\n",
    "```\n",
    "\n",
    "The notebooks will expect the data in the locations created by those commands. Update the `sample_data_root` variable if you have downloaded and extracted the data to another location.\n"
   ]
  },
  {
   "cell_type": "markdown",
   "id": "cbc34145-e47f-4110-9f0f-8175b6139613",
   "metadata": {},
   "source": [
    "### Exploring Weather Model data - UKV\n",
    "\n",
    "UKV is the high-resolution weather forecast model used by the Met Office. Here we will explore some sample data to understand how to work with gridded data like thast from a weather forecast model."
   ]
  },
  {
   "cell_type": "code",
   "execution_count": 8,
   "id": "1ece53b2-bc81-4c92-a579-dc0966ccc334",
   "metadata": {},
   "outputs": [],
   "source": [
    "import os\n",
    "import pathlib"
   ]
  },
  {
   "cell_type": "code",
   "execution_count": 39,
   "id": "f74252ce-f3d1-4116-a18e-c72b4243b23e",
   "metadata": {},
   "outputs": [],
   "source": [
    "import warnings\n",
    "warnings.filterwarnings(action='ignore')"
   ]
  },
  {
   "cell_type": "code",
   "execution_count": 2,
   "id": "8234ecbd-ff58-4e5a-b438-6c619d9e6328",
   "metadata": {},
   "outputs": [],
   "source": [
    "import pandas"
   ]
  },
  {
   "cell_type": "code",
   "execution_count": 3,
   "id": "6b6c23d9-55f1-4d74-9731-d128f9ec9ccc",
   "metadata": {},
   "outputs": [],
   "source": [
    "import iris"
   ]
  },
  {
   "cell_type": "code",
   "execution_count": 4,
   "id": "e9ba6fa1-03c3-411c-9655-dd1298798a93",
   "metadata": {},
   "outputs": [],
   "source": [
    "import xarray"
   ]
  },
  {
   "cell_type": "code",
   "execution_count": 6,
   "id": "1b3ed34b-8485-4fba-b10c-ef495e00c446",
   "metadata": {},
   "outputs": [],
   "source": [
    "import matplotlib\n",
    "import matplotlib.pyplot as plt"
   ]
  },
  {
   "cell_type": "code",
   "execution_count": 9,
   "id": "2abb8232-09ed-43b9-8a07-ad019065c3d9",
   "metadata": {},
   "outputs": [
    {
     "data": {
      "text/plain": [
       "PosixPath('/Users/stephen.haddad/data')"
      ]
     },
     "execution_count": 9,
     "metadata": {},
     "output_type": "execute_result"
    }
   ],
   "source": [
    "sample_data_root = pathlib.Path(os.environ['HOME']) / 'data'\n",
    "sample_data_root"
   ]
  },
  {
   "cell_type": "code",
   "execution_count": 18,
   "id": "c56ead22-216e-40ff-9fd2-3f4c07baf7a3",
   "metadata": {},
   "outputs": [
    {
     "name": "stdout",
     "output_type": "stream",
     "text": [
      "True\n"
     ]
    }
   ],
   "source": [
    "ukv_root_dir  = sample_data_root / 'intro_python_ds' / 'ukv'\n",
    "print(ukv_root_dir.is_dir())"
   ]
  },
  {
   "cell_type": "code",
   "execution_count": 29,
   "id": "140a963f-3dc9-4699-a7eb-bf30022bf66d",
   "metadata": {},
   "outputs": [
    {
     "data": {
      "text/plain": [
       "['t1o5m_min',\n",
       " 'pmsl_mean',\n",
       " 'windspeed_mean',\n",
       " 't1o5m_mean',\n",
       " 't1o5m_max',\n",
       " 'windgust_max',\n",
       " 'rain_mean']"
      ]
     },
     "execution_count": 29,
     "metadata": {},
     "output_type": "execute_result"
    }
   ],
   "source": [
    "ukv_var_list = {p1.stem: p1 for p1 in ukv_root_dir.glob('*')}\n",
    "list(ukv_var_list.keys())"
   ]
  },
  {
   "cell_type": "code",
   "execution_count": 28,
   "id": "43095333-faca-4b61-8787-12578683d445",
   "metadata": {},
   "outputs": [
    {
     "data": {
      "text/plain": [
       "'t1o5m_max'"
      ]
     },
     "execution_count": 28,
     "metadata": {},
     "output_type": "execute_result"
    }
   ],
   "source": [
    "current_var = 't1o5m_max'\n",
    "current_var"
   ]
  },
  {
   "cell_type": "code",
   "execution_count": 52,
   "id": "4ac10dbf-5969-40ee-8151-857dad8c16bc",
   "metadata": {},
   "outputs": [],
   "source": [
    "ukv_temp_max = iris.load_cube([str(p1) for p1 in ukv_var_list[current_var].iterdir()])"
   ]
  },
  {
   "cell_type": "code",
   "execution_count": 70,
   "id": "95a30ffd-db43-4f3e-817d-28a9dc81c7c3",
   "metadata": {},
   "outputs": [],
   "source": [
    "ukcp_root_dir = sample_data_root / 'ukcp_rcp85'"
   ]
  },
  {
   "cell_type": "code",
   "execution_count": 73,
   "id": "0525415b-28e5-449b-9723-9f10d1b5cb8e",
   "metadata": {},
   "outputs": [
    {
     "data": {
      "text/plain": [
       "[PosixPath('/Users/stephen.haddad/data/ukcp_rcp85/sfcWind/sfcWind_rcp85_land-cpm_uk_2.2km_01_day_20651201-20661130.nc'),\n",
       " PosixPath('/Users/stephen.haddad/data/ukcp_rcp85/psl/psl_rcp85_land-cpm_uk_2.2km_01_day_20651201-20661130.nc'),\n",
       " PosixPath('/Users/stephen.haddad/data/ukcp_rcp85/pr/pr_rcp85_land-cpm_uk_2.2km_01_day_20651201-20661130.nc'),\n",
       " PosixPath('/Users/stephen.haddad/data/ukcp_rcp85/tasmax/tasmax_rcp85_land-cpm_uk_2.2km_01_day_20651201-20661130.nc'),\n",
       " PosixPath('/Users/stephen.haddad/data/ukcp_rcp85/tasmin/tasmin_rcp85_land-cpm_uk_2.2km_01_day_20651201-20661130.nc')]"
      ]
     },
     "execution_count": 73,
     "metadata": {},
     "output_type": "execute_result"
    }
   ],
   "source": [
    "list(ukcp_root_dir.rglob('*nc'))"
   ]
  },
  {
   "cell_type": "code",
   "execution_count": 75,
   "id": "38855667-c614-46d8-8be8-37e4a3e164a9",
   "metadata": {},
   "outputs": [
    {
     "data": {
      "text/html": [
       "\n",
       "<style>\n",
       "  a.iris {\n",
       "      text-decoration: none !important;\n",
       "  }\n",
       "  table.iris {\n",
       "      white-space: pre;\n",
       "      border: 1px solid;\n",
       "      border-color: #9c9c9c;\n",
       "      font-family: monaco, monospace;\n",
       "  }\n",
       "  th.iris {\n",
       "      background: #303f3f;\n",
       "      color: #e0e0e0;\n",
       "      border-left: 1px solid;\n",
       "      border-color: #9c9c9c;\n",
       "      font-size: 1.05em;\n",
       "      min-width: 50px;\n",
       "      max-width: 125px;\n",
       "  }\n",
       "  tr.iris :first-child {\n",
       "      border-right: 1px solid #9c9c9c !important;\n",
       "  }\n",
       "  td.iris-title {\n",
       "      background: #d5dcdf;\n",
       "      border-top: 1px solid #9c9c9c;\n",
       "      font-weight: bold;\n",
       "  }\n",
       "  .iris-word-cell {\n",
       "      text-align: left !important;\n",
       "      white-space: pre;\n",
       "  }\n",
       "  .iris-subheading-cell {\n",
       "      padding-left: 2em !important;\n",
       "  }\n",
       "  .iris-inclusion-cell {\n",
       "      padding-right: 1em !important;\n",
       "  }\n",
       "  .iris-panel-body {\n",
       "      padding-top: 0px;\n",
       "  }\n",
       "  .iris-panel-title {\n",
       "      padding-left: 3em;\n",
       "  }\n",
       "  .iris-panel-title {\n",
       "      margin-top: 7px;\n",
       "  }\n",
       "</style>\n",
       "<table class=\"iris\" id=\"5900264080\">\n",
       "    <tr class=\"iris\">\n",
       "<th class=\"iris iris-word-cell\">Wind Speed (m s-1)</th>\n",
       "<th class=\"iris iris-word-cell\">ensemble_member</th>\n",
       "<th class=\"iris iris-word-cell\">time</th>\n",
       "<th class=\"iris iris-word-cell\">grid_latitude</th>\n",
       "<th class=\"iris iris-word-cell\">grid_longitude</th>\n",
       "</tr>\n",
       "    <tr class=\"iris\">\n",
       "<td class=\"iris-word-cell iris-subheading-cell\">Shape</td>\n",
       "<td class=\"iris iris-inclusion-cell\">1</td>\n",
       "<td class=\"iris iris-inclusion-cell\">360</td>\n",
       "<td class=\"iris iris-inclusion-cell\">607</td>\n",
       "<td class=\"iris iris-inclusion-cell\">484</td>\n",
       "</tr>\n",
       "    <tr class=\"iris\">\n",
       "    <td class=\"iris-title iris-word-cell\">Dimension coordinates</td>\n",
       "    <td class=\"iris-title\"></td>\n",
       "    <td class=\"iris-title\"></td>\n",
       "    <td class=\"iris-title\"></td>\n",
       "    <td class=\"iris-title\"></td>\n",
       "</tr>\n",
       "<tr class=\"iris\">\n",
       "    <td class=\"iris-word-cell iris-subheading-cell\">\tensemble_member</td>\n",
       "    <td class=\"iris-inclusion-cell\">x</td>\n",
       "    <td class=\"iris-inclusion-cell\">-</td>\n",
       "    <td class=\"iris-inclusion-cell\">-</td>\n",
       "    <td class=\"iris-inclusion-cell\">-</td>\n",
       "</tr>\n",
       "<tr class=\"iris\">\n",
       "    <td class=\"iris-word-cell iris-subheading-cell\">\ttime</td>\n",
       "    <td class=\"iris-inclusion-cell\">-</td>\n",
       "    <td class=\"iris-inclusion-cell\">x</td>\n",
       "    <td class=\"iris-inclusion-cell\">-</td>\n",
       "    <td class=\"iris-inclusion-cell\">-</td>\n",
       "</tr>\n",
       "<tr class=\"iris\">\n",
       "    <td class=\"iris-word-cell iris-subheading-cell\">\tgrid_latitude</td>\n",
       "    <td class=\"iris-inclusion-cell\">-</td>\n",
       "    <td class=\"iris-inclusion-cell\">-</td>\n",
       "    <td class=\"iris-inclusion-cell\">x</td>\n",
       "    <td class=\"iris-inclusion-cell\">-</td>\n",
       "</tr>\n",
       "<tr class=\"iris\">\n",
       "    <td class=\"iris-word-cell iris-subheading-cell\">\tgrid_longitude</td>\n",
       "    <td class=\"iris-inclusion-cell\">-</td>\n",
       "    <td class=\"iris-inclusion-cell\">-</td>\n",
       "    <td class=\"iris-inclusion-cell\">-</td>\n",
       "    <td class=\"iris-inclusion-cell\">x</td>\n",
       "</tr>\n",
       "<tr class=\"iris\">\n",
       "    <td class=\"iris-title iris-word-cell\">Auxiliary coordinates</td>\n",
       "    <td class=\"iris-title\"></td>\n",
       "    <td class=\"iris-title\"></td>\n",
       "    <td class=\"iris-title\"></td>\n",
       "    <td class=\"iris-title\"></td>\n",
       "</tr>\n",
       "<tr class=\"iris\">\n",
       "    <td class=\"iris-word-cell iris-subheading-cell\">\tensemble_member_id</td>\n",
       "    <td class=\"iris-inclusion-cell\">x</td>\n",
       "    <td class=\"iris-inclusion-cell\">-</td>\n",
       "    <td class=\"iris-inclusion-cell\">-</td>\n",
       "    <td class=\"iris-inclusion-cell\">-</td>\n",
       "</tr>\n",
       "<tr class=\"iris\">\n",
       "    <td class=\"iris-word-cell iris-subheading-cell\">\tmonth_number</td>\n",
       "    <td class=\"iris-inclusion-cell\">-</td>\n",
       "    <td class=\"iris-inclusion-cell\">x</td>\n",
       "    <td class=\"iris-inclusion-cell\">-</td>\n",
       "    <td class=\"iris-inclusion-cell\">-</td>\n",
       "</tr>\n",
       "<tr class=\"iris\">\n",
       "    <td class=\"iris-word-cell iris-subheading-cell\">\tyear</td>\n",
       "    <td class=\"iris-inclusion-cell\">-</td>\n",
       "    <td class=\"iris-inclusion-cell\">x</td>\n",
       "    <td class=\"iris-inclusion-cell\">-</td>\n",
       "    <td class=\"iris-inclusion-cell\">-</td>\n",
       "</tr>\n",
       "<tr class=\"iris\">\n",
       "    <td class=\"iris-word-cell iris-subheading-cell\">\tyyyymmdd</td>\n",
       "    <td class=\"iris-inclusion-cell\">-</td>\n",
       "    <td class=\"iris-inclusion-cell\">x</td>\n",
       "    <td class=\"iris-inclusion-cell\">-</td>\n",
       "    <td class=\"iris-inclusion-cell\">-</td>\n",
       "</tr>\n",
       "<tr class=\"iris\">\n",
       "    <td class=\"iris-word-cell iris-subheading-cell\">\tlatitude</td>\n",
       "    <td class=\"iris-inclusion-cell\">-</td>\n",
       "    <td class=\"iris-inclusion-cell\">-</td>\n",
       "    <td class=\"iris-inclusion-cell\">x</td>\n",
       "    <td class=\"iris-inclusion-cell\">x</td>\n",
       "</tr>\n",
       "<tr class=\"iris\">\n",
       "    <td class=\"iris-word-cell iris-subheading-cell\">\tlongitude</td>\n",
       "    <td class=\"iris-inclusion-cell\">-</td>\n",
       "    <td class=\"iris-inclusion-cell\">-</td>\n",
       "    <td class=\"iris-inclusion-cell\">x</td>\n",
       "    <td class=\"iris-inclusion-cell\">x</td>\n",
       "</tr>\n",
       "<tr class=\"iris\">\n",
       "    <td class=\"iris-title iris-word-cell\">Cell methods</td>\n",
       "    <td class=\"iris-title\"></td>\n",
       "    <td class=\"iris-title\"></td>\n",
       "    <td class=\"iris-title\"></td>\n",
       "    <td class=\"iris-title\"></td>\n",
       "</tr>\n",
       "<tr class=\"iris\">\n",
       "    <td class=\"iris-word-cell iris-subheading-cell\">\tmean</td>\n",
       "    <td class=\"iris-word-cell\" colspan=\"4\">time</td>\n",
       "</tr>\n",
       "<tr class=\"iris\">\n",
       "    <td class=\"iris-title iris-word-cell\">Attributes</td>\n",
       "    <td class=\"iris-title\"></td>\n",
       "    <td class=\"iris-title\"></td>\n",
       "    <td class=\"iris-title\"></td>\n",
       "    <td class=\"iris-title\"></td>\n",
       "</tr>\n",
       "<tr class=\"iris\">\n",
       "    <td class=\"iris-word-cell iris-subheading-cell\">\tConventions</td>\n",
       "    <td class=\"iris-word-cell\" colspan=\"4\">&#x27;CF-1.5&#x27;</td>\n",
       "</tr>\n",
       "<tr class=\"iris\">\n",
       "    <td class=\"iris-word-cell iris-subheading-cell\">\tcollection</td>\n",
       "    <td class=\"iris-word-cell\" colspan=\"4\">&#x27;land-cpm&#x27;</td>\n",
       "</tr>\n",
       "<tr class=\"iris\">\n",
       "    <td class=\"iris-word-cell iris-subheading-cell\">\tcontact</td>\n",
       "    <td class=\"iris-word-cell\" colspan=\"4\">&#x27;ukcpproject@metoffice.gov.uk&#x27;</td>\n",
       "</tr>\n",
       "<tr class=\"iris\">\n",
       "    <td class=\"iris-word-cell iris-subheading-cell\">\tcreation_date</td>\n",
       "    <td class=\"iris-word-cell\" colspan=\"4\">&#x27;2019-07-30T08:18:16&#x27;</td>\n",
       "</tr>\n",
       "<tr class=\"iris\">\n",
       "    <td class=\"iris-word-cell iris-subheading-cell\">\tdescription</td>\n",
       "    <td class=\"iris-word-cell\" colspan=\"4\">&#x27;Wind speed&#x27;</td>\n",
       "</tr>\n",
       "<tr class=\"iris\">\n",
       "    <td class=\"iris-word-cell iris-subheading-cell\">\tdomain</td>\n",
       "    <td class=\"iris-word-cell\" colspan=\"4\">&#x27;uk&#x27;</td>\n",
       "</tr>\n",
       "<tr class=\"iris\">\n",
       "    <td class=\"iris-word-cell iris-subheading-cell\">\tfrequency</td>\n",
       "    <td class=\"iris-word-cell\" colspan=\"4\">&#x27;day&#x27;</td>\n",
       "</tr>\n",
       "<tr class=\"iris\">\n",
       "    <td class=\"iris-word-cell iris-subheading-cell\">\tinstitution</td>\n",
       "    <td class=\"iris-word-cell\" colspan=\"4\">&#x27;Met Office Hadley Centre (MOHC), FitzRoy Road, Exeter, Devon, EX1 3PB, ...&#x27;</td>\n",
       "</tr>\n",
       "<tr class=\"iris\">\n",
       "    <td class=\"iris-word-cell iris-subheading-cell\">\tinstitution_id</td>\n",
       "    <td class=\"iris-word-cell\" colspan=\"4\">&#x27;MOHC&#x27;</td>\n",
       "</tr>\n",
       "<tr class=\"iris\">\n",
       "    <td class=\"iris-word-cell iris-subheading-cell\">\tlabel_units</td>\n",
       "    <td class=\"iris-word-cell\" colspan=\"4\">&#x27;m s-1&#x27;</td>\n",
       "</tr>\n",
       "<tr class=\"iris\">\n",
       "    <td class=\"iris-word-cell iris-subheading-cell\">\tplot_label</td>\n",
       "    <td class=\"iris-word-cell\" colspan=\"4\">&#x27;Wind speed at 10m (m s-1)&#x27;</td>\n",
       "</tr>\n",
       "<tr class=\"iris\">\n",
       "    <td class=\"iris-word-cell iris-subheading-cell\">\tproject</td>\n",
       "    <td class=\"iris-word-cell\" colspan=\"4\">&#x27;UKCP18&#x27;</td>\n",
       "</tr>\n",
       "<tr class=\"iris\">\n",
       "    <td class=\"iris-word-cell iris-subheading-cell\">\treferences</td>\n",
       "    <td class=\"iris-word-cell\" colspan=\"4\">&#x27;https://ukclimateprojections.metoffice.gov.uk&#x27;</td>\n",
       "</tr>\n",
       "<tr class=\"iris\">\n",
       "    <td class=\"iris-word-cell iris-subheading-cell\">\tresolution</td>\n",
       "    <td class=\"iris-word-cell\" colspan=\"4\">&#x27;2.2km&#x27;</td>\n",
       "</tr>\n",
       "<tr class=\"iris\">\n",
       "    <td class=\"iris-word-cell iris-subheading-cell\">\tscenario</td>\n",
       "    <td class=\"iris-word-cell\" colspan=\"4\">&#x27;rcp85&#x27;</td>\n",
       "</tr>\n",
       "<tr class=\"iris\">\n",
       "    <td class=\"iris-word-cell iris-subheading-cell\">\tsource</td>\n",
       "    <td class=\"iris-word-cell\" colspan=\"4\">&#x27;UKCP18 realisation from a set of 12 convection-permitting models (HadREM3-RA11M) ...&#x27;</td>\n",
       "</tr>\n",
       "<tr class=\"iris\">\n",
       "    <td class=\"iris-word-cell iris-subheading-cell\">\ttitle</td>\n",
       "    <td class=\"iris-word-cell\" colspan=\"4\">&#x27;UKCP18 land projections - 2.2km convection-permitting climate model, Wind ...&#x27;</td>\n",
       "</tr>\n",
       "<tr class=\"iris\">\n",
       "    <td class=\"iris-word-cell iris-subheading-cell\">\tversion</td>\n",
       "    <td class=\"iris-word-cell\" colspan=\"4\">&#x27;v20190731&#x27;</td>\n",
       "</tr>\n",
       "</table>\n",
       "        "
      ],
      "text/plain": [
       "<iris 'Cube' of wind_speed / (m s-1) (ensemble_member: 1; time: 360; grid_latitude: 607; grid_longitude: 484)>"
      ]
     },
     "execution_count": 75,
     "metadata": {},
     "output_type": "execute_result"
    }
   ],
   "source": [
    "iris.load_cube(str(list(ukcp_root_dir.rglob('*nc'))[0]))"
   ]
  },
  {
   "cell_type": "markdown",
   "id": "a040aca2-a536-4d63-a1cf-6cfc7be2593b",
   "metadata": {},
   "source": [
    "### Multi-dimensional array in Numpy"
   ]
  },
  {
   "cell_type": "code",
   "execution_count": 43,
   "id": "5a291528-d865-4a27-b36c-6eaa5ee18c97",
   "metadata": {},
   "outputs": [
    {
     "data": {
      "text/plain": [
       "masked_array(\n",
       "  data=[[[289.25   , 289.25   , 289.25   , ..., 289.28125, 289.28125,\n",
       "          289.23438],\n",
       "         [289.25   , 289.25   , 289.23438, ..., 289.26562, 289.03125,\n",
       "          289.0625 ],\n",
       "         [289.23438, 289.23438, 289.23438, ..., 288.95312, 288.79688,\n",
       "          288.85938],\n",
       "         ...,\n",
       "         [282.70312, 282.70312, 282.70312, ..., 282.51562, 282.48438,\n",
       "          282.48438],\n",
       "         [282.71875, 282.71875, 282.71875, ..., 282.5    , 282.5    ,\n",
       "          282.46875],\n",
       "         [282.73438, 282.73438, 282.73438, ..., 282.5    , 282.46875,\n",
       "          282.40625]],\n",
       "\n",
       "        [[287.39062, 287.40625, 287.42188, ..., 289.     , 288.98438,\n",
       "          288.9375 ],\n",
       "         [287.4375 , 287.4375 , 287.40625, ..., 288.98438, 288.67188,\n",
       "          288.73438],\n",
       "         [287.4375 , 287.42188, 287.39062, ..., 288.57812, 288.26562,\n",
       "          288.42188],\n",
       "         ...,\n",
       "         [283.28125, 283.29688, 283.29688, ..., 283.14062, 283.14062,\n",
       "          283.125  ],\n",
       "         [283.26562, 283.28125, 283.28125, ..., 283.17188, 283.15625,\n",
       "          283.15625],\n",
       "         [283.25   , 283.25   , 283.25   , ..., 283.17188, 283.17188,\n",
       "          283.17188]],\n",
       "\n",
       "        [[288.5    , 288.5    , 288.5    , ..., 285.59375, 285.5625 ,\n",
       "          285.51562],\n",
       "         [288.48438, 288.48438, 288.5    , ..., 285.5    , 285.10938,\n",
       "          285.17188],\n",
       "         [288.46875, 288.46875, 288.46875, ..., 285.     , 284.79688,\n",
       "          284.8125 ],\n",
       "         ...,\n",
       "         [283.03125, 283.04688, 283.0625 , ..., 282.59375, 282.625  ,\n",
       "          282.71875],\n",
       "         [283.01562, 283.03125, 283.03125, ..., 282.6875 , 282.73438,\n",
       "          282.82812],\n",
       "         [283.01562, 283.01562, 283.01562, ..., 282.78125, 282.82812,\n",
       "          282.84375]],\n",
       "\n",
       "        ...,\n",
       "\n",
       "        [[285.8125 , 285.8125 , 285.79688, ..., 285.     , 284.96875,\n",
       "          284.89062],\n",
       "         [285.8125 , 285.8125 , 285.79688, ..., 284.9375 , 284.5625 ,\n",
       "          284.625  ],\n",
       "         [285.79688, 285.79688, 285.79688, ..., 284.46875, 284.23438,\n",
       "          284.21875],\n",
       "         ...,\n",
       "         [280.20312, 280.26562, 280.32812, ..., 281.53125, 281.53125,\n",
       "          281.54688],\n",
       "         [280.21875, 280.25   , 280.28125, ..., 281.48438, 281.5    ,\n",
       "          281.51562],\n",
       "         [280.34375, 280.25   , 280.26562, ..., 281.45312, 281.45312,\n",
       "          281.46875]],\n",
       "\n",
       "        [[285.96875, 285.9375 , 285.92188, ..., 283.28125, 283.26562,\n",
       "          283.21875],\n",
       "         [285.95312, 285.9375 , 285.90625, ..., 283.14062, 282.78125,\n",
       "          282.875  ],\n",
       "         [285.95312, 285.92188, 285.89062, ..., 282.67188, 282.4375 ,\n",
       "          282.46875],\n",
       "         ...,\n",
       "         [280.73438, 280.64062, 280.625  , ..., 279.75   , 279.73438,\n",
       "          279.71875],\n",
       "         [280.84375, 280.76562, 280.73438, ..., 279.75   , 279.875  ,\n",
       "          279.73438],\n",
       "         [280.82812, 280.76562, 280.71875, ..., 279.85938, 280.03125,\n",
       "          279.90625]],\n",
       "\n",
       "        [[286.09375, 286.09375, 286.09375, ..., 280.48438, 280.34375,\n",
       "          280.125  ],\n",
       "         [286.125  , 286.125  , 286.125  , ..., 280.04688, 279.67188,\n",
       "          279.76562],\n",
       "         [286.14062, 286.14062, 286.125  , ..., 279.40625, 279.125  ,\n",
       "          279.17188],\n",
       "         ...,\n",
       "         [281.28125, 281.3125 , 281.3125 , ..., 279.39062, 279.375  ,\n",
       "          279.3125 ],\n",
       "         [281.29688, 281.29688, 281.3125 , ..., 279.35938, 279.34375,\n",
       "          279.375  ],\n",
       "         [281.34375, 281.32812, 281.3125 , ..., 279.35938, 279.35938,\n",
       "          279.29688]]],\n",
       "  mask=False,\n",
       "  fill_value=1e+20,\n",
       "  dtype=float32)"
      ]
     },
     "execution_count": 43,
     "metadata": {},
     "output_type": "execute_result"
    }
   ],
   "source": [
    "ukv_temp_max_array = ukv_temp_max.data\n",
    "ukv_temp_max_array"
   ]
  },
  {
   "cell_type": "code",
   "execution_count": 46,
   "id": "b346fb73-ba12-4c9c-b389-7241efab8c86",
   "metadata": {},
   "outputs": [
    {
     "data": {
      "text/plain": [
       "(30, 808, 621)"
      ]
     },
     "execution_count": 46,
     "metadata": {},
     "output_type": "execute_result"
    }
   ],
   "source": [
    "ukv_temp_max_array.shape"
   ]
  },
  {
   "cell_type": "code",
   "execution_count": 47,
   "id": "983573f5-2e35-45ad-829b-c94a779a86af",
   "metadata": {},
   "outputs": [
    {
     "data": {
      "text/plain": [
       "masked_array(\n",
       "  data=[[289.25   , 289.25   , 289.25   , ..., 289.28125, 289.28125,\n",
       "         289.23438],\n",
       "        [289.25   , 289.25   , 289.23438, ..., 289.26562, 289.03125,\n",
       "         289.0625 ],\n",
       "        [289.23438, 289.23438, 289.23438, ..., 288.95312, 288.79688,\n",
       "         288.85938],\n",
       "        ...,\n",
       "        [282.70312, 282.70312, 282.70312, ..., 282.51562, 282.48438,\n",
       "         282.48438],\n",
       "        [282.71875, 282.71875, 282.71875, ..., 282.5    , 282.5    ,\n",
       "         282.46875],\n",
       "        [282.73438, 282.73438, 282.73438, ..., 282.5    , 282.46875,\n",
       "         282.40625]],\n",
       "  mask=False,\n",
       "  fill_value=1e+20,\n",
       "  dtype=float32)"
      ]
     },
     "execution_count": 47,
     "metadata": {},
     "output_type": "execute_result"
    }
   ],
   "source": [
    "ukv_temp_max_array[0,:,:]"
   ]
  },
  {
   "cell_type": "code",
   "execution_count": 48,
   "id": "1e096f10-2801-4999-b352-b73a4de2864d",
   "metadata": {},
   "outputs": [
    {
     "data": {
      "text/plain": [
       "(276.45312, 290.98438)"
      ]
     },
     "execution_count": 48,
     "metadata": {},
     "output_type": "execute_result"
    }
   ],
   "source": [
    "ukv_temp_max_array[0,:,:].min(), ukv_temp_max_array[0,:,:].max()"
   ]
  },
  {
   "cell_type": "code",
   "execution_count": 50,
   "id": "13aaaca8-be17-41eb-8400-036fcd4e1d28",
   "metadata": {},
   "outputs": [
    {
     "data": {
      "text/plain": [
       "<matplotlib.contour.QuadContourSet at 0x15fa4a920>"
      ]
     },
     "execution_count": 50,
     "metadata": {},
     "output_type": "execute_result"
    },
    {
     "data": {
      "image/png": "[encoded data removed]",
      "text/plain": [
       "<Figure size 640x480 with 1 Axes>"
      ]
     },
     "metadata": {},
     "output_type": "display_data"
    }
   ],
   "source": [
    "fig1 = matplotlib.pyplot.figure()\n",
    "ax1 = fig1.add_subplot(1,1,1)\n",
    "ax1.contourf(ukv_temp_max_array[0,:,:])"
   ]
  },
  {
   "cell_type": "markdown",
   "id": "19aa5ccc-ebc9-48be-80ee-a322232070aa",
   "metadata": {
    "tags": []
   },
   "source": [
    "### Iris and Data Cubes\n",
    "Metadata so data has physical meaning\n"
   ]
  },
  {
   "cell_type": "code",
   "execution_count": 51,
   "id": "8e944d54-cdba-4349-96b1-3fc97b045907",
   "metadata": {},
   "outputs": [
    {
     "data": {
      "text/html": [
       "\n",
       "<style>\n",
       "  a.iris {\n",
       "      text-decoration: none !important;\n",
       "  }\n",
       "  table.iris {\n",
       "      white-space: pre;\n",
       "      border: 1px solid;\n",
       "      border-color: #9c9c9c;\n",
       "      font-family: monaco, monospace;\n",
       "  }\n",
       "  th.iris {\n",
       "      background: #303f3f;\n",
       "      color: #e0e0e0;\n",
       "      border-left: 1px solid;\n",
       "      border-color: #9c9c9c;\n",
       "      font-size: 1.05em;\n",
       "      min-width: 50px;\n",
       "      max-width: 125px;\n",
       "  }\n",
       "  tr.iris :first-child {\n",
       "      border-right: 1px solid #9c9c9c !important;\n",
       "  }\n",
       "  td.iris-title {\n",
       "      background: #d5dcdf;\n",
       "      border-top: 1px solid #9c9c9c;\n",
       "      font-weight: bold;\n",
       "  }\n",
       "  .iris-word-cell {\n",
       "      text-align: left !important;\n",
       "      white-space: pre;\n",
       "  }\n",
       "  .iris-subheading-cell {\n",
       "      padding-left: 2em !important;\n",
       "  }\n",
       "  .iris-inclusion-cell {\n",
       "      padding-right: 1em !important;\n",
       "  }\n",
       "  .iris-panel-body {\n",
       "      padding-top: 0px;\n",
       "  }\n",
       "  .iris-panel-title {\n",
       "      padding-left: 3em;\n",
       "  }\n",
       "  .iris-panel-title {\n",
       "      margin-top: 7px;\n",
       "  }\n",
       "</style>\n",
       "<table class=\"iris\" id=\"5896304096\">\n",
       "    <tr class=\"iris\">\n",
       "<th class=\"iris iris-word-cell\">Air Temperature (K)</th>\n",
       "<th class=\"iris iris-word-cell\">time</th>\n",
       "<th class=\"iris iris-word-cell\">grid_latitude</th>\n",
       "<th class=\"iris iris-word-cell\">grid_longitude</th>\n",
       "</tr>\n",
       "    <tr class=\"iris\">\n",
       "<td class=\"iris-word-cell iris-subheading-cell\">Shape</td>\n",
       "<td class=\"iris iris-inclusion-cell\">30</td>\n",
       "<td class=\"iris iris-inclusion-cell\">808</td>\n",
       "<td class=\"iris iris-inclusion-cell\">621</td>\n",
       "</tr>\n",
       "    <tr class=\"iris\">\n",
       "    <td class=\"iris-title iris-word-cell\">Dimension coordinates</td>\n",
       "    <td class=\"iris-title\"></td>\n",
       "    <td class=\"iris-title\"></td>\n",
       "    <td class=\"iris-title\"></td>\n",
       "</tr>\n",
       "<tr class=\"iris\">\n",
       "    <td class=\"iris-word-cell iris-subheading-cell\">\ttime</td>\n",
       "    <td class=\"iris-inclusion-cell\">x</td>\n",
       "    <td class=\"iris-inclusion-cell\">-</td>\n",
       "    <td class=\"iris-inclusion-cell\">-</td>\n",
       "</tr>\n",
       "<tr class=\"iris\">\n",
       "    <td class=\"iris-word-cell iris-subheading-cell\">\tgrid_latitude</td>\n",
       "    <td class=\"iris-inclusion-cell\">-</td>\n",
       "    <td class=\"iris-inclusion-cell\">x</td>\n",
       "    <td class=\"iris-inclusion-cell\">-</td>\n",
       "</tr>\n",
       "<tr class=\"iris\">\n",
       "    <td class=\"iris-word-cell iris-subheading-cell\">\tgrid_longitude</td>\n",
       "    <td class=\"iris-inclusion-cell\">-</td>\n",
       "    <td class=\"iris-inclusion-cell\">-</td>\n",
       "    <td class=\"iris-inclusion-cell\">x</td>\n",
       "</tr>\n",
       "<tr class=\"iris\">\n",
       "    <td class=\"iris-title iris-word-cell\">Auxiliary coordinates</td>\n",
       "    <td class=\"iris-title\"></td>\n",
       "    <td class=\"iris-title\"></td>\n",
       "    <td class=\"iris-title\"></td>\n",
       "</tr>\n",
       "<tr class=\"iris\">\n",
       "    <td class=\"iris-word-cell iris-subheading-cell\">\tforecast_reference_time</td>\n",
       "    <td class=\"iris-inclusion-cell\">x</td>\n",
       "    <td class=\"iris-inclusion-cell\">-</td>\n",
       "    <td class=\"iris-inclusion-cell\">-</td>\n",
       "</tr>\n",
       "<tr class=\"iris\">\n",
       "    <td class=\"iris-title iris-word-cell\">Scalar coordinates</td>\n",
       "    <td class=\"iris-title\"></td>\n",
       "    <td class=\"iris-title\"></td>\n",
       "    <td class=\"iris-title\"></td>\n",
       "</tr>\n",
       "<tr class=\"iris\">\n",
       "    <td class=\"iris-word-cell iris-subheading-cell\">\tforecast_period</td>\n",
       "    <td class=\"iris-word-cell\" colspan=\"3\">2.5 hours, bound=(0.0, 5.0) hours</td>\n",
       "</tr>\n",
       "<tr class=\"iris\">\n",
       "    <td class=\"iris-word-cell iris-subheading-cell\">\theight</td>\n",
       "    <td class=\"iris-word-cell\" colspan=\"3\">1.5 m</td>\n",
       "</tr>\n",
       "<tr class=\"iris\">\n",
       "    <td class=\"iris-title iris-word-cell\">Cell methods</td>\n",
       "    <td class=\"iris-title\"></td>\n",
       "    <td class=\"iris-title\"></td>\n",
       "    <td class=\"iris-title\"></td>\n",
       "</tr>\n",
       "<tr class=\"iris\">\n",
       "    <td class=\"iris-word-cell iris-subheading-cell\">\tmaximum</td>\n",
       "    <td class=\"iris-word-cell\" colspan=\"3\">time</td>\n",
       "</tr>\n",
       "<tr class=\"iris\">\n",
       "    <td class=\"iris-title iris-word-cell\">Attributes</td>\n",
       "    <td class=\"iris-title\"></td>\n",
       "    <td class=\"iris-title\"></td>\n",
       "    <td class=\"iris-title\"></td>\n",
       "</tr>\n",
       "<tr class=\"iris\">\n",
       "    <td class=\"iris-word-cell iris-subheading-cell\">\tConventions</td>\n",
       "    <td class=\"iris-word-cell\" colspan=\"3\">&#x27;CF-1.5&#x27;</td>\n",
       "</tr>\n",
       "<tr class=\"iris\">\n",
       "    <td class=\"iris-word-cell iris-subheading-cell\">\tSTASH</td>\n",
       "    <td class=\"iris-word-cell\" colspan=\"3\">m01s03i236</td>\n",
       "</tr>\n",
       "<tr class=\"iris\">\n",
       "    <td class=\"iris-word-cell iris-subheading-cell\">\tsource</td>\n",
       "    <td class=\"iris-word-cell\" colspan=\"3\">&#x27;Data from Met Office Unified Model&#x27;</td>\n",
       "</tr>\n",
       "<tr class=\"iris\">\n",
       "    <td class=\"iris-word-cell iris-subheading-cell\">\tum_version</td>\n",
       "    <td class=\"iris-word-cell\" colspan=\"3\">&#x27;11.1&#x27;</td>\n",
       "</tr>\n",
       "</table>\n",
       "        "
      ],
      "text/plain": [
       "<iris 'Cube' of air_temperature / (K) (time: 30; grid_latitude: 808; grid_longitude: 621)>"
      ]
     },
     "execution_count": 51,
     "metadata": {},
     "output_type": "execute_result"
    }
   ],
   "source": [
    "ukv_temp_max"
   ]
  },
  {
   "cell_type": "markdown",
   "id": "a5b29663-b0d0-4120-a922-9ba64192f9a3",
   "metadata": {},
   "source": [
    "### Exploring Data Characteristics"
   ]
  },
  {
   "cell_type": "code",
   "execution_count": 53,
   "id": "9006019b-ca3a-470f-b969-d54383fea4a0",
   "metadata": {},
   "outputs": [
    {
     "data": {
      "text/plain": [
       "[<DimCoord: time / (hours since 1970-01-01 00:00:00)  [...]+bounds  shape(30,)>,\n",
       " <DimCoord: grid_latitude / (degrees)  [-3.757, -3.744, ..., 7.124, 7.137]  shape(808,)>,\n",
       " <DimCoord: grid_longitude / (degrees)  [354.942, ...]  shape(621,)>,\n",
       " <DimCoord: forecast_period / (hours)  [2.5]+bounds>,\n",
       " <DimCoord: height / (m)  [1.5]>,\n",
       " <DimCoord: forecast_reference_time / (hours since 1970-01-01 00:00:00)  [...]+bounds  shape(30,)>]"
      ]
     },
     "execution_count": 53,
     "metadata": {},
     "output_type": "execute_result"
    }
   ],
   "source": [
    "ukv_temp_max.coords()"
   ]
  },
  {
   "cell_type": "code",
   "execution_count": 55,
   "id": "2a68f034-ca00-43b2-a324-359ee54e5a1d",
   "metadata": {},
   "outputs": [
    {
     "data": {
      "text/plain": [
       "['time',\n",
       " 'grid_latitude',\n",
       " 'grid_longitude',\n",
       " 'forecast_period',\n",
       " 'height',\n",
       " 'forecast_reference_time']"
      ]
     },
     "execution_count": 55,
     "metadata": {},
     "output_type": "execute_result"
    }
   ],
   "source": [
    "[c1.name() for c1 in ukv_temp_max.coords()]"
   ]
  },
  {
   "cell_type": "code",
   "execution_count": 57,
   "id": "bc0d4997-1f21-46cf-b1b2-b0253623caef",
   "metadata": {},
   "outputs": [
    {
     "data": {
      "text/plain": [
       "[(436835.5, 437531.5),\n",
       " (-3.7572, 7.1373005),\n",
       " (354.9424743652344, 363.3124745823443),\n",
       " (2.5, 2.5),\n",
       " (1.5, 1.5),\n",
       " (436833.0, 437529.0)]"
      ]
     },
     "execution_count": 57,
     "metadata": {},
     "output_type": "execute_result"
    }
   ],
   "source": [
    "[(c1.points.min(),c1.points.max()) for c1 in ukv_temp_max.coords()]"
   ]
  },
  {
   "cell_type": "code",
   "execution_count": 67,
   "id": "1ebf0a24-a0ac-42d1-9bdc-93dc0a398065",
   "metadata": {},
   "outputs": [
    {
     "data": {
      "text/plain": [
       "(cftime.DatetimeGregorian(2019, 11, 1, 11, 30, 0, 0, has_year_zero=False),\n",
       " cftime.DatetimeGregorian(2019, 11, 30, 11, 30, 0, 0, has_year_zero=False))"
      ]
     },
     "execution_count": 67,
     "metadata": {},
     "output_type": "execute_result"
    }
   ],
   "source": [
    "(list(ukv_temp_max.coord('time').cells())[0].point, list(ukv_temp_max.coord('time').cells())[-1].point)"
   ]
  },
  {
   "cell_type": "markdown",
   "id": "330953d8-39f8-4d69-a124-8605b7be96bb",
   "metadata": {},
   "source": [
    "### Gridded data - Dealing with projections\n"
   ]
  },
  {
   "cell_type": "code",
   "execution_count": null,
   "id": "d65105ae-dc7a-4782-9112-115b5351adf3",
   "metadata": {},
   "outputs": [],
   "source": []
  },
  {
   "cell_type": "markdown",
   "id": "263510fe-ca12-4e19-842c-2dfc7bd01a69",
   "metadata": {},
   "source": [
    "### Extracting subsets"
   ]
  },
  {
   "cell_type": "code",
   "execution_count": 69,
   "id": "dbdcb637-fe8e-4985-abcc-772e77c4d63e",
   "metadata": {},
   "outputs": [],
   "source": [
    "devon_coords = {\n",
    "    'latitude': (50.2, 51.3),\n",
    "    'longitude': (-4.6,-2.8),\n",
    "}"
   ]
  },
  {
   "cell_type": "code",
   "execution_count": null,
   "id": "e61a4c16-2470-4907-bebe-bdadd7b32c01",
   "metadata": {},
   "outputs": [],
   "source": [
    "devon_temp_max = iris.extract(iris.Constraint(\n",
    "    latitude=lambda cell: devon_coords['latitude'][0] < cell.point <\n",
    "))"
   ]
  },
  {
   "cell_type": "code",
   "execution_count": null,
   "id": "3667ffcb-73e7-476e-93ba-09b5a23e11d0",
   "metadata": {},
   "outputs": [],
   "source": [
    "# subset by location\n",
    "# subset by times\n"
   ]
  },
  {
   "cell_type": "code",
   "execution_count": null,
   "id": "738069db-53b8-492d-9d7d-2bec7243f77b",
   "metadata": {},
   "outputs": [],
   "source": []
  },
  {
   "cell_type": "markdown",
   "id": "1b31d136-b109-49a0-ba8e-070ae689c3f9",
   "metadata": {},
   "source": [
    "### Summary Statistics"
   ]
  },
  {
   "cell_type": "code",
   "execution_count": null,
   "id": "8ef17f6c-50bf-4308-82f7-8352e55a2551",
   "metadata": {},
   "outputs": [],
   "source": [
    "# global stats"
   ]
  },
  {
   "cell_type": "code",
   "execution_count": null,
   "id": "066afc9e-e530-4d16-836e-2c5046d0c106",
   "metadata": {},
   "outputs": [],
   "source": [
    "# aggregate statisistic using auxillary coordinates (group by)"
   ]
  },
  {
   "cell_type": "markdown",
   "id": "b5214a06-2a1e-42e0-901c-0145b28d7345",
   "metadata": {
    "tags": []
   },
   "source": [
    "### Visualising Data"
   ]
  },
  {
   "cell_type": "code",
   "execution_count": 33,
   "id": "2fce8942-3b76-4eb6-a783-23c87efe0d92",
   "metadata": {},
   "outputs": [],
   "source": [
    "# plot map§\n",
    "# talk about projections"
   ]
  },
  {
   "cell_type": "code",
   "execution_count": null,
   "id": "b79f7674-b9d9-4c26-8b05-2e2dab8e86dc",
   "metadata": {},
   "outputs": [],
   "source": [
    "# plot time series"
   ]
  },
  {
   "cell_type": "code",
   "execution_count": null,
   "id": "fe2060c8-4b0d-403b-b92b-67e11210310b",
   "metadata": {},
   "outputs": [],
   "source": [
    "# plot histogram"
   ]
  },
  {
   "cell_type": "markdown",
   "id": "62fa64a4-87da-4fc5-91a8-459aa3113bea",
   "metadata": {},
   "source": [
    "## Alternative tools - Xarray"
   ]
  },
  {
   "cell_type": "code",
   "execution_count": null,
   "id": "f5df9804-bf2a-4a94-b5aa-5c5240339917",
   "metadata": {},
   "outputs": [],
   "source": [
    "# load data"
   ]
  },
  {
   "cell_type": "code",
   "execution_count": null,
   "id": "6ee8a9b6-29ac-4a56-bd17-c591868aedaa",
   "metadata": {},
   "outputs": [],
   "source": [
    "# data array and data set"
   ]
  },
  {
   "cell_type": "code",
   "execution_count": 32,
   "id": "8f1b612e-003d-4456-a8ae-35c78069ef8b",
   "metadata": {},
   "outputs": [],
   "source": [
    "# subset"
   ]
  },
  {
   "cell_type": "code",
   "execution_count": null,
   "id": "5911ded0-92c1-449c-992c-1eda3559e3db",
   "metadata": {},
   "outputs": [],
   "source": [
    "# plot map§"
   ]
  },
  {
   "cell_type": "code",
   "execution_count": null,
   "id": "2c5f7a34-29a8-4c39-a28b-5597f531e46e",
   "metadata": {},
   "outputs": [],
   "source": [
    "# plot time series"
   ]
  },
  {
   "cell_type": "code",
   "execution_count": 31,
   "id": "f3eac2ec-5596-412b-9061-8247b9a8ee28",
   "metadata": {},
   "outputs": [],
   "source": [
    "# differences between iris and xarray - cf compliant metadata"
   ]
  },
  {
   "cell_type": "code",
   "execution_count": null,
   "id": "700e2e11-889f-411d-8301-4fff1e5d4041",
   "metadata": {},
   "outputs": [],
   "source": []
  },
  {
   "cell_type": "code",
   "execution_count": null,
   "id": "e52cf544-b6fd-4487-bdde-de596154e8a8",
   "metadata": {},
   "outputs": [],
   "source": []
  },
  {
   "cell_type": "code",
   "execution_count": null,
   "id": "9cad85ea-c4cb-4579-92d2-447998af61f5",
   "metadata": {},
   "outputs": [],
   "source": []
  },
  {
   "cell_type": "code",
   "execution_count": null,
   "id": "ec76d138-363f-4152-a30e-d6281c5e4822",
   "metadata": {},
   "outputs": [],
   "source": []
  },
  {
   "cell_type": "markdown",
   "id": "8b8e8f31-ff16-4b8e-84a0-d6b9cf5473ca",
   "metadata": {},
   "source": [
    "### Exploring Climate Model Data - UK Climate Projections"
   ]
  },
  {
   "cell_type": "code",
   "execution_count": null,
   "id": "4ed3d2b6-4574-4370-8781-870d194176a9",
   "metadata": {},
   "outputs": [],
   "source": []
  },
  {
   "cell_type": "code",
   "execution_count": null,
   "id": "4f9572f2-2b9e-4bf8-a09c-e16c74c59794",
   "metadata": {},
   "outputs": [],
   "source": []
  },
  {
   "cell_type": "markdown",
   "id": "d3eeb275-f6e9-4365-8b92-45645dd1385d",
   "metadata": {},
   "source": [
    "### Examples of use\n",
    "\n",
    "#### Model Data\n",
    "See session 3 notebooks on examples of gridded data, such as:\n",
    "* [Met Office Weather Simulation Data](https://www.metoffice.gov.uk/services/government/defence-and-security/models)\n",
    "* [UK Climate Projections](https://www.metoffice.gov.uk/research/approach/collaboration/ukcp) - Forecasts of UK climate conditions for the 21st century.\n",
    "* [Global Climnate Data from CMIP6](https://www.wcrp-climate.org/wgcm-cmip/wgcm-cmip6)\n",
    "  * [MoreCMIP6 info from Carbon Brief](https://www.carbonbrief.org/cmip6-the-next-generation-of-climate-models-explained/)\n",
    "* [ERA5 Renalsysis Data](https://www.ecmwf.int/en/forecasts/datasets/reanalysis-datasets/era5) - A global dataset of oservations, processed (or *renanalysed*) using a physic-based model to merge the many different observation modes into a single physically realistic dataset.\n",
    "  * [ERA5 data on AWS](https://registry.opendata.aws/ecmwf-era5/)\n",
    "  \n",
    "#### Satelite Data\n",
    "Similar but slightly different is data from satellites or other sorts of images. \n",
    "* [Met Office Info on Satellite Imagery](https://www.metoffice.gov.uk/research/weather/satellite-applications/satellite-imagery)\n",
    "* [EUMetSat Image Viewer](https://view.eumetsat.int/productviewer?v=default)"
   ]
  },
  {
   "cell_type": "markdown",
   "id": "949ec1f7-a481-455e-a782-6caf4141ee78",
   "metadata": {},
   "source": [
    "### Data Statement"
   ]
  },
  {
   "cell_type": "markdown",
   "id": "7708b988-b8f4-4127-8fe1-1fbdc9479f27",
   "metadata": {},
   "source": [
    "### References\n",
    "\n",
    "* [Met Office Data Glossary](https://www.metoffice.gov.uk/services/data/business-data/glossary)"
   ]
  },
  {
   "cell_type": "code",
   "execution_count": null,
   "id": "59eea876-3fa3-4fe7-9c41-3b57816221dc",
   "metadata": {},
   "outputs": [],
   "source": []
  }
 ],
 "metadata": {
  "kernelspec": {
   "display_name": "Python 3 (ipykernel)",
   "language": "python",
   "name": "python3"
  },
  "language_info": {
   "codemirror_mode": {
    "name": "ipython",
    "version": 3
   },
   "file_extension": ".py",
   "mimetype": "text/x-python",
   "name": "python",
   "nbconvert_exporter": "python",
   "pygments_lexer": "ipython3",
   "version": "3.10.6"
  }
 },
 "nbformat": 4,
 "nbformat_minor": 5
}
