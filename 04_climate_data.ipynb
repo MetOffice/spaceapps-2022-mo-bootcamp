{
 "cells": [
  {
   "cell_type": "markdown",
   "metadata": {
    "id": "OKN8cYf3erXb"
   },
   "source": [
    "# Met Office WOW Exploration\n",
    "\n",
    "In this notebook, data from WOW (The service acting as the point of access for crowd sourced recent and historical weather observations) is explored through various plots that visualize the data\n",
    "\n",
    "### Prerequisites\n",
    "To follow along with this notebook, data from WOW must be downloaded, the general steps for doing so are as follows:\n",
    "* Create an account on WOW and log in\n",
    "* Find desired sites and make sure the site reports desired parameter data during desired time selection viewable in the tables tab within the specific site view\n",
    "* Download site CSV data using the export function (which export only appears once logged in)\n",
    "* Place the downloaded data in the relevant directory\n",
    "\n",
    "## Contents\n",
    "- Explore Wow Data\n",
    "  - Single Site\n",
    "    - Load in Pre-Downloaded Data\n",
    "    - Format and Explore the Data\n",
    "      - Show Data Issue: Missing Observations\n",
    "    - Plot the Data with Rolling Mean for Averages (which is an incorrect implementation due to missing data)\n",
    "  - Multi Site\n",
    "    - Load and Merge Data\n",
    "      - Ensure no Duplicate Data has been Loaded\n",
    "    - Plot Multi Site Information\n",
    "    - Prune Data to Leave Desired Data\n",
    "    - Plot Desired Data as a Whole (Messy)\n",
    "    - Separate Data by Month per Site\n",
    "    - Plot All Sites on a Separate plot for each Month (Cleaner)"
   ]
  },
  {
   "cell_type": "code",
   "execution_count": 1,
   "metadata": {
    "id": "HK8zv84EpPmN"
   },
   "outputs": [],
   "source": [
    "# import required packages\n",
    "import glob\n",
    "import pandas as pd\n",
    "import matplotlib.pyplot as plt\n",
    "import numpy as np\n",
    "import datetime"
   ]
  },
  {
   "cell_type": "markdown",
   "metadata": {},
   "source": [
    "In the case of this notebook, the single site data is data downloaded for the entire year of 2021 and the multi site data is downloaded from 4 months across the year of 2019. This information is used in generating the glob patterns below, and should be changed if the data is different to this."
   ]
  },
  {
   "cell_type": "code",
   "execution_count": 2,
   "metadata": {},
   "outputs": [],
   "source": [
    "# DEFINE NOTEBOOK SETTINGS\n",
    "wow_download_dir = \"data/WOW\"\n",
    "glob_pattern_for_single_site_data = wow_download_dir + \"/*2021*.csv\"\n",
    "multi_site_glob_pattern = wow_download_dir + \"/*2019*.csv\"\n",
    "\n",
    "# If this setting does not work, either disable the setting, or successfully get through-\n",
    "# the datahub tutorial\n",
    "PLOT_SITE_NAMES_MAP = True \n",
    "                            \n",
    "\n",
    "if PLOT_SITE_NAMES_MAP:\n",
    "    import cartopy.crs as ccrs\n",
    "    import requests\n",
    "    # clear cell outputs when private API keys are displayed\n",
    "    from IPython.display import clear_output\n",
    "    # read environment file\n",
    "    env_vars = {}\n",
    "\n",
    "    with open(\".env\") as f:\n",
    "        for line in f:\n",
    "            key, value = line.strip().split(\"=\", 1)\n",
    "            env_vars[key] = value\n",
    "\n",
    "    SITE_ID = env_vars[\"SITE_SPECIFIC_CLIENT_ID\"]\n",
    "    SITE_SECRET = env_vars[\"SITE_SPECIFIC_CLIENT_SECRET\"]\n",
    "    spot_data_headers = {\n",
    "        \"X-IBM-Client-Id\": SITE_ID,\n",
    "        \"X-IBM-Client-Secret\": SITE_SECRET,\n",
    "    }"
   ]
  },
  {
   "cell_type": "markdown",
   "metadata": {
    "id": "QIP46U65rS2A"
   },
   "source": [
    "## References\n",
    "\n",
    "If material in the notebook was adapted from other source material for NOAA, link to it.\n",
    "\n",
    "Also, add other material either cited in the text or that extends content in the notebook."
   ]
  }
 ],
 "metadata": {
  "colab": {
   "collapsed_sections": [],
   "name": "NCAI_Training_Notebook_template - Distribution Copy.ipynb",
   "provenance": [],
   "toc_visible": true
  },
  "kernelspec": {
   "display_name": "Python 3 (ipykernel)",
   "language": "python",
   "name": "python3"
  },
  "language_info": {
   "codemirror_mode": {
    "name": "ipython",
    "version": 3
   },
   "file_extension": ".py",
   "mimetype": "text/x-python",
   "name": "python",
   "nbconvert_exporter": "python",
   "pygments_lexer": "ipython3",
   "version": "3.10.6"
  }
 },
 "nbformat": 4,
 "nbformat_minor": 4
}
